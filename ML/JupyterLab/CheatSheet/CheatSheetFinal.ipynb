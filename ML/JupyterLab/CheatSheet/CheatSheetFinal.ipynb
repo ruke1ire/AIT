{
 "cells": [
  {
   "cell_type": "markdown",
   "metadata": {},
   "source": [
    "# Cheat sheet\n",
    "\n",
    "#### Models\n",
    "1. Decision Tree\n",
    "2. Random Forest\n",
    "3. Adaboost\n",
    "4. Gradient Boost\n",
    "5. K-Means\n",
    "6. Gaussian Mixed Model\n",
    "7. Neural Network\n",
    "\n",
    "#### Preprocessing\n",
    "8. PCA"
   ]
  },
  {
   "cell_type": "code",
   "execution_count": 1,
   "metadata": {},
   "outputs": [],
   "source": [
    "import numpy as np\n",
    "import pandas as pd\n",
    "import matplotlib.pyplot as plt"
   ]
  },
  {
   "cell_type": "markdown",
   "metadata": {},
   "source": [
    "## 1. Decision Tree"
   ]
  },
  {
   "cell_type": "code",
   "execution_count": 2,
   "metadata": {},
   "outputs": [],
   "source": [
    "class DecisionTree:\n",
    "\n",
    "    class Node:\n",
    "        def __init__(self, predicted_class):\n",
    "            self.predicted_class = predicted_class\n",
    "            self.feature_index = 0\n",
    "            self.threshold = 0\n",
    "            self.left = None\n",
    "            self.right = None\n",
    "\n",
    "    def __init__(self, max_depth=None, criterion='gini'):\n",
    "        self.max_depth = max_depth\n",
    "        self.criterion = criterion\n",
    "\n",
    "    def fit(self, X, y):\n",
    "        self.n_classes_ = len(set(y))\n",
    "        self.n_features_ = X.shape[1]\n",
    "\n",
    "        self.tree_ = self._grow_tree(X, y)\n",
    "\n",
    "    def predict(self, X):\n",
    "        return np.array([self._predict(inputs) for inputs in X])\n",
    "\n",
    "    def _best_split(self, X, y):\n",
    "        #gets the best feature index and its corresponding threshold\n",
    "        m = y.size\n",
    "        if m <= 1:\n",
    "            return None, None\n",
    "\n",
    "        #parent's num_samples_per_class\n",
    "        num_parent = [np.sum(y == c) for c in range(self.n_classes_)]\n",
    "        best_gini = self.gini(num_parent)\n",
    "\n",
    "        best_idx, best_thr = None, None\n",
    "\n",
    "        for idx in range(self.n_features_):\n",
    "            #sorts according to X[:,idx]\n",
    "            thresholds, classes = zip(*sorted(zip(X[:, idx], y)))\n",
    "            num_left = [0] * self.n_classes_\n",
    "            num_right = num_parent.copy()\n",
    "\n",
    "            for i in range(1, m):\n",
    "                c = classes[i - 1]\n",
    "                num_left[c] += 1\n",
    "                num_right[c] -= 1\n",
    "\n",
    "                gini_left = self.gini(num_left)\n",
    "                gini_right = self.gini(num_right)\n",
    "                gini = (i * gini_left + (m - i) * gini_right) / m\n",
    "\n",
    "                if thresholds[i] == thresholds[i - 1]:\n",
    "                    continue\n",
    "\n",
    "                if gini < best_gini:\n",
    "                    best_gini = gini\n",
    "                    best_idx = idx\n",
    "                    best_thr = (thresholds[i] + thresholds[i - 1]) / 2\n",
    "\n",
    "        return best_idx, best_thr\n",
    "\n",
    "    def _grow_tree(self, X, y, depth=0):\n",
    "        #makes prediction for current node and create child nodes\n",
    "        num_samples_per_class = [np.sum(y == i) for i in range(self.n_classes_)]\n",
    "\n",
    "        predicted_class = np.argmax(num_samples_per_class)\n",
    "\n",
    "        node = self.Node(predicted_class=predicted_class)\n",
    "\n",
    "        if depth < self.max_depth:\n",
    "            idx, thr = self._best_split(X, y)\n",
    "\n",
    "            if idx is not None:\n",
    "                #indices less than threshold goes to the left node\n",
    "                indices_left = X[:, idx] < thr\n",
    "                X_left, y_left = X[indices_left], y[indices_left]\n",
    "                X_right, y_right = X[~indices_left], y[~indices_left]\n",
    "\n",
    "                node.feature_index = idx\n",
    "                node.threshold = thr\n",
    "                node.left = self._grow_tree(X_left, y_left, depth + 1)\n",
    "                node.right = self._grow_tree(X_right, y_right, depth + 1)\n",
    "        return node\n",
    "\n",
    "    def _predict(self, inputs):\n",
    "        node = self.tree_\n",
    "        while node.left:\n",
    "            if inputs[node.feature_index] < node.threshold:\n",
    "                node = node.left\n",
    "            else:\n",
    "                node = node.right\n",
    "        return node.predicted_class\n",
    "    \n",
    "    def gini(self,num_per_class):\n",
    "        gini = 1.0 - sum((n / sum(num_per_class)) ** 2 for n in num_per_class)\n",
    "        return gini"
   ]
  },
  {
   "cell_type": "code",
   "execution_count": 3,
   "metadata": {},
   "outputs": [],
   "source": [
    "from sklearn.datasets import make_blobs\n",
    "from sklearn.model_selection import train_test_split\n",
    "\n",
    "X, y = make_blobs(n_samples=1000, centers=4,random_state=0, cluster_std=1.0)\n",
    "X_train, X_test, y_train, y_test = train_test_split(X, y, test_size=0.2, random_state=42)"
   ]
  },
  {
   "cell_type": "code",
   "execution_count": 4,
   "metadata": {},
   "outputs": [],
   "source": [
    "tree = DecisionTree(max_depth = 7)\n",
    "\n",
    "tree.fit(X_train,y_train)"
   ]
  },
  {
   "cell_type": "code",
   "execution_count": 5,
   "metadata": {},
   "outputs": [
    {
     "name": "stdout",
     "output_type": "stream",
     "text": [
      "Prediction:\t [3 0 0 3 0 1 1 3 1 2 0 0 0 1 2 0 0 3 1 3 2 2 1 1 0 1 2 3 3 3 1 3 0 0 3 2 1\n",
      " 1 2 3 3 2 3 2 3 3 0 3 3 2 2 0 3 1 1 1 1 3 0 3 3 3 0 0 1 2 3 2 3 0 3 2 0 0\n",
      " 0 3 2 2 0 0 3 0 3 2 0 2 3 0 1 1 2 3 0 1 3 2 1 2 2 2 1 1 2 2 2 1 3 0 0 0 0\n",
      " 2 3 0 2 2 0 2 2 3 0 0 3 1 1 2 0 1 0 3 2 2 2 3 1 1 1 0 2 3 3 3 1 3 3 1 2 3\n",
      " 2 3 0 1 2 0 1 2 0 1 1 1 0 2 0 3 1 2 0 2 2 0 0 0 2 0 2 3 2 3 3 0 2 2 0 0 1\n",
      " 0 3 2 0 2 2 2 3 2 3 2 3 3 0 2]\n",
      "Y:\t\t [3 0 0 3 0 1 1 3 1 2 0 0 3 1 2 0 1 0 1 3 2 2 1 1 3 1 2 3 3 3 1 3 0 0 3 2 1\n",
      " 1 2 3 3 2 3 2 3 3 0 3 3 2 2 2 3 1 1 1 1 3 0 3 3 3 1 0 1 2 3 2 3 1 3 2 0 0\n",
      " 0 3 2 2 0 0 3 0 3 2 0 2 3 0 1 1 2 3 0 1 3 2 1 2 2 0 1 1 2 2 2 1 3 0 0 0 0\n",
      " 2 3 0 0 2 0 1 2 3 0 0 3 1 1 2 0 0 0 3 2 2 2 3 1 1 1 0 2 3 3 3 1 3 3 1 2 3\n",
      " 2 3 2 1 2 0 1 0 0 1 1 1 0 2 0 3 1 2 0 2 2 0 0 0 0 1 2 3 2 0 3 0 2 2 0 2 1\n",
      " 0 3 2 2 2 2 2 3 2 3 0 3 3 0 2]\n",
      "Accuracy 90.5\n"
     ]
    }
   ],
   "source": [
    "pred = tree.predict(X_test)\n",
    "print(\"Prediction:\\t\",pred)\n",
    "print(\"Y:\\t\\t\", y_test)\n",
    "print(\"Accuracy\", 100*np.sum(y_test==pred)/y_test.size)"
   ]
  },
  {
   "cell_type": "code",
   "execution_count": 6,
   "metadata": {},
   "outputs": [
    {
     "name": "stdout",
     "output_type": "stream",
     "text": [
      "Prediction:\t [3 0 0 3 0 1 1 3 1 2 0 0 0 1 2 0 0 3 1 3 2 2 1 1 0 1 2 3 3 3 1 3 0 0 3 2 1\n",
      " 1 2 3 3 2 3 2 3 3 0 3 3 2 2 0 3 1 1 1 1 3 0 3 3 3 0 0 1 2 3 2 3 0 3 2 0 0\n",
      " 0 3 2 2 0 0 3 0 3 2 0 2 3 0 1 1 2 3 0 1 3 2 1 2 2 2 1 1 2 2 2 1 3 0 0 0 0\n",
      " 2 3 0 2 2 0 2 2 3 0 0 3 1 1 2 0 1 0 3 2 2 2 3 1 1 1 0 2 3 3 3 1 3 3 1 2 3\n",
      " 2 3 0 1 2 0 1 2 0 1 1 1 0 2 0 3 1 2 0 2 2 0 0 0 2 0 2 3 2 3 3 0 2 2 0 0 1\n",
      " 0 3 2 0 2 2 2 3 2 3 2 3 3 0 2]\n",
      "Y:\t\t [3 0 0 3 0 1 1 3 1 2 0 0 3 1 2 0 1 0 1 3 2 2 1 1 3 1 2 3 3 3 1 3 0 0 3 2 1\n",
      " 1 2 3 3 2 3 2 3 3 0 3 3 2 2 2 3 1 1 1 1 3 0 3 3 3 1 0 1 2 3 2 3 1 3 2 0 0\n",
      " 0 3 2 2 0 0 3 0 3 2 0 2 3 0 1 1 2 3 0 1 3 2 1 2 2 0 1 1 2 2 2 1 3 0 0 0 0\n",
      " 2 3 0 0 2 0 1 2 3 0 0 3 1 1 2 0 0 0 3 2 2 2 3 1 1 1 0 2 3 3 3 1 3 3 1 2 3\n",
      " 2 3 2 1 2 0 1 0 0 1 1 1 0 2 0 3 1 2 0 2 2 0 0 0 0 1 2 3 2 0 3 0 2 2 0 2 1\n",
      " 0 3 2 2 2 2 2 3 2 3 0 3 3 0 2]\n",
      "Accuracy 90.5\n"
     ]
    }
   ],
   "source": [
    "from sklearn.tree import DecisionTreeClassifier\n",
    "\n",
    "model = DecisionTreeClassifier(max_depth=7).fit(X_train,y_train)\n",
    "\n",
    "pred = model.predict(X_test)\n",
    "print(\"Prediction:\\t\",np.array(pred))\n",
    "print(\"Y:\\t\\t\", y_test)\n",
    "print(\"Accuracy\", 100*np.sum(y_test==np.array(pred))/y_test.size)"
   ]
  },
  {
   "cell_type": "markdown",
   "metadata": {},
   "source": [
    "## 2. Random Forest"
   ]
  },
  {
   "cell_type": "code",
   "execution_count": 7,
   "metadata": {},
   "outputs": [],
   "source": [
    "class RandomForest:\n",
    "    def __init__(self, no_of_trees = 1, max_depth = 3):\n",
    "        self.no_of_trees = no_of_trees\n",
    "        self.trees = [DecisionTree(max_depth = max_depth) for _ in range(no_of_trees)]\n",
    "        \n",
    "    def bagging(self,X,y):\n",
    "        m,n = X.shape\n",
    "        \n",
    "        x_samples = np.zeros((self.no_of_trees, m, n))\n",
    "        y_samples = np.zeros((self.no_of_trees,m),dtype=y.dtype)\n",
    "\n",
    "        for i in range(self.no_of_trees):\n",
    "            for j in range(m):\n",
    "                idx = np.random.randint(m)\n",
    "                x_samples[i,j,:] = X_train[idx]\n",
    "                y_samples[i,j] = y_train[idx]\n",
    "        \n",
    "        return x_samples, y_samples\n",
    "        \n",
    "    def fit(self,X,y):\n",
    "        x_samples, y_samples = self.bagging(X,y)\n",
    "        \n",
    "        for i, tree in enumerate(self.trees):\n",
    "            _X = x_samples[i, :]\n",
    "            _y = y_samples[i,:]\n",
    "            tree.fit(_X,_y)\n",
    "    \n",
    "    def predict(self,X):\n",
    "        from scipy import stats\n",
    "        predictions = np.zeros((self.no_of_trees,X.shape[0]))\n",
    "        for i, tree in enumerate(self.trees):\n",
    "            yhat = tree.predict(X)\n",
    "            predictions[i,:] = yhat\n",
    "        pred = stats.mode(predictions)[0][0].astype(int)\n",
    "        return pred"
   ]
  },
  {
   "cell_type": "code",
   "execution_count": 8,
   "metadata": {},
   "outputs": [
    {
     "name": "stdout",
     "output_type": "stream",
     "text": [
      "Prediction:\t [0 0 0 3 0 1 1 3 1 2 0 0 0 1 2 0 0 3 1 3 2 2 1 1 0 1 2 3 3 3 1 3 0 0 3 2 1\n",
      " 1 2 3 3 2 3 2 3 3 0 3 3 2 2 0 3 1 1 1 1 3 0 3 3 3 1 0 1 2 3 2 3 1 3 2 0 0\n",
      " 0 3 2 2 0 0 3 0 3 2 0 2 3 0 1 1 2 3 0 1 3 2 1 2 2 2 1 1 2 2 2 1 3 0 0 0 0\n",
      " 2 3 0 2 2 0 2 2 3 0 0 3 1 1 2 0 1 0 3 2 2 2 3 1 1 1 0 2 3 3 3 1 3 3 1 2 3\n",
      " 2 3 2 1 2 0 1 2 0 1 1 1 0 2 0 3 1 2 0 2 2 0 0 0 0 0 2 3 2 3 3 0 2 2 0 2 1\n",
      " 0 3 2 0 2 2 2 3 2 3 2 3 3 0 2]\n",
      "Y:\t\t [3 0 0 3 0 1 1 3 1 2 0 0 3 1 2 0 1 0 1 3 2 2 1 1 3 1 2 3 3 3 1 3 0 0 3 2 1\n",
      " 1 2 3 3 2 3 2 3 3 0 3 3 2 2 2 3 1 1 1 1 3 0 3 3 3 1 0 1 2 3 2 3 1 3 2 0 0\n",
      " 0 3 2 2 0 0 3 0 3 2 0 2 3 0 1 1 2 3 0 1 3 2 1 2 2 0 1 1 2 2 2 1 3 0 0 0 0\n",
      " 2 3 0 0 2 0 1 2 3 0 0 3 1 1 2 0 0 0 3 2 2 2 3 1 1 1 0 2 3 3 3 1 3 3 1 2 3\n",
      " 2 3 2 1 2 0 1 0 0 1 1 1 0 2 0 3 1 2 0 2 2 0 0 0 0 1 2 3 2 0 3 0 2 2 0 2 1\n",
      " 0 3 2 2 2 2 2 3 2 3 0 3 3 0 2]\n",
      "Accuracy 92.5\n"
     ]
    }
   ],
   "source": [
    "forest = RandomForest(no_of_trees = 50, max_depth = 5)\n",
    "\n",
    "forest.fit(X_train,y_train)\n",
    "\n",
    "pred = forest.predict(X_test)\n",
    "\n",
    "print(\"Prediction:\\t\",np.array(pred))\n",
    "print(\"Y:\\t\\t\", y_test)\n",
    "print(\"Accuracy\", 100*np.sum(y_test==np.array(pred))/y_test.size)"
   ]
  },
  {
   "cell_type": "code",
   "execution_count": 9,
   "metadata": {},
   "outputs": [
    {
     "name": "stdout",
     "output_type": "stream",
     "text": [
      "Prediction:\t [0 0 0 3 0 1 1 3 1 2 0 0 0 1 2 0 1 3 1 3 2 2 1 1 0 2 2 3 3 3 1 3 0 0 3 2 1\n",
      " 1 2 3 3 2 3 2 3 3 0 3 3 2 2 0 3 1 1 1 1 3 0 3 3 3 1 0 1 2 3 2 3 1 3 2 0 0\n",
      " 0 3 2 2 0 0 3 0 3 2 0 2 3 0 1 1 2 3 0 1 3 2 1 2 2 2 1 1 2 2 2 1 3 0 0 0 0\n",
      " 2 3 0 2 2 0 2 2 3 0 0 3 1 1 2 0 1 0 3 2 2 2 3 1 1 1 0 2 3 3 3 1 3 3 1 2 3\n",
      " 2 3 2 1 2 0 1 2 0 1 2 1 0 2 0 3 1 2 0 2 2 0 0 0 0 0 2 3 2 3 3 0 2 2 0 2 1\n",
      " 0 3 2 0 2 2 2 3 2 3 0 3 3 0 2]\n",
      "Y:\t\t [3 0 0 3 0 1 1 3 1 2 0 0 3 1 2 0 1 0 1 3 2 2 1 1 3 1 2 3 3 3 1 3 0 0 3 2 1\n",
      " 1 2 3 3 2 3 2 3 3 0 3 3 2 2 2 3 1 1 1 1 3 0 3 3 3 1 0 1 2 3 2 3 1 3 2 0 0\n",
      " 0 3 2 2 0 0 3 0 3 2 0 2 3 0 1 1 2 3 0 1 3 2 1 2 2 0 1 1 2 2 2 1 3 0 0 0 0\n",
      " 2 3 0 0 2 0 1 2 3 0 0 3 1 1 2 0 0 0 3 2 2 2 3 1 1 1 0 2 3 3 3 1 3 3 1 2 3\n",
      " 2 3 2 1 2 0 1 0 0 1 1 1 0 2 0 3 1 2 0 2 2 0 0 0 0 1 2 3 2 0 3 0 2 2 0 2 1\n",
      " 0 3 2 2 2 2 2 3 2 3 0 3 3 0 2]\n",
      "Accuracy 92.5\n"
     ]
    }
   ],
   "source": [
    "from sklearn.ensemble import RandomForestClassifier\n",
    "\n",
    "model = RandomForestClassifier(n_estimators=50,max_depth = 5)\n",
    "\n",
    "model.fit(X_train,y_train)\n",
    "\n",
    "pred = model.predict(X_test)\n",
    "\n",
    "print(\"Prediction:\\t\",np.array(pred))\n",
    "print(\"Y:\\t\\t\", y_test)\n",
    "print(\"Accuracy\", 100*np.sum(y_test==np.array(pred))/y_test.size)"
   ]
  },
  {
   "cell_type": "markdown",
   "metadata": {},
   "source": [
    "## 3. Adaboost"
   ]
  },
  {
   "cell_type": "code",
   "execution_count": 43,
   "metadata": {},
   "outputs": [],
   "source": [
    "from sklearn.datasets import make_classification\n",
    "\n",
    "X, y = make_classification(n_samples=500, random_state=1)\n",
    "\n",
    "y = np.where(y==0,-1,1) #change our y to be -1 if it is 0, otherwise 1\n",
    "\n",
    "X_train, X_test, y_train, y_test = train_test_split(X, y, test_size=0.3, random_state=42)"
   ]
  },
  {
   "cell_type": "code",
   "execution_count": 44,
   "metadata": {},
   "outputs": [
    {
     "name": "stdout",
     "output_type": "stream",
     "text": [
      "              precision    recall  f1-score   support\n",
      "\n",
      "          -1       0.96      0.97      0.97        79\n",
      "           1       0.97      0.96      0.96        71\n",
      "\n",
      "    accuracy                           0.97       150\n",
      "   macro avg       0.97      0.97      0.97       150\n",
      "weighted avg       0.97      0.97      0.97       150\n",
      "\n"
     ]
    }
   ],
   "source": [
    "from sklearn.metrics import accuracy_score\n",
    "from sklearn.tree import DecisionTreeClassifier\n",
    "from sklearn.metrics import classification_report\n",
    "\n",
    "m = X_train.shape[0]\n",
    "S = 20\n",
    "\n",
    "stump_params = {'max_depth': 1, 'max_leaf_nodes': 2}\n",
    "models = [DecisionTreeClassifier(**stump_params) for _ in range(S)]\n",
    "\n",
    "# weight for each sample\n",
    "W = np.full(m, 1/m)\n",
    "\n",
    "# weight for each classifier\n",
    "a_js = np.zeros(S)\n",
    "\n",
    "for j, model in enumerate(models):\n",
    "    #train weak learner\n",
    "    model.fit(X_train, y_train, sample_weight = W)\n",
    "    #compute the errors\n",
    "    yhat = model.predict(X_train)\n",
    "    err = W[(yhat != y_train)].sum()\n",
    "    #compute the predictor weight a_j\n",
    "    #if predictor is doing well, a_j will be big\n",
    "    a_j = np.log ((1 - err) / err) / 2\n",
    "    a_js[j] = a_j\n",
    "    #update sample weight; divide sum of W to normalize\n",
    "    W = (W * np.exp(-a_j * y_train * yhat))\n",
    "    W = W/sum(W)\n",
    "    \n",
    "Hx = 0\n",
    "\n",
    "for i, model in enumerate(models):\n",
    "    yhat = model.predict(X_test)\n",
    "    Hx += a_js[i] * yhat\n",
    "    \n",
    "yhat = np.sign(Hx)\n",
    "\n",
    "print(classification_report(y_test,yhat))"
   ]
  },
  {
   "cell_type": "code",
   "execution_count": 45,
   "metadata": {},
   "outputs": [
    {
     "name": "stdout",
     "output_type": "stream",
     "text": [
      "              precision    recall  f1-score   support\n",
      "\n",
      "          -1       0.96      0.97      0.97        79\n",
      "           1       0.97      0.96      0.96        71\n",
      "\n",
      "    accuracy                           0.97       150\n",
      "   macro avg       0.97      0.97      0.97       150\n",
      "weighted avg       0.97      0.97      0.97       150\n",
      "\n"
     ]
    }
   ],
   "source": [
    "from sklearn.ensemble import AdaBoostClassifier\n",
    "\n",
    "ada_clf = AdaBoostClassifier(DecisionTreeClassifier(max_depth=1), n_estimators=200,learning_rate=0.5, random_state=42)\n",
    "ada_clf.fit(X_train, y_train)\n",
    "y_pred = ada_clf.predict(X_test)\n",
    "print(classification_report(y_test, y_pred))"
   ]
  },
  {
   "cell_type": "code",
   "execution_count": 46,
   "metadata": {},
   "outputs": [],
   "source": [
    "class DecisionStump():\n",
    "    def __init__(self):\n",
    "        # Determines whether threshold should be evaluated as < or >\n",
    "        self.polarity = 1\n",
    "        self.feature_index = None\n",
    "        self.threshold = None\n",
    "        # Voting power of the stump\n",
    "        self.alpha = None\n",
    "\n",
    "class AdaBoost():\n",
    "    def __init__(self, S=5, eta=0.5):\n",
    "        self.S = S\n",
    "        self.eta = eta\n",
    "        \n",
    "    def fit(self, X, y): #<----X_train, y_train\n",
    "        m, n = X.shape\n",
    "        \n",
    "        #initially, we set our weight to 1/m\n",
    "        W = np.full(m, 1/m)\n",
    "                \n",
    "        #holder for all clfs we have tried\n",
    "        self.clfs = []\n",
    "        \n",
    "        for _ in range(self.S):\n",
    "            #print(\"Stump:\",_)\n",
    "            clf = DecisionStump()\n",
    "            \n",
    "            #set initially minimum error to infinity\n",
    "            #so at least the first stump is identified\n",
    "            min_err = np.inf\n",
    "            best_yhat = None\n",
    "\n",
    "            #previously we don't need to do this\n",
    "            #since sklearn learn does it\n",
    "            #but now we have to loop all features, all threshold\n",
    "            #and all polarity to find the minimum weighted errors\n",
    "            for feature in range(n):\n",
    "                feature_vals = np.sort(np.unique(X[:, feature]))\n",
    "                thresholds = (feature_vals[:-1] + feature_vals[1:])/2\n",
    "                for threshold in thresholds:\n",
    "                    for polarity in [1, -1]:\n",
    "                        yhat = np.ones(len(y)) #set all to 1\n",
    "                        yhat[polarity * X[:, feature] < polarity * threshold] = -1  #polarity=1 rule\n",
    "                        err = W[(yhat != y)].sum()\n",
    "                                        \n",
    "                        #save the best stump\n",
    "                        if err < min_err:\n",
    "                            clf.polarity = polarity\n",
    "                            clf.threshold = threshold\n",
    "                            clf.feature_index = feature\n",
    "                            min_err = err\n",
    "                            best_yhat=yhat\n",
    "        \n",
    "            #once we know which is the best stump\n",
    "            #we calculate its alpha, and reweight samples\n",
    "            eps = 1e-10 #to prevent division by zero\n",
    "            clf.alpha = self.eta * (np.log ((1 - min_err) / (min_err + eps)))\n",
    "            W = W * np.exp(-1*clf.alpha * y * best_yhat) \n",
    "            W = W / sum (W)\n",
    "                    \n",
    "            #save clf\n",
    "            self.clfs.append(clf)\n",
    "        \n",
    "    def predict(self, X):\n",
    "        m, n = X.shape\n",
    "        yhat = np.zeros(m)\n",
    "        for clf in self.clfs:\n",
    "            pred = np.ones(m) #set all to 1\n",
    "            pred[clf.polarity * X[:, clf.feature_index] < clf.polarity * clf.threshold] = -1  #polarity=1 rule\n",
    "            yhat += clf.alpha * pred\n",
    "\n",
    "        return np.sign(yhat)"
   ]
  },
  {
   "cell_type": "code",
   "execution_count": 47,
   "metadata": {},
   "outputs": [
    {
     "name": "stdout",
     "output_type": "stream",
     "text": [
      "              precision    recall  f1-score   support\n",
      "\n",
      "          -1       0.94      0.96      0.95        79\n",
      "           1       0.96      0.93      0.94        71\n",
      "\n",
      "    accuracy                           0.95       150\n",
      "   macro avg       0.95      0.95      0.95       150\n",
      "weighted avg       0.95      0.95      0.95       150\n",
      "\n"
     ]
    }
   ],
   "source": [
    "model = AdaBoost(S=20)\n",
    "model.fit(X_train, y_train)\n",
    "yhat = model.predict(X_test)\n",
    "print(classification_report(y_test, yhat))"
   ]
  },
  {
   "cell_type": "markdown",
   "metadata": {},
   "source": [
    "## 4. Gradient Boost"
   ]
  },
  {
   "cell_type": "code",
   "execution_count": 15,
   "metadata": {},
   "outputs": [],
   "source": [
    "X, y = make_blobs(n_samples=1000, centers=4,random_state=0, cluster_std=1.0)\n",
    "X_train, X_test, y_train, y_test = train_test_split(X, y, test_size=0.2, random_state=42)"
   ]
  },
  {
   "cell_type": "code",
   "execution_count": 16,
   "metadata": {},
   "outputs": [],
   "source": [
    "from sklearn.ensemble import GradientBoostingClassifier\n",
    "\n",
    "model = GradientBoostingClassifier(n_estimators = 10, learning_rate = 0.1, max_depth =1)\n",
    "\n",
    "model.fit(X_train,y_train)\n",
    "\n",
    "pred = model.predict(X_test)"
   ]
  },
  {
   "cell_type": "code",
   "execution_count": 17,
   "metadata": {},
   "outputs": [
    {
     "name": "stdout",
     "output_type": "stream",
     "text": [
      "Prediction:\t [0 0 0 3 0 1 1 3 1 2 0 3 3 1 2 0 0 3 1 3 2 2 0 1 3 1 2 3 3 3 1 3 0 0 3 2 1\n",
      " 1 2 3 3 2 3 0 3 3 0 3 3 2 2 2 3 1 1 1 1 3 0 3 3 3 1 0 1 2 3 2 3 0 3 2 0 0\n",
      " 0 3 2 2 0 0 3 0 3 2 0 2 3 0 1 1 2 3 0 1 3 2 1 2 2 2 1 1 2 2 2 1 3 0 0 0 0\n",
      " 2 3 0 2 2 0 1 2 3 0 0 3 1 1 2 0 0 0 3 2 2 2 3 1 1 1 3 2 3 3 3 1 3 3 1 2 3\n",
      " 2 3 0 1 2 0 1 2 0 1 1 1 0 2 0 3 1 0 0 2 2 0 0 0 0 0 2 3 2 3 3 0 2 2 0 0 1\n",
      " 0 3 2 0 2 2 2 3 2 3 0 3 3 0 2]\n",
      "Y:\t\t [3 0 0 3 0 1 1 3 1 2 0 0 3 1 2 0 1 0 1 3 2 2 1 1 3 1 2 3 3 3 1 3 0 0 3 2 1\n",
      " 1 2 3 3 2 3 2 3 3 0 3 3 2 2 2 3 1 1 1 1 3 0 3 3 3 1 0 1 2 3 2 3 1 3 2 0 0\n",
      " 0 3 2 2 0 0 3 0 3 2 0 2 3 0 1 1 2 3 0 1 3 2 1 2 2 0 1 1 2 2 2 1 3 0 0 0 0\n",
      " 2 3 0 0 2 0 1 2 3 0 0 3 1 1 2 0 0 0 3 2 2 2 3 1 1 1 0 2 3 3 3 1 3 3 1 2 3\n",
      " 2 3 2 1 2 0 1 0 0 1 1 1 0 2 0 3 1 2 0 2 2 0 0 0 0 1 2 3 2 0 3 0 2 2 0 2 1\n",
      " 0 3 2 2 2 2 2 3 2 3 0 3 3 0 2]\n",
      "Accuracy 91.5\n"
     ]
    }
   ],
   "source": [
    "print(\"Prediction:\\t\",np.array(pred))\n",
    "print(\"Y:\\t\\t\", y_test)\n",
    "print(\"Accuracy\", 100*np.sum(y_test==np.array(pred))/y_test.size)"
   ]
  },
  {
   "cell_type": "code",
   "execution_count": 54,
   "metadata": {},
   "outputs": [],
   "source": [
    "from sklearn.tree import DecisionTreeRegressor\n",
    "from sklearn.dummy import DummyRegressor\n",
    "\n",
    "class GradientBoosting:\n",
    "    def __init__(self, n_estimators=5, learning_rate=1, max_depth = 1, \n",
    "                 regression=True, tol=1e-4):\n",
    "        self.n_estimators = n_estimators\n",
    "        self.learning_rate = learning_rate\n",
    "        self.max_depth = max_depth\n",
    "        self.min_samples_split = 2\n",
    "        self.regression=regression\n",
    "            \n",
    "        #initialize regression trees\n",
    "        tree_params = {'max_depth': self.max_depth,\n",
    "                      'min_samples_split': self.min_samples_split}\n",
    "        self.models = [DecisionTreeRegressor(**tree_params) for _ in range(n_estimators)]        \n",
    "        first_model = DummyRegressor(strategy='mean')\n",
    "        self.models.insert(0, first_model)\n",
    "        \n",
    "    def grad(self, y, h):\n",
    "        return y - h\n",
    "    \n",
    "    def fit(self, X, y):  #<----X_train\n",
    "        \n",
    "        #fit the first model\n",
    "        self.models[0].fit(X, y)\n",
    "        \n",
    "        for i in range(self.n_estimators):\n",
    "            #predict\n",
    "            yhat = self.predict(X, self.models[:i+1], with_argmax=False)\n",
    "            \n",
    "            #get the gradient\n",
    "            gradient = self.grad(y, yhat)\n",
    "            \n",
    "            #fit the next model with gradient\n",
    "            self.models[i+1].fit(X, gradient)\n",
    "    \n",
    "    def predict(self, X, models=None, with_argmax=True):\n",
    "        if models is None:\n",
    "            models = self.models\n",
    "        h0 = models[0].predict(X)  #first use the dummy model\n",
    "        boosting = sum([self.learning_rate * model.predict(X) for model in models[1:]])\n",
    "        yhat = h0 + boosting\n",
    "        if not self.regression:\n",
    "            #turn into probability using softmax\n",
    "            yhat = np.exp(yhat) / np.sum(np.exp(yhat), axis=1, keepdims=True)\n",
    "            if with_argmax:\n",
    "                yhat = np.argmax(yhat, axis=1)\n",
    "        return yhat"
   ]
  },
  {
   "cell_type": "code",
   "execution_count": 57,
   "metadata": {},
   "outputs": [
    {
     "name": "stdout",
     "output_type": "stream",
     "text": [
      "MSE:  8.835879845982214\n",
      "Sklearn MSE:  8.948299221328808\n"
     ]
    }
   ],
   "source": [
    "# Regression\n",
    "from sklearn.ensemble import GradientBoostingRegressor\n",
    "from sklearn.datasets import load_boston\n",
    "from sklearn.metrics import mean_squared_error\n",
    "\n",
    "X, y = load_boston(return_X_y=True)\n",
    "\n",
    "X_train, X_test, y_train, y_test = train_test_split(X, y,test_size=0.3)\n",
    "\n",
    "model = GradientBoosting(n_estimators=200, learning_rate=0.1, max_depth = 3, regression=True, tol=1e-4)\n",
    "\n",
    "model.fit(X_train, y_train)\n",
    "yhat = model.predict(X_test)\n",
    "\n",
    "print(\"MSE: \", mean_squared_error(y_test, yhat))\n",
    "\n",
    "#=====SKlearn========\n",
    "sklearn_model = GradientBoostingRegressor(\n",
    "    n_estimators=200,\n",
    "    learning_rate = 0.1,\n",
    "    max_depth=3,\n",
    "    loss='ls'\n",
    ")\n",
    "\n",
    "yhat_sk = sklearn_model.fit(X_train, y_train).predict(X_test)\n",
    "print(\"Sklearn MSE: \", mean_squared_error(y_test, yhat_sk))"
   ]
  },
  {
   "cell_type": "code",
   "execution_count": 60,
   "metadata": {},
   "outputs": [
    {
     "name": "stdout",
     "output_type": "stream",
     "text": [
      "Our accuracy:  0.9532163742690059\n",
      "Sklearn accuracy:  0.9590643274853801\n"
     ]
    }
   ],
   "source": [
    "# Binary classification\n",
    "\n",
    "from sklearn.datasets import load_breast_cancer\n",
    "from sklearn.metrics import accuracy_score\n",
    "from sklearn.ensemble import GradientBoostingClassifier\n",
    "\n",
    "X, y = load_breast_cancer(return_X_y=True)\n",
    "\n",
    "X_train, X_test, y_train, y_test = train_test_split(X, y, test_size=0.3)\n",
    "\n",
    "y_train_encoded = np.zeros((y_train.shape[0], len(set(y))))\n",
    "for each_class in range(len(set(y))):\n",
    "    cond = y_train==each_class\n",
    "    y_train_encoded[np.where(cond), each_class] = 1\n",
    "\n",
    "model = GradientBoosting(n_estimators=200, learning_rate=0.1, max_depth = 3, regression=False)\n",
    "model.fit(X_train, y_train_encoded)\n",
    "yhat = model.predict(X_test)\n",
    "\n",
    "print(\"Our accuracy: \", accuracy_score(y_test, yhat))\n",
    "\n",
    "#=====SKlearn========\n",
    "sklearn_model = GradientBoostingClassifier(\n",
    "    n_estimators=200,\n",
    "    learning_rate = 0.1,\n",
    "    max_depth=1\n",
    ")\n",
    "\n",
    "yhat_sk = sklearn_model.fit(X_train, y_train).predict(X_test)\n",
    "print(\"Sklearn accuracy: \", accuracy_score(y_test, yhat_sk))"
   ]
  },
  {
   "cell_type": "code",
   "execution_count": 64,
   "metadata": {},
   "outputs": [
    {
     "name": "stdout",
     "output_type": "stream",
     "text": [
      "Our accuracy:  0.9166666666666666\n",
      "Sklearn accuracy:  0.9537037037037037\n"
     ]
    }
   ],
   "source": [
    "# Multiclass classification\n",
    "\n",
    "from sklearn.datasets import load_digits\n",
    "from sklearn.metrics import accuracy_score\n",
    "from sklearn.ensemble import GradientBoostingClassifier\n",
    "\n",
    "X, y = load_digits(return_X_y=True)\n",
    "\n",
    "X_train, X_test, y_train, y_test = train_test_split(X, y, test_size=0.3)\n",
    "\n",
    "y_train_encoded = np.zeros((y_train.shape[0], len(set(y))))\n",
    "for each_class in range(len(set(y))):\n",
    "    cond = y_train==each_class\n",
    "    y_train_encoded[np.where(cond), each_class] = 1\n",
    "\n",
    "model = GradientBoosting(n_estimators=200, learning_rate=0.1, max_depth = 3, \n",
    "                 regression=False)\n",
    "\n",
    "model.fit(X_train, y_train_encoded)\n",
    "yhat = model.predict(X_test)\n",
    "\n",
    "print(\"Our accuracy: \", accuracy_score(y_test, yhat))\n",
    "\n",
    "#=====SKlearn========\n",
    "sklearn_model = GradientBoostingClassifier(\n",
    "    n_estimators=100,\n",
    "    learning_rate = 0.1,\n",
    "    max_depth=3\n",
    ")\n",
    "\n",
    "yhat_sk = sklearn_model.fit(X_train, y_train).predict(X_test)\n",
    "print(\"Sklearn accuracy: \", accuracy_score(y_test, yhat_sk))"
   ]
  },
  {
   "cell_type": "markdown",
   "metadata": {},
   "source": [
    "## 5. K-Means"
   ]
  },
  {
   "cell_type": "code",
   "execution_count": 18,
   "metadata": {},
   "outputs": [],
   "source": [
    "class KMeans:\n",
    "    def __init__(self, k, tolerance=1e-6):\n",
    "        self.k = k\n",
    "        self.centers = None\n",
    "        self.tolerance = tolerance\n",
    "        \n",
    "    def initialize(self, X):\n",
    "        series = np.arange(X.shape[0])\n",
    "        np.random.shuffle(series)\n",
    "        centers = X[series[:self.k]]\n",
    "        self.centers = centers\n",
    "    \n",
    "    def expectation(self,X):\n",
    "        distance = np.zeros((X.shape[0],self.centers.shape[0])) # m x k\n",
    "        for i, x in enumerate(X):\n",
    "            for j, c in enumerate(self.centers):\n",
    "                distance[i,j] = (c-x).T@(c-x)\n",
    "        nearest = np.argmin(distance,axis=1)\n",
    "        dist = np.min(distance,axis=1)\n",
    "        return nearest, dist\n",
    "    \n",
    "    def maximization(self,nearest):\n",
    "        mean = np.zeros_like(self.centers)\n",
    "        for i in np.unique(nearest):\n",
    "            mean[i] = np.mean(X[nearest==i], axis=0)\n",
    "        return mean\n",
    "        \n",
    "    def fit(self, X):\n",
    "        self.initialize(X)\n",
    "        \n",
    "        while True:\n",
    "            nearest, distance = self.expectation(X)\n",
    "            mean = self.maximization(nearest)\n",
    "            \n",
    "            if(np.sum((mean-self.centers)**2) < self.tolerance):\n",
    "                break\n",
    "            else:\n",
    "                self.centers = mean\n",
    "        \n",
    "    def predict(self, X):\n",
    "        nearest, distance = self.expectation(X)\n",
    "        return nearest\n",
    "    \n",
    "    def distortion(self, X):\n",
    "        nearest, distance = self.expectation(X)\n",
    "        dist = np.sum(distance)\n",
    "        return dist"
   ]
  },
  {
   "cell_type": "code",
   "execution_count": 19,
   "metadata": {},
   "outputs": [
    {
     "data": {
      "text/plain": [
       "<matplotlib.collections.PathCollection at 0x7f097c2cd080>"
      ]
     },
     "execution_count": 19,
     "metadata": {},
     "output_type": "execute_result"
    },
    {
     "data": {
      "image/png": "[encoded data removed]",
      "text/plain": [
       "<Figure size 432x288 with 1 Axes>"
      ]
     },
     "metadata": {
      "needs_background": "light"
     },
     "output_type": "display_data"
    }
   ],
   "source": [
    "plt.scatter(X[:,0], X[:,1])"
   ]
  },
  {
   "cell_type": "code",
   "execution_count": 20,
   "metadata": {},
   "outputs": [],
   "source": [
    "kmeans = KMeans(3)\n",
    "\n",
    "kmeans.fit(X)\n",
    "\n",
    "pred = kmeans.predict(X)\n",
    "\n",
    "distortion = kmeans.distortion(X)"
   ]
  },
  {
   "cell_type": "code",
   "execution_count": 21,
   "metadata": {},
   "outputs": [
    {
     "name": "stdout",
     "output_type": "stream",
     "text": [
      "2719.8748693596676\n"
     ]
    }
   ],
   "source": [
    "print(distortion)"
   ]
  },
  {
   "cell_type": "code",
   "execution_count": 22,
   "metadata": {},
   "outputs": [
    {
     "data": {
      "text/plain": [
       "<matplotlib.collections.PathCollection at 0x7f097c2251d0>"
      ]
     },
     "execution_count": 22,
     "metadata": {},
     "output_type": "execute_result"
    },
    {
     "data": {
      "image/png": "[encoded data removed]",
      "text/plain": [
       "<Figure size 432x288 with 1 Axes>"
      ]
     },
     "metadata": {
      "needs_background": "light"
     },
     "output_type": "display_data"
    }
   ],
   "source": [
    "plt.scatter(X[:,0], X[:,1], c=pred)"
   ]
  },
  {
   "cell_type": "markdown",
   "metadata": {},
   "source": [
    "## 6. Gaussian Mixed Models"
   ]
  },
  {
   "cell_type": "code",
   "execution_count": 23,
   "metadata": {},
   "outputs": [],
   "source": [
    "class GMM:\n",
    "    def __init__(self, k, tolerance=1e-6):\n",
    "        self.k = k \n",
    "        self.tolerance = tolerance\n",
    "        self.mean = None\n",
    "        self.covariance = None\n",
    "        self.pi = None\n",
    "        \n",
    "    def initialize(self, X):\n",
    "        series = np.arange(X.shape[0])\n",
    "        np.random.shuffle(series)\n",
    "        centers = X[series[:self.k]]\n",
    "        self.pi = np.full((self.k),1/self.k)\n",
    "        self.mean = centers\n",
    "        self.covariance = np.array([np.cov(X.T) for _ in range(self.k)])\n",
    "    \n",
    "    def expectation(self,X):\n",
    "        from scipy.stats import multivariate_normal\n",
    "        m,n = X.shape\n",
    "        r = np.zeros(shape=(m,self.k))\n",
    "        pdf = np.zeros_like(r)\n",
    "        for i in range(m):\n",
    "            for k in range(self.k):\n",
    "                xi_pdf = multivariate_normal.pdf(X[i], mean=self.mean[k], cov=self.covariance[k])\n",
    "                pdf[i, k] = self.pi[k] * xi_pdf\n",
    "            r[i] = pdf[i] / np.sum(pdf[i])\n",
    "        return r, pdf\n",
    "    \n",
    "    def maximization(self,X,r):\n",
    "        m,n = X.shape\n",
    "        \n",
    "        NK = np.sum(r, axis=0)\n",
    "        pi = NK / m\n",
    "        mean =  (( X.T @ r ) / NK).T\n",
    "        cov = np.zeros_like(self.covariance)\n",
    "        for k in range(self.k):\n",
    "            for i in range(m):\n",
    "                diff = (X[i]-mean[k]).reshape(-1, 1)\n",
    "                cov[k] += r[i, k] * (diff @ diff.T)\n",
    "            cov[k] /= NK[k]\n",
    "        return pi, mean, cov\n",
    "            \n",
    "    def fit(self, X):\n",
    "        self.initialize(X)\n",
    "        \n",
    "        while True:\n",
    "            r, pdf = self.expectation(X)\n",
    "            pi, mean, cov = self.maximization(X, r)\n",
    "\n",
    "            if(np.sum((mean-self.mean)**2) < self.tolerance):\n",
    "                break\n",
    "            else:\n",
    "                self.pi = pi\n",
    "                self.mean = mean\n",
    "                self.covariance = cov\n",
    "        \n",
    "    def predict(self, X):\n",
    "        r, pdf = self.expectation(X)\n",
    "        pred = np.argmax(r,axis=1)\n",
    "        return pred\n",
    "    \n",
    "    def distortion(self, X):\n",
    "        r, pdf = self.expectation(X)\n",
    "        pdf_max = np.max(pdf,axis=1)\n",
    "        log_pdf_max = np.log(pdf_max)\n",
    "        return np.mean(log_pdf_max)"
   ]
  },
  {
   "cell_type": "code",
   "execution_count": 24,
   "metadata": {},
   "outputs": [],
   "source": [
    "X, y = make_blobs(n_samples=1000, cluster_std=[1.0, 3.5, 0.5], random_state=42)"
   ]
  },
  {
   "cell_type": "code",
   "execution_count": 25,
   "metadata": {},
   "outputs": [
    {
     "name": "stdout",
     "output_type": "stream",
     "text": [
      "-4.26323413393645\n"
     ]
    }
   ],
   "source": [
    "gmm = GMM(3)\n",
    "gmm.fit(X)\n",
    "\n",
    "pred = gmm.predict(X)\n",
    "\n",
    "print(gmm.distortion(X))"
   ]
  },
  {
   "cell_type": "code",
   "execution_count": 26,
   "metadata": {},
   "outputs": [
    {
     "data": {
      "text/plain": [
       "<matplotlib.collections.PathCollection at 0x7f097c1c0e80>"
      ]
     },
     "execution_count": 26,
     "metadata": {},
     "output_type": "execute_result"
    },
    {
     "data": {
      "image/png": "[encoded data removed]",
      "text/plain": [
       "<Figure size 432x288 with 1 Axes>"
      ]
     },
     "metadata": {
      "needs_background": "light"
     },
     "output_type": "display_data"
    }
   ],
   "source": [
    "plt.scatter(X[:,0],X[:,1],c=pred)"
   ]
  },
  {
   "cell_type": "markdown",
   "metadata": {},
   "source": [
    "## 7. Neural Network"
   ]
  },
  {
   "cell_type": "code",
   "execution_count": 27,
   "metadata": {},
   "outputs": [],
   "source": [
    "import torch\n",
    "import torch.nn as nn\n",
    "import torch.nn.functional as F\n",
    "from torch.utils.data import TensorDataset, DataLoader"
   ]
  },
  {
   "cell_type": "code",
   "execution_count": 28,
   "metadata": {},
   "outputs": [],
   "source": [
    "X, y = make_blobs(n_samples=100, cluster_std=[1.0, 3.5, 0.5], random_state=42)\n",
    "X_train, X_test, y_train, y_test = train_test_split(X, y, test_size=0.3, random_state=42)"
   ]
  },
  {
   "cell_type": "code",
   "execution_count": 29,
   "metadata": {},
   "outputs": [],
   "source": [
    "X_train_nn = torch.Tensor(X_train)\n",
    "y_train_nn = torch.Tensor(y_train).long()\n",
    "\n",
    "X_test_nn = torch.Tensor(X_test)\n",
    "y_test_nn = torch.Tensor(y_test).long()"
   ]
  },
  {
   "cell_type": "code",
   "execution_count": 30,
   "metadata": {},
   "outputs": [],
   "source": [
    "train_dataset = TensorDataset(X_train_nn,y_train_nn)\n",
    "train_dataloader = DataLoader(train_dataset, batch_size=10,shuffle=True)"
   ]
  },
  {
   "cell_type": "code",
   "execution_count": 31,
   "metadata": {},
   "outputs": [],
   "source": [
    "class Net(nn.Module):\n",
    "    def __init__(self):\n",
    "        super().__init__()\n",
    "        self.fc = nn.Sequential(nn.Linear(2,10), nn.ReLU(),\n",
    "                                nn.Linear(10,10), nn.ReLU(),\n",
    "                                  nn.Linear(10,3))\n",
    "\n",
    "    def forward(self,x):\n",
    "        x = self.fc(x)\n",
    "        return x"
   ]
  },
  {
   "cell_type": "code",
   "execution_count": 32,
   "metadata": {},
   "outputs": [],
   "source": [
    "net = Net().cuda()"
   ]
  },
  {
   "cell_type": "code",
   "execution_count": 33,
   "metadata": {},
   "outputs": [],
   "source": [
    "import torch.optim as optim\n",
    "\n",
    "loss_function = nn.CrossEntropyLoss()\n",
    "optimizer = optim.SGD(net.parameters(), lr=0.01, momentum=0.9)"
   ]
  },
  {
   "cell_type": "code",
   "execution_count": 34,
   "metadata": {},
   "outputs": [
    {
     "name": "stdout",
     "output_type": "stream",
     "text": [
      "Epoch: 99\t Loss: 0.0008509485051035881\t Test Loss: 0.0015359356766566634\n"
     ]
    }
   ],
   "source": [
    "from IPython.display import clear_output\n",
    "import copy\n",
    "\n",
    "EPOCHS = 100\n",
    "\n",
    "best_loss = torch.Tensor(np.array(float('inf')))\n",
    "best_idx = 0\n",
    "\n",
    "for epoch in range(EPOCHS):\n",
    "    for i,data in enumerate(train_dataloader):\n",
    "        net.train()\n",
    "        \n",
    "        batch_X, batch_y = data\n",
    "        batch_X = batch_X.cuda()\n",
    "        batch_y = batch_y.cuda()\n",
    "        \n",
    "        net.zero_grad()\n",
    "        output = net(batch_X)\n",
    "        loss = loss_function(output,batch_y)\n",
    "        \n",
    "        loss.backward()\n",
    "        optimizer.step()\n",
    "        \n",
    "        if i % 5 == 0:\n",
    "            net.eval()\n",
    "            with torch.no_grad():\n",
    "                X_test_nn = X_test_nn.cuda()\n",
    "                y_test_nn = y_test_nn.cuda()\n",
    "                pred = net(X_test_nn)\n",
    "                test_loss = loss_function(pred,y_test_nn)\n",
    "                if test_loss < best_loss:\n",
    "                    best_loss = test_loss\n",
    "                    best_model = copy.deepcopy(net)\n",
    "                    best_idx = epoch\n",
    "                    print(\"copied\")\n",
    "        \n",
    "            clear_output(wait=True)\n",
    "            print(f\"Epoch: {epoch}\\t Loss: {loss}\\t Test Loss: {test_loss}\")"
   ]
  },
  {
   "cell_type": "code",
   "execution_count": 35,
   "metadata": {},
   "outputs": [
    {
     "name": "stdout",
     "output_type": "stream",
     "text": [
      "99\n"
     ]
    }
   ],
   "source": [
    "print(best_idx)"
   ]
  },
  {
   "cell_type": "code",
   "execution_count": 36,
   "metadata": {},
   "outputs": [],
   "source": [
    "best_model = best_model.cpu()"
   ]
  },
  {
   "cell_type": "code",
   "execution_count": 37,
   "metadata": {},
   "outputs": [
    {
     "name": "stdout",
     "output_type": "stream",
     "text": [
      "Accuracy: 1.0\n"
     ]
    }
   ],
   "source": [
    "X = torch.Tensor(X)\n",
    "y = torch.Tensor(y)\n",
    "\n",
    "pred = best_model(X)\n",
    "prediction = torch.argmax(pred,dim=1)\n",
    "print(\"Accuracy:\",(sum(prediction==y)/float(y.size()[0])).item())"
   ]
  },
  {
   "cell_type": "code",
   "execution_count": 38,
   "metadata": {},
   "outputs": [
    {
     "data": {
      "text/plain": [
       "<matplotlib.collections.PathCollection at 0x7f092511cb00>"
      ]
     },
     "execution_count": 38,
     "metadata": {},
     "output_type": "execute_result"
    },
    {
     "data": {
      "image/png": "[encoded data removed]",
      "text/plain": [
       "<Figure size 432x288 with 1 Axes>"
      ]
     },
     "metadata": {
      "needs_background": "light"
     },
     "output_type": "display_data"
    }
   ],
   "source": [
    "plt.scatter(X[:,0],X[:,1],c=prediction)"
   ]
  },
  {
   "cell_type": "markdown",
   "metadata": {},
   "source": [
    "## 8. PCA"
   ]
  },
  {
   "cell_type": "code",
   "execution_count": 39,
   "metadata": {},
   "outputs": [],
   "source": [
    "class PCA:\n",
    "    def __init__(self):\n",
    "        self.n_components = None\n",
    "        self.eigenvalues = None\n",
    "        self.eigenvectors = None\n",
    "        self.mean = None\n",
    "    \n",
    "    def fit(self,X):\n",
    "        #1. center the data (center the data, not features, thus axis=0)\n",
    "        mean = np.mean(X, axis=0)\n",
    "        X = (X - mean)\n",
    "\n",
    "        #2. find covariance\n",
    "        #the reason we can X.T @ X right away since we already \n",
    "        #center the data)\n",
    "        #did not really use this variable\n",
    "        cov = (X.T @ X) / (X.shape[0] - 1)\n",
    "\n",
    "        #3. Then simply find the eigenvalues using np.linalg.eig \n",
    "        #by inputting the covariance matrix\n",
    "        eigenvalues, eigenvectors = np.linalg.eigh(cov)\n",
    "\n",
    "        #4. Your n'th principal components will be your first n'th eigenvectors with highest eigenvalues\n",
    "        ix = np.argsort(eigenvalues)[::-1] #sort them from biggest to smallest thus -1\n",
    "            \n",
    "        eigenvalues, eigenvectors = eigenvalues[ix], eigenvectors[:, ix]\n",
    "        self.eigenvalues = eigenvalues\n",
    "        self.eigenvectors = eigenvectors\n",
    "        self.mean = mean\n",
    "    \n",
    "    def transform(self,X,n_components):\n",
    "        if(n_components > self.eigenvalues.shape[0]):\n",
    "            raise Exception(\"n_components larger than matrix rank\")\n",
    "            \n",
    "        eigenvectors = self.eigenvectors[:,:n_components]\n",
    "        \n",
    "        X = (X-self.mean)\n",
    "        \n",
    "        projection = X @ eigenvectors\n",
    "        return projection\n",
    "    \n",
    "    def inverse_transform(self,X):\n",
    "        if(X.shape[1] < self.eigenvectors.shape[0]):\n",
    "            zeros = np.zeros((X.shape[0],self.eigenvectors.shape[0]-X.shape[1]))\n",
    "            X_filled = np.append(X,zeros,axis=1)\n",
    "        else:\n",
    "            X_filled = X\n",
    "            \n",
    "        inverted = (X_filled @ np.linalg.inv(self.eigenvectors))+self.mean\n",
    "        return inverted"
   ]
  },
  {
   "cell_type": "code",
   "execution_count": 40,
   "metadata": {},
   "outputs": [],
   "source": [
    "rng = np.random.RandomState(1)\n",
    "X = np.dot(rng.rand(2, 2), rng.randn(2, 200)).T\n",
    "\n",
    "pca = PCA()\n",
    "\n",
    "pca.fit(X)\n",
    "\n",
    "X_pc = pca.transform(X,n_components = 1)\n",
    "\n",
    "X_inv = pca.inverse_transform(X_pc)"
   ]
  },
  {
   "cell_type": "code",
   "execution_count": 41,
   "metadata": {},
   "outputs": [
    {
     "data": {
      "image/png": "[encoded data removed]",
      "text/plain": [
       "<Figure size 1080x1080 with 1 Axes>"
      ]
     },
     "metadata": {
      "needs_background": "light"
     },
     "output_type": "display_data"
    }
   ],
   "source": [
    "fig = plt.figure(figsize=(15,15))\n",
    "plt.scatter(X[:,0],X[:,1],alpha=0.7,marker='.')\n",
    "#plt.scatter(X_pc[:],np.zeros(X_pc.shape[0]),alpha=0.3,marker='2')\n",
    "plt.scatter(X_inv[:,0], X_inv[:,1],alpha=0.7,marker='.')\n",
    "plt.gca().set_aspect(\"equal\")\n",
    "plt.grid(True)"
   ]
  },
  {
   "cell_type": "code",
   "execution_count": null,
   "metadata": {},
   "outputs": [],
   "source": []
  }
 ],
 "metadata": {
  "kernelspec": {
   "display_name": "Python 3",
   "language": "python",
   "name": "python3"
  },
  "language_info": {
   "codemirror_mode": {
    "name": "ipython",
    "version": 3
   },
   "file_extension": ".py",
   "mimetype": "text/x-python",
   "name": "python",
   "nbconvert_exporter": "python",
   "pygments_lexer": "ipython3",
   "version": "3.6.9"
  }
 },
 "nbformat": 4,
 "nbformat_minor": 4
}
