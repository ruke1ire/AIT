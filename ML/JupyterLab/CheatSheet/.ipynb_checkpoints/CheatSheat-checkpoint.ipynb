{
 "cells": [
  {
   "cell_type": "markdown",
   "metadata": {},
   "source": [
    "# Cheat sheet\n",
    "\n",
    "#### Models\n",
    "1. Linear Regression\n",
    "2. Locally Weighted Linear Regression\n",
    "3. Logistic Regression\n",
    "4. Softmax Regression\n",
    "5. Gaussian Discriminant Analysis/(Multinomial Naive Bayes)\n",
    "6. Support Vector Machines\n",
    "\n",
    "#### Preprocessing\n",
    "1. Standard Scaler\n",
    "2. Min-Max Scaler\n",
    "3. Polynomial Features\n",
    "4. Split Data"
   ]
  },
  {
   "cell_type": "code",
   "execution_count": 1,
   "metadata": {},
   "outputs": [],
   "source": [
    "import numpy as np\n",
    "import pandas as pd\n",
    "import matplotlib.pyplot as plt"
   ]
  },
  {
   "cell_type": "markdown",
   "metadata": {},
   "source": [
    "## **Models**"
   ]
  },
  {
   "cell_type": "markdown",
   "metadata": {},
   "source": [
    "## 1. Linear Regression"
   ]
  },
  {
   "cell_type": "code",
   "execution_count": 2,
   "metadata": {},
   "outputs": [],
   "source": [
    "class LinearRegressionModel:\n",
    "#1. hypothesis function\n",
    "    def h(self, X, theta):      \n",
    "        hypothesis = X@theta\n",
    "        return hypothesis\n",
    "        \n",
    "#2. cost function\n",
    "    def cost(self, X, y, theta, average = False):\n",
    "        #expects X to be a design matrix, y to be a column vector and theta to be a column vector\n",
    "        if(average == False):\n",
    "            J = 1/2*(self.h(X,theta)-y).T@(self.h(X,theta)-y)\n",
    "        else:\n",
    "            J = 1/(2*X.shape[0])*(self.h(X,theta)-y).T@(self.h(X,theta)-y)\n",
    "        return J\n",
    "\n",
    "#3. gradient function\n",
    "    def gradient(self, X, y, theta, average = False):\n",
    "        if(average == False):\n",
    "            dJ = X.T@(self.h(X,theta)-y)\n",
    "        else:\n",
    "            dJ = X.T@(self.h(X,theta)-y)/(X.shape[0])\n",
    "        return dJ\n",
    "    \n",
    "#4. batch gradient descent\n",
    "    def batch_gd(self, X, y, initial_theta, max_iteration, alpha, tolerance = 0,average = False):\n",
    "        cost = []\n",
    "        theta = initial_theta\n",
    "        iteration = 0\n",
    "        cost.append(self.cost(X,y,theta,average))\n",
    "        for n in range(max_iteration):\n",
    "            gradient = self.gradient(X,y,theta,average)\n",
    "            theta = theta - alpha*gradient\n",
    "            cost.append(self.cost(X,y,theta,average))\n",
    "            iteration += 1\n",
    "        cost = np.array(cost)\n",
    "        return theta,cost,iteration\n",
    "    \n",
    "#5. normal equation\n",
    "    def normal_equation(self, X, y):\n",
    "        theta = np.linalg.inv(X.T@X)@X.T@y\n",
    "        return theta\n",
    "            \n",
    "#5. predict\n",
    "    def predict(self,X,theta):\n",
    "        prediction = self.h(X,theta)\n",
    "        return prediction\n",
    "    \n",
    "#6. score/error calculation\n",
    "    def mean_squared_error(self,X,y,theta):\n",
    "        mse = self.cost(X,y,theta,average = True)*2\n",
    "        return mse\n",
    "        \n",
    "#7. plotting cost\n",
    "    def plot_cost(self,cost, iteration_no):\n",
    "        iteration_series = np.arange(0,iteration_no+1)\n",
    "        ax = plt.axes()\n",
    "        ax.plot(iteration_series, cost)"
   ]
  },
  {
   "cell_type": "code",
   "execution_count": 3,
   "metadata": {},
   "outputs": [
    {
     "data": {
      "image/png": "[encoded data removed]",
      "text/plain": [
       "<Figure size 432x288 with 1 Axes>"
      ]
     },
     "metadata": {
      "needs_background": "light"
     },
     "output_type": "display_data"
    }
   ],
   "source": [
    "# Independent variable\n",
    "\n",
    "num_hours_studied = np.array([1, 3, 3, 4, 5, 6, 7, 7, 8, 8, 10])\n",
    "\n",
    "# Dependent variable\n",
    "\n",
    "exam_score = np.array([18, 26, 31, 40, 55, 62, 71, 70, 75, 85, 97])\n",
    "\n",
    "# Plot the data\n",
    "\n",
    "plt.scatter(num_hours_studied, exam_score)\n",
    "plt.xlabel('num_hours_studied')\n",
    "plt.ylabel('exam_score')\n",
    "plt.title('Synthetic Exam Score Data Set')\n",
    "plt.show()"
   ]
  },
  {
   "cell_type": "code",
   "execution_count": 4,
   "metadata": {},
   "outputs": [
    {
     "name": "stdout",
     "output_type": "stream",
     "text": [
      "(11, 2)\n",
      "(11,)\n"
     ]
    }
   ],
   "source": [
    "# Add dummy variable for intercept term to design matrix.\n",
    "# Understand the numpy insert function by reading https://numpy.org/doc/stable/reference/generated/numpy.insert.html\n",
    "\n",
    "X = np.array([num_hours_studied]).T\n",
    "X = np.insert(X, 0, 1, axis=1)\n",
    "y = exam_score\n",
    "print(X.shape)\n",
    "print(y.shape)"
   ]
  },
  {
   "cell_type": "code",
   "execution_count": 5,
   "metadata": {},
   "outputs": [],
   "source": [
    "LR = LinearRegressionModel()\n",
    "\n",
    "alpha = 0.001\n",
    "max_iteration = 500\n",
    "initial_theta = np.zeros(2)\n",
    "\n",
    "theta,cost,iteration = LR.batch_gd(X,y,initial_theta,max_iteration,alpha,average = True)"
   ]
  },
  {
   "cell_type": "code",
   "execution_count": 6,
   "metadata": {},
   "outputs": [
    {
     "data": {
      "image/png": "[encoded data removed]",
      "text/plain": [
       "<Figure size 432x288 with 1 Axes>"
      ]
     },
     "metadata": {
      "needs_background": "light"
     },
     "output_type": "display_data"
    }
   ],
   "source": [
    "LR.plot_cost(cost,iteration)"
   ]
  },
  {
   "cell_type": "code",
   "execution_count": 7,
   "metadata": {},
   "outputs": [
    {
     "name": "stdout",
     "output_type": "stream",
     "text": [
      "[1.67736309 9.78605174]\n",
      "13.434657448478275\n",
      "[4.27819549 9.40225564]\n",
      "12.271701982228299\n"
     ]
    }
   ],
   "source": [
    "theta2 = LR.normal_equation(X,y)\n",
    "print(theta)\n",
    "print(LR.mean_squared_error(X,y,theta))\n",
    "print(theta2)\n",
    "print(LR.mean_squared_error(X,y,theta2))"
   ]
  },
  {
   "cell_type": "code",
   "execution_count": 8,
   "metadata": {},
   "outputs": [
    {
     "name": "stdout",
     "output_type": "stream",
     "text": [
      "(100,)\n",
      "(100, 2)\n"
     ]
    }
   ],
   "source": [
    "x_series = np.linspace(0,10,100)\n",
    "print(x_series.shape)\n",
    "x_series = np.insert(x_series[:,np.newaxis],0,1, axis=1)\n",
    "print(x_series.shape)\n",
    "y_pred = LR.predict(x_series, theta)\n",
    "y_pred2 = LR.predict(x_series,theta2)"
   ]
  },
  {
   "cell_type": "code",
   "execution_count": 9,
   "metadata": {},
   "outputs": [
    {
     "data": {
      "image/png": "[encoded data removed]",
      "text/plain": [
       "<Figure size 432x288 with 1 Axes>"
      ]
     },
     "metadata": {
      "needs_background": "light"
     },
     "output_type": "display_data"
    }
   ],
   "source": [
    "plt.scatter(num_hours_studied, exam_score)\n",
    "plt.plot(x_series[:,1],y_pred)\n",
    "plt.plot(x_series[:,1],y_pred2)\n",
    "plt.xlabel('num_hours_studied')\n",
    "plt.ylabel('exam_score')\n",
    "plt.title('Synthetic Exam Score Data Set')\n",
    "plt.show()"
   ]
  },
  {
   "cell_type": "markdown",
   "metadata": {},
   "source": [
    "## 2. Locally Weighted Linear Regression"
   ]
  },
  {
   "cell_type": "code",
   "execution_count": 10,
   "metadata": {},
   "outputs": [],
   "source": [
    "class LWLRModel:\n",
    "#1. hypothesis function\n",
    "    def h(self, X, theta):      \n",
    "        hypothesis = X@theta\n",
    "        return hypothesis\n",
    "    \n",
    "#2. Weights\n",
    "    def w(self,X,x,tau):\n",
    "        w = np.exp(-(np.sum(((X-x)**2),axis=1)/(2*(tau**2))))\n",
    "        return w\n",
    "    \n",
    "#5. normal equation\n",
    "    def normal_equation(self, X, y, w):\n",
    "        W = np.diag(w)\n",
    "        theta = np.linalg.inv(X.T@W@X)@X.T@W@y\n",
    "        return theta\n",
    "            \n",
    "#5. predict\n",
    "    def predict_point(self,X,x,tau):\n",
    "        w = self.w(X,x,tau)\n",
    "        theta = self.normal_equation(X, y, w)\n",
    "        prediction = self.h(x,theta)\n",
    "        return prediction\n",
    "    \n",
    "    def predict_multiple(self,X,x,tau):\n",
    "        m_pred = x.shape[0]\n",
    "        predictions = []\n",
    "        for ix in range(m_pred):\n",
    "            xx = x[ix]\n",
    "            predictions.append(self.predict_point(X,xx,tau))\n",
    "        predictions = np.array(predictions)\n",
    "        return predictions"
   ]
  },
  {
   "cell_type": "code",
   "execution_count": 11,
   "metadata": {},
   "outputs": [
    {
     "data": {
      "text/plain": [
       "[<matplotlib.lines.Line2D at 0x7fb723deacf8>]"
      ]
     },
     "execution_count": 11,
     "metadata": {},
     "output_type": "execute_result"
    },
    {
     "data": {
      "image/png": "[encoded data removed]",
      "text/plain": [
       "<Figure size 432x288 with 1 Axes>"
      ]
     },
     "metadata": {
      "needs_background": "light"
     },
     "output_type": "display_data"
    }
   ],
   "source": [
    "n = 100\n",
    "x = np.random.normal(10, 5, [n,1])\n",
    "y = np.sin(x/3.5) + np.random.normal(0,0.2, [n,1])\n",
    "\n",
    "plt.plot(x,y,'ro')"
   ]
  },
  {
   "cell_type": "code",
   "execution_count": 12,
   "metadata": {},
   "outputs": [
    {
     "data": {
      "text/plain": [
       "array([0.99118126])"
      ]
     },
     "execution_count": 12,
     "metadata": {},
     "output_type": "execute_result"
    }
   ],
   "source": [
    "X = np.insert(x,0,1,axis=1)\n",
    "\n",
    "LWLR = LWLRModel()\n",
    "LWLR.predict_point(X,np.array([1,4]),1)"
   ]
  },
  {
   "cell_type": "code",
   "execution_count": 13,
   "metadata": {},
   "outputs": [
    {
     "name": "stdout",
     "output_type": "stream",
     "text": [
      "(100, 2)\n"
     ]
    }
   ],
   "source": [
    "x_series = np.linspace(-5,20,100)\n",
    "x_series = np.insert(x_series[:,np.newaxis],0,1,axis=1)\n",
    "print(x_series.shape)\n",
    "\n",
    "y_pred = LWLR.predict_multiple(X,x_series,2)"
   ]
  },
  {
   "cell_type": "code",
   "execution_count": 14,
   "metadata": {},
   "outputs": [
    {
     "data": {
      "text/plain": [
       "[<matplotlib.lines.Line2D at 0x7fb723d8f470>]"
      ]
     },
     "execution_count": 14,
     "metadata": {},
     "output_type": "execute_result"
    },
    {
     "data": {
      "image/png": "[encoded data removed]",
      "text/plain": [
       "<Figure size 432x288 with 1 Axes>"
      ]
     },
     "metadata": {
      "needs_background": "light"
     },
     "output_type": "display_data"
    }
   ],
   "source": [
    "plt.plot(x,y,'ro')\n",
    "plt.plot(x_series[:,1],y_pred)"
   ]
  },
  {
   "cell_type": "markdown",
   "metadata": {},
   "source": [
    "## 3. Logistic Regression"
   ]
  },
  {
   "cell_type": "code",
   "execution_count": 15,
   "metadata": {},
   "outputs": [],
   "source": [
    "class LogisticRegressionModel:\n",
    "#1. hypothesis function\n",
    "    def h(self, X, theta):      \n",
    "        hypothesis = 1/(1+np.exp(-X@theta))\n",
    "        return hypothesis\n",
    "        \n",
    "#2. cost function\n",
    "    def cost(self, X, y, theta, average = False):\n",
    "        #expects X to be a design matrix, y to be a column vector and theta to be a column vector\n",
    "        if(average == False):\n",
    "            J = -(y.T@np.log(self.h(X,theta)) + (1-y).T@np.log(1-self.h(X,theta)))\n",
    "        else:\n",
    "            J = -(y.T@np.log(self.h(X,theta)) + (1-y).T@np.log(1-self.h(X,theta)))/(X.shape[0])\n",
    "        return J\n",
    "\n",
    "#3. gradient function\n",
    "    def gradient(self, X, y, theta, average = False):\n",
    "        if(average == False):\n",
    "            dJ = -X.T@(y-self.h(X,theta))\n",
    "        else:\n",
    "            dJ = -X.T@(y-self.h(X,theta))/(X.shape[0])\n",
    "        return dJ\n",
    "    \n",
    "    def hessian(self, X, theta, average = False):\n",
    "        y_pred = self.h(X,theta)\n",
    "        if(average == False):\n",
    "            hess_mat = X.T@X*(y_pred@(1-y_pred))\n",
    "        else:\n",
    "            hess_mat = X.T@X*(y_pred@(1-y_pred))/X.shape[0]\n",
    "        return hess_mat\n",
    "    \n",
    "#4. batch gradient descent\n",
    "    def batch_gd(self, X, y, initial_theta, max_iteration, alpha, tolerance = 0,average = False):\n",
    "        cost = []\n",
    "        theta = initial_theta\n",
    "        iteration = 0\n",
    "        cost.append(self.cost(X,y,theta,average))\n",
    "        for n in range(max_iteration):\n",
    "            gradient = self.gradient(X,y,theta,average)\n",
    "            theta = theta - alpha*gradient\n",
    "            cost.append(self.cost(X,y,theta,average))\n",
    "            iteration += 1\n",
    "        cost = np.array(cost)\n",
    "        return theta,cost,iteration\n",
    "    \n",
    "    def newtons_method(self, X, y, initial_theta, max_iteration,average = False):\n",
    "        cost = []\n",
    "        theta = initial_theta\n",
    "        iteration = 0\n",
    "        cost.append(self.cost(X,y,theta,average))\n",
    "        for n in range(max_iteration):\n",
    "            gradient = self.gradient(X,y,theta,average)\n",
    "            hessian = self.hessian(X,theta,average)\n",
    "            theta = theta - np.linalg.inv(hessian)@gradient\n",
    "            cost.append(self.cost(X,y,theta,average))\n",
    "            iteration += 1\n",
    "        cost = np.array(cost)\n",
    "        return theta,cost,iteration\n",
    "    \n",
    "#5. predict\n",
    "    def predict(self,X,theta):\n",
    "        prediction = self.h(X,theta)\n",
    "        prediction[prediction >= 0.5] = 1\n",
    "        prediction[prediction < 0.5] = 0\n",
    "        return prediction\n",
    "    \n",
    "#6. score/error calculation\n",
    "    def r_squared(self,y,y_pred):\n",
    "        r_square = 1 - ((np.square(y - y_pred)).sum())/((np.square(y - y.mean())).sum())\n",
    "        return r_square\n",
    "    \n",
    "    def accuracy(self,y,y_pred):\n",
    "        acc = (y == y_pred).sum()/y.size\n",
    "        return acc\n",
    "    \n",
    "#7. plotting cost\n",
    "    def plot_cost(self,cost, iteration_no):\n",
    "        iteration_series = np.arange(0,iteration_no+1)\n",
    "        ax = plt.axes()\n",
    "        ax.plot(iteration_series, cost)"
   ]
  },
  {
   "cell_type": "code",
   "execution_count": 16,
   "metadata": {},
   "outputs": [],
   "source": [
    "data = np.loadtxt('ex2data1.txt',delimiter = ',')"
   ]
  },
  {
   "cell_type": "code",
   "execution_count": 17,
   "metadata": {},
   "outputs": [],
   "source": [
    "X = data[:,0:2]\n",
    "y = data[:,2]\n",
    "\n",
    "mean = np.mean(X,axis=0)\n",
    "std = np.std(X,axis=0)\n",
    "\n",
    "X = (X-mean)/std\n",
    "\n",
    "X = np.insert(X,0,1,axis=1)"
   ]
  },
  {
   "cell_type": "code",
   "execution_count": 18,
   "metadata": {},
   "outputs": [
    {
     "data": {
      "text/plain": [
       "<matplotlib.collections.PathCollection at 0x7fb723cd1da0>"
      ]
     },
     "execution_count": 18,
     "metadata": {},
     "output_type": "execute_result"
    },
    {
     "data": {
      "image/png": "[encoded data removed]",
      "text/plain": [
       "<Figure size 432x288 with 1 Axes>"
      ]
     },
     "metadata": {
      "needs_background": "light"
     },
     "output_type": "display_data"
    }
   ],
   "source": [
    "plt.scatter(X[:,1],X[:,2],c=y)"
   ]
  },
  {
   "cell_type": "code",
   "execution_count": 19,
   "metadata": {},
   "outputs": [
    {
     "data": {
      "image/png": "[encoded data removed]",
      "text/plain": [
       "<Figure size 432x288 with 1 Axes>"
      ]
     },
     "metadata": {
      "needs_background": "light"
     },
     "output_type": "display_data"
    }
   ],
   "source": [
    "Log = LogisticRegressionModel()\n",
    "\n",
    "iterations = 50\n",
    "alpha = 5\n",
    "initial_theta = np.zeros(3)\n",
    "\n",
    "theta,cost,iteration_no = Log.batch_gd(X,y,initial_theta,iterations,alpha,average=True)\n",
    "\n",
    "Log.plot_cost(cost,iteration_no)"
   ]
  },
  {
   "cell_type": "code",
   "execution_count": 20,
   "metadata": {},
   "outputs": [
    {
     "data": {
      "text/plain": [
       "0.89"
      ]
     },
     "execution_count": 20,
     "metadata": {},
     "output_type": "execute_result"
    }
   ],
   "source": [
    "y_pred = Log.predict(X,theta)\n",
    "Log.accuracy(y,y_pred)"
   ]
  },
  {
   "cell_type": "code",
   "execution_count": 21,
   "metadata": {},
   "outputs": [
    {
     "data": {
      "text/plain": [
       "0.2040756340460184"
      ]
     },
     "execution_count": 21,
     "metadata": {},
     "output_type": "execute_result"
    }
   ],
   "source": [
    "cost[-1]"
   ]
  },
  {
   "cell_type": "code",
   "execution_count": 22,
   "metadata": {},
   "outputs": [
    {
     "data": {
      "image/png": "[encoded data removed]",
      "text/plain": [
       "<Figure size 432x288 with 1 Axes>"
      ]
     },
     "metadata": {
      "needs_background": "light"
     },
     "output_type": "display_data"
    }
   ],
   "source": [
    "iterations = 2000\n",
    "\n",
    "theta,cost,iteration_no = Log.newtons_method(X,y,initial_theta,iterations,average=True)\n",
    "\n",
    "Log.plot_cost(cost,iteration_no)"
   ]
  },
  {
   "cell_type": "code",
   "execution_count": 23,
   "metadata": {},
   "outputs": [
    {
     "data": {
      "text/plain": [
       "0.89"
      ]
     },
     "execution_count": 23,
     "metadata": {},
     "output_type": "execute_result"
    }
   ],
   "source": [
    "y_pred = Log.predict(X,theta)\n",
    "Log.accuracy(y,y_pred)"
   ]
  },
  {
   "cell_type": "code",
   "execution_count": 24,
   "metadata": {},
   "outputs": [
    {
     "data": {
      "text/plain": [
       "0.20444214876081593"
      ]
     },
     "execution_count": 24,
     "metadata": {},
     "output_type": "execute_result"
    }
   ],
   "source": [
    "cost[-1]"
   ]
  },
  {
   "cell_type": "markdown",
   "metadata": {},
   "source": [
    "## 4. Softmax Regression\n"
   ]
  },
  {
   "cell_type": "code",
   "execution_count": 25,
   "metadata": {},
   "outputs": [],
   "source": [
    "class SoftmaxRegressionModel:\n",
    "    def Y(self,y):\n",
    "        m = len(y)\n",
    "        k = len(np.unique(y))\n",
    "        Y = np.zeros((m,k))\n",
    "        for j,kk in enumerate(np.unique(y)):\n",
    "            Y[y==kk,j] = 1\n",
    "        return Y\n",
    "    \n",
    "    def y(self,Y):\n",
    "        y = np.argmax(Y,axis=1)\n",
    "        return y\n",
    "    \n",
    "#1. hypothesis function\n",
    "    def h(self, X, theta):      \n",
    "        hypothesis = np.exp(X@theta)/np.sum(np.exp(X@theta),axis=1)[:,np.newaxis]\n",
    "        return hypothesis\n",
    "        \n",
    "#2. cost function\n",
    "    def cost(self, X, y, theta, average = False):\n",
    "        #expects X to be a design matrix, y to be a column vector and theta to be a column vector\n",
    "        if(average == False):\n",
    "            J = -np.sum(y*np.log(self.h(X,theta)))\n",
    "        else:\n",
    "            J = -np.sum(y*np.log(self.h(X,theta)))/(X.shape[0])\n",
    "        return J\n",
    "\n",
    "#3. gradient function\n",
    "    def gradient(self, X, y, theta, average = False):\n",
    "        if(average == False):\n",
    "            dJ = -X.T@(y-self.h(X,theta))\n",
    "        else:\n",
    "            dJ = -X.T@(y-self.h(X,theta))/(X.shape[0])\n",
    "        return dJ\n",
    "    \n",
    "#4. batch gradient descent\n",
    "    def batch_gd(self, X, y, initial_theta, max_iteration, alpha, tolerance = 0,average = False):\n",
    "        cost = []\n",
    "        theta = initial_theta\n",
    "        iteration = 0\n",
    "        cost.append(self.cost(X,y,theta,average))\n",
    "        for n in range(max_iteration):\n",
    "            gradient = self.gradient(X,y,theta,average)\n",
    "            theta = theta - alpha*gradient\n",
    "            cost.append(self.cost(X,y,theta,average))\n",
    "            iteration += 1\n",
    "        cost = np.array(cost)\n",
    "        return theta,cost,iteration\n",
    "    \n",
    "#5. predict\n",
    "    def predict_Y(self,X,theta):\n",
    "        prediction = self.h(X,theta)\n",
    "        prediction = prediction/np.max(prediction,axis=1)[:,np.newaxis]\n",
    "        prediction[prediction < 1] = 0\n",
    "        return prediction\n",
    "    \n",
    "    def predict_y(self,X,theta):\n",
    "        prediction = self.h(X,theta)\n",
    "        y = self.y(prediction)\n",
    "        return y\n",
    "    \n",
    "#6. score/error calculation\n",
    "    def accuracy(self,y,y_pred):\n",
    "        acc = np.sum(y == y_pred)/y.size\n",
    "        return acc\n",
    "    \n",
    "#7. plotting cost\n",
    "    def plot_cost(self,cost, iteration_no):\n",
    "        iteration_series = np.arange(0,iteration_no+1)\n",
    "        ax = plt.axes()\n",
    "        ax.plot(iteration_series, cost)"
   ]
  },
  {
   "cell_type": "code",
   "execution_count": 26,
   "metadata": {},
   "outputs": [
    {
     "name": "stdout",
     "output_type": "stream",
     "text": [
      "Index(['Gender', 'Height', 'Weight', 'Index'], dtype='object')\n"
     ]
    }
   ],
   "source": [
    "#IMPORT DATA\n",
    "import pandas as pd\n",
    "\n",
    "def replaceKeys(series):\n",
    "    series_dict = {}\n",
    "    for i,u in enumerate(series.unique()):\n",
    "        series_dict[u] = i\n",
    "    return series.replace(series_dict), series_dict\n",
    "\n",
    "data = pd.read_csv(\"gender_height_weight.csv\") \n",
    "\n",
    "gender_dict = {}\n",
    "data['Gender'], gender_dict = replaceKeys(data['Gender'])\n",
    "print(data.columns)"
   ]
  },
  {
   "cell_type": "code",
   "execution_count": 27,
   "metadata": {},
   "outputs": [
    {
     "name": "stdout",
     "output_type": "stream",
     "text": [
      "   Intercept    Gender    Height    Weight\n",
      "0          1 -0.994302  0.228220 -0.313398\n",
      "1          1 -0.994302  1.137980 -0.596102\n",
      "2          1  1.005731  0.895377  0.126364\n",
      "3          1  1.005731  1.501884 -0.062105\n",
      "4          1 -0.994302 -1.288047 -1.412804\n",
      "\n",
      "0    4.0\n",
      "1    2.0\n",
      "2    4.0\n",
      "3    3.0\n",
      "4    3.0\n",
      "Name: Index, dtype: float64\n"
     ]
    }
   ],
   "source": [
    "#Split Data\n",
    "\n",
    "X_all = (data[['Gender','Height','Weight']]).dropna().astype(float)\n",
    "columns = X_all.columns\n",
    "\n",
    "ix = np.arange(0,X_all.shape[0])\n",
    "np.random.shuffle(ix)\n",
    "percentage = 0.7\n",
    "\n",
    "X_train = X_all[:int(percentage*X_all.shape[0])]\n",
    "X_test = X_all[int(percentage*X_all.shape[0]):]\n",
    "\n",
    "mean = np.mean(X_train, axis=0)\n",
    "std = np.std(X_train, axis=0)\n",
    "X_norm = (X_train-mean)/std\n",
    "X_norm_test = (X_test-mean)/std\n",
    "X_norm.insert(0,\"Intercept\",1)\n",
    "X_norm_test.insert(0,\"intercept\",1)\n",
    "\n",
    "print(X_norm.head())\n",
    "print()\n",
    "y = data['Index'].astype(float)\n",
    "print(y.head())\n",
    "y_train = y[:int(percentage*X_all.shape[0])]\n",
    "y_test = y[int(percentage*X_all.shape[0]):]\n",
    "\n",
    "m,n = X_norm.shape\n",
    "\n",
    "k = y.unique().size"
   ]
  },
  {
   "cell_type": "code",
   "execution_count": 28,
   "metadata": {},
   "outputs": [],
   "source": [
    "\n",
    "k = len(y.unique())\n",
    "\n",
    "if (X_train.shape[1] == X.shape[1]): \n",
    "    X_train.insert(0, \"intercept\", 1)\n",
    "\n",
    "# Reset m and n for training data\n",
    "\n",
    "m, n = X_train.shape\n",
    "\n",
    "# Initialize theta for each class  "
   ]
  },
  {
   "cell_type": "code",
   "execution_count": 29,
   "metadata": {},
   "outputs": [],
   "source": [
    "SR = SoftmaxRegressionModel()\n",
    "\n",
    "yy = SR.Y(y_train.values)"
   ]
  },
  {
   "cell_type": "code",
   "execution_count": 30,
   "metadata": {},
   "outputs": [
    {
     "data": {
      "image/png": "[encoded data removed]",
      "text/plain": [
       "<Figure size 432x288 with 1 Axes>"
      ]
     },
     "metadata": {
      "needs_background": "light"
     },
     "output_type": "display_data"
    }
   ],
   "source": [
    "theta_initial = np.ones((n,k))\n",
    "\n",
    "alpha = 5\n",
    "iterations = 5000\n",
    "\n",
    "theta,cost,iteration_no = SR.batch_gd(X_norm.values,yy,theta_initial,iterations,alpha,average=True)\n",
    "SR.plot_cost(cost,iteration_no)"
   ]
  },
  {
   "cell_type": "code",
   "execution_count": 31,
   "metadata": {},
   "outputs": [],
   "source": [
    "y_pred = SR.predict_y(X_norm_test.values,theta)"
   ]
  },
  {
   "cell_type": "code",
   "execution_count": 32,
   "metadata": {},
   "outputs": [
    {
     "data": {
      "text/plain": [
       "0.9333333333333333"
      ]
     },
     "execution_count": 32,
     "metadata": {},
     "output_type": "execute_result"
    }
   ],
   "source": [
    "SR.accuracy(y_pred, y_test.values)"
   ]
  },
  {
   "cell_type": "markdown",
   "metadata": {},
   "source": [
    "## 5. Gaussian Discriminant Analysis"
   ]
  },
  {
   "cell_type": "code",
   "execution_count": 33,
   "metadata": {},
   "outputs": [],
   "source": [
    "class GDAModel:\n",
    "    \n",
    "    def parameters(self,X,y,naive = False,same_sigma = True):\n",
    "        unique_y = np.unique(y)\n",
    "        prior = np.zeros(len(unique_y))\n",
    "        mean = np.zeros((len(unique_y),X.shape[1]))\n",
    "        sigma = np.zeros((len(unique_y),X.shape[1],X.shape[1]))\n",
    "        for j, yi in enumerate(unique_y):\n",
    "            prior[j] = np.sum(y==yi)/y.size\n",
    "            mean[j] = np.mean(X[y==yi],axis=0)\n",
    "            sigma[j] = (1/np.sum(y==yi))*(X[y==yi]-mean[j]).T@(X[y==yi]-mean[j])\n",
    "            \n",
    "        # sets 0 to covariance terms if using the naive assumption\n",
    "        if(naive == True):\n",
    "            sigma[:,~np.eye(X.shape[1],dtype=bool)] = 0\n",
    "            \n",
    "        # if we're using the same sigma for all classes, we take the average of them\n",
    "        if(same_sigma == True):\n",
    "            sigma[:] = np.mean(sigma,axis=0)\n",
    "            \n",
    "        return prior,mean,sigma,unique_y\n",
    "    \n",
    "    def joint_probability(self,x,prior,mean,sigma):\n",
    "        joint_prob = np.zeros(prior.size)\n",
    "        for j,mu in enumerate(mean):\n",
    "            if(sigma.ndim == 2):\n",
    "                sig = sigma\n",
    "            else:\n",
    "                sig = sigma[j]\n",
    "            gaussian = (1/(((2*np.pi)**(x.size/2))*np.sqrt(np.linalg.det(sig))))*np.exp(-1/2*(x-mu)@np.linalg.inv(sig)@((x-mu)))\n",
    "            joint_prob[j] = prior[j]*gaussian\n",
    "        return joint_prob\n",
    "\n",
    "    def predict(self,X,prior,mean,sigma,unique_y):\n",
    "        if(X.ndim == 2):\n",
    "            y_pred = []\n",
    "            for i in range(X.shape[0]):\n",
    "                joint_prob = self.joint_probability(X[i],prior,mean,sigma)\n",
    "                y_pred.append(unique_y[np.argmax(joint_prob)])\n",
    "            y_pred = np.array(y_pred)\n",
    "        else:\n",
    "            joint_prob = self.joint_probability(X,prior,mean,sigma)\n",
    "            y_pred = unique_y[np.argmax(joint_prob)]\n",
    "        return y_pred\n",
    "\n",
    "#6. score/error calculation\n",
    "    def accuracy(self,y,y_pred):\n",
    "        acc = np.sum(y == y_pred)/y.size\n",
    "        return acc"
   ]
  },
  {
   "cell_type": "code",
   "execution_count": 34,
   "metadata": {},
   "outputs": [
    {
     "name": "stdout",
     "output_type": "stream",
     "text": [
      "Total = 768 Train = 460 Test = 308\n"
     ]
    }
   ],
   "source": [
    "from sklearn.model_selection import train_test_split\n",
    "\n",
    "# Load data from CSV file\n",
    "def loadCsv(filename):\n",
    "    data_raw = pd.read_csv(filename)\n",
    "    headers = data_raw.columns\n",
    "    dataset = data_raw.values\n",
    "    return dataset, headers\n",
    "\n",
    "def splitDataset(test_size,*arrays,**kwargs):\n",
    "    return train_test_split(*arrays,test_size=test_size,**kwargs)\n",
    "\n",
    "filename = 'diabetes.csv'\n",
    "dataset, headers = loadCsv(filename)\n",
    "\n",
    "X_train,X_test,y_train,y_test = splitDataset(0.4,dataset[:,:-1],dataset[:,-1])\n",
    "print(\"Total =\",len(dataset),\"Train =\", len(X_train),\"Test =\",len(X_test))"
   ]
  },
  {
   "cell_type": "code",
   "execution_count": 35,
   "metadata": {},
   "outputs": [],
   "source": [
    "GDA = GDAModel()\n",
    "\n",
    "prior,mean,sigma,unique_y = GDA.parameters(X_train,y_train,naive=False,same_sigma=True)"
   ]
  },
  {
   "cell_type": "code",
   "execution_count": 36,
   "metadata": {},
   "outputs": [],
   "source": [
    "y_pred = GDA.predict(X_test,prior,mean,sigma,unique_y)"
   ]
  },
  {
   "cell_type": "code",
   "execution_count": 37,
   "metadata": {},
   "outputs": [
    {
     "data": {
      "text/plain": [
       "0.7532467532467533"
      ]
     },
     "execution_count": 37,
     "metadata": {},
     "output_type": "execute_result"
    }
   ],
   "source": [
    "GDA.accuracy(y_pred,y_test)"
   ]
  },
  {
   "cell_type": "markdown",
   "metadata": {},
   "source": [
    "## 6. Multinomial Naive Bayes"
   ]
  },
  {
   "cell_type": "code",
   "execution_count": 38,
   "metadata": {},
   "outputs": [],
   "source": [
    "class MultinomialNaiveBayesModel:\n",
    "    \n",
    "    #1. Get frequencies -> dictionary of frequencies (used for creating the conditional probabilities, and also for getting the frequencies of each sample)\n",
    "    #2. get parmaters -> from the frequency dictionary and y, get the prior, likelihood(conditional probability), and also the unique values of y\n",
    "    #3. get joint_probability -> finds the joint probability for each of the class\n",
    "    #4. predict -> uses the joint_probability function to find the probabilities of each class, then choses the class\n",
    "    #5. accuracy -> takes in y and y_pred to get the accuracy. \n",
    "    \n",
    "    def frequency_dict(self,dict_of_instances):\n",
    "        from collections import Counter\n",
    "        #takes in a list\n",
    "        frequency_dict = {}\n",
    "        for key,value in dict_of_instances.items():\n",
    "            frequency_dict[key] = Counter(dict_of_instances[key])\n",
    "        return frequency_dict\n",
    "    \n",
    "    def parameters(self,frequency_dict,y,alpha = 0):\n",
    "        #expects X is a list of counter dictionaries\n",
    "        unique_y = np.unique(y)\n",
    "        prior = {}\n",
    "        likelihood = {}\n",
    "        \n",
    "        for j,class_name in enumerate(unique_y):\n",
    "            prior[class_name] = np.sum(y==unique_y[j])/y.size\n",
    "            total_frequency = sum(frequency_dict[class_name].values())\n",
    "            conditional_dictionary = {}\n",
    "            for key,value in frequency_dict[class_name].items():\n",
    "                conditional_dictionary[key] = (value+alpha)/(total_frequency+alpha*(len(frequency_dict[class_name])))\n",
    "            conditional_dictionary[\"* unknown *\"] = alpha/(total_frequency+alpha*(len(frequency_dict[class_name])))\n",
    "            likelihood[class_name] = (conditional_dictionary)\n",
    "\n",
    "        return prior,likelihood,unique_y\n",
    "    \n",
    "    def joint_probability(self,x,prior,likelihood):\n",
    "        #similar to the function parameters, x is expected to be the frequency of each class\n",
    "        joint_prob = np.zeros(len(prior))\n",
    "        for j,(key,p_y) in enumerate(prior.items()):\n",
    "            px_y = 1\n",
    "            for xi in x:\n",
    "                try:\n",
    "                    px_y *= likelihood[key][xi]\n",
    "                except:\n",
    "                    px_y *= likelihood[key][\"* unknown *\"]\n",
    "            joint_prob[j] = p_y*px_y\n",
    "        return joint_prob\n",
    "\n",
    "    def predict(self,X,prior,likelihood,unique_y):\n",
    "        y_pred = []\n",
    "        for i in range(len(X)):\n",
    "            joint_prob = self.joint_probability(X[i],prior,likelihood)\n",
    "            y_pred.append(unique_y[np.argmax(joint_prob)])\n",
    "        y_pred = np.array(y_pred)\n",
    "        return y_pred\n",
    "\n",
    "#6. score/error calculation\n",
    "    def accuracy(self,y,y_pred):\n",
    "        acc = np.sum(y == y_pred)/y.size\n",
    "        return acc"
   ]
  },
  {
   "cell_type": "code",
   "execution_count": 39,
   "metadata": {},
   "outputs": [
    {
     "name": "stderr",
     "output_type": "stream",
     "text": [
      "[nltk_data] Downloading package stopwords to /home/rom/nltk_data...\n",
      "[nltk_data]   Package stopwords is already up-to-date!\n"
     ]
    }
   ],
   "source": [
    "import pandas as pd\n",
    "import numpy as np\n",
    "from sklearn.model_selection import train_test_split\n",
    "from collections import Counter\n",
    "import nltk\n",
    "import string\n",
    "nltk.download('stopwords')\n",
    "from nltk.corpus import stopwords"
   ]
  },
  {
   "cell_type": "code",
   "execution_count": 40,
   "metadata": {},
   "outputs": [
    {
     "data": {
      "text/html": [
       "<div>\n",
       "<style scoped>\n",
       "    .dataframe tbody tr th:only-of-type {\n",
       "        vertical-align: middle;\n",
       "    }\n",
       "\n",
       "    .dataframe tbody tr th {\n",
       "        vertical-align: top;\n",
       "    }\n",
       "\n",
       "    .dataframe thead th {\n",
       "        text-align: right;\n",
       "    }\n",
       "</style>\n",
       "<table border=\"1\" class=\"dataframe\">\n",
       "  <thead>\n",
       "    <tr style=\"text-align: right;\">\n",
       "      <th></th>\n",
       "      <th>class</th>\n",
       "      <th>sentence</th>\n",
       "    </tr>\n",
       "  </thead>\n",
       "  <tbody>\n",
       "    <tr>\n",
       "      <th>0</th>\n",
       "      <td>ham</td>\n",
       "      <td>Go until jurong point, crazy.. Available only ...</td>\n",
       "    </tr>\n",
       "    <tr>\n",
       "      <th>1</th>\n",
       "      <td>ham</td>\n",
       "      <td>Ok lar... Joking wif u oni...</td>\n",
       "    </tr>\n",
       "    <tr>\n",
       "      <th>2</th>\n",
       "      <td>spam</td>\n",
       "      <td>Free entry in 2 a wkly comp to win FA Cup fina...</td>\n",
       "    </tr>\n",
       "    <tr>\n",
       "      <th>3</th>\n",
       "      <td>ham</td>\n",
       "      <td>U dun say so early hor... U c already then say...</td>\n",
       "    </tr>\n",
       "    <tr>\n",
       "      <th>4</th>\n",
       "      <td>ham</td>\n",
       "      <td>Nah I don't think he goes to usf, he lives aro...</td>\n",
       "    </tr>\n",
       "  </tbody>\n",
       "</table>\n",
       "</div>"
      ],
      "text/plain": [
       "  class                                           sentence\n",
       "0   ham  Go until jurong point, crazy.. Available only ...\n",
       "1   ham                      Ok lar... Joking wif u oni...\n",
       "2  spam  Free entry in 2 a wkly comp to win FA Cup fina...\n",
       "3   ham  U dun say so early hor... U c already then say...\n",
       "4   ham  Nah I don't think he goes to usf, he lives aro..."
      ]
     },
     "execution_count": 40,
     "metadata": {},
     "output_type": "execute_result"
    }
   ],
   "source": [
    "raw_data = pd.read_csv('spam.csv', encoding='latin-1')\n",
    "raw_data.drop(['Unnamed: 2','Unnamed: 3','Unnamed: 4'],axis=1,inplace=True)\n",
    "raw_data = raw_data.rename(columns={'v1': 'class','v2': 'sentence'})\n",
    "\n",
    "raw_data.head()"
   ]
  },
  {
   "cell_type": "code",
   "execution_count": 41,
   "metadata": {},
   "outputs": [],
   "source": [
    "def get_words(sentence):\n",
    "    '''\n",
    "    What will be covered:\n",
    "    1. Remove punctuation\n",
    "    2. Remove stopwords\n",
    "    3. Return list of clean text words\n",
    "    '''\n",
    "    \n",
    "    #1\n",
    "    nopunc = [char for char in sentence if char not in string.punctuation]\n",
    "    nopunc = ''.join(nopunc)\n",
    "    \n",
    "    #2\n",
    "    clean_words = [word for word in nopunc.split() if word.lower() not in stopwords.words('english')]\n",
    "    \n",
    "    #3\n",
    "    return clean_words\n",
    "#raw_data['sentence'].apply(process_text).head()\n",
    "#raw_data"
   ]
  },
  {
   "cell_type": "code",
   "execution_count": 42,
   "metadata": {},
   "outputs": [
    {
     "data": {
      "text/html": [
       "<div>\n",
       "<style scoped>\n",
       "    .dataframe tbody tr th:only-of-type {\n",
       "        vertical-align: middle;\n",
       "    }\n",
       "\n",
       "    .dataframe tbody tr th {\n",
       "        vertical-align: top;\n",
       "    }\n",
       "\n",
       "    .dataframe thead th {\n",
       "        text-align: right;\n",
       "    }\n",
       "</style>\n",
       "<table border=\"1\" class=\"dataframe\">\n",
       "  <thead>\n",
       "    <tr style=\"text-align: right;\">\n",
       "      <th></th>\n",
       "      <th>class</th>\n",
       "      <th>sentence</th>\n",
       "    </tr>\n",
       "  </thead>\n",
       "  <tbody>\n",
       "    <tr>\n",
       "      <th>1102</th>\n",
       "      <td>ham</td>\n",
       "      <td>Black shirt n blue jeans... I thk i c Ì_...</td>\n",
       "    </tr>\n",
       "    <tr>\n",
       "      <th>3746</th>\n",
       "      <td>ham</td>\n",
       "      <td>ÌÏ neva tell me how i noe... I'm not at home i...</td>\n",
       "    </tr>\n",
       "    <tr>\n",
       "      <th>5372</th>\n",
       "      <td>ham</td>\n",
       "      <td>Ok., is any problem to u frm him? Wats matter?</td>\n",
       "    </tr>\n",
       "    <tr>\n",
       "      <th>4562</th>\n",
       "      <td>ham</td>\n",
       "      <td>Come around  &amp;lt;DECIMAL&amp;gt; pm vikky..i'm ots...</td>\n",
       "    </tr>\n",
       "    <tr>\n",
       "      <th>1274</th>\n",
       "      <td>ham</td>\n",
       "      <td>Let me know how to contact you. I've you settl...</td>\n",
       "    </tr>\n",
       "  </tbody>\n",
       "</table>\n",
       "</div>"
      ],
      "text/plain": [
       "     class                                           sentence\n",
       "1102   ham        Black shirt n blue jeans... I thk i c Ì_...\n",
       "3746   ham  ÌÏ neva tell me how i noe... I'm not at home i...\n",
       "5372   ham     Ok., is any problem to u frm him? Wats matter?\n",
       "4562   ham  Come around  &lt;DECIMAL&gt; pm vikky..i'm ots...\n",
       "1274   ham  Let me know how to contact you. I've you settl..."
      ]
     },
     "execution_count": 42,
     "metadata": {},
     "output_type": "execute_result"
    }
   ],
   "source": [
    "train_data, test_data = train_test_split(raw_data.iloc[:,[0,1]], test_size = 0.2)\n",
    "train_data.head()"
   ]
  },
  {
   "cell_type": "code",
   "execution_count": 43,
   "metadata": {},
   "outputs": [
    {
     "name": "stdout",
     "output_type": "stream",
     "text": [
      "(4457,)\n"
     ]
    }
   ],
   "source": [
    "X_raw = train_data['sentence']\n",
    "print(X_raw.values.shape)"
   ]
  },
  {
   "cell_type": "code",
   "execution_count": 44,
   "metadata": {},
   "outputs": [],
   "source": [
    "ham_docs = [train['sentence'] for index,train in train_data.iterrows() if train['class'] == 'ham']\n",
    "spam_docs = [train['sentence'] for index,train in train_data.iterrows() if train['class'] == 'spam']"
   ]
  },
  {
   "cell_type": "code",
   "execution_count": 45,
   "metadata": {},
   "outputs": [],
   "source": [
    "spam_words = get_words(spam_docs)\n",
    "ham_words = get_words(ham_docs)"
   ]
  },
  {
   "cell_type": "code",
   "execution_count": 46,
   "metadata": {},
   "outputs": [],
   "source": [
    "X = {\"ham\":ham_words,\"spam\":spam_words}"
   ]
  },
  {
   "cell_type": "code",
   "execution_count": 47,
   "metadata": {},
   "outputs": [],
   "source": [
    "MNB = MultinomialNaiveBayesModel()\n",
    "tab = MNB.frequency_dict(X)"
   ]
  },
  {
   "cell_type": "code",
   "execution_count": null,
   "metadata": {},
   "outputs": [],
   "source": []
  },
  {
   "cell_type": "code",
   "execution_count": 48,
   "metadata": {},
   "outputs": [],
   "source": [
    "prior,likelihood,unique_y = MNB.parameters(tab,train_data['class'].values,alpha=0.0001)"
   ]
  },
  {
   "cell_type": "code",
   "execution_count": 49,
   "metadata": {},
   "outputs": [],
   "source": [
    "test_docs = list([test['sentence'] for index,test in test_data.iterrows()])\n",
    "X_test = [get_words(sentence) for sentence in test_docs]\n",
    "#X_test = MNB.frequency_list(test_words)\n",
    "#y = test_data['class'].values"
   ]
  },
  {
   "cell_type": "code",
   "execution_count": null,
   "metadata": {},
   "outputs": [],
   "source": [
    "\n"
   ]
  },
  {
   "cell_type": "code",
   "execution_count": 50,
   "metadata": {},
   "outputs": [],
   "source": [
    "y_pred = MNB.predict(X_test,prior,likelihood,unique_y)"
   ]
  },
  {
   "cell_type": "code",
   "execution_count": 51,
   "metadata": {},
   "outputs": [
    {
     "name": "stdout",
     "output_type": "stream",
     "text": [
      "['ham' 'ham' 'ham' 'ham' 'ham' 'ham' 'ham' 'ham' 'ham' 'ham' 'ham' 'ham'\n",
      " 'ham' 'ham' 'ham' 'spam' 'ham' 'ham' 'ham' 'ham' 'ham' 'spam' 'ham'\n",
      " 'spam' 'ham' 'ham' 'ham' 'ham' 'ham' 'ham' 'spam' 'spam' 'ham' 'ham'\n",
      " 'ham' 'spam' 'ham' 'ham' 'spam' 'ham' 'ham' 'ham' 'ham' 'ham' 'spam'\n",
      " 'ham' 'ham' 'ham' 'ham' 'ham' 'ham' 'ham' 'ham' 'ham' 'ham' 'ham' 'ham'\n",
      " 'ham' 'ham' 'ham' 'spam' 'ham' 'ham' 'ham' 'ham' 'ham' 'ham' 'ham' 'ham'\n",
      " 'ham' 'ham' 'spam' 'ham' 'ham' 'spam' 'ham' 'ham' 'ham' 'ham' 'ham' 'ham'\n",
      " 'ham' 'ham' 'ham' 'ham' 'spam' 'ham' 'ham' 'ham' 'ham' 'spam' 'ham' 'ham'\n",
      " 'ham' 'ham' 'ham' 'ham' 'spam' 'spam' 'ham']\n"
     ]
    }
   ],
   "source": [
    "print(y_pred[:100])"
   ]
  },
  {
   "cell_type": "code",
   "execution_count": 52,
   "metadata": {},
   "outputs": [
    {
     "name": "stdout",
     "output_type": "stream",
     "text": [
      "['ham' 'ham' 'ham' 'ham' 'ham' 'ham' 'ham' 'ham' 'ham' 'ham' 'ham' 'spam'\n",
      " 'ham' 'ham' 'ham' 'spam' 'ham' 'ham' 'ham' 'ham' 'ham' 'spam' 'ham' 'ham'\n",
      " 'ham' 'ham' 'ham' 'ham' 'ham' 'ham' 'spam' 'spam' 'ham' 'spam' 'ham'\n",
      " 'spam' 'ham' 'ham' 'spam' 'ham' 'ham' 'ham' 'ham' 'ham' 'ham' 'ham' 'ham'\n",
      " 'ham' 'ham' 'ham' 'ham' 'ham' 'ham' 'ham' 'ham' 'ham' 'ham' 'ham' 'ham'\n",
      " 'ham' 'spam' 'ham' 'ham' 'ham' 'ham' 'ham' 'ham' 'ham' 'ham' 'ham' 'ham'\n",
      " 'spam' 'ham' 'ham' 'spam' 'ham' 'ham' 'ham' 'ham' 'ham' 'ham' 'ham' 'ham'\n",
      " 'ham' 'ham' 'spam' 'ham' 'ham' 'ham' 'ham' 'spam' 'ham' 'ham' 'ham' 'ham'\n",
      " 'ham' 'ham' 'spam' 'spam' 'ham']\n"
     ]
    }
   ],
   "source": [
    "y = test_data['class'].values\n",
    "print(y[:100])"
   ]
  },
  {
   "cell_type": "code",
   "execution_count": 53,
   "metadata": {},
   "outputs": [
    {
     "data": {
      "text/plain": [
       "0.957847533632287"
      ]
     },
     "execution_count": 53,
     "metadata": {},
     "output_type": "execute_result"
    }
   ],
   "source": [
    "MNB.accuracy(y,y_pred)"
   ]
  },
  {
   "cell_type": "markdown",
   "metadata": {},
   "source": [
    "## 7. SVM"
   ]
  },
  {
   "cell_type": "code",
   "execution_count": 54,
   "metadata": {},
   "outputs": [],
   "source": [
    "from numpy import linalg\n",
    "import cvxopt\n",
    "import cvxopt.solvers\n",
    "import pylab as pl"
   ]
  },
  {
   "cell_type": "code",
   "execution_count": 55,
   "metadata": {},
   "outputs": [],
   "source": [
    "class SVMModel:\n",
    "    \n",
    "    def linear_kernel(self,x1, x2):\n",
    "        return np.dot(x1, x2)\n",
    "\n",
    "    def polynomial_kernel(self,x, y, p=2):\n",
    "        return (1 + np.dot(x, y)) ** p\n",
    "\n",
    "    def gaussian_kernel(self,x, y, sigma=0.9999):\n",
    "        return np.exp(-linalg.norm(x-y)**2 / (2 * (sigma ** 2)))\n",
    "\n",
    "    def fit(self, X, y, kernel, C):\n",
    "        n_samples, n_features = X.shape\n",
    "\n",
    "        # Gram matrix\n",
    "        # initialize kernel matrix    \n",
    "        K = np.zeros((n_samples, n_samples))\n",
    "        # Kernel matrix\n",
    "\n",
    "        for i in range(n_samples):\n",
    "            for j in range(n_samples):\n",
    "                if kernel == 'linear_kernel':\n",
    "                    K[i,j] = self.linear_kernel(X[i], X[j])\n",
    "                elif kernel == 'polynomial_kernel':\n",
    "                    K[i,j] = self.polynomial_kernel(X[i], X[j])\n",
    "                else:\n",
    "                    K[i,j] = self.gaussian_kernel(X[i], X[j])\n",
    "\n",
    "\n",
    "        P = cvxopt.matrix(np.outer(y,y) * K)\n",
    "        q = cvxopt.matrix(np.ones(n_samples) * -1)\n",
    "        A = cvxopt.matrix(y, (1,n_samples))\n",
    "        b = cvxopt.matrix(0.0)\n",
    "\n",
    "        if C is None:\n",
    "            G = cvxopt.matrix(np.diag(np.ones(n_samples) * -1))\n",
    "            h = cvxopt.matrix(np.zeros(n_samples))\n",
    "        else:\n",
    "            tmp1 = np.diag(np.ones(n_samples) * -1)\n",
    "            tmp2 = np.identity(n_samples)\n",
    "            G = cvxopt.matrix(np.vstack((tmp1, tmp2)))\n",
    "            tmp1 = np.zeros(n_samples)\n",
    "            tmp2 = np.ones(n_samples) * C\n",
    "            h = cvxopt.matrix(np.hstack((tmp1, tmp2)))\n",
    "\n",
    "        # solve QP problem\n",
    "        solution = cvxopt.solvers.qp(P, q, G, h, A, b)\n",
    "\n",
    "        # Lagrange multipliers\n",
    "        a = np.ravel(solution['x'])\n",
    "\n",
    "        # Support vectors have non zero lagrange multipliers\n",
    "        sv_idx = a > 1e-5\n",
    "        ind = np.arange(len(a))[sv_idx]\n",
    "        a = a[sv_idx]    \n",
    "        sv = X[sv_idx]\n",
    "        sv_y = y[sv_idx]\n",
    "        print(\"%d support vectors out of %d points\" % (len(a), n_samples))\n",
    "\n",
    "        # Intercept\n",
    "        b = 0\n",
    "        for n in range(len(a)):\n",
    "            b += sv_y[n]\n",
    "            b -= np.sum(a * sv_y * K[ind[n],sv_idx])\n",
    "        b /= len(a)\n",
    "\n",
    "        # Weight vector\n",
    "        if kernel == 'linear_kernel':\n",
    "            w = np.zeros(n_features)\n",
    "            for n in range(len(a)):\n",
    "                w += a[n] * sv_y[n] * sv[n]\n",
    "        else:\n",
    "            w = None\n",
    "        return sv, sv_y, a, w, b\n",
    "\n",
    "    def project(self,X, kernel,sv, sv_y, a, w, b):\n",
    "        if w is not None:\n",
    "            return np.dot(X, w) + b\n",
    "        else:\n",
    "            y_predict = np.zeros(len(X))\n",
    "            for i in range(len(X)):\n",
    "                s = 0\n",
    "                for a_val, sv_y_val, sv_val in zip(a, sv_y, sv):\n",
    "                    if kernel == 'polynomial_kernel':\n",
    "                        s += a_val * sv_y_val * self.polynomial_kernel(X[i], sv_val)\n",
    "                    else:\n",
    "                        s += a_val * sv_y_val * self.gaussian_kernel(X[i], sv_val)\n",
    "                y_predict[i] = s\n",
    "            return y_predict + b\n",
    "\n",
    "    def predict(self,X, kernel, sv, sv_y, a, w, b):\n",
    "        return np.sign(self.project(X, kernel,sv, sv_y, a, w, b))\n",
    "    \n",
    "    def plot_contour(self,X1_train, X2_train, kernel, sv, sv_y, a, w, b):\n",
    "        pl.plot(X1_train[:,0], X1_train[:,1], \"ro\")\n",
    "        pl.plot(X2_train[:,0], X2_train[:,1], \"bo\")\n",
    "        pl.scatter(sv[:,0], sv[:,1], s=100, c=\"g\")\n",
    "        # here we choose the range between -7 and 7 as we have choosen\n",
    "        # the mean to be between -4 and 4 while generating data with the variance of 0.8\n",
    "        X1, X2 = np.meshgrid(np.linspace(-7,7,50), np.linspace(-7,7,50))\n",
    "        X = np.array([[x1, x2] for x1, x2 in zip(np.ravel(X1), np.ravel(X2))])\n",
    "        Z = self.project(X, kernel,sv, sv_y, a, w, b).reshape(X1.shape)\n",
    "        pl.contour(X1, X2, Z, [0.0], colors='k', linewidths=1, origin='lower')\n",
    "        pl.contour(X1, X2, Z + 1, [0.0], colors='grey', linewidths=1, origin='lower')\n",
    "        pl.contour(X1, X2, Z - 1, [0.0], colors='grey', linewidths=1, origin='lower')\n",
    "\n",
    "        pl.axis(\"tight\")\n",
    "        pl.show()"
   ]
  },
  {
   "cell_type": "code",
   "execution_count": 56,
   "metadata": {},
   "outputs": [],
   "source": [
    "# Generate data for class 1\n",
    "\n",
    "mu_1 = np.array([1.0, 2.0])\n",
    "sigma_1 = 1\n",
    "num_sample = 100\n",
    "cov_mat = np.matrix([[sigma_1,0],[0,sigma_1]])\n",
    "X1 = np.random.multivariate_normal(mean= mu_1, cov=cov_mat, size = num_sample)\n",
    "#X1[0] = np.array([8,8])\n",
    "\n",
    "# Generate data for class 2\n",
    "\n",
    "angle = np.random.uniform(0, 2*np.pi, num_sample)\n",
    "d =  np.random.normal(np.square(3*sigma_1),np.square(.5*sigma_1),num_sample)\n",
    "X2 = np.array([X1[:,0] + d*np.cos(angle), X1[:,1] + d*np.sin(angle)]).T\n",
    "\n",
    "# Combine X1 and X2 into single dataset\n",
    "\n",
    "X = np.concatenate([X1, X2],axis = 0)\n",
    "y = np.append(-np.ones(num_sample),np.ones(num_sample))"
   ]
  },
  {
   "cell_type": "code",
   "execution_count": 67,
   "metadata": {},
   "outputs": [],
   "source": [
    "mean1 = np.array([0, 2])\n",
    "mean2 = np.array([0, 0])\n",
    "cov = np.array([[1.8, 1.6], [1.6, 1.8]])\n",
    "X1 = np.random.multivariate_normal(mean1, cov, 100)\n",
    "X2 = np.random.multivariate_normal(mean2, cov, 100)\n",
    "\n",
    "X = np.concatenate([X1, X2],axis = 0)\n",
    "y = np.append(-np.ones(len(X1)),np.ones(len(X2)))"
   ]
  },
  {
   "cell_type": "code",
   "execution_count": 69,
   "metadata": {},
   "outputs": [
    {
     "name": "stdout",
     "output_type": "stream",
     "text": [
      "(200, 2)\n"
     ]
    }
   ],
   "source": [
    "print(X.shape)"
   ]
  },
  {
   "cell_type": "code",
   "execution_count": 58,
   "metadata": {},
   "outputs": [
    {
     "name": "stdout",
     "output_type": "stream",
     "text": [
      "     pcost       dcost       gap    pres   dres\n",
      " 0:  4.2526e+05 -1.1282e+08  3e+08  6e-01  9e-12\n",
      " 1:  1.1053e+06 -2.5647e+07  4e+07  5e-02  7e-12\n",
      " 2:  5.2159e+05 -5.7869e+06  7e+06  9e-03  4e-12\n",
      " 3:  5.4507e+04 -1.0829e+06  1e+06  8e-04  3e-12\n",
      " 4: -1.1454e+04 -1.2246e+05  1e+05  5e-05  3e-12\n",
      " 5: -1.3659e+04 -5.5685e+04  4e+04  2e-05  3e-12\n",
      " 6: -1.5201e+04 -5.5425e+04  4e+04  1e-05  3e-12\n",
      " 7: -1.5995e+04 -5.0020e+04  3e+04  8e-06  3e-12\n",
      " 8: -1.7176e+04 -4.1698e+04  2e+04  5e-06  3e-12\n",
      " 9: -1.8281e+04 -3.7550e+04  2e+04  4e-06  4e-12\n",
      "10: -1.9467e+04 -3.4679e+04  2e+04  3e-06  4e-12\n",
      "11: -1.9887e+04 -3.2055e+04  1e+04  1e-06  4e-12\n",
      "12: -2.1037e+04 -2.9674e+04  9e+03  7e-07  5e-12\n",
      "13: -2.2001e+04 -2.7247e+04  5e+03  3e-07  6e-12\n",
      "14: -2.2606e+04 -2.5803e+04  3e+03  1e-07  5e-12\n",
      "15: -2.3340e+04 -2.4565e+04  1e+03  4e-12  6e-12\n",
      "16: -2.3787e+04 -2.3952e+04  2e+02  3e-12  5e-12\n",
      "17: -2.3856e+04 -2.3867e+04  1e+01  2e-12  6e-12\n",
      "18: -2.3861e+04 -2.3861e+04  2e-01  6e-13  6e-12\n",
      "19: -2.3861e+04 -2.3861e+04  2e-03  9e-12  7e-12\n",
      "Optimal solution found.\n",
      "27 support vectors out of 200 points\n"
     ]
    }
   ],
   "source": [
    "SVM = SVMModel()\n",
    "\n",
    "kernel = 'linear_kernel'\n",
    "\n",
    "sv, sv_y, a, w, b = SVM.fit(X,y,kernel=kernel,C=1000)"
   ]
  },
  {
   "cell_type": "code",
   "execution_count": 59,
   "metadata": {},
   "outputs": [
    {
     "data": {
      "image/png": "[encoded data removed]",
      "text/plain": [
       "<Figure size 432x288 with 1 Axes>"
      ]
     },
     "metadata": {
      "needs_background": "light"
     },
     "output_type": "display_data"
    }
   ],
   "source": [
    "SVM.plot_contour(X1, X2, kernel, sv, sv_y, a, w, b)"
   ]
  },
  {
   "cell_type": "code",
   "execution_count": 60,
   "metadata": {},
   "outputs": [],
   "source": [
    "resolution = 100\n",
    "x_series = np.linspace(-2,2,resolution)\n",
    "y_series = np.linspace(-2,2,resolution)\n",
    "\n",
    "x_mesh,y_mesh = np.meshgrid(x_series,y_series)\n",
    "\n",
    "x_mesh = x_mesh.reshape(-1,1)\n",
    "y_mesh = y_mesh.reshape(-1,1)\n",
    "\n",
    "mesh = np.append(x_mesh,y_mesh,axis=1)\n",
    "y_pred = SVM.predict(mesh,kernel,sv,sv_y,a,w,b).astype(int)\n",
    "\n",
    "x_mesh = x_mesh.reshape(resolution,resolution)\n",
    "y_mesh = y_mesh.reshape(resolution,resolution)\n",
    "y_pred = y_pred.reshape(resolution,resolution)"
   ]
  },
  {
   "cell_type": "code",
   "execution_count": 61,
   "metadata": {},
   "outputs": [
    {
     "data": {
      "text/plain": [
       "(-2.0, 2.0)"
      ]
     },
     "execution_count": 61,
     "metadata": {},
     "output_type": "execute_result"
    },
    {
     "data": {
      "image/png": "[encoded data removed]",
      "text/plain": [
       "<Figure size 720x720 with 1 Axes>"
      ]
     },
     "metadata": {
      "needs_background": "light"
     },
     "output_type": "display_data"
    }
   ],
   "source": [
    "plt.figure(figsize=(10,10))\n",
    "plt.scatter(X1[:,0],X1[:,1])\n",
    "plt.scatter(X2[:,0],X2[:,1])\n",
    "plt.pcolormesh(x_mesh,y_mesh,y_pred,cmap='viridis',shading='auto',alpha=0.1)\n",
    "plt.grid(True)\n",
    "plt.xlim([-2,2])\n",
    "plt.ylim([-2,2])"
   ]
  },
  {
   "cell_type": "markdown",
   "metadata": {},
   "source": [
    "## **Preprocessing**"
   ]
  },
  {
   "cell_type": "markdown",
   "metadata": {},
   "source": [
    "## 1. Standard Scaler"
   ]
  },
  {
   "cell_type": "code",
   "execution_count": 62,
   "metadata": {},
   "outputs": [
    {
     "name": "stdout",
     "output_type": "stream",
     "text": [
      "[[-1.22474487 -1.22474487]\n",
      " [ 0.          0.        ]\n",
      " [ 1.22474487  1.22474487]]\n"
     ]
    }
   ],
   "source": [
    "def standardScaler(X):\n",
    "    mean = np.mean(X,axis=0)\n",
    "    std = np.std(X,axis=0)\n",
    "    X_norm = (X-mean)/std\n",
    "    return X_norm, mean, std\n",
    "\n",
    "def standardUnScaler(X, mean, std):\n",
    "    X_unscaled = X*std+mean\n",
    "    return X_unscaled\n",
    "\n",
    "X = np.array([[1,2],[3,4],[5,6]])\n",
    "X_norm,mean,std = standardScaler(X)\n",
    "print(X_norm)"
   ]
  },
  {
   "cell_type": "markdown",
   "metadata": {},
   "source": [
    "## 2. Min-Max Scaler"
   ]
  },
  {
   "cell_type": "code",
   "execution_count": 63,
   "metadata": {},
   "outputs": [
    {
     "name": "stdout",
     "output_type": "stream",
     "text": [
      "[[0.  0. ]\n",
      " [0.5 0.5]\n",
      " [1.  1. ]]\n"
     ]
    }
   ],
   "source": [
    "def minMaxScaler(X):\n",
    "    mini = np.min(X,axis=0)\n",
    "    maxi = np.max(X,axis=0)\n",
    "    X_scaled = (X-mini)/(maxi-mini)\n",
    "    return X_scaled, mini, maxi\n",
    "\n",
    "def minMaxUnScaler(X, mini, maxi):\n",
    "    X_unscaled = X*(maxi-mini)+mini\n",
    "    return X_unscaled\n",
    "\n",
    "X = np.array([[1,2],[3,4],[5,6]])\n",
    "X_scaled,mini,maxi = minMaxScaler(X)\n",
    "print(X_scaled)"
   ]
  },
  {
   "cell_type": "markdown",
   "metadata": {},
   "source": [
    "## Polynomial Features"
   ]
  },
  {
   "cell_type": "code",
   "execution_count": 64,
   "metadata": {},
   "outputs": [
    {
     "data": {
      "text/plain": [
       "array([[  1.,   1.,   2.,   1.,   2.,   4.,   1.,   2.,   4.,   8.],\n",
       "       [  1.,   3.,   4.,   9.,  12.,  16.,  27.,  36.,  48.,  64.],\n",
       "       [  1.,   5.,   6.,  25.,  30.,  36., 125., 150., 180., 216.]])"
      ]
     },
     "execution_count": 64,
     "metadata": {},
     "output_type": "execute_result"
    }
   ],
   "source": [
    "from sklearn.preprocessing import PolynomialFeatures\n",
    "\n",
    "def getPolynomialFeatures(X,degree):\n",
    "    poly = PolynomialFeatures(degree)\n",
    "    return poly.fit_transform(X)\n",
    "\n",
    "X = np.array([[1,2],[3,4],[5,6]])\n",
    "\n",
    "getPolynomialFeatures(X,3)"
   ]
  },
  {
   "cell_type": "markdown",
   "metadata": {},
   "source": [
    "## Train Test Splitter"
   ]
  },
  {
   "cell_type": "code",
   "execution_count": 65,
   "metadata": {},
   "outputs": [
    {
     "name": "stdout",
     "output_type": "stream",
     "text": [
      "Shape Test: 0.3\n"
     ]
    }
   ],
   "source": [
    "from sklearn.model_selection import train_test_split\n",
    "\n",
    "def trainTestSplit(X,y,test_size=0.2,random_state=1):\n",
    "    X_train, X_test, y_train, y_test = train_test_split(X, y, test_size=test_size,random_state=random_state)\n",
    "    return X_train,X_test,y_train,y_test\n",
    "\n",
    "X, y = np.arange(100).reshape((50, 2)), range(50)\n",
    "X_train, X_test, y_train, y_test = trainTestSplit(X,y,test_size=0.3,random_state=None)\n",
    "\n",
    "print(\"Shape Test:\",X_test.shape[0]/(X_train.shape[0]+X_test.shape[0]))"
   ]
  }
 ],
 "metadata": {
  "kernelspec": {
   "display_name": "Python 3",
   "language": "python",
   "name": "python3"
  },
  "language_info": {
   "codemirror_mode": {
    "name": "ipython",
    "version": 3
   },
   "file_extension": ".py",
   "mimetype": "text/x-python",
   "name": "python",
   "nbconvert_exporter": "python",
   "pygments_lexer": "ipython3",
   "version": "3.6.9"
  }
 },
 "nbformat": 4,
 "nbformat_minor": 4
}
