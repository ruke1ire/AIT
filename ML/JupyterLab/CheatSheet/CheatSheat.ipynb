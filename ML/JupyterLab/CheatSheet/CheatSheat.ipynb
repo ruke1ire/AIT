{
 "cells": [
  {
   "cell_type": "markdown",
   "metadata": {},
   "source": [
    "# Cheat sheet\n",
    "\n",
    "#### Models\n",
    "1. Linear Regression\n",
    "2. Locally Weighted Linear Regression\n",
    "3. Logistic Regression\n",
    "4. Softmax Regression\n",
    "5. Gaussian Discriminant Analysis/(Multinomial Naive Bayes)\n",
    "6. Support Vector Machines\n",
    "\n",
    "#### Learning Algorithms\n",
    "1. Batch Gradient Descent\n",
    "2. Stochastic Gradient Descent\n",
    "3. MiniBatch Gradient Descent\n",
    "4. Newton's Method\n",
    "\n",
    "#### Preprocessing\n",
    "1. Standard Scaler\n",
    "2. Min-Max Scaler\n",
    "3. Polynomial Features"
   ]
  },
  {
   "cell_type": "code",
   "execution_count": 1,
   "metadata": {},
   "outputs": [],
   "source": [
    "import numpy as np\n",
    "import pandas as pd\n",
    "import matplotlib.pyplot as plt"
   ]
  },
  {
   "cell_type": "markdown",
   "metadata": {},
   "source": [
    "## 1. Linear Regression"
   ]
  },
  {
   "cell_type": "code",
   "execution_count": 2,
   "metadata": {},
   "outputs": [],
   "source": [
    "class LinearRegressionModel:\n",
    "#1. hypothesis function\n",
    "    def h(self, X, theta):      \n",
    "        hypothesis = X@theta\n",
    "        return hypothesis\n",
    "        \n",
    "#2. cost function\n",
    "    def cost(self, X, y, theta, average = False):\n",
    "        #expects X to be a design matrix, y to be a column vector and theta to be a column vector\n",
    "        if(average == False):\n",
    "            J = 1/2*(self.h(X,theta)-y).T@(self.h(X,theta)-y)\n",
    "        else:\n",
    "            J = 1/(2*X.shape[0])*(self.h(X,theta)-y).T@(self.h(X,theta)-y)\n",
    "        return J\n",
    "\n",
    "#3. gradient function\n",
    "    def gradient(self, X, y, theta, average = False):\n",
    "        if(average == False):\n",
    "            dJ = X.T@(self.h(X,theta)-y)\n",
    "        else:\n",
    "            dJ = X.T@(self.h(X,theta)-y)/(X.shape[0])\n",
    "        return dJ\n",
    "    \n",
    "#4. batch gradient descent\n",
    "    def batch_gd(self, X, y, initial_theta, max_iteration, alpha, tolerance = 0,average = False):\n",
    "        cost = []\n",
    "        gradient = []\n",
    "        theta = initial_theta\n",
    "        iteration = 0\n",
    "        for n in range(max_iteration):\n",
    "            cost.append(self.cost(X,y,theta,average))\n",
    "            gradient.append(self.gradient(X,y,theta,average))\n",
    "            theta = theta - alpha*gradient[-1]\n",
    "            iteration_no = n+1\n",
    "        cost = np.array(cost)\n",
    "        gradient = np.array(gradient)\n",
    "        return theta,cost,gradient,iteration_no\n",
    "    \n",
    "#5. normal equation\n",
    "    def normal_equation(self, X, y):\n",
    "        theta = np.linalg.inv(X.T@X)@X.T@y\n",
    "        return theta\n",
    "            \n",
    "#5. predict\n",
    "    def predict(self,X,theta):\n",
    "        prediction = self.h(X,theta)\n",
    "        return prediction\n",
    "    \n",
    "#6. score/error calculation\n",
    "    def mean_squared_error(self,X,y,theta):\n",
    "        mse = self.cost(X,y,theta,average = True)*2\n",
    "        return mse\n",
    "        \n",
    "#7. plotting cost\n",
    "    def plot_cost(self,cost, iteration_no):\n",
    "        iteration_series = np.arange(1,iteration_no+1)\n",
    "        ax = plt.axes()\n",
    "        ax.plot(iteration_series, cost)"
   ]
  },
  {
   "cell_type": "code",
   "execution_count": 3,
   "metadata": {},
   "outputs": [
    {
     "data": {
      "image/png": "[encoded data removed]",
      "text/plain": [
       "<Figure size 432x288 with 1 Axes>"
      ]
     },
     "metadata": {
      "needs_background": "light"
     },
     "output_type": "display_data"
    }
   ],
   "source": [
    "# Independent variable\n",
    "\n",
    "num_hours_studied = np.array([1, 3, 3, 4, 5, 6, 7, 7, 8, 8, 10])\n",
    "\n",
    "# Dependent variable\n",
    "\n",
    "exam_score = np.array([18, 26, 31, 40, 55, 62, 71, 70, 75, 85, 97])\n",
    "\n",
    "# Plot the data\n",
    "\n",
    "plt.scatter(num_hours_studied, exam_score)\n",
    "plt.xlabel('num_hours_studied')\n",
    "plt.ylabel('exam_score')\n",
    "plt.title('Synthetic Exam Score Data Set')\n",
    "plt.show()"
   ]
  },
  {
   "cell_type": "code",
   "execution_count": 4,
   "metadata": {},
   "outputs": [
    {
     "name": "stdout",
     "output_type": "stream",
     "text": [
      "(11, 2)\n",
      "(11,)\n"
     ]
    }
   ],
   "source": [
    "# Add dummy variable for intercept term to design matrix.\n",
    "# Understand the numpy insert function by reading https://numpy.org/doc/stable/reference/generated/numpy.insert.html\n",
    "\n",
    "X = np.array([num_hours_studied]).T\n",
    "X = np.insert(X, 0, 1, axis=1)\n",
    "y = exam_score\n",
    "print(X.shape)\n",
    "print(y.shape)"
   ]
  },
  {
   "cell_type": "code",
   "execution_count": 5,
   "metadata": {},
   "outputs": [],
   "source": [
    "LR = LinearRegressionModel()\n",
    "\n",
    "alpha = 0.001\n",
    "max_iteration = 100000\n",
    "initial_theta = np.zeros(2)\n",
    "\n",
    "theta,cost,gradient,iteration = LR.batch_gd(X,y,initial_theta,max_iteration,alpha,average = True)"
   ]
  },
  {
   "cell_type": "code",
   "execution_count": 6,
   "metadata": {},
   "outputs": [
    {
     "data": {
      "image/png": "[encoded data removed]",
      "text/plain": [
       "<Figure size 432x288 with 1 Axes>"
      ]
     },
     "metadata": {
      "needs_background": "light"
     },
     "output_type": "display_data"
    }
   ],
   "source": [
    "LR.plot_cost(cost,iteration)"
   ]
  },
  {
   "cell_type": "code",
   "execution_count": 7,
   "metadata": {},
   "outputs": [
    {
     "name": "stdout",
     "output_type": "stream",
     "text": [
      "[4.27819535 9.40225566]\n",
      "12.271701982228306\n",
      "[4.27819549 9.40225564]\n",
      "12.271701982228299\n"
     ]
    }
   ],
   "source": [
    "theta2 = LR.normal_equation(X,y)\n",
    "print(theta)\n",
    "print(LR.mean_squared_error(X,y,theta))\n",
    "print(theta2)\n",
    "print(LR.mean_squared_error(X,y,theta2))"
   ]
  },
  {
   "cell_type": "code",
   "execution_count": 8,
   "metadata": {},
   "outputs": [
    {
     "name": "stdout",
     "output_type": "stream",
     "text": [
      "(100,)\n",
      "(100, 2)\n"
     ]
    }
   ],
   "source": [
    "x_series = np.linspace(0,10,100)\n",
    "print(x_series.shape)\n",
    "x_series = np.insert(x_series[:,np.newaxis],0,1, axis=1)\n",
    "print(x_series.shape)\n",
    "y_pred = LR.predict(x_series, theta)\n",
    "y_pred2 = LR.predict(x_series,theta2)"
   ]
  },
  {
   "cell_type": "code",
   "execution_count": 9,
   "metadata": {},
   "outputs": [
    {
     "data": {
      "image/png": "[encoded data removed]",
      "text/plain": [
       "<Figure size 432x288 with 1 Axes>"
      ]
     },
     "metadata": {
      "needs_background": "light"
     },
     "output_type": "display_data"
    }
   ],
   "source": [
    "plt.scatter(num_hours_studied, exam_score)\n",
    "plt.plot(x_series[:,1],y_pred)\n",
    "plt.plot(x_series[:,1],y_pred2)\n",
    "plt.xlabel('num_hours_studied')\n",
    "plt.ylabel('exam_score')\n",
    "plt.title('Synthetic Exam Score Data Set')\n",
    "plt.show()"
   ]
  },
  {
   "cell_type": "markdown",
   "metadata": {},
   "source": [
    "## 2. Locally Weighted Linear Regression"
   ]
  },
  {
   "cell_type": "code",
   "execution_count": 10,
   "metadata": {},
   "outputs": [],
   "source": [
    "class LWLRModel:\n",
    "#1. hypothesis function\n",
    "    def h(self, X, theta):      \n",
    "        hypothesis = X@theta\n",
    "        return hypothesis\n",
    "    \n",
    "#2. Weights\n",
    "    def w(self,X,x,tau):\n",
    "        w = np.exp(-(np.sum(((X-x)**2),axis=1)/(2*(tau**2))))\n",
    "        return w\n",
    "    \n",
    "#5. normal equation\n",
    "    def normal_equation(self, X, y, w):\n",
    "        W = np.diag(w)\n",
    "        theta = np.linalg.inv(X.T@W@X)@X.T@W@y\n",
    "        return theta\n",
    "            \n",
    "#5. predict\n",
    "    def predict_point(self,X,x,tau):\n",
    "        w = self.w(X,x,tau)\n",
    "        theta = self.normal_equation(X, y, w)\n",
    "        prediction = self.h(x,theta)\n",
    "        return prediction\n",
    "    \n",
    "    def predict_multiple(self,X,x,tau):\n",
    "        m_pred = x.shape[0]\n",
    "        predictions = []\n",
    "        for ix in range(m_pred):\n",
    "            xx = x[ix]\n",
    "            predictions.append(self.predict_point(X,xx,tau))\n",
    "        predictions = np.array(predictions)\n",
    "        return predictions"
   ]
  },
  {
   "cell_type": "code",
   "execution_count": 11,
   "metadata": {},
   "outputs": [
    {
     "data": {
      "text/plain": [
       "[<matplotlib.lines.Line2D at 0x7fdf7179dd30>]"
      ]
     },
     "execution_count": 11,
     "metadata": {},
     "output_type": "execute_result"
    },
    {
     "data": {
      "image/png": "[encoded data removed]",
      "text/plain": [
       "<Figure size 432x288 with 1 Axes>"
      ]
     },
     "metadata": {
      "needs_background": "light"
     },
     "output_type": "display_data"
    }
   ],
   "source": [
    "n = 100\n",
    "x = np.random.normal(10, 5, [n,1])\n",
    "y = np.sin(x/3.5) + np.random.normal(0,0.2, [n,1])\n",
    "\n",
    "plt.plot(x,y,'ro')"
   ]
  },
  {
   "cell_type": "code",
   "execution_count": 12,
   "metadata": {},
   "outputs": [
    {
     "data": {
      "text/plain": [
       "array([0.88237172])"
      ]
     },
     "execution_count": 12,
     "metadata": {},
     "output_type": "execute_result"
    }
   ],
   "source": [
    "X = np.insert(x,0,1,axis=1)\n",
    "\n",
    "LWLR = LWLRModel()\n",
    "LWLR.predict_point(X,np.array([1,4]),1)"
   ]
  },
  {
   "cell_type": "code",
   "execution_count": 13,
   "metadata": {},
   "outputs": [
    {
     "name": "stdout",
     "output_type": "stream",
     "text": [
      "(100, 2)\n"
     ]
    }
   ],
   "source": [
    "x_series = np.linspace(-5,20,100)\n",
    "x_series = np.insert(x_series[:,np.newaxis],0,1,axis=1)\n",
    "print(x_series.shape)\n",
    "\n",
    "y_pred = LWLR.predict_multiple(X,x_series,3)"
   ]
  },
  {
   "cell_type": "code",
   "execution_count": 14,
   "metadata": {},
   "outputs": [
    {
     "data": {
      "text/plain": [
       "[<matplotlib.lines.Line2D at 0x7fdf717212e8>]"
      ]
     },
     "execution_count": 14,
     "metadata": {},
     "output_type": "execute_result"
    },
    {
     "data": {
      "image/png": "[encoded data removed]",
      "text/plain": [
       "<Figure size 432x288 with 1 Axes>"
      ]
     },
     "metadata": {
      "needs_background": "light"
     },
     "output_type": "display_data"
    }
   ],
   "source": [
    "plt.plot(x,y,'ro')\n",
    "plt.plot(x_series[:,1],y_pred)"
   ]
  },
  {
   "cell_type": "markdown",
   "metadata": {},
   "source": [
    "## 3. Logistic Regression"
   ]
  },
  {
   "cell_type": "code",
   "execution_count": 15,
   "metadata": {},
   "outputs": [],
   "source": [
    "class LogisticRegressionModel:\n",
    "#1. hypothesis function\n",
    "    def h(self, X, theta):      \n",
    "        hypothesis = 1/(1+np.exp(-X@theta))\n",
    "        return hypothesis\n",
    "        \n",
    "#2. cost function\n",
    "    def cost(self, X, y, theta, average = False):\n",
    "        #expects X to be a design matrix, y to be a column vector and theta to be a column vector\n",
    "        if(average == False):\n",
    "            J = -(y.T@np.log(self.h(X,theta)) + (1-y).T@np.log(1-self.h(X,theta)))\n",
    "        else:\n",
    "            J = -(y.T@np.log(self.h(X,theta)) + (1-y).T@np.log(1-self.h(X,theta)))/(X.shape[0])\n",
    "        return J\n",
    "\n",
    "#3. gradient function\n",
    "    def gradient(self, X, y, theta, average = False):\n",
    "        if(average == False):\n",
    "            dJ = -X.T@(y-self.h(X,theta))\n",
    "        else:\n",
    "            dJ = -X.T@(y-self.h(X,theta))/(X.shape[0])\n",
    "        return dJ\n",
    "    \n",
    "#4. batch gradient descent\n",
    "    def batch_gd(self, X, y, initial_theta, max_iteration, alpha, tolerance = 0,average = False):\n",
    "        cost = []\n",
    "        gradient = []\n",
    "        theta = initial_theta\n",
    "        iteration = 0\n",
    "        for n in range(max_iteration):\n",
    "            cost.append(self.cost(X,y,theta,average))\n",
    "            gradient.append(self.gradient(X,y,theta,average))\n",
    "            theta = theta - alpha*gradient[-1]\n",
    "            iteration_no = n+1\n",
    "        cost = np.array(cost)\n",
    "        gradient = np.array(gradient)\n",
    "        return theta,cost,gradient,iteration_no\n",
    "    \n",
    "#5. predict\n",
    "    def predict(self,X,theta):\n",
    "        prediction = self.h(X,theta)\n",
    "        prediction[prediction >= 0.5] = 1\n",
    "        prediction[prediction < 0.5] = 0\n",
    "        return prediction\n",
    "    \n",
    "#6. score/error calculation\n",
    "    def r_squared(self,y,y_pred):\n",
    "        r_square = 1 - ((np.square(y - y_pred)).sum())/((np.square(y - y.mean())).sum())\n",
    "        return r_square\n",
    "    \n",
    "    def accuracy(self,y,y_pred):\n",
    "        acc = (y == y_pred).sum()/y.size\n",
    "        return acc\n",
    "    \n",
    "#7. plotting cost\n",
    "    def plot_cost(self,cost, iteration_no):\n",
    "        iteration_series = np.arange(1,iteration_no+1)\n",
    "        ax = plt.axes()\n",
    "        ax.plot(iteration_series, cost)"
   ]
  },
  {
   "cell_type": "code",
   "execution_count": 16,
   "metadata": {},
   "outputs": [],
   "source": [
    "data = np.loadtxt('ex2data1.txt',delimiter = ',')"
   ]
  },
  {
   "cell_type": "code",
   "execution_count": 17,
   "metadata": {},
   "outputs": [],
   "source": [
    "X = data[:,0:2]\n",
    "y = data[:,2]\n",
    "\n",
    "mean = np.mean(X,axis=0)\n",
    "std = np.std(X,axis=0)\n",
    "\n",
    "X = (X-mean)/std\n",
    "\n",
    "X = np.insert(X,0,1,axis=1)"
   ]
  },
  {
   "cell_type": "code",
   "execution_count": 18,
   "metadata": {},
   "outputs": [
    {
     "data": {
      "text/plain": [
       "<matplotlib.collections.PathCollection at 0x7fdf71646898>"
      ]
     },
     "execution_count": 18,
     "metadata": {},
     "output_type": "execute_result"
    },
    {
     "data": {
      "image/png": "[encoded data removed]",
      "text/plain": [
       "<Figure size 432x288 with 1 Axes>"
      ]
     },
     "metadata": {
      "needs_background": "light"
     },
     "output_type": "display_data"
    }
   ],
   "source": [
    "plt.scatter(X[:,1],X[:,2],c=y)"
   ]
  },
  {
   "cell_type": "code",
   "execution_count": 19,
   "metadata": {},
   "outputs": [
    {
     "data": {
      "image/png": "[encoded data removed]",
      "text/plain": [
       "<Figure size 432x288 with 1 Axes>"
      ]
     },
     "metadata": {
      "needs_background": "light"
     },
     "output_type": "display_data"
    }
   ],
   "source": [
    "Log = LogisticRegressionModel()\n",
    "\n",
    "iterations = 50\n",
    "alpha = 10\n",
    "initial_theta = np.zeros(3)\n",
    "\n",
    "theta,cost,gradient,iteration_no = Log.batch_gd(X,y,initial_theta,iterations,alpha,average=True)\n",
    "\n",
    "Log.plot_cost(cost,iteration_no)"
   ]
  },
  {
   "cell_type": "code",
   "execution_count": 20,
   "metadata": {},
   "outputs": [
    {
     "data": {
      "text/plain": [
       "0.89"
      ]
     },
     "execution_count": 20,
     "metadata": {},
     "output_type": "execute_result"
    }
   ],
   "source": [
    "y_pred = Log.predict(X,theta)\n",
    "Log.accuracy(y,y_pred)"
   ]
  },
  {
   "cell_type": "code",
   "execution_count": 21,
   "metadata": {},
   "outputs": [
    {
     "name": "stdout",
     "output_type": "stream",
     "text": [
      "[0. 0. 0. 1. 1. 0. 1. 0. 1. 1. 1. 0. 1. 1. 0. 1. 0. 0. 1. 1. 0. 1. 0. 0.\n",
      " 1. 1. 1. 1. 0. 0. 1. 1. 0. 0. 0. 0. 1. 1. 0. 0. 1. 0. 1. 1. 0. 0. 1. 1.\n",
      " 1. 1. 1. 1. 1. 0. 0. 0. 1. 1. 1. 1. 1. 0. 0. 0. 0. 0. 1. 0. 1. 1. 0. 1.\n",
      " 1. 1. 1. 1. 1. 1. 0. 1. 1. 1. 1. 0. 1. 1. 0. 1. 1. 0. 1. 1. 0. 1. 1. 1.\n",
      " 1. 1. 0. 1.]\n"
     ]
    }
   ],
   "source": [
    "print(y_pred)"
   ]
  },
  {
   "cell_type": "code",
   "execution_count": 22,
   "metadata": {},
   "outputs": [
    {
     "data": {
      "text/plain": [
       "0.20351178645420576"
      ]
     },
     "execution_count": 22,
     "metadata": {},
     "output_type": "execute_result"
    }
   ],
   "source": [
    "cost[-1]"
   ]
  },
  {
   "cell_type": "markdown",
   "metadata": {},
   "source": [
    "## 4. Softmax Regression\n"
   ]
  },
  {
   "cell_type": "code",
   "execution_count": 23,
   "metadata": {},
   "outputs": [],
   "source": [
    "class SoftmaxRegressionModel:\n",
    "    def Y(self,y):\n",
    "        m = len(y)\n",
    "        k = len(np.unique(y))\n",
    "        Y = np.zeros((m,k))\n",
    "        for j,kk in enumerate(np.unique(y)):\n",
    "            Y[y==kk,j] = 1\n",
    "        return Y\n",
    "    \n",
    "    def y(self,Y):\n",
    "        y = np.argmax(Y,axis=1)\n",
    "        return y\n",
    "    \n",
    "#1. hypothesis function\n",
    "    def h(self, X, theta):      \n",
    "        hypothesis = np.exp(X@theta)/np.sum(np.exp(X@theta),axis=1)[:,np.newaxis]\n",
    "        return hypothesis\n",
    "        \n",
    "#2. cost function\n",
    "    def cost(self, X, y, theta, average = False):\n",
    "        #expects X to be a design matrix, y to be a column vector and theta to be a column vector\n",
    "        if(average == False):\n",
    "            J = -np.sum(y*np.log(self.h(X,theta)))\n",
    "        else:\n",
    "            J = -np.sum(y*np.log(self.h(X,theta)))/(X.shape[0])\n",
    "        return J\n",
    "\n",
    "#3. gradient function\n",
    "    def gradient(self, X, y, theta, average = False):\n",
    "        if(average == False):\n",
    "            dJ = -X.T@(y-self.h(X,theta))\n",
    "        else:\n",
    "            dJ = -X.T@(y-self.h(X,theta))/(X.shape[0])\n",
    "        return dJ\n",
    "    \n",
    "#4. batch gradient descent\n",
    "    def batch_gd(self, X, y, initial_theta, max_iteration, alpha, tolerance = 0,average = False):\n",
    "        cost = []\n",
    "        gradient = []\n",
    "        theta = initial_theta\n",
    "        iteration = 0\n",
    "        for n in range(max_iteration):\n",
    "            cost.append(self.cost(X,y,theta,average))\n",
    "            gradient.append(self.gradient(X,y,theta,average))\n",
    "            theta = theta - alpha*gradient[-1]\n",
    "            iteration_no = n+1\n",
    "        cost = np.array(cost)\n",
    "        gradient = np.array(gradient)\n",
    "        return theta,cost,gradient,iteration_no\n",
    "    \n",
    "#5. predict\n",
    "    def predict_Y(self,X,theta):\n",
    "        prediction = self.h(X,theta)\n",
    "        prediction = prediction/np.max(prediction,axis=1)[:,np.newaxis]\n",
    "        prediction[prediction < 1] = 0\n",
    "        return prediction\n",
    "    \n",
    "    def predict_y(self,X,theta):\n",
    "        prediction = self.h(X,theta)\n",
    "        y = self.y(prediction)\n",
    "        return y\n",
    "    \n",
    "#6. score/error calculation\n",
    "    def accuracy(self,y,y_pred):\n",
    "        acc = np.sum(y == y_pred)/y.size\n",
    "        return acc\n",
    "    \n",
    "#7. plotting cost\n",
    "    def plot_cost(self,cost, iteration_no):\n",
    "        iteration_series = np.arange(1,iteration_no+1)\n",
    "        ax = plt.axes()\n",
    "        ax.plot(iteration_series, cost)"
   ]
  },
  {
   "cell_type": "code",
   "execution_count": 24,
   "metadata": {},
   "outputs": [
    {
     "name": "stdout",
     "output_type": "stream",
     "text": [
      "Index(['Gender', 'Height', 'Weight', 'Index'], dtype='object')\n"
     ]
    }
   ],
   "source": [
    "#IMPORT DATA\n",
    "import pandas as pd\n",
    "\n",
    "def replaceKeys(series):\n",
    "    series_dict = {}\n",
    "    for i,u in enumerate(series.unique()):\n",
    "        series_dict[u] = i\n",
    "    return series.replace(series_dict), series_dict\n",
    "\n",
    "data = pd.read_csv(\"gender_height_weight.csv\") \n",
    "\n",
    "gender_dict = {}\n",
    "data['Gender'], gender_dict = replaceKeys(data['Gender'])\n",
    "print(data.columns)"
   ]
  },
  {
   "cell_type": "code",
   "execution_count": 25,
   "metadata": {},
   "outputs": [
    {
     "name": "stdout",
     "output_type": "stream",
     "text": [
      "   Intercept    Gender    Height    Weight\n",
      "0          1 -0.994302  0.228220 -0.313398\n",
      "1          1 -0.994302  1.137980 -0.596102\n",
      "2          1  1.005731  0.895377  0.126364\n",
      "3          1  1.005731  1.501884 -0.062105\n",
      "4          1 -0.994302 -1.288047 -1.412804\n",
      "\n",
      "0    4.0\n",
      "1    2.0\n",
      "2    4.0\n",
      "3    3.0\n",
      "4    3.0\n",
      "Name: Index, dtype: float64\n"
     ]
    }
   ],
   "source": [
    "#Split Data\n",
    "\n",
    "X_all = (data[['Gender','Height','Weight']]).dropna().astype(float)\n",
    "columns = X_all.columns\n",
    "\n",
    "ix = np.arange(0,X_all.shape[0])\n",
    "np.random.shuffle(ix)\n",
    "percentage = 0.7\n",
    "\n",
    "X_train = X_all[:int(percentage*X_all.shape[0])]\n",
    "X_test = X_all[int(percentage*X_all.shape[0]):]\n",
    "\n",
    "mean = np.mean(X_train, axis=0)\n",
    "std = np.std(X_train, axis=0)\n",
    "X_norm = (X_train-mean)/std\n",
    "X_norm_test = (X_test-mean)/std\n",
    "X_norm.insert(0,\"Intercept\",1)\n",
    "X_norm_test.insert(0,\"intercept\",1)\n",
    "\n",
    "print(X_norm.head())\n",
    "print()\n",
    "y = data['Index'].astype(float)\n",
    "print(y.head())\n",
    "y_train = y[:int(percentage*X_all.shape[0])]\n",
    "y_test = y[int(percentage*X_all.shape[0]):]\n",
    "\n",
    "m,n = X_norm.shape\n",
    "\n",
    "k = y.unique().size"
   ]
  },
  {
   "cell_type": "code",
   "execution_count": 26,
   "metadata": {},
   "outputs": [],
   "source": [
    "\n",
    "k = len(y.unique())\n",
    "\n",
    "if (X_train.shape[1] == X.shape[1]): \n",
    "    X_train.insert(0, \"intercept\", 1)\n",
    "\n",
    "# Reset m and n for training data\n",
    "\n",
    "m, n = X_train.shape\n",
    "\n",
    "# Initialize theta for each class  "
   ]
  },
  {
   "cell_type": "code",
   "execution_count": 27,
   "metadata": {},
   "outputs": [],
   "source": [
    "SR = SoftmaxRegressionModel()\n",
    "\n",
    "yy = SR.Y(y_train.values)"
   ]
  },
  {
   "cell_type": "code",
   "execution_count": 28,
   "metadata": {},
   "outputs": [
    {
     "data": {
      "image/png": "[encoded data removed]",
      "text/plain": [
       "<Figure size 432x288 with 1 Axes>"
      ]
     },
     "metadata": {
      "needs_background": "light"
     },
     "output_type": "display_data"
    }
   ],
   "source": [
    "theta_initial = np.ones((n,k))\n",
    "\n",
    "alpha = 5\n",
    "iterations = 5000\n",
    "\n",
    "\n",
    "theta,cost,grad,iteration_no = SR.batch_gd(X_norm.values,yy,theta_initial,iterations,alpha,average=True)\n",
    "SR.plot_cost(cost,iteration_no)"
   ]
  },
  {
   "cell_type": "code",
   "execution_count": 29,
   "metadata": {},
   "outputs": [],
   "source": [
    "y_pred = SR.predict_y(X_norm_test.values,theta)"
   ]
  },
  {
   "cell_type": "code",
   "execution_count": 30,
   "metadata": {},
   "outputs": [
    {
     "data": {
      "text/plain": [
       "0.9333333333333333"
      ]
     },
     "execution_count": 30,
     "metadata": {},
     "output_type": "execute_result"
    }
   ],
   "source": [
    "SR.accuracy(y_pred, y_test.values)"
   ]
  },
  {
   "cell_type": "markdown",
   "metadata": {},
   "source": [
    "## 5. Gaussian Discriminant Analysis"
   ]
  },
  {
   "cell_type": "code",
   "execution_count": 31,
   "metadata": {},
   "outputs": [],
   "source": [
    "class GDAModel:\n",
    "    \n",
    "    def parameters(self,X,y,naive = False,same_sigma = True):\n",
    "        unique_y = np.unique(y)\n",
    "        prior = np.zeros(len(unique_y))\n",
    "        mean = np.zeros((len(unique_y),X.shape[1]))\n",
    "        sigma = np.zeros((len(unique_y),X.shape[1],X.shape[1]))\n",
    "        for j, yi in enumerate(unique_y):\n",
    "            prior[j] = np.sum(y==yi)/y.size\n",
    "            mean[j] = np.mean(X[y==yi],axis=0)\n",
    "            sigma[j] = (1/np.sum(y==yi))*(X[y==yi]-mean[j]).T@(X[y==yi]-mean[j])\n",
    "            \n",
    "        # sets 0 to covariance terms if using the naive assumption\n",
    "        if(naive == True):\n",
    "            sigma[:,~np.eye(X.shape[1],dtype=bool)] = 0\n",
    "            \n",
    "        # if we're using the same sigma for all classes, we take the average of them\n",
    "        if(same_sigma == True):\n",
    "            sigma[:] = np.mean(sigma,axis=0)\n",
    "            \n",
    "        return prior,mean,sigma,unique_y\n",
    "    \n",
    "    def joint_probability(self,x,prior,mean,sigma):\n",
    "        joint_prob = np.zeros(prior.size)\n",
    "        for j,mu in enumerate(mean):\n",
    "            if(sigma.ndim == 2):\n",
    "                sig = sigma\n",
    "            else:\n",
    "                sig = sigma[j]\n",
    "            gaussian = (1/(((2*np.pi)**(x.size/2))*np.sqrt(np.linalg.det(sig))))*np.exp(-1/2*(x-mu)@np.linalg.inv(sig)@((x-mu)))\n",
    "            joint_prob[j] = prior[j]*gaussian\n",
    "        return joint_prob\n",
    "\n",
    "    def predict(self,X,prior,mean,sigma,unique_y):\n",
    "        if(X.ndim == 2):\n",
    "            y_pred = []\n",
    "            for i in range(X.shape[0]):\n",
    "                joint_prob = self.joint_probability(X[i],prior,mean,sigma)\n",
    "                y_pred.append(unique_y[np.argmax(joint_prob)])\n",
    "            y_pred = np.array(y_pred)\n",
    "        else:\n",
    "            joint_prob = self.joint_probability(X,prior,mean,sigma)\n",
    "            y_pred = unique_y[np.argmax(joint_prob)]\n",
    "        return y_pred\n",
    "\n",
    "#6. score/error calculation\n",
    "    def accuracy(self,y,y_pred):\n",
    "        acc = np.sum(y == y_pred)/y.size\n",
    "        return acc"
   ]
  },
  {
   "cell_type": "code",
   "execution_count": 32,
   "metadata": {},
   "outputs": [
    {
     "name": "stdout",
     "output_type": "stream",
     "text": [
      "Total = 768 Train = 460 Test = 308\n"
     ]
    }
   ],
   "source": [
    "from sklearn.model_selection import train_test_split\n",
    "\n",
    "# Load data from CSV file\n",
    "def loadCsv(filename):\n",
    "    data_raw = pd.read_csv(filename)\n",
    "    headers = data_raw.columns\n",
    "    dataset = data_raw.values\n",
    "    return dataset, headers\n",
    "\n",
    "def splitDataset(test_size,*arrays,**kwargs):\n",
    "    return train_test_split(*arrays,test_size=test_size,**kwargs)\n",
    "\n",
    "filename = 'diabetes.csv'\n",
    "dataset, headers = loadCsv(filename)\n",
    "\n",
    "X_train,X_test,y_train,y_test = splitDataset(0.4,dataset[:,:-1],dataset[:,-1])\n",
    "print(\"Total =\",len(dataset),\"Train =\", len(X_train),\"Test =\",len(X_test))"
   ]
  },
  {
   "cell_type": "code",
   "execution_count": 33,
   "metadata": {},
   "outputs": [],
   "source": [
    "GDA = GDAModel()\n",
    "\n",
    "prior,mean,sigma,unique_y = GDA.parameters(X_train,y_train,naive=False,same_sigma=True)"
   ]
  },
  {
   "cell_type": "code",
   "execution_count": 34,
   "metadata": {},
   "outputs": [],
   "source": [
    "y_pred = GDA.predict(X_test,prior,mean,sigma,unique_y)"
   ]
  },
  {
   "cell_type": "code",
   "execution_count": 35,
   "metadata": {},
   "outputs": [
    {
     "data": {
      "text/plain": [
       "0.7727272727272727"
      ]
     },
     "execution_count": 35,
     "metadata": {},
     "output_type": "execute_result"
    }
   ],
   "source": [
    "GDA.accuracy(y_pred,y_test)"
   ]
  },
  {
   "cell_type": "markdown",
   "metadata": {},
   "source": [
    "## 6. Multinomial Naive Bayes"
   ]
  },
  {
   "cell_type": "code",
   "execution_count": 362,
   "metadata": {},
   "outputs": [],
   "source": [
    "class MultinomialNaiveBayesModel:\n",
    "    \n",
    "    #1. Get frequencies -> dictionary of frequencies (used for creating the conditional probabilities, and also for getting the frequencies of each sample)\n",
    "    #2. get parmaters -> from the frequency dictionary and y, get the prior, likelihood(conditional probability), and also the unique values of y\n",
    "    #3. get joint_probability -> finds the joint probability for each of the class\n",
    "    #4. predict -> uses the joint_probability function to find the probabilities of each class, then choses the class\n",
    "    #5. accuracy -> takes in y and y_pred to get the accuracy. \n",
    "    \n",
    "    def frequency_dict(self,dict_of_instances):\n",
    "        from collections import Counter\n",
    "        #takes in a list\n",
    "        frequency_dict = {}\n",
    "        for key,value in dict_of_instances.items():\n",
    "            frequency_dict[key] = Counter(dict_of_instances[key])\n",
    "        return frequency_dict\n",
    "    \n",
    "    def parameters(self,frequency_dict,y,alpha = 0):\n",
    "        #expects X is a list of counter dictionaries\n",
    "        unique_y = np.unique(y)\n",
    "        prior = {}\n",
    "        likelihood = {}\n",
    "        \n",
    "        for j,class_name in enumerate(unique_y):\n",
    "            prior[class_name] = np.sum(y==unique_y[j])/y.size\n",
    "            total_frequency = sum(frequency_dict[class_name].values())\n",
    "            conditional_dictionary = {}\n",
    "            for key,value in frequency_dict[class_name].items():\n",
    "                conditional_dictionary[key] = (value+alpha)/(total_frequency+alpha*(len(frequency_dict[class_name])))\n",
    "            conditional_dictionary[\"* unknown *\"] = alpha/(total_frequency+alpha*(len(frequency_dict[class_name])))\n",
    "            likelihood[class_name] = (conditional_dictionary)\n",
    "\n",
    "        return prior,likelihood,unique_y\n",
    "    \n",
    "    def joint_probability(self,x,prior,likelihood):\n",
    "        #similar to the function parameters, x is expected to be the frequency of each class\n",
    "        joint_prob = np.zeros(len(prior))\n",
    "        for j,(key,p_y) in enumerate(prior.items()):\n",
    "            px_y = 1\n",
    "            for xi in x:\n",
    "                try:\n",
    "                    px_y *= likelihood[key][xi]\n",
    "                except:\n",
    "                    px_y *= likelihood[key][\"* unknown *\"]\n",
    "            joint_prob[j] = p_y*px_y\n",
    "        return joint_prob\n",
    "\n",
    "    def predict(self,X,prior,likelihood,unique_y):\n",
    "        y_pred = []\n",
    "        for i in range(len(X)):\n",
    "            joint_prob = self.joint_probability(X[i],prior,likelihood)\n",
    "            y_pred.append(unique_y[np.argmax(joint_prob)])\n",
    "        y_pred = np.array(y_pred)\n",
    "        return y_pred\n",
    "\n",
    "#6. score/error calculation\n",
    "    def accuracy(self,y,y_pred):\n",
    "        acc = np.sum(y == y_pred)/y.size\n",
    "        return acc"
   ]
  },
  {
   "cell_type": "code",
   "execution_count": 363,
   "metadata": {},
   "outputs": [
    {
     "name": "stderr",
     "output_type": "stream",
     "text": [
      "[nltk_data] Downloading package stopwords to /home/rom/nltk_data...\n",
      "[nltk_data]   Package stopwords is already up-to-date!\n"
     ]
    }
   ],
   "source": [
    "import pandas as pd\n",
    "import numpy as np\n",
    "from sklearn.model_selection import train_test_split\n",
    "from collections import Counter\n",
    "import nltk\n",
    "import string\n",
    "nltk.download('stopwords')\n",
    "from nltk.corpus import stopwords"
   ]
  },
  {
   "cell_type": "code",
   "execution_count": 364,
   "metadata": {},
   "outputs": [
    {
     "data": {
      "text/html": [
       "<div>\n",
       "<style scoped>\n",
       "    .dataframe tbody tr th:only-of-type {\n",
       "        vertical-align: middle;\n",
       "    }\n",
       "\n",
       "    .dataframe tbody tr th {\n",
       "        vertical-align: top;\n",
       "    }\n",
       "\n",
       "    .dataframe thead th {\n",
       "        text-align: right;\n",
       "    }\n",
       "</style>\n",
       "<table border=\"1\" class=\"dataframe\">\n",
       "  <thead>\n",
       "    <tr style=\"text-align: right;\">\n",
       "      <th></th>\n",
       "      <th>class</th>\n",
       "      <th>sentence</th>\n",
       "    </tr>\n",
       "  </thead>\n",
       "  <tbody>\n",
       "    <tr>\n",
       "      <th>0</th>\n",
       "      <td>ham</td>\n",
       "      <td>Go until jurong point, crazy.. Available only ...</td>\n",
       "    </tr>\n",
       "    <tr>\n",
       "      <th>1</th>\n",
       "      <td>ham</td>\n",
       "      <td>Ok lar... Joking wif u oni...</td>\n",
       "    </tr>\n",
       "    <tr>\n",
       "      <th>2</th>\n",
       "      <td>spam</td>\n",
       "      <td>Free entry in 2 a wkly comp to win FA Cup fina...</td>\n",
       "    </tr>\n",
       "    <tr>\n",
       "      <th>3</th>\n",
       "      <td>ham</td>\n",
       "      <td>U dun say so early hor... U c already then say...</td>\n",
       "    </tr>\n",
       "    <tr>\n",
       "      <th>4</th>\n",
       "      <td>ham</td>\n",
       "      <td>Nah I don't think he goes to usf, he lives aro...</td>\n",
       "    </tr>\n",
       "  </tbody>\n",
       "</table>\n",
       "</div>"
      ],
      "text/plain": [
       "  class                                           sentence\n",
       "0   ham  Go until jurong point, crazy.. Available only ...\n",
       "1   ham                      Ok lar... Joking wif u oni...\n",
       "2  spam  Free entry in 2 a wkly comp to win FA Cup fina...\n",
       "3   ham  U dun say so early hor... U c already then say...\n",
       "4   ham  Nah I don't think he goes to usf, he lives aro..."
      ]
     },
     "execution_count": 364,
     "metadata": {},
     "output_type": "execute_result"
    }
   ],
   "source": [
    "raw_data = pd.read_csv('spam.csv', encoding='latin-1')\n",
    "raw_data.drop(['Unnamed: 2','Unnamed: 3','Unnamed: 4'],axis=1,inplace=True)\n",
    "raw_data = raw_data.rename(columns={'v1': 'class','v2': 'sentence'})\n",
    "\n",
    "raw_data.head()"
   ]
  },
  {
   "cell_type": "code",
   "execution_count": 365,
   "metadata": {},
   "outputs": [],
   "source": [
    "def get_words(sentence):\n",
    "    '''\n",
    "    What will be covered:\n",
    "    1. Remove punctuation\n",
    "    2. Remove stopwords\n",
    "    3. Return list of clean text words\n",
    "    '''\n",
    "    \n",
    "    #1\n",
    "    nopunc = [char for char in sentence if char not in string.punctuation]\n",
    "    nopunc = ''.join(nopunc)\n",
    "    \n",
    "    #2\n",
    "    clean_words = [word for word in nopunc.split() if word.lower() not in stopwords.words('english')]\n",
    "    \n",
    "    #3\n",
    "    return clean_words\n",
    "#raw_data['sentence'].apply(process_text).head()\n",
    "#raw_data"
   ]
  },
  {
   "cell_type": "code",
   "execution_count": 366,
   "metadata": {},
   "outputs": [
    {
     "data": {
      "text/html": [
       "<div>\n",
       "<style scoped>\n",
       "    .dataframe tbody tr th:only-of-type {\n",
       "        vertical-align: middle;\n",
       "    }\n",
       "\n",
       "    .dataframe tbody tr th {\n",
       "        vertical-align: top;\n",
       "    }\n",
       "\n",
       "    .dataframe thead th {\n",
       "        text-align: right;\n",
       "    }\n",
       "</style>\n",
       "<table border=\"1\" class=\"dataframe\">\n",
       "  <thead>\n",
       "    <tr style=\"text-align: right;\">\n",
       "      <th></th>\n",
       "      <th>class</th>\n",
       "      <th>sentence</th>\n",
       "    </tr>\n",
       "  </thead>\n",
       "  <tbody>\n",
       "    <tr>\n",
       "      <th>3860</th>\n",
       "      <td>spam</td>\n",
       "      <td>Free Msg: Ringtone!From: http://tms. widelive....</td>\n",
       "    </tr>\n",
       "    <tr>\n",
       "      <th>2017</th>\n",
       "      <td>ham</td>\n",
       "      <td>Better than bb. If he wont use it, his wife wi...</td>\n",
       "    </tr>\n",
       "    <tr>\n",
       "      <th>222</th>\n",
       "      <td>ham</td>\n",
       "      <td>Sorry, I'll call later</td>\n",
       "    </tr>\n",
       "    <tr>\n",
       "      <th>3411</th>\n",
       "      <td>ham</td>\n",
       "      <td>No she didnt. I will search online and let you...</td>\n",
       "    </tr>\n",
       "    <tr>\n",
       "      <th>517</th>\n",
       "      <td>spam</td>\n",
       "      <td>Your credits have been topped up for http://ww...</td>\n",
       "    </tr>\n",
       "  </tbody>\n",
       "</table>\n",
       "</div>"
      ],
      "text/plain": [
       "     class                                           sentence\n",
       "3860  spam  Free Msg: Ringtone!From: http://tms. widelive....\n",
       "2017   ham  Better than bb. If he wont use it, his wife wi...\n",
       "222    ham                             Sorry, I'll call later\n",
       "3411   ham  No she didnt. I will search online and let you...\n",
       "517   spam  Your credits have been topped up for http://ww..."
      ]
     },
     "execution_count": 366,
     "metadata": {},
     "output_type": "execute_result"
    }
   ],
   "source": [
    "train_data, test_data = train_test_split(raw_data.iloc[:,[0,1]], test_size = 0.2)\n",
    "train_data.head()"
   ]
  },
  {
   "cell_type": "code",
   "execution_count": 367,
   "metadata": {},
   "outputs": [
    {
     "name": "stdout",
     "output_type": "stream",
     "text": [
      "(4457,)\n"
     ]
    }
   ],
   "source": [
    "X_raw = train_data['sentence']\n",
    "print(X_raw.values.shape)"
   ]
  },
  {
   "cell_type": "code",
   "execution_count": 368,
   "metadata": {},
   "outputs": [],
   "source": [
    "ham_docs = [train['sentence'] for index,train in train_data.iterrows() if train['class'] == 'ham']\n",
    "spam_docs = [train['sentence'] for index,train in train_data.iterrows() if train['class'] == 'spam']"
   ]
  },
  {
   "cell_type": "code",
   "execution_count": 369,
   "metadata": {},
   "outputs": [],
   "source": [
    "spam_words = get_words(spam_docs)\n",
    "ham_words = get_words(ham_docs)"
   ]
  },
  {
   "cell_type": "code",
   "execution_count": 370,
   "metadata": {},
   "outputs": [],
   "source": [
    "X = {\"ham\":ham_words,\"spam\":spam_words}"
   ]
  },
  {
   "cell_type": "code",
   "execution_count": 371,
   "metadata": {},
   "outputs": [],
   "source": [
    "MNB = MultinomialNaiveBayesModel()\n",
    "tab = MNB.frequency_dict(X)"
   ]
  },
  {
   "cell_type": "code",
   "execution_count": 397,
   "metadata": {},
   "outputs": [],
   "source": [
    "prior,likelihood,unique_y = MNB.parameters(tab,train_data['class'].values,alpha=0.0001)"
   ]
  },
  {
   "cell_type": "code",
   "execution_count": 398,
   "metadata": {},
   "outputs": [],
   "source": [
    "test_docs = list([test['sentence'] for index,test in test_data.iterrows()])\n",
    "X_test = [get_words(sentence) for sentence in test_docs]\n",
    "#X_test = MNB.frequency_list(test_words)\n",
    "#y = test_data['class'].values"
   ]
  },
  {
   "cell_type": "code",
   "execution_count": 399,
   "metadata": {},
   "outputs": [],
   "source": [
    "y_pred = MNB.predict(X_test,prior,likelihood,unique_y)"
   ]
  },
  {
   "cell_type": "code",
   "execution_count": 400,
   "metadata": {},
   "outputs": [
    {
     "name": "stdout",
     "output_type": "stream",
     "text": [
      "['ham' 'ham' 'ham' 'ham' 'ham' 'ham' 'spam' 'spam' 'ham' 'ham' 'ham' 'ham'\n",
      " 'spam' 'ham' 'ham' 'ham' 'ham' 'ham' 'spam' 'ham' 'ham' 'ham' 'ham' 'ham'\n",
      " 'ham' 'ham' 'ham' 'ham' 'ham' 'ham' 'ham' 'ham' 'ham' 'ham' 'spam' 'ham'\n",
      " 'ham' 'ham' 'ham' 'ham' 'ham' 'ham' 'ham' 'ham' 'ham' 'ham' 'ham' 'spam'\n",
      " 'ham' 'ham' 'ham' 'spam' 'ham' 'ham' 'spam' 'ham' 'ham' 'spam' 'ham'\n",
      " 'ham' 'ham' 'ham' 'ham' 'ham' 'ham' 'ham' 'ham' 'ham' 'ham' 'ham' 'ham'\n",
      " 'ham' 'ham' 'spam' 'ham' 'ham' 'ham' 'ham' 'ham' 'ham' 'ham' 'ham' 'ham'\n",
      " 'ham' 'ham' 'spam' 'ham' 'ham' 'spam' 'ham' 'ham' 'ham' 'ham' 'ham' 'ham'\n",
      " 'ham' 'ham' 'ham' 'ham' 'ham']\n"
     ]
    }
   ],
   "source": [
    "print(y_pred[:100])"
   ]
  },
  {
   "cell_type": "code",
   "execution_count": 401,
   "metadata": {},
   "outputs": [
    {
     "name": "stdout",
     "output_type": "stream",
     "text": [
      "['ham' 'ham' 'ham' 'ham' 'ham' 'ham' 'spam' 'spam' 'ham' 'ham' 'ham' 'ham'\n",
      " 'spam' 'ham' 'ham' 'ham' 'ham' 'ham' 'spam' 'ham' 'ham' 'ham' 'ham' 'ham'\n",
      " 'spam' 'ham' 'ham' 'ham' 'ham' 'ham' 'ham' 'ham' 'ham' 'ham' 'spam' 'ham'\n",
      " 'ham' 'ham' 'ham' 'ham' 'ham' 'ham' 'ham' 'ham' 'ham' 'ham' 'ham' 'spam'\n",
      " 'ham' 'ham' 'ham' 'spam' 'ham' 'ham' 'spam' 'ham' 'ham' 'spam' 'ham'\n",
      " 'ham' 'ham' 'ham' 'ham' 'ham' 'ham' 'ham' 'ham' 'ham' 'ham' 'ham' 'ham'\n",
      " 'ham' 'ham' 'spam' 'ham' 'ham' 'ham' 'ham' 'ham' 'ham' 'ham' 'ham' 'ham'\n",
      " 'spam' 'ham' 'ham' 'ham' 'ham' 'ham' 'ham' 'ham' 'ham' 'ham' 'ham' 'ham'\n",
      " 'ham' 'ham' 'ham' 'ham' 'ham']\n"
     ]
    }
   ],
   "source": [
    "y = test_data['class'].values\n",
    "print(y[:100])"
   ]
  },
  {
   "cell_type": "code",
   "execution_count": 412,
   "metadata": {},
   "outputs": [
    {
     "data": {
      "text/plain": [
       "0.95695067264574"
      ]
     },
     "execution_count": 412,
     "metadata": {},
     "output_type": "execute_result"
    }
   ],
   "source": [
    "MNB.accuracy(y,y_pred)"
   ]
  },
  {
   "cell_type": "markdown",
   "metadata": {},
   "source": [
    "## 7. SVM"
   ]
  },
  {
   "cell_type": "code",
   "execution_count": null,
   "metadata": {},
   "outputs": [],
   "source": []
  }
 ],
 "metadata": {
  "kernelspec": {
   "display_name": "Python 3",
   "language": "python",
   "name": "python3"
  },
  "language_info": {
   "codemirror_mode": {
    "name": "ipython",
    "version": 3
   },
   "file_extension": ".py",
   "mimetype": "text/x-python",
   "name": "python",
   "nbconvert_exporter": "python",
   "pygments_lexer": "ipython3",
   "version": "3.6.9"
  }
 },
 "nbformat": 4,
 "nbformat_minor": 4
}
