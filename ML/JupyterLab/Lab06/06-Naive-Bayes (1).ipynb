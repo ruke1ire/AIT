{
 "cells": [
  {
   "cell_type": "markdown",
   "metadata": {},
   "source": [
    "# Lab 06: Generative classifiers: Naive Bayes\n",
    "\n",
    "As discussed in class, a Naive Bayes classifier works as follows:\n",
    "$$\\begin{eqnarray}\n",
    "p(y \\mid \\mathbf{x} ; \\theta) & = & \\frac{p(\\mathbf{x} \\mid y ; \\theta) p(y ; \\theta)}{p(\\mathbf{x} ; \\theta)} \\\\\n",
    "& \\propto & p(\\mathbf{x} \\mid y ; \\theta) p(y ; \\theta) \\\\\n",
    "& \\approx & p(y ; \\theta) \\prod_j p(x_j \\mid y ; \\theta)\n",
    "\\end{eqnarray}$$\n",
    "We will use Naive Bayes to perform diabetes diagnosis and text classification."
   ]
  },
  {
   "cell_type": "markdown",
   "metadata": {},
   "source": [
    "## Example 1: Diabetes classification\n",
    "\n",
    "In this example we predict wheter a patient with specific diagnostic measurements has diabetes or not. As the features are\n",
    "continuous, we will model the conditional probabilities\n",
    "$p(x_j \\mid y ; \\theta)$ as univariate Gaussians with mean $\\mu_{j,y}$ and standard deviation $\\sigma_{j,y}$.\n",
    "\n",
    "The data are originally from the U.S. National Institute of Diabetes and Digestive and Kidney Diseases (NIDDK) and are available\n",
    "from [Kaggle](https://www.kaggle.com/uciml/pima-indians-diabetes-database)\n"
   ]
  },
  {
   "cell_type": "code",
   "execution_count": 1,
   "metadata": {},
   "outputs": [],
   "source": [
    "import csv\n",
    "import math\n",
    "import random\n",
    "import pandas as pd\n",
    "import numpy as np"
   ]
  },
  {
   "cell_type": "markdown",
   "metadata": {},
   "source": [
    "### Data manipulation\n",
    "\n",
    "First we have some functions to read the dataset, split it into train and test, and partition it according to target class ($y$)."
   ]
  },
  {
   "cell_type": "code",
   "execution_count": 2,
   "metadata": {},
   "outputs": [],
   "source": [
    "# Load data from CSV file\n",
    "\n",
    "def loadCsv(filename):\n",
    "    data_raw = np.genfromtxt(filename,delimiter = ',', dtype=str);\n",
    "    headers = data_raw[0,:];\n",
    "    dataset = np.array(data_raw[1:,:], dtype=float);\n",
    "    dataset = list(dataset)\n",
    "    for i in range(len(dataset)):\n",
    "        dataset[i] = [float(x) for x in dataset[i]]\n",
    "    return dataset, headers\n",
    "\n",
    "# Split dataset into test and train with given ratio\n",
    "\n",
    "def splitDataset(dataset, splitRatio):\n",
    "    trainSize = int(len(dataset) * splitRatio)\n",
    "    trainSet = []\n",
    "    copy = list(dataset)\n",
    "    while len(trainSet) < trainSize:\n",
    "        index = random.randrange(len(copy))\n",
    "        trainSet.append(copy.pop(index))\n",
    "    return [trainSet, copy]\n",
    "\n",
    "# Separate training data according to target class\n",
    "# Return key value pairs array in which keys are possible target variable values\n",
    "# and values are the data records.\n",
    "\n",
    "def data_split_byClass(dataset):\n",
    "    Xy = {}\n",
    "    for i in range(len(dataset)):\n",
    "        datapair = dataset[i]\n",
    "        # datapair[-1] (the last column) is the target class for this record.\n",
    "        # Check if we already have this value as a key in the return array\n",
    "        if (datapair[-1] not in Xy):\n",
    "            # Add class as key\n",
    "            Xy[datapair[-1]] = []\n",
    "        # Append this record to array of records for this class key\n",
    "        Xy[datapair[-1]].append(datapair)\n",
    "    return Xy"
   ]
  },
  {
   "cell_type": "markdown",
   "metadata": {},
   "source": [
    "### Model training\n",
    "\n",
    "Next we have some functions used for training the model. Parameters include mean and standard deviation, used\n",
    "to partition numerical variables into categorical variables, as well as "
   ]
  },
  {
   "cell_type": "code",
   "execution_count": 3,
   "metadata": {},
   "outputs": [],
   "source": [
    "# Parameters of a Gaussian are its mean and standard deviation\n",
    "\n",
    "def mean(numbers):\n",
    "    return sum(numbers)/float(len(numbers))\n",
    "\n",
    "def stdev(numbers):\n",
    "    avg = mean(numbers)\n",
    "    variance = sum([pow(x-avg,2) for x in numbers])/float(len(numbers)-1)\n",
    "    return math.sqrt(variance)\n",
    "\n",
    "# Calculate Gaussian parameters mu and sigma for each attribute over a dataset\n",
    "\n",
    "def gaussian_parameters(dataset):\n",
    "    parameters = [(mean(attribute), stdev(attribute)) for attribute in zip(*dataset)]\n",
    "    del parameters[-1]\n",
    "    return parameters\n",
    "\n",
    "# Find mean and standard deviation for each attribute for each possible value of the target variable.\n",
    "    \n",
    "def parametersByClass(dataset):\n",
    "    class_key_value_data = data_split_byClass(dataset)\n",
    "    parameters = {}\n",
    "    priors = {}\n",
    "    # For each possible target variable value, collect parameters\n",
    "    for key, values in class_key_value_data.items():\n",
    "        # Get mean and standard deviation for each variable for each target variable value\n",
    "        parameters[key] = gaussian_parameters(values)\n",
    "    return parameters\n",
    "\n",
    "# Gaussian pdf\n",
    "\n",
    "def calculateProbability(x, mean, stdev):\n",
    "    exponent = math.exp(-(math.pow(x-mean,2)/(2*math.pow(stdev,2))))\n",
    "    return (1/(math.sqrt(2*math.pi)*stdev))*exponent"
   ]
  },
  {
   "cell_type": "markdown",
   "metadata": {},
   "source": [
    "### Model testing\n",
    "\n",
    "Next some functions for testing the model on a test set and computing its accuracy. Note that we assume\n",
    "$$ p(y \\mid \\mathbf{x} ; \\theta) \\propto p(\\mathbf{x} \\mid y ; \\theta), $$\n",
    "which means we assume that the priors $p(y)$ are equal for each possible value of $y$."
   ]
  },
  {
   "cell_type": "code",
   "execution_count": 4,
   "metadata": {},
   "outputs": [],
   "source": [
    "# Calculate class conditional probabilities for given input data vector\n",
    "\n",
    "def calculateClassProbabilities(parameters, inputVector):\n",
    "    probabilities = {}\n",
    "    for class_key, variable_parameters in parameters.items():\n",
    "        probabilities[class_key] = 1\n",
    "        for i in range(len(variable_parameters)):\n",
    "            mean, stdev = variable_parameters[i]\n",
    "            x = inputVector[i]\n",
    "            probabilities[class_key] *= calculateProbability(x, mean, stdev)\n",
    "    return probabilities\n",
    "\n",
    "# Make prediction for given input data vector\n",
    "\n",
    "def predict(summaries, inputVector):\n",
    "    probabilities = calculateClassProbabilities(summaries, inputVector)\n",
    "    bestLabel, bestProb = None, -1\n",
    "    for classValue, probability in probabilities.items():\n",
    "        if bestLabel is None or probability > bestProb:\n",
    "            bestProb = probability\n",
    "            bestLabel = classValue\n",
    "    return bestLabel\n",
    "\n",
    "# Get predictions for test set\n",
    "\n",
    "def getPredictions(summaries, testSet):\n",
    "    predictions = []\n",
    "    for i in range(len(testSet)):\n",
    "        result = predict(summaries, testSet[i])\n",
    "        predictions.append(result)\n",
    "    return predictions\n",
    "\n",
    "# Get accuracy for test set\n",
    "\n",
    "def getAccuracy(testSet, predictions):\n",
    "    correct = 0\n",
    "    for x in range(len(testSet)):\n",
    "        if testSet[x][-1] == predictions[x]:\n",
    "            correct += 1\n",
    "    return (correct/float(len(testSet)))*100.0"
   ]
  },
  {
   "cell_type": "markdown",
   "metadata": {},
   "source": [
    "### Experiment\n",
    "\n",
    "Here we load the diabetes dataset, split it into training and test data, train a Gaussian NB model, and test the model on the test set."
   ]
  },
  {
   "cell_type": "code",
   "execution_count": 5,
   "metadata": {},
   "outputs": [
    {
     "name": "stdout",
     "output_type": "stream",
     "text": [
      "['Pregnancies' 'Glucose' 'BloodPressure' 'SkinThickness' 'Insulin' 'BMI'\n",
      " 'DiabetesPedigreeFunction' 'Age' 'Outcome']\n",
      "[[6.000e+00 1.480e+02 7.200e+01 3.500e+01 0.000e+00 3.360e+01 6.270e-01\n",
      "  5.000e+01 1.000e+00]\n",
      " [1.000e+00 8.500e+01 6.600e+01 2.900e+01 0.000e+00 2.660e+01 3.510e-01\n",
      "  3.100e+01 0.000e+00]\n",
      " [8.000e+00 1.830e+02 6.400e+01 0.000e+00 0.000e+00 2.330e+01 6.720e-01\n",
      "  3.200e+01 1.000e+00]\n",
      " [1.000e+00 8.900e+01 6.600e+01 2.300e+01 9.400e+01 2.810e+01 1.670e-01\n",
      "  2.100e+01 0.000e+00]\n",
      " [0.000e+00 1.370e+02 4.000e+01 3.500e+01 1.680e+02 4.310e+01 2.288e+00\n",
      "  3.300e+01 1.000e+00]]\n",
      "Total 768 rows,  train = 460 rows, test = 308 rows\n",
      "Accuracy: 70.78\n"
     ]
    }
   ],
   "source": [
    "# Load dataset\n",
    "\n",
    "filename = 'diabetes.csv'\n",
    "dataset, headers = loadCsv(filename)\n",
    "print(headers)\n",
    "print(np.array(dataset)[0:5,:])\n",
    "\n",
    "# Split into training and test\n",
    "\n",
    "splitRatio = 0.60\n",
    "trainingSet, testSet = splitDataset(dataset, splitRatio)\n",
    "print('Total {0} rows,  train = {1} rows, test = {2} rows'.format(len(dataset),len(trainingSet),len(testSet)))\n",
    "\n",
    "# Train model\n",
    "\n",
    "parameters = parametersByClass(trainingSet)\n",
    "\n",
    "# Test model\n",
    "\n",
    "predictions = getPredictions(parameters, testSet)\n",
    "accuracy = getAccuracy(testSet, predictions)\n",
    "print(\"Accuracy: %.2f\" % accuracy)"
   ]
  },
  {
   "cell_type": "code",
   "execution_count": 6,
   "metadata": {},
   "outputs": [
    {
     "name": "stdout",
     "output_type": "stream",
     "text": [
      "{0.0: [(3.2364864864864864, 3.0002519362834668), (110.48310810810811, 25.68848027387944), (67.94594594594595, 18.799849903397863), (19.91891891891892, 14.943742418529888), (70.83783783783784, 102.64654206227856), (30.282432432432447, 7.5400464523697535), (0.4304628378378378, 0.2896516879101648), (30.881756756756758, 11.13596425794333)], 1.0: [(5.213414634146342, 3.756001731221369), (141.7560975609756, 32.341567006820824), (72.23170731707317, 20.30400775239993), (21.298780487804876, 17.8460285413866), (96.83536585365853, 137.24007344791104), (34.78292682926828, 7.159125711402784), (0.543115853658537, 0.36256276629257006), (37.59146341463415, 10.93023836559453)]}\n"
     ]
    }
   ],
   "source": [
    "print(parameters)"
   ]
  },
  {
   "cell_type": "markdown",
   "metadata": {},
   "source": [
    "### In lab / take home work\n",
    "\n",
    "Find out the proportion of the records in your dataset are positive vs. negative.  Can we conclude that $p(y=1) = p(y=0)$? If not, add\n",
    "the priors $p(y=1)$ and $p(y=0)$ to your NB model. Does it improve the result?\n",
    "\n"
   ]
  },
  {
   "cell_type": "markdown",
   "metadata": {},
   "source": [
    "## Example 2: Text classification\n",
    "\n",
    "This example has been adapted from a post by Jaya Aiyappan, available at\n",
    "[Analytics Vidhya](https://medium.com/analytics-vidhya/naive-bayes-classifier-for-text-classification-556fabaf252b#:~:text=The%20Naive%20Bayes%20classifier%20is,time%20and%20less%20training%20data).\n",
    "\n",
    "We will generate a small dataset of sentences that are classified as either \"statements\" or \"questions.\"\n",
    "\n",
    "We will assume that occurance and placement of words within a sentence is independent of each other\n",
    "(i.e., the features are conditionally independent given $y$). So the sentence \"this is my book\" is the same as \"is this my book.\"\n",
    "We will treat words as case insensitive."
   ]
  },
  {
   "cell_type": "code",
   "execution_count": 7,
   "metadata": {},
   "outputs": [
    {
     "name": "stdout",
     "output_type": "stream",
     "text": [
      "                             sentence      class\n",
      "0               This is my novel book  statement\n",
      "1  this book has more than one author  statement\n",
      "2                     is this my book   question\n",
      "3                     They are novels  statement\n",
      "4             have you read this book   question\n",
      "5            who is the novels author   question\n",
      "6             what are the characters   question\n",
      "7       This is how I bought the book  statement\n",
      "8         I like fictional characters  statement\n",
      "9          what is your favorite book   question\n",
      "\n",
      "------------------------------------------\n",
      "\n",
      "                        sentence      class\n",
      "0               this is the book  statement\n",
      "1  who are the novels characters   question\n",
      "2             is this the author   question\n"
     ]
    }
   ],
   "source": [
    "# Generate text data for two classes, \"statement\" and \"question\"\n",
    "\n",
    "text_train = [['This is my novel book', 'statement'],\n",
    "              ['this book has more than one author', 'statement'],\n",
    "              ['is this my book', 'question'],\n",
    "              ['They are novels', 'statement'],\n",
    "              ['have you read this book', 'question'],\n",
    "              ['who is the novels author', 'question'],\n",
    "              ['what are the characters', 'question'],\n",
    "              ['This is how I bought the book', 'statement'],\n",
    "              ['I like fictional characters', 'statement'],\n",
    "              ['what is your favorite book', 'question']]\n",
    "\n",
    "text_test = [['this is the book', 'statement'], \n",
    "             ['who are the novels characters', 'question'], \n",
    "             ['is this the author', 'question']]\n",
    "\n",
    "# Load training and test data into pandas data frames\n",
    "\n",
    "training_data = pd.DataFrame(text_train, columns= ['sentence', 'class'])\n",
    "print(training_data)\n",
    "print('\\n------------------------------------------\\n')\n",
    "testing_data = pd.DataFrame(text_test, columns= ['sentence', 'class'])\n",
    "print(testing_data)\n"
   ]
  },
  {
   "cell_type": "code",
   "execution_count": 8,
   "metadata": {},
   "outputs": [],
   "source": [
    "# Partition training data by class\n",
    "\n",
    "stmt_docs = [train['sentence'] for index,train in training_data.iterrows() if train['class'] == 'statement']\n",
    "question_docs = [train['sentence'] for index,train in training_data.iterrows() if train['class'] == 'question']\n",
    "all_docs = [train['sentence'] for index,train in training_data.iterrows()]\n",
    "\n",
    "# Get word frequencies for each sentence and class\n",
    "\n",
    "def get_words(text):\n",
    "    # Initialize word list\n",
    "    words = [];\n",
    "    # Loop through each sentence in input array\n",
    "    for text_row in text:       \n",
    "        # Check the number of words. Assume each word is separated by a blank space\n",
    "        # so that the number of words is the number of blank spaces + 1\n",
    "        number_of_spaces = text_row.count(' ')\n",
    "        # loop through the sentence and get words between blank spaces.\n",
    "        for i in range(number_of_spaces):\n",
    "            # Check for for last word\n",
    "            words.append([text_row[:text_row.index(' ')].lower()])\n",
    "            text_row = text_row[text_row.index(' ')+1:]  \n",
    "            i = i + 1        \n",
    "        words.append([text_row])\n",
    "    return np.unique(words)\n",
    "\n",
    "# Get frequency of each word in each document\n",
    "\n",
    "def get_doc_word_frequency(words, text):  \n",
    "    word_freq_table = np.zeros((len(text),len(words)), dtype=int)\n",
    "    i = 0\n",
    "    for text_row in text:\n",
    "        # Insert extra space between each pair of words to prevent\n",
    "        # partial match of words\n",
    "        text_row_temp = ''\n",
    "        for idx, val in enumerate(text_row):\n",
    "            if val == ' ':\n",
    "                 text_row_temp = text_row_temp + '  '\n",
    "            else:\n",
    "                  text_row_temp = text_row_temp + val.lower()\n",
    "        text_row = ' ' + text_row_temp + ' '\n",
    "        j = 0\n",
    "        for word in words: \n",
    "            word = ' ' + word + ' '\n",
    "            freq = text_row.count(word)\n",
    "            word_freq_table[i,j] = freq\n",
    "            j = j + 1\n",
    "        i = i + 1\n",
    "    \n",
    "    return word_freq_table"
   ]
  },
  {
   "cell_type": "code",
   "execution_count": 9,
   "metadata": {},
   "outputs": [
    {
     "name": "stdout",
     "output_type": "stream",
     "text": [
      "   are  author  book  bought  characters  favorite  fictional  has  have  how  \\\n",
      "0    0       0     1       0           0         0          0    0     0    0   \n",
      "1    0       1     1       0           0         0          0    1     0    0   \n",
      "2    1       0     0       0           0         0          0    0     0    0   \n",
      "3    0       0     1       1           0         0          0    0     0    1   \n",
      "4    0       0     0       0           1         0          1    0     0    0   \n",
      "\n",
      "   ...  one  read  than  the  they  this  what  who  you  your  \n",
      "0  ...    0     0     0    0     0     1     0    0    0     0  \n",
      "1  ...    1     0     1    0     0     1     0    0    0     0  \n",
      "2  ...    0     0     0    0     1     0     0    0    0     0  \n",
      "3  ...    0     0     0    1     0     1     0    0    0     0  \n",
      "4  ...    0     0     0    0     0     0     0    0    0     0  \n",
      "\n",
      "[5 rows x 27 columns]\n",
      "   are  author  book  bought  characters  favorite  fictional  has  have  how  \\\n",
      "0    1       1    11       1           1         1          1    1     1    1   \n",
      "1    1      11    11       1           1         1          1   11     1    1   \n",
      "2   11       1     1       1           1         1          1    1     1    1   \n",
      "3    1       1    11      11           1         1          1    1     1   11   \n",
      "4    1       1     1       1          11         1         11    1     1    1   \n",
      "\n",
      "   ...  one  read  than  the  they  this  what  who  you  your  \n",
      "0  ...    1     1     1    1     1    11     1    1    1     1  \n",
      "1  ...   11     1    11    1     1    11     1    1    1     1  \n",
      "2  ...    1     1     1    1    11     1     1    1    1     1  \n",
      "3  ...    1     1     1   11     1    11     1    1    1     1  \n",
      "4  ...    1     1     1    1     1     1     1    1    1     1  \n",
      "\n",
      "[5 rows x 27 columns]\n",
      "['are' 'author' 'book' 'bought' 'characters' 'favorite' 'fictional' 'has'\n",
      " 'have' 'how' 'i' 'is' 'like' 'more' 'my' 'novel' 'novels' 'one' 'read'\n",
      " 'than' 'the' 'they' 'this' 'what' 'who' 'you' 'your']\n"
     ]
    }
   ],
   "source": [
    "# Get word frequencies for statement documents\n",
    "\n",
    "word_list_s = get_words(all_docs)\n",
    "word_freq_table_s = get_doc_word_frequency(word_list_s, stmt_docs)\n",
    "tdm_s = pd.DataFrame(word_freq_table_s, columns=word_list_s)\n",
    "print(tdm_s)\n",
    "tdm_s.iloc[:,:] = tdm_s.values*10\n",
    "tdm_s.iloc[:,:] = tdm_s.values+1\n",
    "print(tdm_s)\n",
    "print(word_list_s)"
   ]
  },
  {
   "cell_type": "code",
   "execution_count": 10,
   "metadata": {},
   "outputs": [
    {
     "name": "stdout",
     "output_type": "stream",
     "text": [
      "{'are': 15, 'author': 15, 'book': 35, 'bought': 15, 'characters': 15, 'favorite': 5, 'fictional': 15, 'has': 15, 'have': 5, 'how': 15, 'i': 25, 'is': 25, 'like': 15, 'more': 15, 'my': 15, 'novel': 15, 'novels': 15, 'one': 15, 'read': 5, 'than': 15, 'the': 15, 'they': 15, 'this': 35, 'what': 5, 'who': 5, 'you': 5, 'your': 5}\n"
     ]
    }
   ],
   "source": [
    "# Get word frequencies over all statement documents\n",
    "\n",
    "freq_list_s = word_freq_table_s.sum(axis=0) \n",
    "freq_s = dict(zip(word_list_s,freq_list_s))\n",
    "print(freq_s)"
   ]
  },
  {
   "cell_type": "code",
   "execution_count": 11,
   "metadata": {},
   "outputs": [
    {
     "name": "stdout",
     "output_type": "stream",
     "text": [
      "   are  author  book  bought  characters  favorite  fictional  has  have  how  \\\n",
      "0    0       0     1       0           0         0          0    0     0    0   \n",
      "1    0       0     1       0           0         0          0    0     1    0   \n",
      "2    0       1     0       0           0         0          0    0     0    0   \n",
      "3    1       0     0       0           1         0          0    0     0    0   \n",
      "4    0       0     1       0           0         1          0    0     0    0   \n",
      "\n",
      "   ...  one  read  than  the  they  this  what  who  you  your  \n",
      "0  ...    0     0     0    0     0     1     0    0    0     0  \n",
      "1  ...    0     1     0    0     0     1     0    0    1     0  \n",
      "2  ...    0     0     0    1     0     0     0    1    0     0  \n",
      "3  ...    0     0     0    1     0     0     1    0    0     0  \n",
      "4  ...    0     0     0    0     0     0     1    0    0     1  \n",
      "\n",
      "[5 rows x 27 columns]\n",
      "   are  author  book  bought  characters  favorite  fictional  has  have  how  \\\n",
      "0    1       1    11       1           1         1          1    1     1    1   \n",
      "1    1       1    11       1           1         1          1    1    11    1   \n",
      "2    1      11     1       1           1         1          1    1     1    1   \n",
      "3   11       1     1       1          11         1          1    1     1    1   \n",
      "4    1       1    11       1           1        11          1    1     1    1   \n",
      "\n",
      "   ...  one  read  than  the  they  this  what  who  you  your  \n",
      "0  ...    1     1     1    1     1    11     1    1    1     1  \n",
      "1  ...    1    11     1    1     1    11     1    1   11     1  \n",
      "2  ...    1     1     1   11     1     1     1   11    1     1  \n",
      "3  ...    1     1     1   11     1     1    11    1    1     1  \n",
      "4  ...    1     1     1    1     1     1    11    1    1    11  \n",
      "\n",
      "[5 rows x 27 columns]\n",
      "[[ 1  1 11  1  1  1  1  1  1  1  1 11  1  1 11  1  1  1  1  1  1  1 11  1\n",
      "   1  1  1]\n",
      " [ 1  1 11  1  1  1  1  1 11  1  1  1  1  1  1  1  1  1 11  1  1  1 11  1\n",
      "   1 11  1]\n",
      " [ 1 11  1  1  1  1  1  1  1  1  1 11  1  1  1  1 11  1  1  1 11  1  1  1\n",
      "  11  1  1]\n",
      " [11  1  1  1 11  1  1  1  1  1  1  1  1  1  1  1  1  1  1  1 11  1  1 11\n",
      "   1  1  1]\n",
      " [ 1  1 11  1  1 11  1  1  1  1  1 11  1  1  1  1  1  1  1  1  1  1  1 11\n",
      "   1  1 11]]\n"
     ]
    }
   ],
   "source": [
    "# Get word frequencies for question documents\n",
    "\n",
    "word_list_q = get_words(all_docs)\n",
    "word_freq_table_q = get_doc_word_frequency(word_list_q, question_docs)\n",
    "tdm_q = pd.DataFrame(word_freq_table_q, columns=word_list_q)\n",
    "print(tdm_q)\n",
    "tdm_q.iloc[:,:] = tdm_q.values*10\n",
    "tdm_q.iloc[:,:] = tdm_q.values+1\n",
    "print(tdm_q)\n",
    "print(word_freq_table_q)"
   ]
  },
  {
   "cell_type": "code",
   "execution_count": 12,
   "metadata": {},
   "outputs": [
    {
     "name": "stdout",
     "output_type": "stream",
     "text": [
      "{'are': 15, 'author': 15, 'book': 35, 'bought': 5, 'characters': 15, 'favorite': 15, 'fictional': 5, 'has': 5, 'have': 15, 'how': 5, 'i': 5, 'is': 35, 'like': 5, 'more': 5, 'my': 15, 'novel': 5, 'novels': 15, 'one': 5, 'read': 15, 'than': 5, 'the': 25, 'they': 5, 'this': 25, 'what': 25, 'who': 15, 'you': 15, 'your': 15}\n"
     ]
    }
   ],
   "source": [
    "# Get word frequencies over all question documents\n",
    "\n",
    "freq_list_q = word_freq_table_q.sum(axis=0) \n",
    "freq_q = dict(zip(word_list_q,freq_list_q))\n",
    "print(freq_q)"
   ]
  },
  {
   "cell_type": "code",
   "execution_count": 13,
   "metadata": {},
   "outputs": [
    {
     "name": "stdout",
     "output_type": "stream",
     "text": [
      "Probability of words for \"statement\" class \n",
      "\n",
      "{'are': 0.05555555555555555, 'author': 0.05555555555555555, 'book': 0.12962962962962962, 'bought': 0.05555555555555555, 'characters': 0.05555555555555555, 'favorite': 0.018518518518518517, 'fictional': 0.05555555555555555, 'has': 0.05555555555555555, 'have': 0.018518518518518517, 'how': 0.05555555555555555, 'i': 0.09259259259259259, 'is': 0.09259259259259259, 'like': 0.05555555555555555, 'more': 0.05555555555555555, 'my': 0.05555555555555555, 'novel': 0.05555555555555555, 'novels': 0.05555555555555555, 'one': 0.05555555555555555, 'read': 0.018518518518518517, 'than': 0.05555555555555555, 'the': 0.05555555555555555, 'they': 0.05555555555555555, 'this': 0.12962962962962962, 'what': 0.018518518518518517, 'who': 0.018518518518518517, 'you': 0.018518518518518517, 'your': 0.018518518518518517}\n",
      "------------------------------------------- \n",
      "\n",
      "Probability of words for \"question\" class \n",
      "\n",
      "{'are': 0.05555555555555555, 'author': 0.05555555555555555, 'book': 0.12962962962962962, 'bought': 0.018518518518518517, 'characters': 0.05555555555555555, 'favorite': 0.05555555555555555, 'fictional': 0.018518518518518517, 'has': 0.018518518518518517, 'have': 0.05555555555555555, 'how': 0.018518518518518517, 'i': 0.018518518518518517, 'is': 0.12962962962962962, 'like': 0.018518518518518517, 'more': 0.018518518518518517, 'my': 0.05555555555555555, 'novel': 0.018518518518518517, 'novels': 0.05555555555555555, 'one': 0.018518518518518517, 'read': 0.05555555555555555, 'than': 0.018518518518518517, 'the': 0.09259259259259259, 'they': 0.018518518518518517, 'this': 0.09259259259259259, 'what': 0.09259259259259259, 'who': 0.05555555555555555, 'you': 0.05555555555555555, 'your': 0.05555555555555555}\n"
     ]
    }
   ],
   "source": [
    "# Get word probabilities for statement class\n",
    "\n",
    "all_word_list = get_words(all_docs)\n",
    "\n",
    "prob_s = []\n",
    "for word, count in zip(word_list_s, freq_list_s):\n",
    "    #print(word, count)\n",
    "    prob_s.append(count/(10*len(all_word_list)))\n",
    "    \n",
    "# Get word probabilities for question class\n",
    "\n",
    "prob_q = []\n",
    "for count in freq_list_q:\n",
    "    prob_q.append(count/(10*len(all_word_list)))\n",
    "    \n",
    "print('Probability of words for \"statement\" class \\n')\n",
    "print(dict(zip(word_list_s, prob_s)))\n",
    "print('------------------------------------------- \\n')\n",
    "print('Probability of words for \"question\" class \\n')\n",
    "print(dict(zip(word_list_q, prob_q)))"
   ]
  },
  {
   "cell_type": "code",
   "execution_count": 14,
   "metadata": {},
   "outputs": [],
   "source": [
    "# Calculate prior for one class\n",
    "\n",
    "def prior(className):    \n",
    "    denominator = len(stmt_docs) + len(question_docs)\n",
    "    \n",
    "    if className == 'statement':\n",
    "        numerator =  len(stmt_docs)\n",
    "    else:\n",
    "        numerator =  len(question_docs)\n",
    "        \n",
    "    return np.divide(numerator,denominator)\n",
    "    \n",
    "# Calculate class conditional probability for a sentence\n",
    "    \n",
    "def classCondProb(sentence, className):\n",
    "    words = get_words([sentence])\n",
    "    prob = 1\n",
    "    for word in words:\n",
    "        if className == 'statement':\n",
    "            idx = np.where(word_list_s == word)\n",
    "            prob = prob * prob_s[np.array(idx)[0,0]]\n",
    "        else:\n",
    "            idx = np.where(word_list_q == word)\n",
    "            prob = prob * prob_q[np.array(idx)[0,0]]   \n",
    "    \n",
    "    return prob\n",
    "\n",
    "# Predict class of a sentence\n",
    "\n",
    "def predict(sentence):\n",
    "    prob_statement = classCondProb(sentence, 'statement') * prior('statement')\n",
    "    prob_question = classCondProb(sentence, 'question') * prior('question')\n",
    "    if  prob_statement > prob_question:\n",
    "        return 'statement'\n",
    "    else:\n",
    "        return 'question'\n",
    "    \n"
   ]
  },
  {
   "cell_type": "markdown",
   "metadata": {},
   "source": [
    "### In-lab exercise: Laplace smoothing\n",
    "\n",
    "Run the code below and figure out why it fails.\n",
    "\n",
    "When a word does not appear with a specific class in the training data, its class-conditional probability is 0, and we are unable to\n",
    "get a reasonable probability for that class.\n",
    "\n",
    "Research Laplace smoothing, and modify the code above to implement Laplace smoothing (setting the frequency of all words with frequency 0 to a frequency of 1).\n",
    "Run the modified code on the test set.\n",
    "\n",
    "### Take home exercise\n",
    "\n",
    "Find a more substantial text classification dataset, clean up the documents, and build your NB classifier. Write a brief report on your in-lab and take home exercises and results."
   ]
  },
  {
   "cell_type": "code",
   "execution_count": 15,
   "metadata": {},
   "outputs": [
    {
     "name": "stdout",
     "output_type": "stream",
     "text": [
      "Getting prediction for \"this is the book\"\n",
      "question\n",
      "Getting prediction for \"who are the novels characters\"\n",
      "question\n",
      "Getting prediction for \"is this the author\"\n",
      "question\n"
     ]
    }
   ],
   "source": [
    "test_docs = list([test['sentence'] for index,test in testing_data.iterrows()])\n",
    "\n",
    "for doc in test_docs:\n",
    "    print('Getting prediction for \"%s\"' % doc)\n",
    "    print(predict(doc))"
   ]
  }
 ],
 "metadata": {
  "kernelspec": {
   "display_name": "Python 3",
   "language": "python",
   "name": "python3"
  },
  "language_info": {
   "codemirror_mode": {
    "name": "ipython",
    "version": 3
   },
   "file_extension": ".py",
   "mimetype": "text/x-python",
   "name": "python",
   "nbconvert_exporter": "python",
   "pygments_lexer": "ipython3",
   "version": "3.6.9"
  }
 },
 "nbformat": 4,
 "nbformat_minor": 4
}
