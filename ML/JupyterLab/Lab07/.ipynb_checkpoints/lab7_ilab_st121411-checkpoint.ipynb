{
 "cells": [
  {
   "cell_type": "code",
   "execution_count": 1,
   "metadata": {},
   "outputs": [],
   "source": [
    "import numpy as np\n",
    "import matplotlib.pyplot as plt"
   ]
  },
  {
   "cell_type": "code",
   "execution_count": 2,
   "metadata": {},
   "outputs": [],
   "source": [
    "import cvxopt\n",
    "\n",
    "def cvxopt_solve_qp(Q, c, A=None, b=None, E=None, d=None):\n",
    "    Q = .5 * (Q + Q.T)  # make sure Q is symmetric\n",
    "    args = [cvxopt.matrix(Q), cvxopt.matrix(c)]\n",
    "    if A is not None:\n",
    "        args.extend([cvxopt.matrix(A), cvxopt.matrix(b)])\n",
    "        if E is not None:\n",
    "            args.extend([cvxopt.matrix(E), cvxopt.matrix(d)])\n",
    "    sol = cvxopt.solvers.qp(*args)\n",
    "    if 'optimal' not in sol['status']:\n",
    "        return None\n",
    "    return np.array(sol['x']).reshape((Q.shape[1],))"
   ]
  },
  {
   "cell_type": "code",
   "execution_count": 3,
   "metadata": {},
   "outputs": [],
   "source": [
    "Xf = np.matrix([[ 164.939, 163.431, 157.554, 152.785, 156.385, 159.242, 156.281, 164.411, 157.308, 159.579 ],\n",
    "                [  56.927,  48.945,  45.678,  45.969,  40.896,  46.848,  42.225,  42.380,  42.150,  49.739 ]]).T;\n",
    "Xm = np.matrix([[ 168.524, 171.597, 179.469, 176.063, 180.939, 177.011, 183.284, 180.549, 176.502, 185.392 ],\n",
    "                [  64.353,  61.793,  74.552,  69.851,  74.730,  75.871,  79.170,  79.753,  64.923,  73.665 ]]).T;\n",
    "X = np.concatenate([Xf, Xm],0);\n",
    "y = np.concatenate([-np.matrix(np.ones([10,1])),np.matrix(np.ones([10,1]))]);"
   ]
  },
  {
   "cell_type": "code",
   "execution_count": 4,
   "metadata": {},
   "outputs": [
    {
     "name": "stdout",
     "output_type": "stream",
     "text": [
      "(20, 2)\n",
      "(20, 1)\n"
     ]
    }
   ],
   "source": [
    "print(X.shape)\n",
    "print(y.shape)"
   ]
  },
  {
   "cell_type": "code",
   "execution_count": 5,
   "metadata": {},
   "outputs": [
    {
     "name": "stdout",
     "output_type": "stream",
     "text": [
      "     pcost       dcost       gap    pres   dres\n",
      " 0:  1.4721e-03  6.5053e+00  5e+01  2e+00  4e+02\n",
      " 1:  1.0012e-02 -4.7161e+00  1e+01  6e-01  1e+02\n",
      " 2:  2.6180e-02 -4.8172e+00  7e+00  2e-01  6e+01\n",
      " 3:  3.9767e-02 -4.5363e-01  5e-01  1e-02  2e+00\n",
      " 4:  3.5404e-02  1.8200e-02  2e-02  4e-15  3e-13\n",
      " 5:  3.1392e-02  3.0877e-02  5e-04  6e-15  1e-12\n",
      " 6:  3.1250e-02  3.1245e-02  5e-06  3e-15  4e-13\n",
      " 7:  3.1249e-02  3.1248e-02  5e-08  4e-15  2e-13\n",
      "Optimal solution found.\n",
      "Optimal w: [0.640061 0.768324] b: -153.309495\n"
     ]
    }
   ],
   "source": [
    "Q = np.eye(3);\n",
    "Q[2,2] = 0;\n",
    "c = np.zeros([3])\n",
    "A = np.multiply(np.tile(-y,[1, 3]), np.concatenate([X, np.ones([20,1])],1))\n",
    "b = -np.ones([20])\n",
    "x = cvxopt_solve_qp(Q, c, A, b);\n",
    "w = np.matrix([[x[0]],[x[1]]]);\n",
    "b = x[2];\n",
    "scale = np.linalg.norm(w);\n",
    "w = w / scale;\n",
    "b = b / scale;\n",
    "print('Optimal w: [%f %f] b: %f' % (w[0,0],w[1,0],b));"
   ]
  },
  {
   "cell_type": "code",
   "execution_count": 6,
   "metadata": {},
   "outputs": [],
   "source": [
    "# Generate data for class 1\n",
    "\n",
    "mu_1 = np.array([1.0, 2.0])\n",
    "sigma_1 = 1\n",
    "num_sample = 100\n",
    "cov_mat = np.matrix([[sigma_1,0],[0,sigma_1]])\n",
    "X1 = np.random.multivariate_normal(mean= mu_1, cov=cov_mat, size = num_sample)\n",
    "\n",
    "# Generate data for class 2\n",
    "\n",
    "angle = np.random.uniform(0, 2*np.pi, num_sample)\n",
    "d =  np.random.normal(np.square(3*sigma_1),np.square(.5*sigma_1),num_sample)\n",
    "X2 = np.array([X1[:,0] + d*np.cos(angle), X1[:,1] + d*np.sin(angle)]).T\n",
    "\n",
    "# Combine X1 and X2 into single dataset\n",
    "\n",
    "X = np.concatenate([X1, X2],axis = 0)\n",
    "y = np.append(-np.ones(num_sample),np.ones(num_sample))[:,np.newaxis]"
   ]
  },
  {
   "cell_type": "code",
   "execution_count": 7,
   "metadata": {},
   "outputs": [
    {
     "name": "stdout",
     "output_type": "stream",
     "text": [
      "(200, 2)\n",
      "(200, 1)\n"
     ]
    }
   ],
   "source": [
    "print(X.shape)\n",
    "print(y.shape)"
   ]
  },
  {
   "cell_type": "code",
   "execution_count": 8,
   "metadata": {},
   "outputs": [
    {
     "data": {
      "image/png": "[encoded data removed]",
      "text/plain": [
       "<Figure size 360x360 with 1 Axes>"
      ]
     },
     "metadata": {
      "needs_background": "light"
     },
     "output_type": "display_data"
    }
   ],
   "source": [
    "# Plot the data\n",
    "fig1 = plt.figure(figsize=(5,5))\n",
    "ax = plt.axes() \n",
    "plt.title('Sample data for classification problem')\n",
    "plt.grid(axis='both', alpha=.25)\n",
    "plt.plot(X1[:,0],X1[:,1],'b.', label = 'Class 1')\n",
    "plt.plot(X2[:,0],X2[:,1],'g*', label = 'Class 2')\n",
    "plt.legend(loc=2)\n",
    "plt.axis('equal')\n",
    "plt.show()"
   ]
  },
  {
   "cell_type": "code",
   "execution_count": 9,
   "metadata": {},
   "outputs": [
    {
     "name": "stdout",
     "output_type": "stream",
     "text": [
      "     pcost       dcost       gap    pres   dres\n",
      " 0:  2.6172e-04  1.9792e+02  3e+02  2e+00  3e-14\n",
      " 1:  2.4144e-08  4.3928e+02  6e+00  1e+00  1e-13\n",
      " 2:  2.2792e-12  3.4954e+04  4e+00  1e+00  6e-12\n",
      " 3:  2.2775e-16  2.6977e+08  3e+02  1e+00  3e-08\n",
      " 4:  2.2775e-20  2.0814e+14  3e+06  1e+00  2e-02\n",
      " 5:  2.2775e-24  1.6059e+22  2e+12  1e+00  3e+06\n",
      " 6:  2.0170e-26  1.2180e+32  4e+20  1e+00  4e+16\n",
      " 7:  4.1851e-26  2.5850e+40  9e+28  1e+00  1e+25\n",
      " 8:  5.0033e-26  3.1636e+47  1e+36  1e+00  1e+32\n",
      " 9:  6.4319e-26  2.5394e+55  9e+43  1e+00  2e+39\n",
      "10:  6.8963e-26  3.2162e+62  1e+51  1e+00  5e+46\n",
      "11:  5.5346e-26  2.6497e+70  9e+58  1e+00  7e+54\n",
      "12:  6.1890e-26  3.7968e+77  1e+66  1e+00  6e+61\n",
      "13:  5.6950e-26  3.0523e+85  1e+74  1e+00  4e+69\n",
      "14:  6.3161e-26  4.7201e+92  2e+81  1e+00  2e+77\n",
      "15:  5.6805e-26  3.9858e+100  1e+89  1e+00  1e+85\n",
      "16:  6.2773e-26  5.2932e+107  2e+96  1e+00  7e+91\n",
      "17:  5.7968e-26  4.4050e+115  2e+104  1e+00  5e+99\n",
      "18:  6.3541e-26  6.2137e+122  2e+111  1e+00 5e+106\n",
      "19:  5.7173e-26  5.2388e+130  2e+119  1e+00 5e+114\n",
      "20:  6.2557e-26  4.7692e+137  2e+126  1e+00 1e+122\n",
      "21:  6.8717e-26  3.5057e+145  1e+134  1e+00 3e+129\n",
      "22:  7.7216e-26  4.4710e+152  2e+141  1e+00 7e+136\n",
      "23:  5.7928e-26  2.4012e+160  8e+148  1e+00 4e+144\n",
      "24:  6.5378e-26  6.0417e+167  2e+156  1e+00 2e+152\n",
      "25:  5.5266e-26  5.0685e+175  2e+164  1e+00    inf\n",
      "26:  6.1697e-26  5.3408e+182  2e+171  1e+00    inf\n",
      "27:  7.3777e-26  3.7169e+190  1e+179  1e+00    inf\n",
      "28:  7.9567e-26  4.1607e+197  1e+186  1e+00    inf\n",
      "29:  5.7808e-26  2.1863e+205  7e+193  1e+00    inf\n",
      "30:  6.5281e-26  5.7394e+212  2e+201  1e+00    inf\n",
      "31:  5.5178e-26  4.8331e+220  2e+209  1e+00    inf\n",
      "32:  6.2080e-26  4.8724e+227  2e+216  1e+00    inf\n",
      "33:  8.2502e-26  2.7176e+235  9e+223  1e+00    inf\n",
      "34:  7.2981e-26  2.3068e+242  8e+230  1e+00    inf\n",
      "35:  5.0627e-26  1.9382e+250  7e+238  1e+00    inf\n",
      "36:  5.7334e-26  2.6032e+257  9e+245  1e+00    inf\n",
      "37:  6.0132e-26  2.1784e+265  7e+253  1e+00    inf\n",
      "38:  6.6212e-26  2.0998e+272  7e+260  1e+00    inf\n",
      "39:  8.1480e-26  1.1974e+280  4e+268  1e+00    inf\n",
      "40:  7.2152e-26  1.0202e+287  3e+275  1e+00    inf\n",
      "domain error\n"
     ]
    }
   ],
   "source": [
    "Q = np.eye(3);\n",
    "Q[2,2] = 0;\n",
    "c = np.zeros([3])\n",
    "A = np.multiply(np.tile(-y,[1, 3]), np.concatenate([X, np.ones([200,1])],1))\n",
    "b = -np.ones([200])\n",
    "\n",
    "try:\n",
    "    x = cvxopt_solve_qp(Q, c, A, b);\n",
    "    w = np.matrix([[x[0]],[x[1]]]);\n",
    "    b = x[2];\n",
    "    scale = np.linalg.norm(w);\n",
    "    w = w / scale;\n",
    "    b = b / scale;\n",
    "    print('Optimal w: [%f %f] b: %f' % (w[0,0],w[1,0],b));\n",
    "except Exception as e:\n",
    "    print(e)"
   ]
  },
  {
   "cell_type": "code",
   "execution_count": 10,
   "metadata": {},
   "outputs": [],
   "source": [
    "Xf = np.matrix([[ 164.939, 163.431, 157.554, 152.785, 156.385, 159.242, 156.281, 164.411, 157.308, 159.579 ],\n",
    "                [  56.927,  48.945,  45.678,  45.969,  40.896,  46.848,  42.225,  42.380,  42.150,  49.739 ]]).T;\n",
    "Xm = np.matrix([[ 168.524, 171.597, 179.469, 176.063, 180.939, 177.011, 183.284, 180.549, 176.502, 185.392 ],\n",
    "                [  64.353,  61.793,  74.552,  69.851,  74.730,  75.871,  79.170,  79.753,  64.923,  73.665 ]]).T;\n",
    "X = np.concatenate([Xf, Xm],0);\n",
    "y = np.concatenate([-np.matrix(np.ones([10,1])),np.matrix(np.ones([10,1]))]);"
   ]
  },
  {
   "cell_type": "code",
   "execution_count": 11,
   "metadata": {},
   "outputs": [],
   "source": [
    "# Transform data set so that each attribute has a\n",
    "# mean of 0 and a standard deviation of 1\n",
    "\n",
    "def plot_mf(Xf,Xm):\n",
    "    axes = plt.axes()\n",
    "    females_series = plt.scatter(np.array(Xf[:,0]), np.array(Xf[:,1]), s=30, c='b', marker='o', label='Females')\n",
    "    males_series = plt.scatter(np.array(Xm[:,0]), np.array(Xm[:,1]), s=30, c='y', marker='o', label='Males')\n",
    "    axes.set_aspect('equal', 'datalim')\n",
    "    plt.xlabel('Height')\n",
    "    plt.ylabel('Weight')\n",
    "    plt.title('Height-weight data for males and females (fake data!)')\n",
    "    plt.legend(handles=[females_series, males_series], bbox_to_anchor=(1.05, 1), loc=2, borderaxespad=0.)\n",
    "    return axes\n",
    "\n",
    "def preprocess(X):\n",
    "    means = X.mean(0);\n",
    "    scales = 1/np.std(X,0);\n",
    "    Xh = np.concatenate([X.T,np.ones([1,20])],0);\n",
    "    Tm = np.matrix(np.eye(3));\n",
    "    Tm[0:2,2:3] = -X.mean(0).T;\n",
    "    Ts = np.matrix(np.eye(3));\n",
    "    Ts[0:2,0:2] = np.diagflat(scales);\n",
    "    T = Ts*Tm;\n",
    "    XX = (T * Xh);\n",
    "    XX = XX[0:2,:].T;\n",
    "    return XX, T;\n",
    "\n",
    "def gauss_kernel(X):\n",
    "    sigma = 0.2\n",
    "    m = X.shape[0];\n",
    "    K = np.matrix(np.zeros([m,m]));\n",
    "    for i in range(0,m):\n",
    "        for j in range(0,m):\n",
    "            K[i,j] = (X[i,:] - X[j,:]).reshape(1,-1) @ (X[i,:] - X[j,:]).reshape(-1,1)\n",
    "    K = np.exp(-K/(2*sigma*sigma))      \n",
    "    return K;\n",
    "\n",
    "def linear_kernel(X):\n",
    "    m = X.shape[0];\n",
    "    K = np.matrix(np.zeros([m,m]));\n",
    "    for i in range(0,m):\n",
    "        for j in range(0,m):\n",
    "            K[i,j] = (X[i,:].reshape(1,-1)@X[j,:].reshape(-1,1))\n",
    "    return K;\n",
    "\n",
    "def get_wb(X, y, alpha):\n",
    "    # Find the support vectors\n",
    "    S = alpha > 1e-6\n",
    "    XS = X[S,:]\n",
    "    yS = y[S]\n",
    "    alphaS = alpha[S]\n",
    "    alphaSyS = np.tile(np.multiply(yS.T, alphaS).T, n)\n",
    "    w = sum(np.multiply(alphaSyS, XS)).T\n",
    "    # Find b\n",
    "    KS = K[S,:][:,S]\n",
    "    NS = yS.shape[0]\n",
    "    b = (np.sum(yS) - np.sum(np.multiply(alphaS,yS.T)*KS))/NS\n",
    "    # Normalize w,b\n",
    "    scalef = np.linalg.norm(w)\n",
    "    w = w / scalef\n",
    "    b = b / scalef\n",
    "    return w,b\n",
    "\n",
    "def plot_w(w,b):\n",
    "    ylim = plt.axes().get_ylim()\n",
    "    xlim = plt.axes().get_xlim()\n",
    "    p1 = (xlim[0], - (w[0,0] * xlim[0] + b) / w[1,0])\n",
    "    p2 = (xlim[1], - (w[0,0] * xlim[1] + b) / w[1,0])\n",
    "    plt.plot((p1[0],p2[0]), (p1[1],p2[1]), 'r-')\n",
    "    "
   ]
  },
  {
   "cell_type": "code",
   "execution_count": 12,
   "metadata": {},
   "outputs": [
    {
     "name": "stdout",
     "output_type": "stream",
     "text": [
      "Q rank: 2\n",
      "     pcost       dcost       gap    pres   dres\n",
      " 0: -2.7646e+00 -4.9725e+00  5e+01  6e+00  2e+00\n",
      " 1: -6.4101e+00 -3.8299e+00  1e+01  2e+00  6e-01\n",
      " 2: -5.0055e+00 -1.2719e+00  7e+00  8e-01  2e-01\n",
      " 3: -5.1552e-02 -4.0648e-02  5e-01  3e-02  1e-02\n",
      " 4: -1.8200e-02 -3.5404e-02  2e-02  5e-18  4e-13\n",
      " 5: -3.0877e-02 -3.1392e-02  5e-04  8e-18  1e-13\n",
      " 6: -3.1245e-02 -3.1250e-02  5e-06  9e-18  3e-13\n",
      " 7: -3.1248e-02 -3.1249e-02  5e-08  6e-18  2e-13\n",
      "Optimal solution found.\n",
      "Optimal alpha:\n",
      "[3.12484796e-02 1.13821985e-09 7.68004003e-10 6.22346942e-10\n",
      " 6.43114906e-10 8.93974184e-10 6.60695980e-10 4.31409827e-10\n",
      " 6.68557407e-10 1.19689394e-09 1.56332821e-02 1.56151999e-02\n",
      " 5.00606721e-10 6.71834910e-10 4.89168002e-10 4.93113729e-10\n",
      " 4.90935291e-10 4.85894509e-10 9.54348935e-10 4.42078646e-10]\n",
      "(2, 1)\n",
      "Optimal w: [0.640062,0.768324] b: -153.309583\n"
     ]
    },
    {
     "name": "stderr",
     "output_type": "stream",
     "text": [
      "/home/rom/Desktop/AIT/ML/lib/python3.6/site-packages/ipykernel_launcher.py:65: MatplotlibDeprecationWarning: Adding an axes using the same arguments as a previous axes currently reuses the earlier instance.  In a future version, a new instance will always be created and returned.  Meanwhile, this warning can be suppressed, and the future behavior ensured, by passing a unique label to each axes instance.\n",
      "/home/rom/Desktop/AIT/ML/lib/python3.6/site-packages/ipykernel_launcher.py:66: MatplotlibDeprecationWarning: Adding an axes using the same arguments as a previous axes currently reuses the earlier instance.  In a future version, a new instance will always be created and returned.  Meanwhile, this warning can be suppressed, and the future behavior ensured, by passing a unique label to each axes instance.\n"
     ]
    },
    {
     "data": {
      "image/png": "[encoded data removed]",
      "text/plain": [
       "<Figure size 432x288 with 1 Axes>"
      ]
     },
     "metadata": {
      "needs_background": "light"
     },
     "output_type": "display_data"
    }
   ],
   "source": [
    "m = X.shape[0];\n",
    "n = X.shape[1];\n",
    "\n",
    "# Linear kernel below. We might also try\n",
    "# XX, T = preprocess(X)\n",
    "# K = gauss_kernel(XX)\n",
    "\n",
    "K = linear_kernel(X);\n",
    "\n",
    "Q = np.multiply(y * y.T, K)\n",
    "print('Q rank: %d' % np.linalg.matrix_rank(Q))\n",
    "c = -np.ones([m]);\n",
    "A = -np.eye(m);\n",
    "b = np.zeros([m]);\n",
    "E = y.T;\n",
    "d = np.zeros(1);\n",
    "alpha_star = cvxopt_solve_qp(Q, c, A, b, E, d);\n",
    "print(\"Optimal alpha:\")\n",
    "print(alpha_star)\n",
    "\n",
    "w,b = get_wb(X, y, alpha_star)\n",
    "\n",
    "print(w.shape)\n",
    "\n",
    "print(\"Optimal w: [%f,%f] b: %f\" % (w[0],w[1],b))\n",
    "plot_mf(Xf,Xm)\n",
    "\n",
    "\n",
    "plot_w(w,b)"
   ]
  },
  {
   "cell_type": "code",
   "execution_count": 13,
   "metadata": {},
   "outputs": [],
   "source": [
    "# Generate data for class 1\n",
    "\n",
    "mu_1 = np.array([1.0, 2.0])\n",
    "sigma_1 = 1\n",
    "num_sample = 100\n",
    "cov_mat = np.matrix([[sigma_1,0],[0,sigma_1]])\n",
    "X1 = np.random.multivariate_normal(mean= mu_1, cov=cov_mat, size = num_sample)\n",
    "\n",
    "# Generate data for class 2\n",
    "\n",
    "angle = np.random.uniform(0, 2*np.pi, num_sample)\n",
    "d =  np.random.normal(np.square(3*sigma_1),np.square(.5*sigma_1),num_sample)\n",
    "X2 = np.array([X1[:,0] + d*np.cos(angle), X1[:,1] + d*np.sin(angle)]).T\n",
    "\n",
    "# Combine X1 and X2 into single dataset\n",
    "\n",
    "X = np.concatenate([X1, X2],axis = 0)\n",
    "y = np.append(-np.ones(num_sample),np.ones(num_sample))[:,np.newaxis]"
   ]
  },
  {
   "cell_type": "code",
   "execution_count": 14,
   "metadata": {},
   "outputs": [],
   "source": [
    "m = X.shape[0];\n",
    "n = X.shape[1];"
   ]
  },
  {
   "cell_type": "code",
   "execution_count": 15,
   "metadata": {},
   "outputs": [
    {
     "name": "stdout",
     "output_type": "stream",
     "text": [
      "Q rank: 2\n",
      "     pcost       dcost       gap    pres   dres\n",
      " 0: -1.9979e+02 -4.1496e+02  2e+02  4e-14  2e+00\n",
      " 1: -4.7865e+02 -4.8382e+02  5e+00  1e-13  1e+00\n",
      " 2: -4.4802e+04 -4.4807e+04  5e+00  5e-12  1e+00\n",
      " 3: -4.0455e+08 -4.0456e+08  1e+03  2e-07  1e+00\n",
      " 4: -4.4083e+08 -4.4083e+08  1e+03  3e-07  1e+00\n",
      "Terminated (singular KKT matrix).\n",
      "Optimal alpha:\n",
      "None\n",
      "'>' not supported between instances of 'NoneType' and 'float'\n"
     ]
    }
   ],
   "source": [
    "# Linear kernel below. We might also try\n",
    "# XX, T = preprocess(X)\n",
    "# K = gauss_kernel(XX)\n",
    "\n",
    "K = linear_kernel(X);\n",
    "\n",
    "Q = np.multiply(y * y.T, K)\n",
    "print('Q rank: %d' % np.linalg.matrix_rank(Q))\n",
    "c = -np.ones([m]);\n",
    "A = -np.eye(m);\n",
    "b = np.zeros([m]);\n",
    "E = y.T;\n",
    "d = np.zeros(1);\n",
    "alpha_star = cvxopt_solve_qp(Q, c, A, b, E, d);\n",
    "print(\"Optimal alpha:\")\n",
    "print(alpha_star)\n",
    "\n",
    "try:\n",
    "    w,b = get_wb(X, y, alpha_star)\n",
    "\n",
    "    print(\"Optimal w: [%f,%f] b: %f\" % (w[0],w[1],b))\n",
    "    plot_mf(Xf,Xm)\n",
    "    plot_w(w,b)\n",
    "except Exception as e:\n",
    "    print(e)"
   ]
  },
  {
   "cell_type": "code",
   "execution_count": 19,
   "metadata": {},
   "outputs": [
    {
     "name": "stdout",
     "output_type": "stream",
     "text": [
      "Q rank: 200\n",
      "     pcost       dcost       gap    pres   dres\n",
      " 0: -4.9200e+01 -1.3703e+02  9e+01  1e-14  2e+00\n",
      " 1: -5.6893e+01 -6.4572e+01  8e+00  3e-14  3e-01\n",
      " 2: -5.9738e+01 -6.1047e+01  1e+00  7e-15  3e-02\n",
      " 3: -5.9856e+01 -6.0016e+01  2e-01  2e-15  7e-04\n",
      " 4: -5.9871e+01 -5.9887e+01  2e-02  2e-15  6e-05\n",
      " 5: -5.9873e+01 -5.9874e+01  8e-04  3e-15  2e-06\n",
      " 6: -5.9873e+01 -5.9873e+01  1e-05  4e-14  2e-08\n",
      "Optimal solution found.\n",
      "Optimal alpha:\n",
      "[1.18994339e+00 2.80467351e-01 4.97434688e-01 1.33028813e+00\n",
      " 1.22900291e+00 5.28292031e-01 1.16747823e+00 3.65173646e-07\n",
      " 4.91752246e-01 3.35974530e-01 1.86954523e-01 7.29461078e-01\n",
      " 9.02709311e-01 1.21389648e+00 7.35751422e-01 5.92505433e-01\n",
      " 7.25154913e-01 5.64635704e-01 1.27095676e+00 7.62263577e-02\n",
      " 1.11905147e+00 7.13475989e-01 2.49153153e-01 1.31514238e+00\n",
      " 9.64893404e-01 2.69745356e-01 7.48253810e-07 8.15581328e-01\n",
      " 6.85171901e-06 1.32352835e+00 7.75200494e-06 4.26078277e-01\n",
      " 5.44418098e-01 7.54419114e-01 1.10005192e+00 5.72764165e-04\n",
      " 4.81060014e-01 7.85022140e-01 1.23081422e+00 1.16358676e+00\n",
      " 7.68409896e-02 3.13603835e-01 6.84232026e-01 9.10411036e-01\n",
      " 2.12102432e-06 9.11601866e-02 3.48380125e-07 1.19666981e+00\n",
      " 5.35418348e-01 8.97014028e-01 1.28907737e+00 3.68898816e-01\n",
      " 1.02642280e+00 4.22326054e-01 4.53903567e-06 7.89555239e-06\n",
      " 4.52585960e-06 1.00409323e+00 8.38106288e-01 1.24821750e+00\n",
      " 4.70573544e-07 1.46761477e-01 4.81703539e-01 1.35123646e+00\n",
      " 7.86678044e-01 4.14946154e-01 2.11652011e-01 6.42323089e-02\n",
      " 7.12143506e-01 5.49443261e-01 4.59863421e-07 1.06743662e-06\n",
      " 1.46498324e-01 7.19693078e-01 9.50997071e-01 4.30681848e-01\n",
      " 5.12451043e-01 1.01483148e-06 5.28799869e-01 1.17125002e-01\n",
      " 7.62919214e-01 1.13451082e-06 1.34741165e+00 4.32244329e-02\n",
      " 2.03030849e-01 1.25131861e+00 5.18182206e-01 1.09999559e+00\n",
      " 7.04280644e-01 8.94423990e-01 1.26785218e+00 1.55488776e-01\n",
      " 4.04564714e-01 1.06950531e+00 1.14438727e+00 1.33693809e-01\n",
      " 5.53588723e-01 1.25752679e+00 7.04399859e-01 2.42764306e-02\n",
      " 6.48099597e-01 6.45734414e-01 6.47641847e-01 5.67801702e-01\n",
      " 6.48638177e-01 6.48627413e-01 6.48638696e-01 6.13286191e-01\n",
      " 5.60673388e-01 6.48638716e-01 6.48638565e-01 6.47731005e-01\n",
      " 5.87178215e-01 6.48638763e-01 6.46928982e-01 6.48598009e-01\n",
      " 6.45079646e-01 4.64772518e-01 6.48638763e-01 5.06761283e-01\n",
      " 6.40120816e-01 5.59988158e-01 6.12964847e-01 6.48638763e-01\n",
      " 6.48097977e-01 4.98506244e-01 6.48638763e-01 6.47166210e-01\n",
      " 6.48638722e-01 6.40354495e-01 6.48519075e-01 5.83925788e-01\n",
      " 6.48629330e-01 5.41599198e-01 6.45079663e-01 6.48638763e-01\n",
      " 4.98502331e-01 6.45146609e-01 6.22068609e-01 6.46673828e-01\n",
      " 6.40247292e-01 4.81991338e-01 4.98288351e-01 6.48638186e-01\n",
      " 3.60582192e-01 5.79007678e-01 6.30597399e-01 6.48637984e-01\n",
      " 6.29626204e-01 1.19962945e-01 6.12964847e-01 6.31765051e-01\n",
      " 4.27671232e-01 3.68955803e-01 6.46360548e-01 6.42539730e-01\n",
      " 5.21394022e-01 6.31764897e-01 5.54729925e-01 6.46354422e-01\n",
      " 6.48638763e-01 5.00177922e-01 6.48638763e-01 4.56668765e-01\n",
      " 6.48638763e-01 6.48411005e-01 6.33246624e-01 6.48352800e-01\n",
      " 6.48638763e-01 6.48126416e-01 6.48629940e-01 6.48126416e-01\n",
      " 5.70814465e-01 6.46066446e-01 6.48638597e-01 6.48631600e-01\n",
      " 5.56686264e-01 6.48631428e-01 6.48327468e-01 6.48638752e-01\n",
      " 6.48634009e-01 5.01121466e-01 6.48638763e-01 3.23273661e-01\n",
      " 5.88579677e-01 3.54314393e-01 6.48638740e-01 6.48633332e-01\n",
      " 6.48638697e-01 6.48157387e-01 5.67801702e-01 6.06230713e-01\n",
      " 5.56119766e-01 6.48638727e-01 5.49560006e-01 6.36813031e-01\n",
      " 6.48209723e-01 6.46390649e-01 6.48638696e-01 6.48638697e-01]\n",
      "(2, 1)\n",
      "Optimal w: [-0.913485,-0.406872] b: 0.027850\n"
     ]
    },
    {
     "name": "stderr",
     "output_type": "stream",
     "text": [
      "/home/rom/Desktop/AIT/ML/lib/python3.6/site-packages/ipykernel_launcher.py:65: MatplotlibDeprecationWarning: Adding an axes using the same arguments as a previous axes currently reuses the earlier instance.  In a future version, a new instance will always be created and returned.  Meanwhile, this warning can be suppressed, and the future behavior ensured, by passing a unique label to each axes instance.\n",
      "/home/rom/Desktop/AIT/ML/lib/python3.6/site-packages/ipykernel_launcher.py:66: MatplotlibDeprecationWarning: Adding an axes using the same arguments as a previous axes currently reuses the earlier instance.  In a future version, a new instance will always be created and returned.  Meanwhile, this warning can be suppressed, and the future behavior ensured, by passing a unique label to each axes instance.\n"
     ]
    },
    {
     "data": {
      "image/png": "[encoded data removed]",
      "text/plain": [
       "<Figure size 432x288 with 1 Axes>"
      ]
     },
     "metadata": {
      "needs_background": "light"
     },
     "output_type": "display_data"
    }
   ],
   "source": [
    "# Linear kernel below. We might also try\n",
    "# XX, T = preprocess(X)\n",
    "# K = gauss_kernel(XX)\n",
    "\n",
    "K = gauss_kernel(X);\n",
    "\n",
    "Q = np.multiply(y * y.T, K)\n",
    "print('Q rank: %d' % np.linalg.matrix_rank(Q))\n",
    "c = -np.ones([m]);\n",
    "A = -np.eye(m);\n",
    "b = np.zeros([m]);\n",
    "E = y.T;\n",
    "d = np.zeros(1);\n",
    "alpha_star = cvxopt_solve_qp(Q, c, A, b, E, d);\n",
    "print(\"Optimal alpha:\")\n",
    "print(alpha_star)\n",
    "\n",
    "w,b = get_wb(X, y, alpha_star)\n",
    "w = w.reshape(-1,1)\n",
    "print(w.shape)\n",
    "\n",
    "print(\"Optimal w: [%f,%f] b: %f\" % (w[0],w[1],b))\n",
    "plot_mf(X1,X2)\n",
    "\n",
    "plot_w(w,b)"
   ]
  }
 ],
 "metadata": {
  "kernelspec": {
   "display_name": "Python 3",
   "language": "python",
   "name": "python3"
  },
  "language_info": {
   "codemirror_mode": {
    "name": "ipython",
    "version": 3
   },
   "file_extension": ".py",
   "mimetype": "text/x-python",
   "name": "python",
   "nbconvert_exporter": "python",
   "pygments_lexer": "ipython3",
   "version": "3.6.9"
  }
 },
 "nbformat": 4,
 "nbformat_minor": 4
}
