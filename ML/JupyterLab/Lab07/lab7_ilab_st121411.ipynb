{
 "cells": [
  {
   "cell_type": "code",
   "execution_count": 1,
   "metadata": {},
   "outputs": [],
   "source": [
    "import numpy as np\n",
    "import matplotlib.pyplot as plt"
   ]
  },
  {
   "cell_type": "code",
   "execution_count": 2,
   "metadata": {},
   "outputs": [],
   "source": [
    "import cvxopt\n",
    "\n",
    "def cvxopt_solve_qp(Q, c, A=None, b=None, E=None, d=None):\n",
    "    Q = .5 * (Q + Q.T)  # make sure Q is symmetric\n",
    "    args = [cvxopt.matrix(Q), cvxopt.matrix(c)]\n",
    "    if A is not None:\n",
    "        args.extend([cvxopt.matrix(A), cvxopt.matrix(b)])\n",
    "        if E is not None:\n",
    "            args.extend([cvxopt.matrix(E), cvxopt.matrix(d)])\n",
    "    sol = cvxopt.solvers.qp(*args)\n",
    "    if 'optimal' not in sol['status']:\n",
    "        return None\n",
    "    return np.array(sol['x']).reshape((Q.shape[1],))"
   ]
  },
  {
   "cell_type": "code",
   "execution_count": 3,
   "metadata": {},
   "outputs": [],
   "source": [
    "Xf = np.matrix([[ 164.939, 163.431, 157.554, 152.785, 156.385, 159.242, 156.281, 164.411, 157.308, 159.579 ],\n",
    "                [  56.927,  48.945,  45.678,  45.969,  40.896,  46.848,  42.225,  42.380,  42.150,  49.739 ]]).T;\n",
    "Xm = np.matrix([[ 168.524, 171.597, 179.469, 176.063, 180.939, 177.011, 183.284, 180.549, 176.502, 185.392 ],\n",
    "                [  64.353,  61.793,  74.552,  69.851,  74.730,  75.871,  79.170,  79.753,  64.923,  73.665 ]]).T;\n",
    "X = np.concatenate([Xf, Xm],0);\n",
    "y = np.concatenate([-np.matrix(np.ones([10,1])),np.matrix(np.ones([10,1]))]);"
   ]
  },
  {
   "cell_type": "code",
   "execution_count": 4,
   "metadata": {},
   "outputs": [
    {
     "name": "stdout",
     "output_type": "stream",
     "text": [
      "(20, 2)\n",
      "(20, 1)\n"
     ]
    }
   ],
   "source": [
    "print(X.shape)\n",
    "print(y.shape)"
   ]
  },
  {
   "cell_type": "code",
   "execution_count": 5,
   "metadata": {},
   "outputs": [
    {
     "name": "stdout",
     "output_type": "stream",
     "text": [
      "     pcost       dcost       gap    pres   dres\n",
      " 0:  1.4721e-03  6.5053e+00  5e+01  2e+00  4e+02\n",
      " 1:  1.0012e-02 -4.7161e+00  1e+01  6e-01  1e+02\n",
      " 2:  2.6180e-02 -4.8172e+00  7e+00  2e-01  6e+01\n",
      " 3:  3.9767e-02 -4.5363e-01  5e-01  1e-02  2e+00\n",
      " 4:  3.5404e-02  1.8200e-02  2e-02  4e-15  3e-13\n",
      " 5:  3.1392e-02  3.0877e-02  5e-04  6e-15  1e-12\n",
      " 6:  3.1250e-02  3.1245e-02  5e-06  3e-15  4e-13\n",
      " 7:  3.1249e-02  3.1248e-02  5e-08  4e-15  2e-13\n",
      "Optimal solution found.\n",
      "Optimal w: [0.640061 0.768324] b: -153.309495\n"
     ]
    }
   ],
   "source": [
    "Q = np.eye(3);\n",
    "Q[2,2] = 0;\n",
    "c = np.zeros([3])\n",
    "A = np.multiply(np.tile(-y,[1, 3]), np.concatenate([X, np.ones([20,1])],1))\n",
    "b = -np.ones([20])\n",
    "x = cvxopt_solve_qp(Q, c, A, b);\n",
    "w = np.matrix([[x[0]],[x[1]]]);\n",
    "b = x[2];\n",
    "scale = np.linalg.norm(w);\n",
    "w = w / scale;\n",
    "b = b / scale;\n",
    "print('Optimal w: [%f %f] b: %f' % (w[0,0],w[1,0],b));"
   ]
  },
  {
   "cell_type": "code",
   "execution_count": 6,
   "metadata": {},
   "outputs": [],
   "source": [
    "# Generate data for class 1\n",
    "\n",
    "mu_1 = np.array([1.0, 2.0])\n",
    "sigma_1 = 1\n",
    "num_sample = 100\n",
    "cov_mat = np.matrix([[sigma_1,0],[0,sigma_1]])\n",
    "X1 = np.random.multivariate_normal(mean= mu_1, cov=cov_mat, size = num_sample)\n",
    "\n",
    "# Generate data for class 2\n",
    "\n",
    "angle = np.random.uniform(0, 2*np.pi, num_sample)\n",
    "d =  np.random.normal(np.square(3*sigma_1),np.square(.5*sigma_1),num_sample)\n",
    "X2 = np.array([X1[:,0] + d*np.cos(angle), X1[:,1] + d*np.sin(angle)]).T\n",
    "\n",
    "# Combine X1 and X2 into single dataset\n",
    "\n",
    "X = np.concatenate([X1, X2],axis = 0)\n",
    "y = np.append(-np.ones(num_sample),np.ones(num_sample))[:,np.newaxis]"
   ]
  },
  {
   "cell_type": "code",
   "execution_count": 7,
   "metadata": {},
   "outputs": [
    {
     "name": "stdout",
     "output_type": "stream",
     "text": [
      "(200, 2)\n",
      "(200, 1)\n"
     ]
    }
   ],
   "source": [
    "print(X.shape)\n",
    "print(y.shape)"
   ]
  },
  {
   "cell_type": "code",
   "execution_count": 8,
   "metadata": {},
   "outputs": [
    {
     "data": {
      "image/png": "[encoded data removed]",
      "text/plain": [
       "<Figure size 360x360 with 1 Axes>"
      ]
     },
     "metadata": {
      "needs_background": "light"
     },
     "output_type": "display_data"
    }
   ],
   "source": [
    "# Plot the data\n",
    "fig1 = plt.figure(figsize=(5,5))\n",
    "ax = plt.axes() \n",
    "plt.title('Sample data for classification problem')\n",
    "plt.grid(axis='both', alpha=.25)\n",
    "plt.plot(X1[:,0],X1[:,1],'b.', label = 'Class 1')\n",
    "plt.plot(X2[:,0],X2[:,1],'g*', label = 'Class 2')\n",
    "plt.legend(loc=2)\n",
    "plt.axis('equal')\n",
    "plt.show()"
   ]
  },
  {
   "cell_type": "code",
   "execution_count": 9,
   "metadata": {},
   "outputs": [
    {
     "name": "stdout",
     "output_type": "stream",
     "text": [
      "     pcost       dcost       gap    pres   dres\n",
      " 0:  2.9164e-04  1.9763e+02  2e+02  2e+00  8e-14\n",
      " 1:  2.6953e-08  4.4329e+02  6e+00  1e+00  4e-14\n",
      " 2:  2.5498e-12  3.6065e+04  5e+00  1e+00  1e-11\n",
      " 3:  2.5481e-16  2.8476e+08  4e+02  1e+00  4e-08\n",
      " 4:  2.5481e-20  2.2477e+14  3e+06  1e+00  4e-02\n",
      " 5:  2.5482e-24  1.7742e+22  2e+12  1e+00  4e+06\n",
      " 6:  9.2759e-27  1.3814e+32  4e+20  1e+00  1e+16\n",
      " 7:  5.6713e-26  1.8247e+40  5e+28  1e+00  3e+24\n",
      " 8:  6.9104e-26  1.1357e+47  3e+35  1e+00  1e+31\n",
      " 9:  3.1360e-26  4.2772e+54  1e+43  1e+00  2e+38\n",
      "10:  4.9953e-26  7.1312e+61  2e+50  1e+00  1e+46\n",
      "11:  3.8092e-26  3.9958e+69  1e+58  1e+00  5e+53\n",
      "12:  5.9235e-26  6.1388e+76  2e+65  1e+00  1e+61\n",
      "13:  5.9586e-26  1.4389e+84  4e+72  1e+00  3e+68\n",
      "14:  5.6118e-26  3.2949e+91  1e+80  1e+00  8e+75\n",
      "15:  5.7554e-26  9.2055e+98  3e+87  1e+00  2e+83\n",
      "16:  5.5884e-26  5.1754e+105  2e+94  1e+00  1e+90\n",
      "17:  6.0083e-26  1.2365e+113  4e+101  1e+00  2e+97\n",
      "18:  5.9717e-26  8.8754e+119  3e+108  1e+00 2e+104\n",
      "19:  4.7549e-26  2.7931e+127  8e+115  1e+00 4e+111\n",
      "20:  4.5399e-26  3.5922e+134  1e+123  1e+00 4e+118\n",
      "21:  6.0852e-26  3.8020e+141  1e+130  1e+00 7e+125\n",
      "22:  6.0022e-26  2.4600e+148  7e+136  1e+00 3e+132\n",
      "23:  5.8195e-26  6.1781e+155  2e+144  1e+00 6e+139\n",
      "24:  5.2957e-26  2.1431e+162  6e+150  1e+00 3e+146\n",
      "25:  4.4922e-26  7.3293e+169  2e+158  1e+00    inf\n",
      "26:  4.7167e-26  9.7453e+176  3e+165  1e+00    inf\n",
      "27:  5.9390e-26  7.7352e+183  2e+172  1e+00    inf\n",
      "28:  5.6780e-26  4.7020e+190  1e+179  1e+00    inf\n",
      "29:  5.9694e-26  1.1588e+198  3e+186  1e+00    inf\n",
      "30:  6.6821e-26  9.5680e+204  3e+193  1e+00    inf\n",
      "31:  5.5914e-26  2.5144e+212  7e+200  1e+00    inf\n",
      "32:  5.4127e-26  7.6032e+219  2e+208  1e+00    inf\n",
      "33:  3.4219e-26  3.8054e+227  1e+216  1e+00    inf\n",
      "34:  5.4272e-26  6.5265e+234  2e+223  1e+00    inf\n",
      "35:  3.7170e-26  2.4335e+242  7e+230  1e+00    inf\n",
      "36:  5.4345e-26  4.3308e+249  1e+238  1e+00    inf\n",
      "37:  3.3347e-26  2.2394e+257  7e+245  1e+00    inf\n",
      "38:  5.4644e-26  3.7319e+264  1e+253  1e+00    inf\n",
      "39:  3.9703e-26  1.2578e+272  4e+260  1e+00    inf\n",
      "40:  5.3490e-26  2.2359e+279  7e+267  1e+00    inf\n",
      "41:  4.6717e-26  1.3622e+287  4e+275  1e+00    inf\n",
      "domain error\n"
     ]
    }
   ],
   "source": [
    "Q = np.eye(3);\n",
    "Q[2,2] = 0;\n",
    "c = np.zeros([3])\n",
    "A = np.multiply(np.tile(-y,[1, 3]), np.concatenate([X, np.ones([200,1])],1))\n",
    "b = -np.ones([200])\n",
    "\n",
    "try:\n",
    "    x = cvxopt_solve_qp(Q, c, A, b);\n",
    "    w = np.matrix([[x[0]],[x[1]]]);\n",
    "    b = x[2];\n",
    "    scale = np.linalg.norm(w);\n",
    "    w = w / scale;\n",
    "    b = b / scale;\n",
    "    print('Optimal w: [%f %f] b: %f' % (w[0,0],w[1,0],b));\n",
    "except Exception as e:\n",
    "    print(e)"
   ]
  },
  {
   "cell_type": "code",
   "execution_count": 10,
   "metadata": {},
   "outputs": [],
   "source": [
    "Xf = np.matrix([[ 164.939, 163.431, 157.554, 152.785, 156.385, 159.242, 156.281, 164.411, 157.308, 159.579 ],\n",
    "                [  56.927,  48.945,  45.678,  45.969,  40.896,  46.848,  42.225,  42.380,  42.150,  49.739 ]]).T;\n",
    "Xm = np.matrix([[ 168.524, 171.597, 179.469, 176.063, 180.939, 177.011, 183.284, 180.549, 176.502, 185.392 ],\n",
    "                [  64.353,  61.793,  74.552,  69.851,  74.730,  75.871,  79.170,  79.753,  64.923,  73.665 ]]).T;\n",
    "X = np.concatenate([Xf, Xm],0);\n",
    "y = np.concatenate([-np.matrix(np.ones([10,1])),np.matrix(np.ones([10,1]))]);"
   ]
  },
  {
   "cell_type": "code",
   "execution_count": 11,
   "metadata": {},
   "outputs": [],
   "source": [
    "# Transform data set so that each attribute has a\n",
    "# mean of 0 and a standard deviation of 1\n",
    "\n",
    "def plot_mf(Xf,Xm):\n",
    "    axes = plt.axes()\n",
    "    females_series = plt.scatter(np.array(Xf[:,0]), np.array(Xf[:,1]), s=30, c='b', marker='o', label='Females')\n",
    "    males_series = plt.scatter(np.array(Xm[:,0]), np.array(Xm[:,1]), s=30, c='y', marker='o', label='Males')\n",
    "    axes.set_aspect('equal', 'datalim')\n",
    "    plt.xlabel('Height')\n",
    "    plt.ylabel('Weight')\n",
    "    plt.title('Height-weight data for males and females (fake data!)')\n",
    "    plt.legend(handles=[females_series, males_series], bbox_to_anchor=(1.05, 1), loc=2, borderaxespad=0.)\n",
    "    return axes\n",
    "\n",
    "def preprocess(X):\n",
    "    means = X.mean(0);\n",
    "    scales = 1/np.std(X,0);\n",
    "    Xh = np.concatenate([X.T,np.ones([1,20])],0);\n",
    "    Tm = np.matrix(np.eye(3));\n",
    "    Tm[0:2,2:3] = -X.mean(0).T;\n",
    "    Ts = np.matrix(np.eye(3));\n",
    "    Ts[0:2,0:2] = np.diagflat(scales);\n",
    "    T = Ts*Tm;\n",
    "    XX = (T * Xh);\n",
    "    XX = XX[0:2,:].T;\n",
    "    return XX, T;\n",
    "\n",
    "def gauss_kernel(X):\n",
    "    sigma = 0.2\n",
    "    m = X.shape[0];\n",
    "    K = np.matrix(np.zeros([m,m]));\n",
    "    for i in range(0,m):\n",
    "        for j in range(0,m):\n",
    "            K[i,j] = (X[i,:] - X[j,:]).reshape(1,-1) @ (X[i,:] - X[j,:]).reshape(-1,1)\n",
    "    K = np.exp(-K/(2*sigma*sigma))      \n",
    "    return K;\n",
    "\n",
    "def linear_kernel(X):\n",
    "    m = X.shape[0];\n",
    "    K = np.matrix(np.zeros([m,m]));\n",
    "    for i in range(0,m):\n",
    "        for j in range(0,m):\n",
    "            K[i,j] = (X[i,:].reshape(1,-1)@X[j,:].reshape(-1,1))\n",
    "    return K;\n",
    "\n",
    "def get_wb(X, y, alpha):\n",
    "    # Find the support vectors\n",
    "    S = alpha > 1e-6\n",
    "    XS = X[S,:]\n",
    "    yS = y[S]\n",
    "    alphaS = alpha[S]\n",
    "    alphaSyS = np.tile(np.multiply(yS.T, alphaS).T, n)\n",
    "    w = sum(np.multiply(alphaSyS, XS)).T\n",
    "    # Find b\n",
    "    KS = K[S,:][:,S]\n",
    "    NS = yS.shape[0]\n",
    "    b = (np.sum(yS) - np.sum(np.multiply(alphaS,yS.T)*KS))/NS\n",
    "    # Normalize w,b\n",
    "    scalef = np.linalg.norm(w)\n",
    "    w = w / scalef\n",
    "    b = b / scalef\n",
    "    return w,b\n",
    "\n",
    "def plot_w(w,b):\n",
    "    ylim = plt.axes().get_ylim()\n",
    "    xlim = plt.axes().get_xlim()\n",
    "    p1 = (xlim[0], - (w[0,0] * xlim[0] + b) / w[1,0])\n",
    "    p2 = (xlim[1], - (w[0,0] * xlim[1] + b) / w[1,0])\n",
    "    plt.plot((p1[0],p2[0]), (p1[1],p2[1]), 'r-')\n",
    "    "
   ]
  },
  {
   "cell_type": "code",
   "execution_count": 12,
   "metadata": {},
   "outputs": [
    {
     "name": "stdout",
     "output_type": "stream",
     "text": [
      "Q rank: 2\n",
      "     pcost       dcost       gap    pres   dres\n",
      " 0: -2.7646e+00 -4.9725e+00  5e+01  6e+00  2e+00\n",
      " 1: -6.4101e+00 -3.8299e+00  1e+01  2e+00  6e-01\n",
      " 2: -5.0055e+00 -1.2719e+00  7e+00  8e-01  2e-01\n",
      " 3: -5.1552e-02 -4.0648e-02  5e-01  3e-02  1e-02\n",
      " 4: -1.8200e-02 -3.5404e-02  2e-02  5e-18  4e-13\n",
      " 5: -3.0877e-02 -3.1392e-02  5e-04  8e-18  1e-13\n",
      " 6: -3.1245e-02 -3.1250e-02  5e-06  9e-18  3e-13\n",
      " 7: -3.1248e-02 -3.1249e-02  5e-08  6e-18  2e-13\n",
      "Optimal solution found.\n",
      "Optimal alpha:\n",
      "[3.12484796e-02 1.13821985e-09 7.68004003e-10 6.22346942e-10\n",
      " 6.43114906e-10 8.93974184e-10 6.60695980e-10 4.31409827e-10\n",
      " 6.68557407e-10 1.19689394e-09 1.56332821e-02 1.56151999e-02\n",
      " 5.00606721e-10 6.71834910e-10 4.89168002e-10 4.93113729e-10\n",
      " 4.90935291e-10 4.85894509e-10 9.54348935e-10 4.42078646e-10]\n",
      "(2, 1)\n",
      "Optimal w: [0.640062,0.768324] b: -153.309583\n"
     ]
    },
    {
     "name": "stderr",
     "output_type": "stream",
     "text": [
      "/home/rom/Desktop/AIT/ML/lib/python3.6/site-packages/ipykernel_launcher.py:65: MatplotlibDeprecationWarning: Adding an axes using the same arguments as a previous axes currently reuses the earlier instance.  In a future version, a new instance will always be created and returned.  Meanwhile, this warning can be suppressed, and the future behavior ensured, by passing a unique label to each axes instance.\n",
      "/home/rom/Desktop/AIT/ML/lib/python3.6/site-packages/ipykernel_launcher.py:66: MatplotlibDeprecationWarning: Adding an axes using the same arguments as a previous axes currently reuses the earlier instance.  In a future version, a new instance will always be created and returned.  Meanwhile, this warning can be suppressed, and the future behavior ensured, by passing a unique label to each axes instance.\n"
     ]
    },
    {
     "data": {
      "image/png": "[encoded data removed]",
      "text/plain": [
       "<Figure size 432x288 with 1 Axes>"
      ]
     },
     "metadata": {
      "needs_background": "light"
     },
     "output_type": "display_data"
    }
   ],
   "source": [
    "m = X.shape[0];\n",
    "n = X.shape[1];\n",
    "\n",
    "# Linear kernel below. We might also try\n",
    "# XX, T = preprocess(X)\n",
    "# K = gauss_kernel(XX)\n",
    "\n",
    "K = linear_kernel(X);\n",
    "\n",
    "Q = np.multiply(y * y.T, K)\n",
    "print('Q rank: %d' % np.linalg.matrix_rank(Q))\n",
    "c = -np.ones([m]);\n",
    "A = -np.eye(m);\n",
    "b = np.zeros([m]);\n",
    "E = y.T;\n",
    "d = np.zeros(1);\n",
    "alpha_star = cvxopt_solve_qp(Q, c, A, b, E, d);\n",
    "print(\"Optimal alpha:\")\n",
    "print(alpha_star)\n",
    "\n",
    "w,b = get_wb(X, y, alpha_star)\n",
    "\n",
    "print(w.shape)\n",
    "\n",
    "print(\"Optimal w: [%f,%f] b: %f\" % (w[0],w[1],b))\n",
    "plot_mf(Xf,Xm)\n",
    "\n",
    "\n",
    "plot_w(w,b)"
   ]
  },
  {
   "cell_type": "code",
   "execution_count": 13,
   "metadata": {},
   "outputs": [
    {
     "name": "stdout",
     "output_type": "stream",
     "text": [
      "1.0\n"
     ]
    }
   ],
   "source": [
    "def predict_linear(X,w,b):\n",
    "    s = X@w+b\n",
    "    s[s >= 0] = 1\n",
    "    s[s < 0] = -1\n",
    "    return s\n",
    "y_pred = predict_linear(X,w,b)\n",
    "accuracy = np.sum(y_pred==y)/y.size\n",
    "print(accuracy)"
   ]
  },
  {
   "cell_type": "code",
   "execution_count": 14,
   "metadata": {},
   "outputs": [],
   "source": [
    "# Generate data for class 1\n",
    "\n",
    "mu_1 = np.array([1.0, 2.0])\n",
    "sigma_1 = 1\n",
    "num_sample = 100\n",
    "cov_mat = np.matrix([[sigma_1,0],[0,sigma_1]])\n",
    "X1 = np.random.multivariate_normal(mean= mu_1, cov=cov_mat, size = num_sample)\n",
    "\n",
    "# Generate data for class 2\n",
    "\n",
    "angle = np.random.uniform(0, 2*np.pi, num_sample)\n",
    "d =  np.random.normal(np.square(3*sigma_1),np.square(.5*sigma_1),num_sample)\n",
    "X2 = np.array([X1[:,0] + d*np.cos(angle), X1[:,1] + d*np.sin(angle)]).T\n",
    "\n",
    "# Combine X1 and X2 into single dataset\n",
    "\n",
    "X = np.concatenate([X1, X2],axis = 0)\n",
    "y = np.append(-np.ones(num_sample),np.ones(num_sample))[:,np.newaxis]"
   ]
  },
  {
   "cell_type": "code",
   "execution_count": 15,
   "metadata": {},
   "outputs": [],
   "source": [
    "m = X.shape[0];\n",
    "n = X.shape[1];"
   ]
  },
  {
   "cell_type": "code",
   "execution_count": 16,
   "metadata": {},
   "outputs": [
    {
     "name": "stdout",
     "output_type": "stream",
     "text": [
      "Q rank: 2\n",
      "     pcost       dcost       gap    pres   dres\n",
      " 0: -1.9950e+02 -4.2109e+02  2e+02  9e-14  2e+00\n",
      " 1: -4.7086e+02 -4.7611e+02  5e+00  8e-14  1e+00\n",
      " 2: -4.2739e+04 -4.2744e+04  5e+00  1e-11  1e+00\n",
      " 3: -3.7434e+08 -3.7435e+08  9e+02  9e-08  1e+00\n",
      " 4: -4.5843e+08 -4.5843e+08  1e+03  8e-09  1e+00\n",
      "Terminated (singular KKT matrix).\n",
      "Optimal alpha:\n",
      "None\n",
      "'>' not supported between instances of 'NoneType' and 'float'\n"
     ]
    }
   ],
   "source": [
    "# Linear kernel below. We might also try\n",
    "# XX, T = preprocess(X)\n",
    "# K = gauss_kernel(XX)\n",
    "\n",
    "K = linear_kernel(X);\n",
    "\n",
    "Q = np.multiply(y * y.T, K)\n",
    "print('Q rank: %d' % np.linalg.matrix_rank(Q))\n",
    "c = -np.ones([m]);\n",
    "A = -np.eye(m);\n",
    "b = np.zeros([m]);\n",
    "E = y.T;\n",
    "d = np.zeros(1);\n",
    "alpha_star = cvxopt_solve_qp(Q, c, A, b, E, d);\n",
    "print(\"Optimal alpha:\")\n",
    "print(alpha_star)\n",
    "\n",
    "try:\n",
    "    w,b = get_wb(X, y, alpha_star)\n",
    "\n",
    "    print(\"Optimal w: [%f,%f] b: %f\" % (w[0],w[1],b))\n",
    "    plot_mf(Xf,Xm)\n",
    "    plot_w(w,b)\n",
    "except Exception as e:\n",
    "    print(e)"
   ]
  },
  {
   "cell_type": "code",
   "execution_count": 17,
   "metadata": {},
   "outputs": [
    {
     "name": "stdout",
     "output_type": "stream",
     "text": [
      "Q rank: 200\n",
      "     pcost       dcost       gap    pres   dres\n",
      " 0: -4.7407e+01 -1.3372e+02  9e+01  1e-14  2e+00\n",
      " 1: -5.4301e+01 -6.2393e+01  8e+00  1e-14  3e-01\n",
      " 2: -5.6861e+01 -5.8521e+01  2e+00  8e-15  4e-02\n",
      " 3: -5.6994e+01 -5.7285e+01  3e-01  1e-14  6e-03\n",
      " 4: -5.7022e+01 -5.7048e+01  3e-02  3e-14  3e-04\n",
      " 5: -5.7026e+01 -5.7027e+01  8e-04  2e-14  8e-06\n",
      " 6: -5.7027e+01 -5.7027e+01  3e-05  3e-14  1e-07\n",
      " 7: -5.7027e+01 -5.7027e+01  2e-06  5e-15  1e-09\n",
      "Optimal solution found.\n",
      "Optimal alpha:\n",
      "[1.19601724e-08 5.98521245e-01 5.43537678e-01 1.16130539e+00\n",
      " 8.97423363e-01 1.07670334e+00 1.22691147e+00 4.51762445e-01\n",
      " 1.03286002e+00 1.35539750e+00 2.64740546e-01 7.51277036e-01\n",
      " 1.35549115e+00 6.39533286e-01 9.18104812e-09 5.39419655e-01\n",
      " 6.42978002e-01 4.65284010e-01 7.42171453e-01 6.90892323e-01\n",
      " 7.71950474e-01 6.96250161e-01 5.59916342e-01 9.85108772e-01\n",
      " 1.11194626e+00 2.25788208e-01 3.56676487e-01 4.17004033e-01\n",
      " 1.35549296e+00 4.08819262e-01 1.62841343e-01 5.08846421e-01\n",
      " 1.07454665e-02 8.89449046e-01 2.87117960e-07 1.22443328e+00\n",
      " 7.32931939e-01 1.00595161e-07 6.81206609e-01 5.60952207e-01\n",
      " 3.02813880e-01 1.40781144e-02 4.12516217e-01 1.35510297e+00\n",
      " 6.19264839e-09 8.10629776e-01 1.34302193e+00 1.35549296e+00\n",
      " 8.29295571e-01 1.79442655e-08 1.03829749e+00 1.71583693e-02\n",
      " 1.73520584e-01 1.27257592e-01 5.15076901e-01 1.49123245e-08\n",
      " 4.62771812e-01 1.23467996e+00 1.16588318e+00 3.33076172e-07\n",
      " 4.43384356e-01 3.72516080e-01 4.88079897e-01 1.14252498e+00\n",
      " 8.70854236e-01 2.02660072e-08 6.74603932e-01 5.74621441e-01\n",
      " 1.98979625e-07 7.80149301e-01 7.55956005e-01 9.71327819e-08\n",
      " 4.34047600e-01 4.10208916e-01 2.01986751e-01 6.42538308e-01\n",
      " 1.73129127e-01 1.37985179e-08 1.29937595e-01 5.64034645e-01\n",
      " 8.68906093e-01 2.82762545e-01 4.89596969e-01 9.55259388e-01\n",
      " 6.81430904e-01 1.04763804e+00 5.47600503e-01 6.97080433e-01\n",
      " 1.27014658e+00 9.25931882e-01 8.16771772e-01 5.85293327e-01\n",
      " 1.91249477e-08 2.18454795e-08 1.26539184e-08 6.56880624e-09\n",
      " 2.91698317e-01 9.34541816e-01 7.19165154e-01 1.64633197e-07\n",
      " 3.46572596e-01 6.41015741e-01 6.44027612e-01 6.44507037e-01\n",
      " 3.47223983e-01 6.44507037e-01 6.44507037e-01 4.47081794e-01\n",
      " 6.05135004e-01 3.67301993e-01 5.45087094e-01 6.41594510e-01\n",
      " 6.41026920e-01 3.59044675e-01 5.06288650e-01 5.09313168e-01\n",
      " 3.23236705e-01 4.86729499e-01 6.44277120e-01 3.52787082e-01\n",
      " 6.44414399e-01 2.62931016e-01 6.44235392e-01 6.44312878e-01\n",
      " 5.45064540e-01 6.44495152e-01 4.25600460e-01 5.24942490e-01\n",
      " 6.44507037e-01 6.44471740e-01 6.44507037e-01 4.47081794e-01\n",
      " 6.44505799e-01 5.53316683e-01 6.44507036e-01 6.44507037e-01\n",
      " 6.44507029e-01 6.44501759e-01 3.52787120e-01 6.41594503e-01\n",
      " 6.44483411e-01 6.39911259e-01 6.44506692e-01 6.44507037e-01\n",
      " 6.44476665e-01 6.44506617e-01 6.44507018e-01 6.44507037e-01\n",
      " 6.44507034e-01 6.44452134e-01 6.44320997e-01 5.11633805e-01\n",
      " 6.42319278e-01 6.44506183e-01 6.44398343e-01 6.44506841e-01\n",
      " 4.69023194e-01 3.67505619e-01 6.05135003e-01 6.32728815e-01\n",
      " 6.44479200e-01 6.44439189e-01 6.44507037e-01 6.36174562e-01\n",
      " 6.26933596e-01 6.44405821e-01 6.36174562e-01 3.33439993e-01\n",
      " 6.44189275e-01 6.43560388e-01 6.43338349e-01 6.44507037e-01\n",
      " 6.44502895e-01 5.48885645e-01 3.59673442e-01 6.44498338e-01\n",
      " 6.28950845e-01 3.09476019e-01 4.15542811e-01 4.15996376e-01\n",
      " 6.44505420e-01 4.86731192e-01 6.44507021e-01 6.19709459e-01\n",
      " 3.59046050e-01 6.44507017e-01 6.44503347e-01 6.44190500e-01\n",
      " 5.54752772e-01 6.44312878e-01 6.26938766e-01 6.34493193e-01\n",
      " 5.11599817e-01 5.53979833e-01 6.23815408e-01 6.34493193e-01\n",
      " 6.44405826e-01 2.88505898e-01 6.44507028e-01 5.48885592e-01]\n",
      "(2, 1)\n",
      "Optimal w: [0.152045,0.988374] b: 0.016720\n"
     ]
    }
   ],
   "source": [
    "# Linear kernel below. We might also try\n",
    "# XX, T = preprocess(X)\n",
    "# K = gauss_kernel(XX)\n",
    "\n",
    "K = gauss_kernel(X);\n",
    "\n",
    "Q = np.multiply(y * y.T, K)\n",
    "print('Q rank: %d' % np.linalg.matrix_rank(Q))\n",
    "c = -np.ones([m]);\n",
    "A = -np.eye(m);\n",
    "b = np.zeros([m]);\n",
    "E = y.T;\n",
    "d = np.zeros(1);\n",
    "alpha_star = cvxopt_solve_qp(Q, c, A, b, E, d);\n",
    "print(\"Optimal alpha:\")\n",
    "print(alpha_star)\n",
    "\n",
    "w,b = get_wb(X, y, alpha_star)\n",
    "w = w.reshape(-1,1)\n",
    "print(w.shape)\n",
    "\n",
    "print(\"Optimal w: [%f,%f] b: %f\" % (w[0],w[1],b))"
   ]
  },
  {
   "cell_type": "code",
   "execution_count": 18,
   "metadata": {},
   "outputs": [
    {
     "data": {
      "text/plain": [
       "1.0"
      ]
     },
     "execution_count": 18,
     "metadata": {},
     "output_type": "execute_result"
    }
   ],
   "source": [
    "def predict(x,X,y,alpha):\n",
    "    s = []\n",
    "    sigma = 0.2\n",
    "    for j in range(x.shape[0]):\n",
    "        ss = 0\n",
    "        for i in range(X.shape[0]):\n",
    "            ss += alpha[i]*y[i]*np.exp((-(X[i]-x[j])@(X[i]-x[j]))/(2*sigma*sigma))\n",
    "        s.append(ss)\n",
    "    s = np.array(s)\n",
    "    s[s >= 0] = 1\n",
    "    s[s < 0] = -1\n",
    "    return s\n",
    "    \n",
    "y_pred = predict(X,X,y,alpha_star)\n",
    "np.sum(y == y_pred)/y.size"
   ]
  },
  {
   "cell_type": "code",
   "execution_count": 19,
   "metadata": {},
   "outputs": [],
   "source": [
    "x_series = np.linspace(-15,15,100)\n",
    "y_series = np.linspace(-15,15,100)\n",
    "\n",
    "x_mesh,y_mesh = np.meshgrid(x_series,y_series)\n",
    "\n",
    "x_mesh = x_mesh.reshape(-1,1)\n",
    "y_mesh = y_mesh.reshape(-1,1)\n",
    "\n",
    "mesh = np.append(x_mesh,y_mesh,axis=1)\n",
    "y_pred = predict(mesh,X,y,alpha_star)\n",
    "\n",
    "x_mesh = x_mesh.reshape(100,100)\n",
    "y_mesh = y_mesh.reshape(100,100)\n",
    "y_pred = y_pred.reshape(100,100)"
   ]
  },
  {
   "cell_type": "code",
   "execution_count": 20,
   "metadata": {},
   "outputs": [
    {
     "data": {
      "text/plain": [
       "<matplotlib.collections.QuadMesh at 0x7f49d0196c88>"
      ]
     },
     "execution_count": 20,
     "metadata": {},
     "output_type": "execute_result"
    },
    {
     "data": {
      "image/png": "[encoded data removed]",
      "text/plain": [
       "<Figure size 432x288 with 1 Axes>"
      ]
     },
     "metadata": {
      "needs_background": "light"
     },
     "output_type": "display_data"
    }
   ],
   "source": [
    "\n",
    "#plt.scatter(mesh[:,0],mesh[:,1],c=y_pred)\n",
    "plot_mf(X1,X2)\n",
    "plt.pcolormesh(x_mesh,y_mesh,y_pred,cmap='viridis',shading='auto',alpha=0.1)"
   ]
  }
 ],
 "metadata": {
  "kernelspec": {
   "display_name": "Python 3",
   "language": "python",
   "name": "python3"
  },
  "language_info": {
   "codemirror_mode": {
    "name": "ipython",
    "version": 3
   },
   "file_extension": ".py",
   "mimetype": "text/x-python",
   "name": "python",
   "nbconvert_exporter": "python",
   "pygments_lexer": "ipython3",
   "version": "3.6.9"
  }
 },
 "nbformat": 4,
 "nbformat_minor": 4
}
