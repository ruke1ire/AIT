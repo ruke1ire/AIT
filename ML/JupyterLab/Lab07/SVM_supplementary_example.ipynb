{
 "cells": [
  {
   "cell_type": "markdown",
   "metadata": {},
   "source": [
    "### SVM supplementary example"
   ]
  },
  {
   "cell_type": "markdown",
   "metadata": {},
   "source": [
    "In this example we will implement SVM classification using linear and Gaussian kernel.\n",
    "\n",
    "This example has been adapted from <a herf=\"https://pythonprogramming.net/soft-margin-kernel-cvxopt-svm-machine-learning-tutorial/\">pythonprogramming.net</a>"
   ]
  },
  {
   "cell_type": "code",
   "execution_count": 1,
   "metadata": {},
   "outputs": [],
   "source": [
    "import numpy as np\n",
    "from numpy import linalg\n",
    "import cvxopt\n",
    "import cvxopt.solvers\n",
    "import pylab as pl"
   ]
  },
  {
   "cell_type": "markdown",
   "metadata": {},
   "source": [
    "Define linear, polynomial and Gaussian kernel."
   ]
  },
  {
   "cell_type": "code",
   "execution_count": 2,
   "metadata": {},
   "outputs": [],
   "source": [
    "def linear_kernel(x1, x2):\n",
    "    return np.dot(x1, x2)\n",
    "\n",
    "def polynomial_kernel(x, y, p=3):\n",
    "    return (1 + np.dot(x, y)) ** p\n",
    "\n",
    "def gaussian_kernel(x, y, sigma=5.0):\n",
    "    return np.exp(-linalg.norm(x-y)**2 / (2 * (sigma ** 2)))"
   ]
  },
  {
   "cell_type": "markdown",
   "metadata": {},
   "source": [
    "Define **fit** function to implement cvxopt using linear, polynomial and Gaussian kernel. \n",
    "\n",
    "Here the C hyperparameter controls the level of misclassification in SVM optimization. So the C hypermeter which is set before the training model and used to control error, a very small value of C will cause the optimizer to look for a larger-margin (soft margin) separating hyperplane, even if that hyperplane misclassifies more datapairs.\n",
    "\n",
    "Here **a** are the Lagrange multipliers and **sv** are the support vectors.\n"
   ]
  },
  {
   "cell_type": "code",
   "execution_count": 3,
   "metadata": {},
   "outputs": [],
   "source": [
    "\n",
    "def fit(X, y, kernel, C):\n",
    "    n_samples, n_features = X.shape\n",
    "\n",
    "    # Gram matrix\n",
    "    # initialize kernel matrix    \n",
    "    K = np.zeros((n_samples, n_samples))\n",
    "    # Kernel matrix\n",
    "    \n",
    "    for i in range(n_samples):\n",
    "        for j in range(n_samples):\n",
    "            if kernel == 'linear_kernel':\n",
    "                K[i,j] = linear_kernel(X[i], X[j])\n",
    "            elif kernel == 'polynomial_kernel':\n",
    "                K[i,j] = polynomial_kernel(X[i], X[j])\n",
    "            else:\n",
    "                K[i,j] = gaussian_kernel(X[i], X[j])\n",
    "            \n",
    "     \n",
    "    P = cvxopt.matrix(np.outer(y,y) * K)\n",
    "    q = cvxopt.matrix(np.ones(n_samples) * -1)\n",
    "    A = cvxopt.matrix(y, (1,n_samples))\n",
    "    b = cvxopt.matrix(0.0)\n",
    "\n",
    "    if C is None:\n",
    "        G = cvxopt.matrix(np.diag(np.ones(n_samples) * -1))\n",
    "        h = cvxopt.matrix(np.zeros(n_samples))\n",
    "    else:\n",
    "        tmp1 = np.diag(np.ones(n_samples) * -1)\n",
    "        tmp2 = np.identity(n_samples)\n",
    "        G = cvxopt.matrix(np.vstack((tmp1, tmp2)))\n",
    "        tmp1 = np.zeros(n_samples)\n",
    "        tmp2 = np.ones(n_samples) * C\n",
    "        h = cvxopt.matrix(np.hstack((tmp1, tmp2)))\n",
    "\n",
    "    # solve QP problem\n",
    "    solution = cvxopt.solvers.qp(P, q, G, h, A, b)\n",
    "\n",
    "    # Lagrange multipliers\n",
    "    a = np.ravel(solution['x'])\n",
    "\n",
    "    # Support vectors have non zero lagrange multipliers\n",
    "    sv_idx = a > 1e-5\n",
    "    ind = np.arange(len(a))[sv_idx]\n",
    "    a = a[sv_idx]    \n",
    "    sv = X[sv_idx]\n",
    "    sv_y = y[sv_idx]\n",
    "    print(\"%d support vectors out of %d points\" % (len(a), n_samples))\n",
    "\n",
    "    # Intercept\n",
    "    b = 0\n",
    "    for n in range(len(a)):\n",
    "        b += sv_y[n]\n",
    "        b -= np.sum(a * sv_y * K[ind[n],sv_idx])\n",
    "    b /= len(a)\n",
    "\n",
    "    # Weight vector\n",
    "    if kernel == 'linear_kernel':\n",
    "        w = np.zeros(n_features)\n",
    "        for n in range(len(a)):\n",
    "            w += a[n] * sv_y[n] * sv[n]\n",
    "    else:\n",
    "        w = None\n",
    "    return sv, sv_y, a, w, b\n"
   ]
  },
  {
   "cell_type": "markdown",
   "metadata": {},
   "source": [
    " Define **project** and **predict** function."
   ]
  },
  {
   "cell_type": "code",
   "execution_count": 4,
   "metadata": {},
   "outputs": [],
   "source": [
    "def project(X, kernel,sv, sv_y, a, w, b):\n",
    "    if w is not None:\n",
    "        return np.dot(X, w) + b\n",
    "    else:\n",
    "        y_predict = np.zeros(len(X))\n",
    "        for i in range(len(X)):\n",
    "            s = 0\n",
    "            for a_val, sv_y_val, sv_val in zip(a, sv_y, sv):\n",
    "                if kernel == 'polynomial_kernel':\n",
    "                    s += a_val * sv_y_val * polynomial_kernel(X[i], sv_val)\n",
    "                else:\n",
    "                    s += a_val * sv_y_val * gaussian_kernel(X[i], sv_val)\n",
    "            y_predict[i] = s\n",
    "        return y_predict + b\n",
    "\n",
    "def predict(X, kernel, sv, sv_y, a, w, b):\n",
    "    return np.sign(project(X, kernel,sv, sv_y, a, w, b))\n"
   ]
  },
  {
   "cell_type": "code",
   "execution_count": 5,
   "metadata": {},
   "outputs": [],
   "source": [
    "def gen_lin_separable_data():\n",
    "    # generate training data in the 2-d case\n",
    "    mean1 = np.array([0, 2])\n",
    "    mean2 = np.array([2, 0])\n",
    "    cov = np.array([[0.8, 0.6], [0.6, 0.8]])\n",
    "    X1 = np.random.multivariate_normal(mean1, cov, 100)\n",
    "    y1 = np.ones(len(X1))\n",
    "    X2 = np.random.multivariate_normal(mean2, cov, 100)\n",
    "    y2 = np.ones(len(X2)) * -1\n",
    "    return X1, y1, X2, y2\n",
    "\n",
    "def gen_non_lin_separable_data():\n",
    "    mean1 = [-1, 2]\n",
    "    mean2 = [1, -1]\n",
    "    mean3 = [4, -4]\n",
    "    mean4 = [-4, 4]\n",
    "    cov = [[1.0,0.8], [0.8, 1.0]]\n",
    "    X1 = np.random.multivariate_normal(mean1, cov, 50)\n",
    "    X1 = np.vstack((X1, np.random.multivariate_normal(mean3, cov, 50)))\n",
    "    y1 = np.ones(len(X1))\n",
    "    X2 = np.random.multivariate_normal(mean2, cov, 50)\n",
    "    X2 = np.vstack((X2, np.random.multivariate_normal(mean4, cov, 50)))\n",
    "    y2 = np.ones(len(X2)) * -1\n",
    "    return X1, y1, X2, y2\n",
    "\n",
    "def gen_lin_separable_overlap_data():\n",
    "    # generate training data in the 2-d case\n",
    "    mean1 = np.array([0, 2])\n",
    "    mean2 = np.array([2, 0])\n",
    "    cov = np.array([[1.5, 1.0], [1.0, 1.5]])\n",
    "    X1 = np.random.multivariate_normal(mean1, cov, 100)\n",
    "    y1 = np.ones(len(X1))\n",
    "    X2 = np.random.multivariate_normal(mean2, cov, 100)\n",
    "    y2 = np.ones(len(X2)) * -1\n",
    "    return X1, y1, X2, y2"
   ]
  },
  {
   "cell_type": "code",
   "execution_count": 6,
   "metadata": {},
   "outputs": [],
   "source": [
    "def split_train(X1, y1, X2, y2):\n",
    "    X1_train = X1[:90]\n",
    "    y1_train = y1[:90]\n",
    "    X2_train = X2[:90]\n",
    "    y2_train = y2[:90]\n",
    "    X_train = np.vstack((X1_train, X2_train))\n",
    "    y_train = np.hstack((y1_train, y2_train))\n",
    "    return X_train, y_train\n",
    "\n",
    "def split_test(X1, y1, X2, y2):\n",
    "    X1_test = X1[90:]\n",
    "    y1_test = y1[90:]\n",
    "    X2_test = X2[90:]\n",
    "    y2_test = y2[90:]\n",
    "    X_test = np.vstack((X1_test, X2_test))\n",
    "    y_test = np.hstack((y1_test, y2_test))\n",
    "    return X_test, y_test"
   ]
  },
  {
   "cell_type": "code",
   "execution_count": 7,
   "metadata": {},
   "outputs": [],
   "source": [
    "def plot_margin(X1_train, X2_train, w, b, sv):\n",
    "    def f(x, w, b, c=0):\n",
    "        # given x, return y such that [x,y] in on the line\n",
    "        # w.x + b = c\n",
    "        return (-w[0] * x - b + c) / w[1]\n",
    "\n",
    "    pl.plot(X1_train[:,0], X1_train[:,1], \"ro\")\n",
    "    pl.plot(X2_train[:,0], X2_train[:,1], \"bo\")\n",
    "    pl.scatter(sv[:,0], sv[:,1], s=100, c=\"g\")\n",
    "\n",
    "    # w.x + b = 0\n",
    "    a0 = -4; a1 = f(a0, w, b)\n",
    "    b0 = 4; b1 = f(b0, w, b)\n",
    "    pl.plot([a0,b0], [a1,b1], \"k\")\n",
    "\n",
    "    # w.x + b = 1\n",
    "    a0 = -4; a1 = f(a0, w, b, 1)\n",
    "    b0 = 4; b1 = f(b0, w, b, 1)\n",
    "    pl.plot([a0,b0], [a1,b1], \"k--\")\n",
    "\n",
    "    # w.x + b = -1\n",
    "    a0 = -4; a1 = f(a0, w, b, -1)\n",
    "    b0 = 4; b1 = f(b0, w, b, -1)\n",
    "    pl.plot([a0,b0], [a1,b1], \"k--\")\n",
    "\n",
    "    pl.axis(\"tight\")\n",
    "    pl.show()\n"
   ]
  },
  {
   "cell_type": "code",
   "execution_count": 8,
   "metadata": {},
   "outputs": [],
   "source": [
    "def plot_contour(X1_train, X2_train, kernel, sv, sv_y, a, w, b):\n",
    "    pl.plot(X1_train[:,0], X1_train[:,1], \"ro\")\n",
    "    pl.plot(X2_train[:,0], X2_train[:,1], \"bo\")\n",
    "    pl.scatter(sv[:,0], sv[:,1], s=100, c=\"g\")\n",
    "    # here we choose the range between -7 and 7 as we have choosen\n",
    "    # the mean to be between -4 and 4 while generating data with the variance of 0.8\n",
    "    X1, X2 = np.meshgrid(np.linspace(-7,7,50), np.linspace(-7,7,50))\n",
    "    X = np.array([[x1, x2] for x1, x2 in zip(np.ravel(X1), np.ravel(X2))])\n",
    "    Z = project(X, kernel,sv, sv_y, a, w, b).reshape(X1.shape)\n",
    "    pl.contour(X1, X2, Z, [0.0], colors='k', linewidths=1, origin='lower')\n",
    "    pl.contour(X1, X2, Z + 1, [0.0], colors='grey', linewidths=1, origin='lower')\n",
    "    pl.contour(X1, X2, Z - 1, [0.0], colors='grey', linewidths=1, origin='lower')\n",
    "\n",
    "    pl.axis(\"tight\")\n",
    "    pl.show()"
   ]
  },
  {
   "cell_type": "code",
   "execution_count": 9,
   "metadata": {},
   "outputs": [],
   "source": [
    "def test_linear():\n",
    "    X1, y1, X2, y2 = gen_lin_separable_data()\n",
    "    X_train, y_train = split_train(X1, y1, X2, y2)\n",
    "    X_test, y_test = split_test(X1, y1, X2, y2)\n",
    "\n",
    "    kernel = 'linear_kernel'\n",
    "    C = None\n",
    "    sv, sv_y, a, w, b = fit(X_train, y_train,kernel, C)\n",
    "\n",
    "    y_predict = predict(X_test,kernel,sv, sv_y, a, w, b)\n",
    "    correct = np.sum(y_predict == y_test)\n",
    "    print(\"%d out of %d predictions correct\" % (correct, len(y_predict)))\n",
    "\n",
    "    plot_margin(X_train[y_train==1], X_train[y_train==-1], w, b, sv)\n",
    "\n",
    "def test_non_linear():\n",
    "    X1, y1, X2, y2 = gen_non_lin_separable_data()\n",
    "    X_train, y_train = split_train(X1, y1, X2, y2)\n",
    "    X_test, y_test = split_test(X1, y1, X2, y2)\n",
    "\n",
    "    kernel = 'gaussian_kernel'\n",
    "    C = None\n",
    "    sv, sv_y, a, w, b = fit(X_train, y_train,kernel, C)\n",
    "    y_predict = predict(X_test,kernel,sv, sv_y, a, w, b)\n",
    "    correct = np.sum(y_predict == y_test)\n",
    "    print(\"%d out of %d predictions correct\" % (correct, len(y_predict)))\n",
    "\n",
    "    plot_contour(X_train[y_train==1], X_train[y_train==-1], kernel, sv, sv_y, a, w, b)\n",
    "\n",
    "def test_soft():\n",
    "    X1, y1, X2, y2 = gen_lin_separable_overlap_data()\n",
    "    X_train, y_train = split_train(X1, y1, X2, y2)\n",
    "    X_test, y_test = split_test(X1, y1, X2, y2)\n",
    "\n",
    "    kernel = 'linear_kernel'\n",
    "    C=1000.1\n",
    "    sv, sv_y, a, w, b = fit(X_train, y_train,kernel, C)\n",
    "    y_predict = predict(X_test,kernel,sv, sv_y, a, w, b)\n",
    "    correct = np.sum(y_predict == y_test)\n",
    "    print(\"%d out of %d predictions correct\" % (correct, len(y_predict)))\n",
    "\n",
    "    plot_contour(X_train[y_train==1], X_train[y_train==-1], kernel, sv, sv_y, a, w, b)\n"
   ]
  },
  {
   "cell_type": "code",
   "execution_count": 10,
   "metadata": {},
   "outputs": [
    {
     "name": "stdout",
     "output_type": "stream",
     "text": [
      "     pcost       dcost       gap    pres   dres\n",
      " 0: -1.8913e+01 -4.1196e+01  6e+02  2e+01  2e+00\n",
      " 1: -3.3736e+01 -4.3901e+01  4e+02  1e+01  1e+00\n",
      " 2: -1.0157e+02 -1.1962e+02  4e+02  1e+01  1e+00\n",
      " 3: -3.6701e+02 -4.0511e+02  4e+02  1e+01  1e+00\n",
      " 4: -3.2417e+03 -3.2273e+03  4e+02  1e+01  1e+00\n",
      " 5: -1.5368e+04 -1.5257e+04  7e+02  1e+01  1e+00\n",
      " 6: -1.1068e+02 -2.3192e+02  2e+03  1e+01  1e+00\n",
      " 7: -1.8518e+03 -1.7925e+03  2e+03  9e+00  9e-01\n",
      " 8: -1.6964e+04 -1.5418e+04  3e+03  9e+00  9e-01\n",
      " 9:  4.4380e+03 -5.9285e+03  1e+04  3e-12  6e-12\n",
      "10: -3.6472e+03 -5.8811e+03  2e+03  4e-12  3e-12\n",
      "11: -4.7364e+03 -4.7786e+03  4e+01  9e-13  4e-12\n",
      "12: -4.7676e+03 -4.7681e+03  4e-01  6e-12  4e-12\n",
      "13: -4.7680e+03 -4.7680e+03  4e-03  9e-13  5e-12\n",
      "Optimal solution found.\n",
      "3 support vectors out of 180 points\n",
      "20 out of 20 predictions correct\n"
     ]
    },
    {
     "data": {
      "image/png": "[encoded data removed]",
      "text/plain": [
       "<Figure size 432x288 with 1 Axes>"
      ]
     },
     "metadata": {
      "needs_background": "light"
     },
     "output_type": "display_data"
    }
   ],
   "source": [
    "test_linear()"
   ]
  },
  {
   "cell_type": "code",
   "execution_count": 11,
   "metadata": {},
   "outputs": [
    {
     "name": "stdout",
     "output_type": "stream",
     "text": [
      "     pcost       dcost       gap    pres   dres\n",
      " 0: -5.2730e+01 -1.4630e+02  4e+02  2e+01  2e+00\n",
      " 1: -7.9629e+01 -1.6770e+02  2e+02  6e+00  6e-01\n",
      " 2: -1.0467e+02 -1.9313e+02  1e+02  4e+00  5e-01\n",
      " 3: -1.4188e+02 -2.0784e+02  1e+02  2e+00  2e-01\n",
      " 4: -1.7831e+02 -2.2764e+02  6e+01  8e-01  8e-02\n",
      " 5: -2.0238e+02 -2.1365e+02  1e+01  2e-01  2e-02\n",
      " 6: -2.0785e+02 -2.0945e+02  2e+00  3e-04  3e-05\n",
      " 7: -2.0926e+02 -2.0928e+02  2e-02  3e-06  3e-07\n",
      " 8: -2.0927e+02 -2.0927e+02  2e-04  3e-08  3e-09\n",
      "Optimal solution found.\n",
      "12 support vectors out of 180 points\n",
      "20 out of 20 predictions correct\n"
     ]
    },
    {
     "data": {
      "image/png": "[encoded data removed]",
      "text/plain": [
       "<Figure size 432x288 with 1 Axes>"
      ]
     },
     "metadata": {
      "needs_background": "light"
     },
     "output_type": "display_data"
    }
   ],
   "source": [
    "test_non_linear()"
   ]
  },
  {
   "cell_type": "code",
   "execution_count": 12,
   "metadata": {},
   "outputs": [
    {
     "name": "stdout",
     "output_type": "stream",
     "text": [
      "     pcost       dcost       gap    pres   dres\n",
      " 0:  1.5393e+05 -9.6128e+07  2e+08  6e-01  7e-12\n",
      " 1:  4.5317e+05 -1.8409e+07  3e+07  5e-02  1e-11\n",
      " 2:  4.0416e+05 -3.2506e+06  5e+06  7e-03  5e-12\n",
      " 3:  1.5886e+05 -8.7208e+05  1e+06  1e-03  4e-12\n",
      " 4:  1.7563e+04 -8.9665e+04  1e+05  2e-12  4e-12\n",
      " 5: -2.2454e+03 -2.2593e+04  2e+04  2e-12  4e-12\n",
      " 6: -4.1911e+03 -8.3359e+03  4e+03  2e-12  4e-12\n",
      " 7: -4.3610e+03 -8.4640e+03  4e+03  1e-12  4e-12\n",
      " 8: -4.4447e+03 -6.5246e+03  2e+03  2e-12  5e-12\n",
      " 9: -4.5572e+03 -5.7773e+03  1e+03  1e-12  4e-12\n",
      "10: -4.7288e+03 -5.8095e+03  1e+03  2e-12  4e-12\n",
      "11: -5.1007e+03 -5.2513e+03  2e+02  6e-13  5e-12\n",
      "12: -5.1233e+03 -5.1251e+03  2e+00  1e-12  6e-12\n",
      "13: -5.1237e+03 -5.1237e+03  2e-02  6e-13  6e-12\n",
      "14: -5.1237e+03 -5.1237e+03  2e-04  2e-12  6e-12\n",
      "Optimal solution found.\n",
      "7 support vectors out of 180 points\n",
      "18 out of 20 predictions correct\n"
     ]
    },
    {
     "data": {
      "image/png": "[encoded data removed]",
      "text/plain": [
       "<Figure size 432x288 with 1 Axes>"
      ]
     },
     "metadata": {
      "needs_background": "light"
     },
     "output_type": "display_data"
    }
   ],
   "source": [
    "test_soft()"
   ]
  },
  {
   "cell_type": "code",
   "execution_count": null,
   "metadata": {},
   "outputs": [],
   "source": []
  }
 ],
 "metadata": {
  "kernelspec": {
   "display_name": "Python 3",
   "language": "python",
   "name": "python3"
  },
  "language_info": {
   "codemirror_mode": {
    "name": "ipython",
    "version": 3
   },
   "file_extension": ".py",
   "mimetype": "text/x-python",
   "name": "python",
   "nbconvert_exporter": "python",
   "pygments_lexer": "ipython3",
   "version": "3.6.9"
  }
 },
 "nbformat": 4,
 "nbformat_minor": 4
}
