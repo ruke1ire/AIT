{
 "cells": [
  {
   "cell_type": "markdown",
   "metadata": {},
   "source": [
    "# Assignment 1: **Linear Regression**\n",
    "## Task\n",
    "*Find an interesting dataset for linear regression on Kaggle. Implement the normal equations and gradient descent then evaluate your model's performance.*\n",
    "\n",
    "*Write a brief report on your experiments and results in the form of a Jupyter notebook.*\n",
    "\n",
    "*Your report is due before the next lab session on Aug 18.*"
   ]
  },
  {
   "cell_type": "markdown",
   "metadata": {},
   "source": [
    "## Dataset\n",
    "The dataset I have chosen for this assignment is taken from [this link](https://www.kaggle.com/neuromusic/avocado-prices/data). I will be attempting to create a linear model predicting the price of avocados."
   ]
  },
  {
   "cell_type": "code",
   "execution_count": 1,
   "metadata": {},
   "outputs": [],
   "source": [
    "# import all necessary libraries\n",
    "import numpy as np\n",
    "import matplotlib.pyplot as plt"
   ]
  },
  {
   "cell_type": "markdown",
   "metadata": {},
   "source": [
    "Out of all the columns available I selected \"year of harvest\" and \"type\" (organic or conventional) to be the independent variable which then is used to approximate the price of the avocado."
   ]
  },
  {
   "cell_type": "code",
   "execution_count": 2,
   "metadata": {},
   "outputs": [
    {
     "name": "stdout",
     "output_type": "stream",
     "text": [
      "Types [0,1]:\n",
      "['conventional' 'organic']\n",
      "Data:\n",
      "[[1.350e+00 0.000e+00 2.015e+03]\n",
      " [9.300e-01 0.000e+00 2.015e+03]\n",
      " [1.080e+00 0.000e+00 2.015e+03]\n",
      " ...\n",
      " [1.870e+00 1.000e+00 2.018e+03]\n",
      " [1.930e+00 1.000e+00 2.018e+03]\n",
      " [1.620e+00 1.000e+00 2.018e+03]]\n"
     ]
    }
   ],
   "source": [
    "#import raw data\n",
    "raw_data = np.genfromtxt('resources/avocado.csv', delimiter=\",\", dtype=str)\n",
    "#delete irrelevant data for linear regression\n",
    "selected_raw_data = np.delete(raw_data, [0,1,3,4,5,6,7,8,9,10,13],1)\n",
    "#get the headers\n",
    "headers = selected_raw_data[0]\n",
    "#delete the first row containing the headers\n",
    "selected_raw_data = np.delete(selected_raw_data, 0,0)\n",
    "#convert \"organic\" and \"conventional\" to their respective unique integers\n",
    "types, indexed_type = np.unique(selected_raw_data[:,1], return_inverse=True)\n",
    "selected_raw_data[:,1] = indexed_type\n",
    "print(\"Types [0,1]:\")\n",
    "print(types)\n",
    "#convert selected data to float\n",
    "data = np.array(selected_raw_data[1:,:],dtype=float)\n",
    "print(\"Data:\")\n",
    "print(data)"
   ]
  },
  {
   "cell_type": "code",
   "execution_count": 3,
   "metadata": {},
   "outputs": [
    {
     "name": "stdout",
     "output_type": "stream",
     "text": [
      "['AveragePrice' 'type' 'year']\n"
     ]
    },
    {
     "data": {
      "image/png": "[encoded data removed]",
      "text/plain": [
       "<Figure size 1440x360 with 3 Axes>"
      ]
     },
     "metadata": {
      "needs_background": "light"
     },
     "output_type": "display_data"
    }
   ],
   "source": [
    "fig, ax = plt.subplots(1,3)\n",
    "fig.set_figheight(5)\n",
    "fig.set_figwidth(20)\n",
    "fig.subplots_adjust(left=.2, bottom=None, right=None, top=None, wspace=.2, hspace=.2)\n",
    "plt1 = plt.subplot(1,3,1)\n",
    "plt2 = plt.subplot(1,3,2)\n",
    "plt3 = plt.subplot(1,3,3)\n",
    "\n",
    "plt1.hist(data[:,0], edgecolor='black')\n",
    "plt1.set_title('Price')\n",
    "plt1.set_xlabel('Dollars')\n",
    "plt1.set_ylabel('Frequency')\n",
    "plt1.grid(axis='both', alpha=.25)\n",
    "\n",
    "plt2.hist(data[:,1], edgecolor='black')\n",
    "plt2.set_title('Type')\n",
    "plt2.set_xlabel('')\n",
    "plt2.set_ylabel('Frequency')\n",
    "plt2.grid(axis='both', alpha=.25)\n",
    "\n",
    "plt3.hist(data[:,2], edgecolor='black')\n",
    "plt3.set_title('Year')\n",
    "plt3.set_xlabel('')\n",
    "plt3.set_ylabel('Frequency')\n",
    "plt3.grid(axis='both', alpha=.25)\n",
    "\n",
    "print(headers)\n",
    "plt.show()"
   ]
  },
  {
   "cell_type": "markdown",
   "metadata": {},
   "source": [
    "## Gradient Descent\n",
    "In order to perform gradient descent, the data is normalized in order to prevent errors which can arise from the difference in scale."
   ]
  },
  {
   "cell_type": "code",
   "execution_count": 4,
   "metadata": {},
   "outputs": [],
   "source": [
    "#Normalizing data\n",
    "mean = np.mean(data,axis=0)\n",
    "std = np.std(data,axis=0)\n",
    "data_norm = (data-mean)/std\n",
    "\n",
    "yy = data_norm[:,0]\n",
    "X = data_norm[:,1:]\n",
    "X = np.insert(X, 0, 1, axis=1)\n",
    "\n",
    "n = X.shape[0]\n",
    "m = X.shape[1]\n",
    "yy = yy.reshape(n,1)"
   ]
  },
  {
   "cell_type": "markdown",
   "metadata": {},
   "source": [
    "The following functions will be used to perform gradient decent."
   ]
  },
  {
   "cell_type": "code",
   "execution_count": 5,
   "metadata": {},
   "outputs": [],
   "source": [
    "def gradient(X, y, theta):\n",
    "    grad = X.T@(X@theta-y)\n",
    "    return grad\n",
    "\n",
    "def cost(theta, X, y):\n",
    "    return (X@theta - y).T@(X@theta - y)/(2*n)\n",
    "\n",
    "def gradient_descent(X, y, theta_initial, alpha, num_iters):\n",
    "    J_per_iter = np.zeros(num_iters)\n",
    "    gradient_per_iter = np.zeros((num_iters,len(theta_initial)))\n",
    "    theta = theta_initial\n",
    "    for i in np.arange(num_iters):\n",
    "        grad = gradient(X, y, theta)\n",
    "        theta = theta - alpha * grad\n",
    "        J_per_iter[i] = cost(theta, X, y)\n",
    "        gradient_per_iter[i] = grad.T\n",
    "    return (theta, J_per_iter, gradient_per_iter)"
   ]
  },
  {
   "cell_type": "markdown",
   "metadata": {},
   "source": [
    "The parameters *Theta* are then found using the gradient descent algorithm with learning rate *alpha* set to 0.0001, iterations set to 30."
   ]
  },
  {
   "cell_type": "code",
   "execution_count": 6,
   "metadata": {},
   "outputs": [
    {
     "name": "stdout",
     "output_type": "stream",
     "text": [
      "Gradient Decent Theta:\n",
      " [[1.26084920e-14]\n",
      " [6.13957943e-01]\n",
      " [9.29735285e-02]]\n"
     ]
    }
   ],
   "source": [
    "theta_initial = np.zeros((m,1))\n",
    "alpha = 0.0001\n",
    "iterations = 30\n",
    "theta_gradient_decent,cost_,grad = gradient_descent(X,yy,theta_initial,alpha,iterations)\n",
    "print('Gradient Decent Theta:\\n', theta_gradient_decent)"
   ]
  },
  {
   "cell_type": "markdown",
   "metadata": {},
   "source": [
    "The following plot visualizes the cost and the iterations."
   ]
  },
  {
   "cell_type": "code",
   "execution_count": 7,
   "metadata": {},
   "outputs": [
    {
     "data": {
      "image/png": "[encoded data removed]",
      "text/plain": [
       "<Figure size 432x288 with 1 Axes>"
      ]
     },
     "metadata": {
      "needs_background": "light"
     },
     "output_type": "display_data"
    }
   ],
   "source": [
    "x_loss = np.arange(0,iterations,1)\n",
    "\n",
    "plt.plot(x_loss,cost_,'b-')\n",
    "plt.xlabel('iterations')\n",
    "plt.ylabel('loss')\n",
    "plt.show()"
   ]
  },
  {
   "cell_type": "markdown",
   "metadata": {},
   "source": [
    "Theta is then analytically calculated to confirm the gradient descent algorithm. The analytical solution was found by finding the parameter values which makes the cost function's gradient be 0."
   ]
  },
  {
   "cell_type": "code",
   "execution_count": 8,
   "metadata": {},
   "outputs": [
    {
     "name": "stdout",
     "output_type": "stream",
     "text": [
      "Optimal Theta:\n",
      " [[1.12410081e-14]\n",
      " [6.15861289e-01]\n",
      " [9.32494441e-02]]\n",
      "Gradient at Theta(should be approximately 0):\n",
      " [[1.98383532e-11]\n",
      " [4.52189397e-11]\n",
      " [2.03215222e-11]]\n"
     ]
    }
   ],
   "source": [
    "theta_normal_function = np.linalg.inv(X.T@X)@X.T@yy\n",
    "print(\"Optimal Theta:\\n\",theta_normal_function)\n",
    "print(\"Gradient at Theta(should be approximately 0):\\n\", gradient(X,yy, theta_normal_function))"
   ]
  },
  {
   "cell_type": "markdown",
   "metadata": {},
   "source": [
    "The *R Square* is then found to be approximately 0.39. This is a relatively low value which shows that a linear function may not be the most suitable function to predict the price from the selected independent variables."
   ]
  },
  {
   "cell_type": "code",
   "execution_count": 9,
   "metadata": {},
   "outputs": [
    {
     "name": "stdout",
     "output_type": "stream",
     "text": [
      "R Square: 0.38796547568307815\n"
     ]
    }
   ],
   "source": [
    "y_predicted =  X@theta_gradient_decent\n",
    "r_square = 1 - ((np.square(yy - y_predicted)).sum())/((np.square(yy - yy.mean())).sum())\n",
    "print(\"R Square:\",r_square)"
   ]
  },
  {
   "cell_type": "markdown",
   "metadata": {},
   "source": [
    "##### According to this model, the price for an organic avocado harvested in the year 2020 is approximated to be **\\$1.8066!**"
   ]
  },
  {
   "cell_type": "code",
   "execution_count": 10,
   "metadata": {},
   "outputs": [
    {
     "name": "stdout",
     "output_type": "stream",
     "text": [
      "[1.80667081]\n"
     ]
    }
   ],
   "source": [
    "example_year = 2020\n",
    "example_type = 1\n",
    "example_X = np.array([1,example_type,example_year])\n",
    "prediction = (((example_X-mean)/std)@(theta_gradient_decent))*std[0]+mean[0]\n",
    "print(prediction)"
   ]
  },
  {
   "cell_type": "markdown",
   "metadata": {},
   "source": [
    "To conclude, this assignment has helped me understand how linear regression can be performed and evaluated.  "
   ]
  }
 ],
 "metadata": {
  "kernelspec": {
   "display_name": "Python 3",
   "language": "python",
   "name": "python3"
  },
  "language_info": {
   "codemirror_mode": {
    "name": "ipython",
    "version": 3
   },
   "file_extension": ".py",
   "mimetype": "text/x-python",
   "name": "python",
   "nbconvert_exporter": "python",
   "pygments_lexer": "ipython3",
   "version": "3.8.3"
  }
 },
 "nbformat": 4,
 "nbformat_minor": 4
}
