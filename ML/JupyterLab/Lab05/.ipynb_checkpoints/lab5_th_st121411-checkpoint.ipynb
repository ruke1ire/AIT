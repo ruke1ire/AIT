{
 "cells": [
  {
   "cell_type": "markdown",
   "metadata": {},
   "source": [
    "# Lab 5: Take home exercise\n",
    "## st121411\n",
    "___\n",
    "\n",
    "> #### The polar conversion portion of the take home exercise is in the **in lab exercise 5 (lab5_ilab_st121411.ipynb)** jupyter notebook sent together with this notebook as it uses the same dataset as the *in lab exercise 5*. \n",
    "\n",
    "___\n",
    "\n",
    "This notebook shows the application of newton's method onto the dataset from *take home exercise 3*. "
   ]
  },
  {
   "cell_type": "code",
   "execution_count": 1,
   "metadata": {},
   "outputs": [
    {
     "name": "stdout",
     "output_type": "stream",
     "text": [
      "Training data shape (614, 13)\n",
      "Training data:\n",
      "       Loan_ID  Gender Married Dependents     Education Self_Employed  \\\n",
      "0    LP001002    Male      No          0      Graduate            No   \n",
      "1    LP001003    Male     Yes          1      Graduate            No   \n",
      "2    LP001005    Male     Yes          0      Graduate           Yes   \n",
      "3    LP001006    Male     Yes          0  Not Graduate            No   \n",
      "4    LP001008    Male      No          0      Graduate            No   \n",
      "..        ...     ...     ...        ...           ...           ...   \n",
      "609  LP002978  Female      No          0      Graduate            No   \n",
      "610  LP002979    Male     Yes         3+      Graduate            No   \n",
      "611  LP002983    Male     Yes          1      Graduate            No   \n",
      "612  LP002984    Male     Yes          2      Graduate            No   \n",
      "613  LP002990  Female      No          0      Graduate           Yes   \n",
      "\n",
      "     ApplicantIncome  CoapplicantIncome  LoanAmount  Loan_Amount_Term  \\\n",
      "0               5849                0.0         NaN             360.0   \n",
      "1               4583             1508.0       128.0             360.0   \n",
      "2               3000                0.0        66.0             360.0   \n",
      "3               2583             2358.0       120.0             360.0   \n",
      "4               6000                0.0       141.0             360.0   \n",
      "..               ...                ...         ...               ...   \n",
      "609             2900                0.0        71.0             360.0   \n",
      "610             4106                0.0        40.0             180.0   \n",
      "611             8072              240.0       253.0             360.0   \n",
      "612             7583                0.0       187.0             360.0   \n",
      "613             4583                0.0       133.0             360.0   \n",
      "\n",
      "     Credit_History Property_Area Loan_Status  \n",
      "0               1.0         Urban           Y  \n",
      "1               1.0         Rural           N  \n",
      "2               1.0         Urban           Y  \n",
      "3               1.0         Urban           Y  \n",
      "4               1.0         Urban           Y  \n",
      "..              ...           ...         ...  \n",
      "609             1.0         Rural           Y  \n",
      "610             1.0         Rural           Y  \n",
      "611             1.0         Urban           Y  \n",
      "612             1.0         Urban           Y  \n",
      "613             0.0     Semiurban           N  \n",
      "\n",
      "[614 rows x 13 columns]\n"
     ]
    }
   ],
   "source": [
    "# Import Pandas. You may need to run \"pip3 install pandas\" at the console if it's not already installed\n",
    "import numpy as np\n",
    "import pandas as pd\n",
    "import matplotlib.pyplot as plt\n",
    "\n",
    "# Import the data\n",
    "\n",
    "data_train = pd.read_csv('train_LoanPrediction.csv')\n",
    "#data_test = pd.read_csv('test_LoanPrediction.csv')\n",
    "\n",
    "# Start to explore the data\n",
    "\n",
    "print('Training data shape', data_train.shape)\n",
    "\n",
    "print('Training data:\\n', data_train)"
   ]
  },
  {
   "cell_type": "markdown",
   "metadata": {},
   "source": [
    "## Cleaning the data"
   ]
  },
  {
   "cell_type": "code",
   "execution_count": 2,
   "metadata": {},
   "outputs": [
    {
     "name": "stdout",
     "output_type": "stream",
     "text": [
      "Missing values for train data:\n",
      "------------------------\n",
      " Loan_ID               0\n",
      "Gender               13\n",
      "Married               3\n",
      "Dependents           15\n",
      "Education             0\n",
      "Self_Employed        32\n",
      "ApplicantIncome       0\n",
      "CoapplicantIncome     0\n",
      "LoanAmount           22\n",
      "Loan_Amount_Term     14\n",
      "Credit_History       50\n",
      "Property_Area         0\n",
      "Loan_Status           0\n",
      "dtype: int64\n"
     ]
    }
   ],
   "source": [
    "# Check for missing values in the training and test data\n",
    "\n",
    "print('Missing values for train data:\\n------------------------\\n', data_train.isnull().sum())"
   ]
  },
  {
   "cell_type": "code",
   "execution_count": 3,
   "metadata": {},
   "outputs": [],
   "source": [
    "# Compute ratio of each category value\n",
    "# Divide the missing values based on ratio\n",
    "# Fillin the missing values\n",
    "# Print the values before and after filling the missing values for confirmation\n",
    "\n",
    "married = data_train['Married'].value_counts()\n",
    "\n",
    "def fill_martial_status(data, yes_num_train, no_num_train):        \n",
    "    data['Married'].fillna('Yes', inplace = True, limit = yes_num_train)\n",
    "    data['Married'].fillna('No', inplace = True, limit = no_num_train)  \n",
    "\n",
    "fill_martial_status(data_train, 2, 1)"
   ]
  },
  {
   "cell_type": "code",
   "execution_count": 4,
   "metadata": {},
   "outputs": [],
   "source": [
    "dependent = data_train['Dependents'].value_counts()\n",
    "def fill_dependent_status(num_0_train, num_1_train, num_2_train, num_3_train,):        \n",
    "    data_train['Dependents'].fillna('0', inplace=True, limit = num_0_train)\n",
    "    data_train['Dependents'].fillna('1', inplace=True, limit = num_1_train)\n",
    "    data_train['Dependents'].fillna('2', inplace=True, limit = num_2_train)\n",
    "    data_train['Dependents'].fillna('3+', inplace=True, limit = num_3_train)\n",
    "\n",
    "fill_dependent_status(9, 2, 2, 2)\n",
    "\n",
    "data_train['Dependents'].replace('3+', 4, inplace = True)"
   ]
  },
  {
   "cell_type": "code",
   "execution_count": 5,
   "metadata": {},
   "outputs": [],
   "source": [
    "LoanAmt = data_train['LoanAmount'].value_counts()\n",
    "loan_amount_mean = np.mean(data_train[\"LoanAmount\"])\n",
    "\n",
    "data_train['LoanAmount'].fillna(loan_amount_mean, inplace=True)"
   ]
  },
  {
   "cell_type": "code",
   "execution_count": 6,
   "metadata": {},
   "outputs": [],
   "source": [
    "Gender = data_train['Gender'].value_counts()\n",
    "\n",
    "def fill_gender_status(data, yes_num_train, no_num_train):        \n",
    "    data['Gender'].fillna('Male', inplace = True, limit = yes_num_train)\n",
    "    data['Gender'].fillna('Female', inplace = True, limit = no_num_train)  \n",
    "\n",
    "fill_gender_status(data_train,11, 3)\n",
    "\n",
    "Gender = data_train['Gender'].value_counts()"
   ]
  },
  {
   "cell_type": "code",
   "execution_count": 7,
   "metadata": {},
   "outputs": [],
   "source": [
    "selfe = data_train['Self_Employed'].value_counts()\n",
    "\n",
    "def fill_selfe_status(data, yes_num_train, no_num_train):        \n",
    "    data['Self_Employed'].fillna('Yes', inplace = True, limit = yes_num_train)\n",
    "    data['Self_Employed'].fillna('No', inplace = True, limit = no_num_train)  \n",
    "\n",
    "fill_selfe_status(data_train, 6, 30)"
   ]
  },
  {
   "cell_type": "code",
   "execution_count": 8,
   "metadata": {},
   "outputs": [],
   "source": [
    "LoanAmt = data_train['Loan_Amount_Term'].value_counts()\n",
    "\n",
    "loan_amount_term_mean = np.mean(data_train[\"Loan_Amount_Term\"])\n",
    "\n",
    "data_train['Loan_Amount_Term'].fillna(loan_amount_term_mean, inplace=True)"
   ]
  },
  {
   "cell_type": "code",
   "execution_count": 9,
   "metadata": {},
   "outputs": [],
   "source": [
    "selfe = data_train['Credit_History'].value_counts()\n",
    "\n",
    "def fill_credith_status(data, yes_num_train, no_num_train):        \n",
    "    data['Credit_History'].fillna(1.0, inplace = True, limit = yes_num_train)\n",
    "    data['Credit_History'].fillna(0.0, inplace = True, limit = no_num_train)  \n",
    "\n",
    "fill_credith_status(data_train, 45, 9)"
   ]
  },
  {
   "cell_type": "markdown",
   "metadata": {},
   "source": [
    "## Creating X and y"
   ]
  },
  {
   "cell_type": "code",
   "execution_count": 10,
   "metadata": {},
   "outputs": [],
   "source": [
    "#create design matrix X and y\n",
    "\n",
    "X = data_train.iloc[:,1:-1].copy()\n",
    "\n",
    "X.loc[X['Gender'] == 'Male', 'Gender'] = 0\n",
    "X.loc[X['Gender'] == 'Female', 'Gender'] = 1\n",
    "X.loc[X['Married'] == 'No', 'Married'] = 0\n",
    "X.loc[X['Married'] == 'Yes', 'Married'] = 1\n",
    "X.loc[X['Education'] == 'Graduate', 'Education'] = 1\n",
    "X.loc[X['Education'] == 'Not Graduate', 'Education'] = 0\n",
    "X.loc[X['Self_Employed'] == 'Yes', 'Self_Employed'] = 1\n",
    "X.loc[X['Self_Employed'] == 'No', 'Self_Employed'] = 0\n",
    "X.loc[X['Property_Area'] == 'Urban', 'Property_Area'] = 1\n",
    "X.loc[X['Property_Area'] == 'Semiurban', 'Property_Area'] = 2\n",
    "X.loc[X['Property_Area'] == 'Rural', 'Property_Area'] = 0\n",
    "\n",
    "X_train = X.values.astype(float)\n",
    "\n",
    "mean = np.mean(X_train,axis=0)\n",
    "std = np.std(X_train,axis=0)\n",
    "\n",
    "X_train = (X_train-mean)/std\n",
    "\n",
    "y = data_train['Loan_Status'].copy()\n",
    "\n",
    "y[y == 'Y'] = 1\n",
    "y[y == 'N']= 0\n",
    "\n",
    "y_train = y.values.astype(float).reshape(-1,1)\n",
    "\n",
    "ix = np.arange(X_train.shape[0])\n",
    "np.random.shuffle(ix)\n",
    "percentage = 0.7\n",
    "ix_train = ix[:int(percentage*ix.size)]\n",
    "ix_test = ix[int(percentage*ix.size):]\n",
    "X_test = X_train[ix_test]\n",
    "X_train = X_train[ix_train]\n",
    "y_test = y_train[ix_test]\n",
    "y_train = y_train[ix_train]"
   ]
  },
  {
   "cell_type": "code",
   "execution_count": 11,
   "metadata": {},
   "outputs": [
    {
     "name": "stdout",
     "output_type": "stream",
     "text": [
      "(429, 12) (185, 12)\n"
     ]
    }
   ],
   "source": [
    "m,n = X_train.shape\n",
    "\n",
    "theta_initial = np.zeros(n+1)\n",
    "\n",
    "X_train = np.insert(X_train, 0, 1, axis=1)\n",
    "X_test = np.insert(X_test,0,1,axis=1)\n",
    "print(X_train.shape,X_test.shape)"
   ]
  },
  {
   "cell_type": "markdown",
   "metadata": {},
   "source": [
    "## Newton's Method class"
   ]
  },
  {
   "cell_type": "code",
   "execution_count": 12,
   "metadata": {},
   "outputs": [],
   "source": [
    "class Logistic_NM: #logistic regression for newton's method\n",
    "      \n",
    "    def __init__(self):\n",
    "        pass\n",
    "    \n",
    "    def sigmoid(self,z):   \n",
    "        return 1 / (1 + np.exp(-z))\n",
    "\n",
    "    def h(self,X, theta):\n",
    "        return self.sigmoid(X @ theta)\n",
    "\n",
    "    def gradient(self, X, y, y_pred):\n",
    "        m = len(y)\n",
    "        grad = - X.T @ (y - y_pred) / m\n",
    "        return grad\n",
    "        \n",
    "    def hessian(self, X, y, theta):\n",
    "        m = len(y)\n",
    "        y_pred = self.h(X,theta).reshape(-1,1)\n",
    "        hess_mat = X.T@X*(y_pred.T@(1-y_pred))/m\n",
    "        return hess_mat\n",
    "        \n",
    "    def costFunc(self, theta, X, y):    \n",
    "        m = len(y)\n",
    "        y_pred = self.h(X,theta)\n",
    "        error = (-y * np.log(y_pred)) - ((1 - y) * np.log(1 - y_pred))\n",
    "        cost = 1/m * sum(error)    \n",
    "        grad = self.gradient(X, y, y_pred)\n",
    "        return cost, grad\n",
    "    \n",
    "    def newtonsMethod(self, X, y, theta, num_iters):\n",
    "        m = len(y)\n",
    "        J_history = []\n",
    "        theta_history = []\n",
    "        for i in range(num_iters):\n",
    "            cost, grad = self.costFunc(theta,X,y)\n",
    "            theta = theta - np.linalg.inv(self.hessian(X,y,theta))@grad\n",
    "            J_history.append(cost)\n",
    "            theta_history.append(theta)\n",
    "        J_min_index = np.argmin(J_history)\n",
    "        print(\"Minimum at iteration:\", J_min_index)\n",
    "        return theta_history[J_min_index] , J_history\n",
    "\n",
    "    def predict(self,X, theta):\n",
    "        labels=[]\n",
    "        for i in range(0,X.shape[0]):\n",
    "            y1=self.h(X[i].reshape(1,-1),theta)\n",
    "            if y1 >=  0.5:\n",
    "                labels.append(1)\n",
    "            else:\n",
    "                labels.append(0)\n",
    "        \n",
    "        labels=np.asarray(labels)\n",
    "        return labels\n",
    "     \n",
    "    def getAccuracy(self,X,y,theta):\n",
    "        y_pred=self.predict(X,theta)\n",
    "        correct=np.sum(y_pred == y)\n",
    "        total = y.size\n",
    "        return (float(correct)/float(total))*100"
   ]
  },
  {
   "cell_type": "code",
   "execution_count": 13,
   "metadata": {},
   "outputs": [
    {
     "name": "stdout",
     "output_type": "stream",
     "text": [
      "Minimum at iteration: 9998\n",
      "theta: [ 0.84501801  0.13141877  0.24336304 -0.00362081  0.0308602  -0.02251761\n",
      "  0.0271095  -0.07558125  0.03929003 -0.00386329  1.35922758  0.32079032]\n"
     ]
    }
   ],
   "source": [
    "NM_model = Logistic_NM()\n",
    "\n",
    "iterations = 10000\n",
    "\n",
    "nm_theta, nm_cost = NM_model.newtonsMethod(X_train, y_train.reshape(-1), theta_initial, iterations)\n",
    "print(\"theta:\",nm_theta)"
   ]
  },
  {
   "cell_type": "code",
   "execution_count": 14,
   "metadata": {},
   "outputs": [
    {
     "data": {
      "text/plain": [
       "[<matplotlib.lines.Line2D at 0x7fed0e787d68>]"
      ]
     },
     "execution_count": 14,
     "metadata": {},
     "output_type": "execute_result"
    },
    {
     "data": {
      "image/png": "[encoded data removed]",
      "text/plain": [
       "<Figure size 432x288 with 1 Axes>"
      ]
     },
     "metadata": {
      "needs_background": "light"
     },
     "output_type": "display_data"
    }
   ],
   "source": [
    "iter_series = np.linspace(1,iterations,iterations)\n",
    "plt.plot(iter_series,nm_cost)"
   ]
  },
  {
   "cell_type": "code",
   "execution_count": 15,
   "metadata": {},
   "outputs": [
    {
     "name": "stdout",
     "output_type": "stream",
     "text": [
      "Accuracy = 79.45945945945945\n"
     ]
    }
   ],
   "source": [
    "print(\"Accuracy =\",NM_model.getAccuracy(X_test,y_test.reshape(-1),nm_theta))"
   ]
  },
  {
   "cell_type": "code",
   "execution_count": 16,
   "metadata": {},
   "outputs": [],
   "source": [
    "# define class for logistic regression: batch gradient descent\n",
    "class Logistic_BGD:\n",
    "      \n",
    "    def __init__(self):\n",
    "        pass\n",
    "    \n",
    "    def sigmoid(self,z):   \n",
    "        return 1 / (1 + np.exp(-z))\n",
    "\n",
    "    def softmax(self, z):\n",
    "        z -= np.max(z)\n",
    "        return np.exp(z) / np.sum(np.exp(z))\n",
    "    \n",
    "    def h(self,X, theta):\n",
    "        return self.sigmoid(X @ theta)\n",
    "    \n",
    "    def h2(self, X, theta):\n",
    "        return self.softmax(np.dot(X,theta))\n",
    "    \n",
    "    def gradient(self, X, y, y_pred):\n",
    "        m = len(y)\n",
    "        grad = - X.T @ (y - y_pred) / m\n",
    "        return grad\n",
    "        \n",
    "    def costFunc(self, theta, X, y):    \n",
    "        m = len(y)\n",
    "        y_pred = self.h(X,theta)\n",
    "        error = (-y * np.log(y_pred)) - ((1 - y) * np.log(1 - y_pred))\n",
    "        cost = 1/m * sum(error)    \n",
    "        grad = self.gradient(X, y, y_pred)\n",
    "        return cost, grad\n",
    "    \n",
    "    def gradientAscent(self, X, y, theta, alpha, num_iters):\n",
    "        m = len(y)\n",
    "        J_history = []\n",
    "        theta_history = []\n",
    "        for i in range(num_iters):\n",
    "            cost, grad = self.costFunc(theta,X,y)\n",
    "            theta = theta - alpha * grad\n",
    "            J_history.append(cost)\n",
    "            theta_history.append(theta)\n",
    "        J_min_index = np.argmin(J_history)\n",
    "        print(\"Minimum at iteration:\",J_min_index)\n",
    "        return theta_history[J_min_index] , J_history\n",
    "\n",
    "    def predict(self,X, theta):\n",
    "        labels=[]\n",
    "        for i in range(0,X.shape[0]):\n",
    "            y1=self.h(X[i].reshape(1,-1),theta)\n",
    "            if y1 >=  0.5:\n",
    "                labels.append(1)\n",
    "            else:\n",
    "                labels.append(0)\n",
    "        \n",
    "        labels=np.asarray(labels)\n",
    "        return labels\n",
    "     \n",
    "    def getAccuracy(self,X,y,theta):\n",
    "        y_pred=self.predict(X,theta)\n",
    "        correct=np.sum(y_pred == y)\n",
    "        total = y.size\n",
    "        return (float(correct)/float(total))*100"
   ]
  },
  {
   "cell_type": "code",
   "execution_count": 17,
   "metadata": {},
   "outputs": [
    {
     "name": "stdout",
     "output_type": "stream",
     "text": [
      "Minimum at iteration: 49\n",
      "[ 0.84711162  0.12688081  0.24068714 -0.00420599  0.03226402 -0.02195647\n",
      "  0.0266584  -0.07653244  0.03832746 -0.0037745   1.34968592  0.31937233]\n"
     ]
    }
   ],
   "source": [
    "alpha = 1\n",
    "iterations = 50\n",
    "\n",
    "BGD_model = Logistic_BGD()\n",
    "\n",
    "bgd_theta, bgd_cost =  BGD_model.gradientAscent(X_train,y_train.reshape(-1),theta_initial,alpha,iterations)\n",
    "print(bgd_theta)"
   ]
  },
  {
   "cell_type": "code",
   "execution_count": 18,
   "metadata": {},
   "outputs": [
    {
     "data": {
      "text/plain": [
       "[<matplotlib.lines.Line2D at 0x7fed0e672860>]"
      ]
     },
     "execution_count": 18,
     "metadata": {},
     "output_type": "execute_result"
    },
    {
     "data": {
      "image/png": "[encoded data removed]",
      "text/plain": [
       "<Figure size 432x288 with 1 Axes>"
      ]
     },
     "metadata": {
      "needs_background": "light"
     },
     "output_type": "display_data"
    }
   ],
   "source": [
    "iter_series = np.linspace(1,iterations,iterations)\n",
    "plt.plot(iter_series,bgd_cost)"
   ]
  },
  {
   "cell_type": "code",
   "execution_count": 19,
   "metadata": {},
   "outputs": [
    {
     "name": "stdout",
     "output_type": "stream",
     "text": [
      "Accuracy = 79.45945945945945\n"
     ]
    }
   ],
   "source": [
    "print(\"Accuracy =\",BGD_model.getAccuracy(X_test,y_test.reshape(-1),bgd_theta))"
   ]
  },
  {
   "cell_type": "markdown",
   "metadata": {},
   "source": [
    "We were able to find the optimal theta in approximately 10000 iterations by using Newton's Method. Surprisingly, when batch gradient descent was used, I was able to reduce the iterations down to only 50 iterations. Although Newton's Method is very easy to tune because it only has one variable(number of iterations) batch gradient descent gives us more flexibility for choosing different values of alpha as well."
   ]
  },
  {
   "cell_type": "markdown",
   "metadata": {},
   "source": [
    "Although not entirely sure of the reason, I can guess that Newton's Method works very well in non complex datasets, but when there are multiple independent variables(12), Newton's Method does not perform as well compared to batch gradient descent."
   ]
  }
 ],
 "metadata": {
  "kernelspec": {
   "display_name": "Python 3",
   "language": "python",
   "name": "python3"
  },
  "language_info": {
   "codemirror_mode": {
    "name": "ipython",
    "version": 3
   },
   "file_extension": ".py",
   "mimetype": "text/x-python",
   "name": "python",
   "nbconvert_exporter": "python",
   "pygments_lexer": "ipython3",
   "version": "3.6.9"
  }
 },
 "nbformat": 4,
 "nbformat_minor": 4
}
