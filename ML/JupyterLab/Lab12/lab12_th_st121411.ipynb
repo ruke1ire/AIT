{
 "cells": [
  {
   "cell_type": "markdown",
   "metadata": {},
   "source": [
    "# Lab12 : Take Home Exercise\n",
    "\n",
    "## st121411"
   ]
  },
  {
   "cell_type": "code",
   "execution_count": 1,
   "metadata": {},
   "outputs": [],
   "source": [
    "import numpy as np\n",
    "import matplotlib.pyplot as plt\n",
    "import pandas as pd\n",
    "import warnings\n",
    "warnings.filterwarnings(\"ignore\")"
   ]
  },
  {
   "cell_type": "code",
   "execution_count": 223,
   "metadata": {},
   "outputs": [],
   "source": [
    "def init_gmm(X, k):\n",
    "    m = X.shape[0]\n",
    "    n = X.shape[1]\n",
    "    Mu = np.zeros((n,k))\n",
    "    Sigma = np.zeros((k,n,n))\n",
    "    Phi = np.zeros(k)\n",
    "    order = np.random.permutation(m)\n",
    "    for j in range(k):\n",
    "        # Initially assign equal probability to each cluster/outcome\n",
    "        Phi[j] = 1/k      \n",
    "        # Ramdomly assign mean to one of the data points       \n",
    "        Mu[:,j] = X[order[j],:].T\n",
    "        # Initial covariance is identity matrix\n",
    "        Sigma[j,:,:] = np.eye(n)\n",
    "    return Phi, Mu, Sigma\n",
    "\n",
    "\n",
    "def Gaussian(X, mean, covariance):\n",
    "    k = len(mean)\n",
    "    X = X - mean.T\n",
    "    p = 1/((2*np.pi)**(k/2)*(np.linalg.det(covariance)**0.5)) * np.exp(-0.5 * np.sum(X @ np.linalg.pinv(covariance) * X, axis=1))\n",
    "    return p\n",
    "\n",
    "def gaussian(x, mean,covariance):\n",
    "    k = len(mean)\n",
    "    X = (x - mean).reshape(-1,1)\n",
    "    p = 1/((2*np.pi)**(k/2)*(np.linalg.det(covariance)**0.5)) * np.exp(-0.5 * (X.T @ np.linalg.pinv(covariance) @ X))\n",
    "    return p\n",
    "\n",
    "\n",
    "# Run one iteration of EM\n",
    "\n",
    "def iterate_em_gmm(X, threshold, Phi, Mu, Sigma):\n",
    "    m = X.shape[0]\n",
    "    n = X.shape[1]\n",
    "    k = len(Phi)\n",
    "    threshold = np.reshape(np.repeat(threshold, n*k), (n,k))\n",
    "    pj_arr = np.zeros((m,k))\n",
    "    \n",
    "    # E-step: calculate w_j^i\n",
    "    W = np.zeros((m, k))\n",
    "    for j in range(k):\n",
    "        pj = Gaussian(X, Mu[:,j], Sigma[j])\n",
    "        pj_arr[:,j] = pj\n",
    "        W[:,j] = Phi[j] * pj\n",
    "    \n",
    "    # W tells us what is the relative weight of each cluster for each data point\n",
    "    W[:,:] = W * np.tile(1/np.sum(W,1),(k,1)).T+0.00001\n",
    "    \n",
    "    a = np.sum(W,axis=1)\n",
    "#     for i,aa in enumerate(a):\n",
    "#         #print(X[i])\n",
    "#         print(aa)\n",
    "\n",
    "    # M-step: adjust mean and sigma\n",
    "    Phi[:] = sum(W) / m\n",
    "    Mu_previous = Mu.copy()\n",
    "    for j in range(k):\n",
    "        # Split cluster specific W for each dimension\n",
    "        Wj = np.tile(W[:,j],(n,1)).T\n",
    "        # Compute Mu for each variable for each cluster\n",
    "        Mu[:,j] = sum(X * Wj)/sum(Wj)\n",
    "        #print(Mu)\n",
    "        Muj = np.tile(Mu[:,j],(m,1))\n",
    "        Sigma[j,:,:] = np.matmul((X - Muj).T, (X - Muj) * Wj) / sum(W[:,j])\n",
    "\n",
    "    if (abs(Mu-Mu_previous) <= threshold).all():\n",
    "        converged = True\n",
    "    else:\n",
    "        converged = False\n",
    "\n",
    "    labels = np.argmax(pj_arr, axis = 1)\n",
    "    pj = np.max(pj_arr,axis=1)\n",
    "    X_label = np.insert(X, 2, labels, axis=1)\n",
    "    return converged, pj, X_label\n"
   ]
  },
  {
   "cell_type": "markdown",
   "metadata": {},
   "source": [
    "### Example 3 Customer segmentation\n",
    "\n",
    "This example is based on [Nguyen Hanh's tutorial on Medium.com](https://medium.com/@nguyenbaha/buiding-customer-segmentation-by-gmm-from-scratch-4ea6adc3da1c). In this example we use the Kaggle [OnlineRetail.csv](https://www.kaggle.com/vijayuv/onlineretail) dataset for customer segmentation. "
   ]
  },
  {
   "cell_type": "code",
   "execution_count": 3,
   "metadata": {},
   "outputs": [
    {
     "name": "stdout",
     "output_type": "stream",
     "text": [
      "  InvoiceNo StockCode                          Description  Quantity  \\\n",
      "0    536365    85123A   WHITE HANGING HEART T-LIGHT HOLDER         6   \n",
      "1    536365     71053                  WHITE METAL LANTERN         6   \n",
      "2    536365    84406B       CREAM CUPID HEARTS COAT HANGER         8   \n",
      "3    536365    84029G  KNITTED UNION FLAG HOT WATER BOTTLE         6   \n",
      "4    536365    84029E       RED WOOLLY HOTTIE WHITE HEART.         6   \n",
      "\n",
      "  InvoiceDate  UnitPrice CustomerID         Country  TotalSum  \n",
      "0   12/1/2010       2.55      17850  United Kingdom     15.30  \n",
      "1   12/1/2010       3.39      17850  United Kingdom     20.34  \n",
      "2   12/1/2010       2.75      17850  United Kingdom     22.00  \n",
      "3   12/1/2010       3.39      17850  United Kingdom     20.34  \n",
      "4   12/1/2010       3.39      17850  United Kingdom     20.34  \n"
     ]
    }
   ],
   "source": [
    "data = pd.read_csv('Online_Retail.csv')\n",
    "data = data.iloc[0:5000,:]\n",
    "print(data.head())\n",
    "data = data.drop(['InvoiceNo','Description', 'CustomerID'], axis = 1)"
   ]
  },
  {
   "cell_type": "code",
   "execution_count": 4,
   "metadata": {},
   "outputs": [
    {
     "name": "stdout",
     "output_type": "stream",
     "text": [
      "StockCode       object\n",
      "Quantity         int64\n",
      "InvoiceDate     object\n",
      "UnitPrice      float64\n",
      "Country         object\n",
      "TotalSum       float64\n",
      "dtype: object\n"
     ]
    }
   ],
   "source": [
    "print(data.dtypes)"
   ]
  },
  {
   "cell_type": "markdown",
   "metadata": {},
   "source": [
    "Let's view the categorical and numeric columns:"
   ]
  },
  {
   "cell_type": "code",
   "execution_count": 5,
   "metadata": {},
   "outputs": [
    {
     "name": "stdout",
     "output_type": "stream",
     "text": [
      "Index(['StockCode', 'InvoiceDate', 'Country'], dtype='object')\n",
      "Index(['Quantity', 'UnitPrice', 'TotalSum'], dtype='object')\n"
     ]
    }
   ],
   "source": [
    "categorical_colmns = data.select_dtypes(include=['object']).columns\n",
    "print(categorical_colmns)\n",
    "numerical_colmns = data._get_numeric_data().columns\n",
    "print(numerical_colmns)"
   ]
  },
  {
   "cell_type": "code",
   "execution_count": 6,
   "metadata": {},
   "outputs": [
    {
     "data": {
      "text/html": [
       "<div>\n",
       "<style scoped>\n",
       "    .dataframe tbody tr th:only-of-type {\n",
       "        vertical-align: middle;\n",
       "    }\n",
       "\n",
       "    .dataframe tbody tr th {\n",
       "        vertical-align: top;\n",
       "    }\n",
       "\n",
       "    .dataframe thead th {\n",
       "        text-align: right;\n",
       "    }\n",
       "</style>\n",
       "<table border=\"1\" class=\"dataframe\">\n",
       "  <thead>\n",
       "    <tr style=\"text-align: right;\">\n",
       "      <th></th>\n",
       "      <th>Total</th>\n",
       "      <th>Percent</th>\n",
       "    </tr>\n",
       "  </thead>\n",
       "  <tbody>\n",
       "    <tr>\n",
       "      <th>TotalSum</th>\n",
       "      <td>48</td>\n",
       "      <td>0.96</td>\n",
       "    </tr>\n",
       "    <tr>\n",
       "      <th>Country</th>\n",
       "      <td>12</td>\n",
       "      <td>0.24</td>\n",
       "    </tr>\n",
       "    <tr>\n",
       "      <th>UnitPrice</th>\n",
       "      <td>0</td>\n",
       "      <td>0.00</td>\n",
       "    </tr>\n",
       "    <tr>\n",
       "      <th>InvoiceDate</th>\n",
       "      <td>0</td>\n",
       "      <td>0.00</td>\n",
       "    </tr>\n",
       "    <tr>\n",
       "      <th>Quantity</th>\n",
       "      <td>0</td>\n",
       "      <td>0.00</td>\n",
       "    </tr>\n",
       "    <tr>\n",
       "      <th>StockCode</th>\n",
       "      <td>0</td>\n",
       "      <td>0.00</td>\n",
       "    </tr>\n",
       "  </tbody>\n",
       "</table>\n",
       "</div>"
      ],
      "text/plain": [
       "             Total  Percent\n",
       "TotalSum        48     0.96\n",
       "Country         12     0.24\n",
       "UnitPrice        0     0.00\n",
       "InvoiceDate      0     0.00\n",
       "Quantity         0     0.00\n",
       "StockCode        0     0.00"
      ]
     },
     "execution_count": 6,
     "metadata": {},
     "output_type": "execute_result"
    }
   ],
   "source": [
    "def missing_percentage(data):\n",
    "    \"\"\"This function takes a DataFrame(df) as input and returns two columns, \n",
    "     total missing values and total missing values percentage\"\"\"\n",
    "    total = data.isnull().sum().sort_values(ascending = False)\n",
    "    percent = round(data.isnull().sum().sort_values(ascending = False)/len(data)*100,2)\n",
    "    return pd.concat([total, percent], axis=1, keys=['Total','Percent'])\n",
    "\n",
    "\n",
    "missing_percentage(data)\n",
    "\n"
   ]
  },
  {
   "cell_type": "markdown",
   "metadata": {},
   "source": [
    "Next, let's fill the \"na\" values with \"No information\" and 0"
   ]
  },
  {
   "cell_type": "code",
   "execution_count": 7,
   "metadata": {},
   "outputs": [
    {
     "name": "stdout",
     "output_type": "stream",
     "text": [
      "  StockCode  Quantity InvoiceDate  UnitPrice         Country  TotalSum\n",
      "0    85123A         6   12/1/2010       2.55  United Kingdom     15.30\n",
      "1     71053         6   12/1/2010       3.39  United Kingdom     20.34\n",
      "2    84406B         8   12/1/2010       2.75  United Kingdom     22.00\n",
      "3    84029G         6   12/1/2010       3.39  United Kingdom     20.34\n",
      "4    84029E         6   12/1/2010       3.39  United Kingdom     20.34\n"
     ]
    }
   ],
   "source": [
    "data[categorical_colmns] = data[categorical_colmns].fillna(\"No information\")\n",
    "data[numerical_colmns] = data[numerical_colmns].fillna(0)\n",
    "\n",
    "print(data.head())"
   ]
  },
  {
   "cell_type": "code",
   "execution_count": 8,
   "metadata": {},
   "outputs": [
    {
     "name": "stdout",
     "output_type": "stream",
     "text": [
      "   StockCode  Quantity  InvoiceDate  UnitPrice  Country  TotalSum\n",
      "0        0.0       6.0          0.0       2.55      0.0     15.30\n",
      "1        1.0       6.0          0.0       3.39      0.0     20.34\n",
      "2        2.0       8.0          0.0       2.75      0.0     22.00\n",
      "3        3.0       6.0          0.0       3.39      0.0     20.34\n",
      "4        4.0       6.0          0.0       3.39      0.0     20.34\n"
     ]
    }
   ],
   "source": [
    "def category_to_numeric(categorical_columns):\n",
    "    i = 0;\n",
    "    columnname = '';\n",
    "    while i < len(categorical_colmns):\n",
    "        col_idx = data.columns.get_loc(categorical_colmns[i])\n",
    "        distinct_values = data[categorical_colmns[i]].unique()\n",
    "        j = 0;    \n",
    "        for val in distinct_values:\n",
    "            idx = np.where(data[categorical_colmns[i]] == val);\n",
    "            data.iloc[idx[0],col_idx] = j            \n",
    "            j = j + 1;\n",
    "        i = i + 1;\n",
    "        \n",
    "        \n",
    "category_to_numeric(data[categorical_colmns])\n",
    "\n",
    "data = data.astype('float64')\n",
    "print(data.head())"
   ]
  },
  {
   "cell_type": "code",
   "execution_count": 9,
   "metadata": {},
   "outputs": [
    {
     "name": "stdout",
     "output_type": "stream",
     "text": [
      "Quantity     146.544560\n",
      "UnitPrice      5.908027\n",
      "TotalSum      65.901813\n",
      "dtype: float64\n",
      "Quantity     10.941200\n",
      "UnitPrice     3.252928\n",
      "TotalSum     22.146162\n",
      "dtype: float64\n"
     ]
    }
   ],
   "source": [
    "Mu = np.std(data[numerical_colmns])\n",
    "Sigma = np.mean(data[numerical_colmns])\n",
    "print(Mu)\n",
    "print(Sigma)"
   ]
  },
  {
   "cell_type": "code",
   "execution_count": 10,
   "metadata": {},
   "outputs": [
    {
     "data": {
      "text/plain": [
       "Quantity     4650\n",
       "UnitPrice      56\n",
       "TotalSum       12\n",
       "dtype: int64"
      ]
     },
     "execution_count": 10,
     "metadata": {},
     "output_type": "execute_result"
    }
   ],
   "source": [
    "# Check for outliers\n",
    "\n",
    "def cnt_outlier(data,sigma, mu, inc_cols=[]):\n",
    "    num_cols = data.select_dtypes(include=[np.number]).columns\n",
    "    num_cols = [e for e in num_cols if e in inc_cols]\n",
    "    outlier = (data[numerical_colmns]-mu).abs() > sigma**2\n",
    "    return outlier.sum()\n",
    "\n",
    "cnt_outlier(data,Sigma,Mu, numerical_colmns).sort_values(ascending=False)"
   ]
  },
  {
   "cell_type": "code",
   "execution_count": 11,
   "metadata": {},
   "outputs": [
    {
     "name": "stdout",
     "output_type": "stream",
     "text": [
      "No. of duplicated entries:  987\n",
      "      StockCode  Quantity  InvoiceDate  UnitPrice  Country  TotalSum\n",
      "4099        0.0       2.0          2.0       2.95      0.0       5.9\n",
      "4131        0.0       2.0          2.0       2.95      0.0       5.9\n",
      "4190        0.0       2.0          2.0       2.95      0.0       5.9\n",
      "0           0.0       6.0          0.0       2.55      0.0      15.3\n",
      "49          0.0       6.0          0.0       2.55      0.0      15.3\n"
     ]
    }
   ],
   "source": [
    "if len(data[data.duplicated()]) > 0:\n",
    "    print(\"No. of duplicated entries: \", len(data[data.duplicated()]))\n",
    "    print(data[data.duplicated(keep=False)].sort_values(by=list(data.columns)).head())\n",
    "    data.drop_duplicates(inplace=True)\n",
    "else:\n",
    "    print(\"No duplicated entries found\")"
   ]
  },
  {
   "cell_type": "code",
   "execution_count": 298,
   "metadata": {},
   "outputs": [],
   "source": [
    "X = data.values"
   ]
  },
  {
   "cell_type": "code",
   "execution_count": 299,
   "metadata": {},
   "outputs": [],
   "source": [
    "mean = np.mean(X,axis=0)\n",
    "std = np.std(X,axis=0)\n",
    "\n",
    "X = (X-mean)/std"
   ]
  },
  {
   "cell_type": "code",
   "execution_count": 300,
   "metadata": {},
   "outputs": [
    {
     "name": "stdout",
     "output_type": "stream",
     "text": [
      "[[-1.3238868  -0.03572409 -1.0726451  -0.11163787 -0.26564736 -0.11949508]\n",
      " [-1.32140824 -0.03572409 -1.0726451   0.02039671 -0.26564736 -0.05026551]\n",
      " [-1.31892968 -0.02348829 -1.0726451  -0.08020106 -0.26564736 -0.0274637 ]\n",
      " ...\n",
      " [-0.60510319  0.66171654  1.5196613  -0.44643984  6.87883167  0.36263946]\n",
      " [-1.15038731  0.22122772  1.5196613  -0.42600592  6.87883167  0.03297482]\n",
      " [-0.28784697  0.22122772  1.5196613  -0.42600592  6.87883167  0.03297482]]\n"
     ]
    }
   ],
   "source": [
    "print(X)"
   ]
  },
  {
   "cell_type": "code",
   "execution_count": 301,
   "metadata": {},
   "outputs": [
    {
     "name": "stdout",
     "output_type": "stream",
     "text": [
      "(4013, 6)\n"
     ]
    }
   ],
   "source": [
    "print(X.shape)"
   ]
  },
  {
   "cell_type": "markdown",
   "metadata": {},
   "source": [
    "Here I removed extremely values where the standard deviation is greater than 5 as they bump into numerical errors and cause the program to crash."
   ]
  },
  {
   "cell_type": "code",
   "execution_count": 302,
   "metadata": {},
   "outputs": [
    {
     "name": "stdout",
     "output_type": "stream",
     "text": [
      "[   0    1    2 ... 4003 4004 4005]\n"
     ]
    }
   ],
   "source": [
    "far = np.sum(np.abs(X) > 5,axis=1)\n",
    "far_index = np.where(far == 0)[0]\n",
    "print(far_index)"
   ]
  },
  {
   "cell_type": "code",
   "execution_count": 303,
   "metadata": {},
   "outputs": [
    {
     "name": "stdout",
     "output_type": "stream",
     "text": [
      "[[-1.3238868  -0.03572409 -1.0726451  -0.11163787 -0.26564736 -0.11949508]\n",
      " [-1.32140824 -0.03572409 -1.0726451   0.02039671 -0.26564736 -0.05026551]\n",
      " [-1.31892968 -0.02348829 -1.0726451  -0.08020106 -0.26564736 -0.0274637 ]\n",
      " ...\n",
      " [-0.67450298 -0.06631359  1.5196613  -0.04876426 -0.26564736 -0.28913501]\n",
      " [-0.97440925 -0.03572409  1.5196613   0.26560379 -0.26564736  0.0783037 ]\n",
      " [ 1.08775616 -0.29267589  1.5196613  -0.18237068 -0.26564736 -1.36809992]]\n",
      "(3920, 6)\n"
     ]
    }
   ],
   "source": [
    "X = X[far_index,:]\n",
    "print(X)\n",
    "print(X.shape)"
   ]
  },
  {
   "cell_type": "code",
   "execution_count": 317,
   "metadata": {},
   "outputs": [
    {
     "name": "stdout",
     "output_type": "stream",
     "text": [
      "2\t2.6161389468572533\n",
      "3\t4.000412839849241\n",
      "4\t5.194349101349391\n",
      "5\t5.368373840802291\n",
      "6\t6.305881634595087\n",
      "7\t6.344063576868965\n",
      "8\t6.9813860076362255\n"
     ]
    }
   ],
   "source": [
    "K = 8\n",
    "\n",
    "likelihoods = []\n",
    "threshold = np.matrix(.01)\n",
    "\n",
    "for k in range(2,K+1):\n",
    "    print(k,end= \"\\t\")\n",
    "    likelihood = -float('inf')\n",
    "    \n",
    "    for attempt in range(10):\n",
    "        Phi, Mu, Sigma = init_gmm(X, k)\n",
    "\n",
    "        converged = False\n",
    "        while not converged:\n",
    "            converged, pj, X_label = iterate_em_gmm(X, threshold, Phi, Mu, Sigma)\n",
    "\n",
    "        l = np.mean(np.log(pj))\n",
    "        if(l > likelihood):\n",
    "            likelihood = l\n",
    "        \n",
    "    print(likelihood)\n",
    "    likelihoods.append(likelihood)"
   ]
  },
  {
   "cell_type": "code",
   "execution_count": 318,
   "metadata": {},
   "outputs": [
    {
     "data": {
      "image/png": "[encoded data removed]",
      "text/plain": [
       "<Figure size 432x288 with 1 Axes>"
      ]
     },
     "metadata": {
      "needs_background": "light"
     },
     "output_type": "display_data"
    }
   ],
   "source": [
    "plt.plot(range(2,K+1),likelihoods)\n",
    "plt.grid(True)"
   ]
  },
  {
   "cell_type": "markdown",
   "metadata": {},
   "source": [
    "The graph seems to have two elbows at k = 4 and k = 6. We will select k = 4."
   ]
  },
  {
   "cell_type": "code",
   "execution_count": 319,
   "metadata": {},
   "outputs": [
    {
     "name": "stdout",
     "output_type": "stream",
     "text": [
      "4\t"
     ]
    }
   ],
   "source": [
    "k = 4\n",
    "threshold = np.matrix(.01)\n",
    "\n",
    "print(k,end= \"\\t\")\n",
    "likelihood = -float('inf')\n",
    "\n",
    "for attempt in range(5):\n",
    "    Phi, Mu, Sigma = init_gmm(X, k)\n",
    "\n",
    "    converged = False\n",
    "    while not converged:\n",
    "        converged, pj, X_label = iterate_em_gmm(X, threshold, Phi, Mu, Sigma)\n",
    "\n",
    "    l = np.mean(np.log(pj))\n",
    "    if(l > likelihood):\n",
    "        likelihood = l\n",
    "        best_Phi = Phi\n",
    "        best_Mu = Mu\n",
    "        best_Sigma = Sigma"
   ]
  },
  {
   "cell_type": "code",
   "execution_count": 363,
   "metadata": {},
   "outputs": [
    {
     "name": "stdout",
     "output_type": "stream",
     "text": [
      "[ 114  181  322  607 1020 1402 2199 2549 2555 2953 3091 3101 3107 3756]\n"
     ]
    }
   ],
   "source": [
    "m_distance = np.zeros((X.shape[0],best_Mu.shape[1]))\n",
    "\n",
    "for kk in range(best_Mu.shape[1]):\n",
    "    for i, x in enumerate(X):\n",
    "        mu = best_Mu[:,kk]\n",
    "        sig = best_Sigma[kk]\n",
    "        sig_inv = np.linalg.inv(sig)\n",
    "        diff = (mu-x).reshape(-1,1)\n",
    "        distance = np.sqrt(diff.T@sig_inv@diff)\n",
    "        m_distance[i,kk] = distance\n",
    "\n",
    "a = np.argmin(m_distance,axis=1)\n",
    "(unique, counts) = np.unique(a, return_counts=True)\n",
    "\n",
    "max_z_score = 5\n",
    "min_distance = np.min(m_distance,axis=1)\n",
    "outlier = min_distance > max_z_score\n",
    "outlier = np.nonzero(outlier)[0]\n",
    "print(outlier)"
   ]
  },
  {
   "cell_type": "code",
   "execution_count": 364,
   "metadata": {},
   "outputs": [
    {
     "data": {
      "text/plain": [
       "<matplotlib.legend.Legend at 0x7f713efd6fd0>"
      ]
     },
     "execution_count": 364,
     "metadata": {},
     "output_type": "execute_result"
    },
    {
     "data": {
      "image/png": "[encoded data removed]",
      "text/plain": [
       "<Figure size 1080x720 with 1 Axes>"
      ]
     },
     "metadata": {
      "needs_background": "light"
     },
     "output_type": "display_data"
    }
   ],
   "source": [
    "fig = plt.figure(figsize=(15,10))\n",
    "\n",
    "plt.title(\"Mahalanobis Distance vs X\")\n",
    "plt.plot(range(X.shape[0]),np.full(X.shape[0],max_z_score),c='r')\n",
    "plt.ylabel(\"Mahalanobis Distance\")\n",
    "\n",
    "plt.scatter(range(X.shape[0]),min_distance)\n",
    "plt.scatter(outlier,min_distance[outlier],s=150,facecolor='none',edgecolor = 'r',label=\"outliers\")\n",
    "plt.legend()"
   ]
  },
  {
   "cell_type": "code",
   "execution_count": 365,
   "metadata": {},
   "outputs": [
    {
     "data": {
      "text/plain": [
       "array([6.42344043e-007, 1.03030148e-038, 5.11698924e-011, 1.32399910e-152,\n",
       "       2.03340255e-006, 1.52377207e-004, 7.53355374e-146, 8.28582039e-010,\n",
       "       1.35483081e-031, 5.23392882e-034, 1.03100860e-030, 1.52750589e-009,\n",
       "       1.52402446e-009, 1.61894943e-004])"
      ]
     },
     "execution_count": 365,
     "metadata": {},
     "output_type": "execute_result"
    }
   ],
   "source": [
    "pj[outlier]"
   ]
  }
 ],
 "metadata": {
  "kernelspec": {
   "display_name": "Python 3",
   "language": "python",
   "name": "python3"
  },
  "language_info": {
   "codemirror_mode": {
    "name": "ipython",
    "version": 3
   },
   "file_extension": ".py",
   "mimetype": "text/x-python",
   "name": "python",
   "nbconvert_exporter": "python",
   "pygments_lexer": "ipython3",
   "version": "3.6.9"
  }
 },
 "nbformat": 4,
 "nbformat_minor": 4
}
