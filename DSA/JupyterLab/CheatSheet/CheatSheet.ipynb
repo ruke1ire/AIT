{
 "cells": [
  {
   "cell_type": "markdown",
   "metadata": {},
   "source": [
    "# Cheatsheet\n",
    "\n",
    "1. Insertion Sort\n",
    "2. Merge Sort\n",
    "3. Heap Sort\n",
    "4. Quick Sort\n",
    "5. Bucket Sort\n",
    "6. Counting Sort\n",
    "7. Radix Sort\n",
    "8. Find Maximum Subarray"
   ]
  },
  {
   "cell_type": "code",
   "execution_count": 1,
   "metadata": {},
   "outputs": [],
   "source": [
    "import numpy as np"
   ]
  },
  {
   "cell_type": "markdown",
   "metadata": {},
   "source": [
    "## 1. Insertion Sort\n",
    "Use InsertionSortClass.Sort(A) to sort"
   ]
  },
  {
   "cell_type": "code",
   "execution_count": 2,
   "metadata": {},
   "outputs": [],
   "source": [
    "class InsertionSortClass:\n",
    "    def Sort(self,A):\n",
    "        return self.insertionSort(A)\n",
    "\n",
    "    def insertionSort(self,A):\n",
    "        for j in range(1,A.size):\n",
    "            i = j-1\n",
    "            key = A[j]\n",
    "            while (i >= 0) and (key < A[i]):\n",
    "                A[i+1] = A[i]\n",
    "                i = i-1\n",
    "            A[i+1] = key\n",
    "        return A"
   ]
  },
  {
   "cell_type": "code",
   "execution_count": 3,
   "metadata": {},
   "outputs": [
    {
     "data": {
      "text/plain": [
       "array([0, 0, 0, 0, 2, 2, 3, 4, 5, 7])"
      ]
     },
     "execution_count": 3,
     "metadata": {},
     "output_type": "execute_result"
    }
   ],
   "source": [
    "A = np.random.randint(10,size=10)\n",
    "\n",
    "IS = InsertionSortClass()\n",
    "IS.Sort(A)"
   ]
  },
  {
   "cell_type": "markdown",
   "metadata": {},
   "source": [
    "## 2. Merge Sort\n",
    "Use MergeSortClass.Sort(A) to sort"
   ]
  },
  {
   "cell_type": "code",
   "execution_count": 4,
   "metadata": {},
   "outputs": [],
   "source": [
    "class MergeSortClass:\n",
    "    def Sort(self,A):\n",
    "        return self.MergeSort(A,0,A.size-1)\n",
    "\n",
    "    def Merge(self,A,p,q,r):\n",
    "        L = A[p:q]\n",
    "        R = A[q:r+1]\n",
    "        L = np.append(L,np.inf)\n",
    "        R = np.append(R,np.inf)\n",
    "        i = 0\n",
    "        j = 0\n",
    "        for k in range(p,r+1):\n",
    "            if(L[i] <= R[j]):\n",
    "                A[k] = L[i]\n",
    "                i += 1\n",
    "            elif(R[j] <= L[i]):\n",
    "                A[k] = R[j]\n",
    "                j += 1\n",
    "            else:\n",
    "                pass\n",
    "        return A\n",
    "    def MergeSort(self,A,p,r):\n",
    "        if p<r:\n",
    "            q = int((p+r)/2)\n",
    "            A = self.MergeSort(A,p,q)\n",
    "            A = self.MergeSort(A,q+1,r)\n",
    "            A = self.Merge(A,p,q+1,r)\n",
    "        return A"
   ]
  },
  {
   "cell_type": "code",
   "execution_count": 5,
   "metadata": {},
   "outputs": [
    {
     "data": {
      "text/plain": [
       "array([0, 3, 5, 6, 6, 6, 7, 8, 8, 8])"
      ]
     },
     "execution_count": 5,
     "metadata": {},
     "output_type": "execute_result"
    }
   ],
   "source": [
    "A = np.random.randint(10,size=10)\n",
    "\n",
    "MS = MergeSortClass()\n",
    "MS.Sort(A)"
   ]
  },
  {
   "cell_type": "markdown",
   "metadata": {},
   "source": [
    "## 3. Heap Sort\n",
    "Use HeapSortClass.Sort(A) to sort"
   ]
  },
  {
   "cell_type": "code",
   "execution_count": 6,
   "metadata": {},
   "outputs": [],
   "source": [
    "class HeapSortClass:\n",
    "    def __init__(self):\n",
    "        self.heap_size = 0\n",
    "\n",
    "    def Parent(self,i):\n",
    "        return int((i+1)/2)-1\n",
    "\n",
    "    def Left(self,i):\n",
    "        return 2*(i+1)-1\n",
    "\n",
    "    def Right(self,i):\n",
    "        return 2*(i+1)\n",
    "\n",
    "    def MaxHeapify(self,A,i):\n",
    "        l = self.Left(i)\n",
    "        r = self.Right(i)\n",
    "        if (l <= self.heap_size-1) and (A[l] > A[i]):\n",
    "            largest = l\n",
    "        else: \n",
    "            largest = i\n",
    "        if (r <= self.heap_size-1) and (A[r] > A[largest]):\n",
    "            largest = r\n",
    "        if largest != i:\n",
    "            A[i],A[largest] = A[largest],A[i]\n",
    "            self.MaxHeapify(A,largest)\n",
    "        return A\n",
    "\n",
    "    def BuildMaxHeap(self,A):\n",
    "        self.heap_size = A.size\n",
    "        for i in range(self.Parent(A.size-1),-1,-1):\n",
    "            self.MaxHeapify(A,i)\n",
    "        return A\n",
    "\n",
    "    def HeapSort(self,A):\n",
    "        self.BuildMaxHeap(A)\n",
    "        for i in range(A.size-1,0,-1):\n",
    "            A[0],A[i] = A[i],A[0]\n",
    "            self.heap_size = self.heap_size-1\n",
    "            self.MaxHeapify(A,0)\n",
    "        return A\n",
    "    \n",
    "    def Sort(self,A):\n",
    "        return self.HeapSort(A)\n",
    "\n",
    "    def PrintHeap(self, A):\n",
    "        height = int(np.log(A.size)/np.log(2))\n",
    "        i = 0\n",
    "        for h in range(0,height+1):\n",
    "            for a in range(2**h):\n",
    "                if(i == A.size):\n",
    "                    print()\n",
    "                    print()\n",
    "                    return\n",
    "                for k in range(int(2**height/(2**h))-1):\n",
    "                    print(\"__\",end=\"\")\n",
    "                print(f\"{A[i]}_\",end=\"\")\n",
    "                for k in range(int(2**height/(2**h))):\n",
    "                    print(\"__\",end=\"\")\n",
    "                i += 1\n",
    "            print()"
   ]
  },
  {
   "cell_type": "code",
   "execution_count": 7,
   "metadata": {},
   "outputs": [
    {
     "data": {
      "text/plain": [
       "array([1, 1, 3, 3, 3, 4, 5, 5, 6, 9])"
      ]
     },
     "execution_count": 7,
     "metadata": {},
     "output_type": "execute_result"
    }
   ],
   "source": [
    "A = np.random.randint(10,size=10)\n",
    "HS = HeapSortClass()\n",
    "HS.Sort(A)"
   ]
  },
  {
   "cell_type": "markdown",
   "metadata": {},
   "source": [
    "## 4. QuickSort\n",
    "Use QuickSortClass.Sort(A) to sort"
   ]
  },
  {
   "cell_type": "code",
   "execution_count": 8,
   "metadata": {},
   "outputs": [],
   "source": [
    "class QuickSortClass:\n",
    "    def QuickSort(self,A,p,r):\n",
    "        if p<r:\n",
    "            q = self.Partition(A,p,r)\n",
    "            self.QuickSort(A,p,q-1)\n",
    "            self.QuickSort(A,q+1,r)\n",
    "        return A\n",
    "\n",
    "    def Partition(self,A,p,r):\n",
    "        x = A[r]\n",
    "        i = p-1\n",
    "        for j in range(p,r):\n",
    "            if A[j] <= x:\n",
    "                i += 1\n",
    "                A[i],A[j] = A[j],A[i]\n",
    "        A[i+1],A[r] = A[r],A[i+1]\n",
    "        return i+1\n",
    "\n",
    "    def Sort(self,A):\n",
    "        return self.QuickSort(A,0,A.size-1)"
   ]
  },
  {
   "cell_type": "code",
   "execution_count": 9,
   "metadata": {},
   "outputs": [
    {
     "data": {
      "text/plain": [
       "array([0, 0, 1, 5, 6, 6, 7, 7, 8, 9])"
      ]
     },
     "execution_count": 9,
     "metadata": {},
     "output_type": "execute_result"
    }
   ],
   "source": [
    "A = np.random.randint(10,size=10)\n",
    "QS = QuickSortClass()\n",
    "QS.Sort(A)"
   ]
  },
  {
   "cell_type": "markdown",
   "metadata": {},
   "source": [
    "## 5. Bucket Sort\n",
    "Use BucketSortClass.Sort(A) to sort\n",
    "- Only for values between [0-1)"
   ]
  },
  {
   "cell_type": "code",
   "execution_count": 10,
   "metadata": {},
   "outputs": [],
   "source": [
    "class BucketSortClass:\n",
    "    def __init__(self):\n",
    "        self.IS = InsertionSortClass()\n",
    "    def BucketSort(self,A):\n",
    "        n = A.size\n",
    "        B = [[] for i in range(n)]\n",
    "        for i in range(0,n):\n",
    "            B[int(n*A[i])].append(A[i])\n",
    "        C = np.array([])\n",
    "        for i in range(0,n):\n",
    "            C = np.append(C,self.IS.insertionSort(np.array(B[i])))\n",
    "        return C\n",
    "    def Sort(self,A):\n",
    "        return self.BucketSort(A)"
   ]
  },
  {
   "cell_type": "code",
   "execution_count": 11,
   "metadata": {},
   "outputs": [
    {
     "data": {
      "text/plain": [
       "array([0.00656429, 0.18187791, 0.37994043, 0.47695011, 0.62457001,\n",
       "       0.6899207 , 0.74514489, 0.76203038, 0.87545181, 0.9712275 ])"
      ]
     },
     "execution_count": 11,
     "metadata": {},
     "output_type": "execute_result"
    }
   ],
   "source": [
    "A = np.random.uniform(size=10)\n",
    "\n",
    "BS = BucketSortClass()\n",
    "BS.Sort(A)"
   ]
  },
  {
   "cell_type": "markdown",
   "metadata": {},
   "source": [
    "## 6. Counting Sort\n",
    "Use CountingSortClass.Sort(A) to sort\n",
    "- it can be both positive and negative but must be integers"
   ]
  },
  {
   "cell_type": "code",
   "execution_count": 12,
   "metadata": {},
   "outputs": [],
   "source": [
    "class CountingSortClass:\n",
    "    def Sort(self,A):\n",
    "        B = np.empty(A.size,dtype=A.dtype)\n",
    "        A2 = A.copy()\n",
    "        A = A-np.min(A)\n",
    "        self.CountingSort(A2,A,B,np.max(A))\n",
    "        return B\n",
    "        \n",
    "    def CountingSort(self,A_copy,A_sorted_by,B,k):\n",
    "        C = np.zeros(k+1,dtype=int)\n",
    "        for j in range(0,A_sorted_by.size):\n",
    "            C[A_sorted_by[j]] += 1\n",
    "        for i in range(1,k+1):\n",
    "            C[i] += C[i-1]\n",
    "        for j in range(A_sorted_by.size-1,-1,-1):\n",
    "            B[int(C[A_sorted_by[j]])-1] = A_copy[j]\n",
    "            C[A_sorted_by[j]] -= 1"
   ]
  },
  {
   "cell_type": "code",
   "execution_count": 13,
   "metadata": {},
   "outputs": [
    {
     "data": {
      "text/plain": [
       "array([-4, -3, -1,  0,  1,  2,  2,  3,  3,  4])"
      ]
     },
     "execution_count": 13,
     "metadata": {},
     "output_type": "execute_result"
    }
   ],
   "source": [
    "#A = np.random.randint(200,size=100)\n",
    "A = np.random.randint(-5,5,size=10)\n",
    "\n",
    "CS = CountingSortClass()\n",
    "CS.Sort(A)"
   ]
  },
  {
   "cell_type": "markdown",
   "metadata": {},
   "source": [
    "## 7. Radix Sort\n",
    "Use RadixSortClass.Sort(A) to sort\n",
    "- Only for positive integers but can be easily modified to account for negative integers as well."
   ]
  },
  {
   "cell_type": "code",
   "execution_count": 14,
   "metadata": {},
   "outputs": [],
   "source": [
    "class RadixSortClass:\n",
    "    def __init__(self):\n",
    "        self.CS = CountingSortClass()\n",
    "    def RadixSort(self,A,d):\n",
    "        k = 10\n",
    "        B = A.astype(int)\n",
    "        for i in range(0,d):\n",
    "            Astr = A.astype(str)\n",
    "            Astr = [\"0\"*(k-len(num))+num for num in Astr]\n",
    "            Ai = np.array([int(num[k-i-1]) for num in Astr],dtype=int)\n",
    "            self.CS.CountingSort(A,Ai,B,k)\n",
    "            A = B.copy()\n",
    "        return A\n",
    "    def Sort(self,A):\n",
    "        degree = int(np.log10(np.max(A)))+1\n",
    "        return self.RadixSort(A,degree)"
   ]
  },
  {
   "cell_type": "code",
   "execution_count": 15,
   "metadata": {},
   "outputs": [
    {
     "data": {
      "text/plain": [
       "array([32, 32, 33, 34, 38, 56, 81, 84, 86, 90])"
      ]
     },
     "execution_count": 15,
     "metadata": {},
     "output_type": "execute_result"
    }
   ],
   "source": [
    "A = np.random.randint(99+1,size=10)\n",
    "\n",
    "RS = RadixSortClass()\n",
    "RS.Sort(A)"
   ]
  },
  {
   "cell_type": "markdown",
   "metadata": {},
   "source": [
    "## 8. Find Maximum Subarray\n",
    "Use FindMaxCrossingClass.find(A) to find the max subarray"
   ]
  },
  {
   "cell_type": "code",
   "execution_count": 16,
   "metadata": {},
   "outputs": [],
   "source": [
    "class FindMaxCrossingClass:\n",
    "    def find_max_crossing_subarray(self,A,low,mid,high):\n",
    "        left_sum = -np.inf\n",
    "        s = 0\n",
    "        for i in range(mid,low-1,-1):\n",
    "            s += A[i]\n",
    "            if(s > left_sum):\n",
    "                left_sum = s\n",
    "                max_left = i\n",
    "        right_sum = -np.inf\n",
    "        s = 0\n",
    "        for j in range(mid+1, high+1):\n",
    "            s += A[j]\n",
    "            if(s > right_sum):\n",
    "                right_sum = s\n",
    "                max_right = j\n",
    "        return (max_left, max_right, left_sum+right_sum)\n",
    "\n",
    "    def find_max_subarray(self, A,low,high):\n",
    "        if high==low:\n",
    "            return(low,high,A[low])\n",
    "        else:\n",
    "            mid = int((low+high)/2)\n",
    "            (left_low, left_high, left_sum) = self.find_max_subarray(A,low,mid)\n",
    "            (right_low, right_high, right_sum) = self.find_max_subarray(A,mid+1,high)\n",
    "            (cross_low, cross_high, cross_sum) = self.find_max_crossing_subarray(A,low,mid,high)\n",
    "            if((left_sum >= right_sum) and (left_sum > cross_sum)):\n",
    "                return(left_low,left_high,left_sum)\n",
    "            elif((right_sum >= left_sum) and (right_sum > cross_sum)):\n",
    "                return(right_low,right_high,right_sum)\n",
    "            else:\n",
    "                return(cross_low,cross_high,cross_sum)\n",
    "            \n",
    "    def find(self,A):\n",
    "        return self.find_max_subarray(A,0,A.size-1)"
   ]
  },
  {
   "cell_type": "code",
   "execution_count": 22,
   "metadata": {},
   "outputs": [
    {
     "name": "stdout",
     "output_type": "stream",
     "text": [
      "[ 2  1 -5  2  3 -5  7  3  2 -4]\n"
     ]
    },
    {
     "data": {
      "text/plain": [
       "(3, 8, 12)"
      ]
     },
     "execution_count": 22,
     "metadata": {},
     "output_type": "execute_result"
    }
   ],
   "source": [
    "A = np.random.randint(-5,10,size=(10))\n",
    "print(A)\n",
    "\n",
    "FMC = FindMaxCrossingClass()\n",
    "FMC.find(A)"
   ]
  }
 ],
 "metadata": {
  "kernelspec": {
   "display_name": "Python 3",
   "language": "python",
   "name": "python3"
  },
  "language_info": {
   "codemirror_mode": {
    "name": "ipython",
    "version": 3
   },
   "file_extension": ".py",
   "mimetype": "text/x-python",
   "name": "python",
   "nbconvert_exporter": "python",
   "pygments_lexer": "ipython3",
   "version": "3.6.9"
  }
 },
 "nbformat": 4,
 "nbformat_minor": 4
}
