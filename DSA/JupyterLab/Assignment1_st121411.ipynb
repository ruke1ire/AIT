{
 "cells": [
  {
   "cell_type": "markdown",
   "metadata": {},
   "source": [
    "# Assignment1 st121411 [Code and Report]\n",
    "\n",
    "\n",
    "Using python, please implement\n",
    "\n",
    "- Insertion Sort\n",
    "- Merge Sort\n",
    "\n",
    "Try n = 10, 100, 1000, 10000\n",
    "\n",
    "Record their running time and plot them in a graph.\n",
    "\n",
    "Submit the followings:\n",
    "1. Python code in pdf (exported)\n",
    "2. Your report (please keep them short - like one page) reporting what you learn - **no cover pages needed!**\n",
    "\n",
    "## Code"
   ]
  },
  {
   "cell_type": "code",
   "execution_count": 30,
   "metadata": {},
   "outputs": [
    {
     "name": "stdout",
     "output_type": "stream",
     "text": [
      "Sample [2 2 7 8 6 8 8 4 9 2]\n",
      "Insertion Sort [2 2 2 4 6 7 8 8 8 9]\n",
      "Merge Sort [2 2 2 4 6 7 8 8 8 9]\n",
      "For n = 10 Insertion took: 2.588500501587987e-05secs MergeSort took: 0.00038188695907592773secs\n",
      "For n = 100 Insertion took: 0.002360965998377651secs MergeSort took: 0.004820510977879167secs\n",
      "For n = 1000 Insertion took: 0.2270840919809416secs MergeSort took: 0.035006808990146965secs\n",
      "For n = 10000 Insertion took: 22.56438892101869secs MergeSort took: 0.4109275790397078secs\n"
     ]
    },
    {
     "data": {
      "image/png": "[encoded data removed]",
      "text/plain": [
       "<Figure size 432x288 with 1 Axes>"
      ]
     },
     "metadata": {
      "needs_background": "light"
     },
     "output_type": "display_data"
    }
   ],
   "source": [
    "import numpy as np\n",
    "import matplotlib.pyplot as plt\n",
    "import time\n",
    "\n",
    "def insertionSort(A):\n",
    "    #create a for loop ranging from 1-n\n",
    "    for j in range(1,A.size):\n",
    "        i = j-1\n",
    "        #store value at j to key\n",
    "        key = A[j]\n",
    "        while (i >= 0) and (key < A[i]):\n",
    "            A[i+1] = A[i]\n",
    "            i = i-1\n",
    "        #insert the value inside key onto the element after key<A[i]\n",
    "        A[i+1] = key\n",
    "    return A\n",
    "\n",
    "def Merge(A,p,q,r):\n",
    "    #divide the array into an L(left) and R(right) array\n",
    "    L = A[p:q]\n",
    "    R = A[q:r+1]\n",
    "    #append infinity onto the ends of the arrays\n",
    "    L = np.append(L,np.inf)\n",
    "    R = np.append(R,np.inf)\n",
    "    #set counters for both of the arrays to be 0\n",
    "    i = 0\n",
    "    j = 0\n",
    "    for k in range(p,r+1):\n",
    "        #whenever the value in L is less, insert the value in L onto A then increment i\n",
    "        if(L[i] <= R[j]):\n",
    "            A[k] = L[i]\n",
    "            i += 1\n",
    "        #whenever the value in R is less, insert the value in R onto A then increment j\n",
    "        elif(R[j] <= L[i]):\n",
    "            A[k] = R[j]\n",
    "            j += 1\n",
    "        else:\n",
    "            pass\n",
    "    return A\n",
    "\n",
    "def MergeSort(A,p,r):\n",
    "    #continue the recursion as long as p<r\n",
    "    if p<r:\n",
    "        #calculate q, the start of the right array\n",
    "        q = int((p+r)/2)\n",
    "        #Merge sort the left array\n",
    "        A = MergeSort(A,p,q)\n",
    "        #merge sort the right array\n",
    "        A = MergeSort(A,q+1,r)\n",
    "        #combine the array and return the value\n",
    "        A = Merge(A,p,q+1,r)\n",
    "    return A\n",
    "\n",
    "A = np.random.randint(10,size=10)\n",
    "print(\"Sample\",A)\n",
    "print(\"Insertion Sort\",insertionSort(A))\n",
    "print(\"Merge Sort\",MergeSort(A,0,A.size-1))\n",
    "\n",
    "n = [10,100,1000,10000]\n",
    "dt_insertion = []\n",
    "dt_mergesort = []\n",
    "\n",
    "for num in n:\n",
    "    #create random integer arrays to be sorted\n",
    "    A = np.random.randint(num,size=num)\n",
    "    #store the current time\n",
    "    t0_insertion = time.perf_counter()\n",
    "    insertionSort(A)\n",
    "    t1_insertion = time.perf_counter()\n",
    "    t0_mergesort = time.perf_counter()\n",
    "    MergeSort(A,0,A.size-1)\n",
    "    t1_mergesort = time.perf_counter()\n",
    "    #store delta time onto arrays\n",
    "    dt_insertion.append(t1_insertion-t0_insertion)\n",
    "    dt_mergesort.append(t1_mergesort-t0_mergesort)\n",
    "    print(f\"For n = {num} Insertion took: {dt_insertion[-1]}secs MergeSort took: {dt_mergesort[-1]}secs\")\n",
    "    \n",
    "fig = plt.figure()\n",
    "plt.plot(n,dt_insertion,label='Insertion Sort')\n",
    "plt.plot(n,dt_mergesort,label='Merge Sort')\n",
    "plt.legend()\n",
    "plt.show()"
   ]
  },
  {
   "cell_type": "markdown",
   "metadata": {},
   "source": [
    "## Report\n",
    "From this assignment, I learnt about the amount of difference there is between an O(n^2) and an O(nlogn) algorithm. I also learnt about how we can implement both an Insertion sort and Merge sort algorithm. \n",
    "Although the Insertion Sort algorithm takes much more time to complete the sort(22.6secs) compared to Merge Sort(0.4secs) at n = 10000. We can see that the amount of code required for Insertion Sort is much less compared to Merge Sort. Nonetheless, the disadvantage of taking much longer to complete its task makes the Merge Sort algorithm more desirable."
   ]
  }
 ],
 "metadata": {
  "kernelspec": {
   "display_name": "Python 3",
   "language": "python",
   "name": "python3"
  },
  "language_info": {
   "codemirror_mode": {
    "name": "ipython",
    "version": 3
   },
   "file_extension": ".py",
   "mimetype": "text/x-python",
   "name": "python",
   "nbconvert_exporter": "python",
   "pygments_lexer": "ipython3",
   "version": "3.6.9"
  }
 },
 "nbformat": 4,
 "nbformat_minor": 4
}
