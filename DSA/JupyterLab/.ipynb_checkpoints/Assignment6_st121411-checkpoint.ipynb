{
 "cells": [
  {
   "cell_type": "markdown",
   "metadata": {},
   "source": [
    "# Assignment 6 [Code and Report]\n",
    "## st121411\n",
    "Implement hash tables using\n",
    "\n",
    "1. Collision method using chaining\n",
    "2. Hashing method using division\n",
    "\n",
    "Assume the followings:\n",
    "1. m = 9\n",
    "2. The linked list should be doubly linked so deletion is faster that way\n",
    "3. Generate keys from a uniform random space\n"
   ]
  },
  {
   "cell_type": "code",
   "execution_count": 1,
   "metadata": {},
   "outputs": [],
   "source": [
    "#!/home/rom/Desktop/AIT/DSA/bin/python3\n",
    "import numpy as np\n",
    "\n",
    "class Node:\n",
    "    def __init__(self,key,value=None,next_node=None,prev_node=None):\n",
    "        self.key = key\n",
    "        self.value = value\n",
    "        self.next = next_node\n",
    "        self.prev = prev_node\n",
    "\n",
    "    def __repr__(self):\n",
    "        return f\"{self.key} : {self.value}\"\n",
    "\n",
    "class LinkedList:\n",
    "    def __init__(self, nodes=None):\n",
    "        self.head = None\n",
    "\n",
    "    def __repr__(self):\n",
    "        node = self.head\n",
    "        nodes = []\n",
    "        while node is not None:\n",
    "            nodes.append(str(node.key))\n",
    "            node = node.next\n",
    "        nodes.append(\"None\")\n",
    "        return \" -> \".join(nodes)\n",
    "\n",
    "    def search(self,key):\n",
    "        node = self.head\n",
    "        while(node is not None and node.key != key):\n",
    "            node = node.next\n",
    "        return node\n",
    "\n",
    "    def insert(self,node):\n",
    "        node.next = self.head\n",
    "        if self.head is not None:\n",
    "            self.head.prev = node\n",
    "        self.head = node\n",
    "        node.prev = None\n",
    "\n",
    "    def delete_key(self,key):\n",
    "        node = self.search(key)\n",
    "        if node.prev is not None:\n",
    "            node.prev.next = node.next\n",
    "        else:\n",
    "            self.head = node.next\n",
    "        if node.next is not None:\n",
    "            node.next.prev = node.prev\n",
    "\n",
    "    def delete(self,node):\n",
    "        if node.prev is not None:\n",
    "            node.prev.next = node.next\n",
    "        else:\n",
    "            self.head = node.next\n",
    "        if node.next is not None:\n",
    "            node.next.prev = node.prev\n",
    "\n",
    "class chained_hash_table:\n",
    "    def __init__(self,m):\n",
    "        self.hash_table = [LinkedList() for _ in range(m)]\n",
    "\n",
    "    def __repr__(self):\n",
    "        return f\"{self.hash_table}\"\n",
    "\n",
    "    def custom_hash(self,key):\n",
    "        prehashed = hash(key)\n",
    "        return prehashed % 9\n",
    "\n",
    "    def hash_insert(self,key,value):\n",
    "        if(self.hash_search(key) is not None):\n",
    "            self.hash_delete(key)\n",
    "        hashed_key = self.custom_hash(key)\n",
    "        self.hash_table[hashed_key].insert(Node(key=key,value=value))\n",
    "\n",
    "    def hash_delete(self,key):\n",
    "        hashed_key = self.custom_hash(key)\n",
    "        self.hash_table[hashed_key].delete_key(key)\n",
    "\n",
    "    def hash_search(self,key):\n",
    "        hashed_key = self.custom_hash(key)\n",
    "        node = self.hash_table[hashed_key].search(key)\n",
    "        return node"
   ]
  },
  {
   "cell_type": "code",
   "execution_count": 2,
   "metadata": {},
   "outputs": [],
   "source": [
    "#Create a hash table\n",
    "hash_table = chained_hash_table(m=9)"
   ]
  },
  {
   "cell_type": "code",
   "execution_count": 3,
   "metadata": {},
   "outputs": [
    {
     "name": "stdout",
     "output_type": "stream",
     "text": [
      "[None, None, None, None, None, None, None, None, None]\n"
     ]
    }
   ],
   "source": [
    "#initial hash_table is empty\n",
    "print(hash_table)"
   ]
  },
  {
   "cell_type": "code",
   "execution_count": 4,
   "metadata": {},
   "outputs": [
    {
     "name": "stdout",
     "output_type": "stream",
     "text": [
      "keys: [ 9  8 29  8 29 14 15  6  7 24 22 26  7 16 25  6  5 29 19  2]\n"
     ]
    }
   ],
   "source": [
    "#create keys\n",
    "keys = np.random.randint(30,size=20)\n",
    "print(\"keys:\",keys)"
   ]
  },
  {
   "cell_type": "code",
   "execution_count": 5,
   "metadata": {},
   "outputs": [
    {
     "name": "stdout",
     "output_type": "stream",
     "text": [
      "Inserting...\n",
      "9 -> [9 -> None, None, None, None, None, None, None, None, None]\n",
      "8 -> [9 -> None, None, None, None, None, None, None, None, 8 -> None]\n",
      "29 -> [9 -> None, None, 29 -> None, None, None, None, None, None, 8 -> None]\n",
      "8 -> [9 -> None, None, 29 -> None, None, None, None, None, None, 8 -> None]\n",
      "29 -> [9 -> None, None, 29 -> None, None, None, None, None, None, 8 -> None]\n",
      "14 -> [9 -> None, None, 29 -> None, None, None, 14 -> None, None, None, 8 -> None]\n",
      "15 -> [9 -> None, None, 29 -> None, None, None, 14 -> None, 15 -> None, None, 8 -> None]\n",
      "6 -> [9 -> None, None, 29 -> None, None, None, 14 -> None, 6 -> 15 -> None, None, 8 -> None]\n",
      "7 -> [9 -> None, None, 29 -> None, None, None, 14 -> None, 6 -> 15 -> None, 7 -> None, 8 -> None]\n",
      "24 -> [9 -> None, None, 29 -> None, None, None, 14 -> None, 24 -> 6 -> 15 -> None, 7 -> None, 8 -> None]\n",
      "22 -> [9 -> None, None, 29 -> None, None, 22 -> None, 14 -> None, 24 -> 6 -> 15 -> None, 7 -> None, 8 -> None]\n",
      "26 -> [9 -> None, None, 29 -> None, None, 22 -> None, 14 -> None, 24 -> 6 -> 15 -> None, 7 -> None, 26 -> 8 -> None]\n",
      "7 -> [9 -> None, None, 29 -> None, None, 22 -> None, 14 -> None, 24 -> 6 -> 15 -> None, 7 -> None, 26 -> 8 -> None]\n",
      "16 -> [9 -> None, None, 29 -> None, None, 22 -> None, 14 -> None, 24 -> 6 -> 15 -> None, 16 -> 7 -> None, 26 -> 8 -> None]\n",
      "25 -> [9 -> None, None, 29 -> None, None, 22 -> None, 14 -> None, 24 -> 6 -> 15 -> None, 25 -> 16 -> 7 -> None, 26 -> 8 -> None]\n",
      "6 -> [9 -> None, None, 29 -> None, None, 22 -> None, 14 -> None, 6 -> 24 -> 15 -> None, 25 -> 16 -> 7 -> None, 26 -> 8 -> None]\n",
      "5 -> [9 -> None, None, 29 -> None, None, 22 -> None, 5 -> 14 -> None, 6 -> 24 -> 15 -> None, 25 -> 16 -> 7 -> None, 26 -> 8 -> None]\n",
      "29 -> [9 -> None, None, 29 -> None, None, 22 -> None, 5 -> 14 -> None, 6 -> 24 -> 15 -> None, 25 -> 16 -> 7 -> None, 26 -> 8 -> None]\n",
      "19 -> [9 -> None, 19 -> None, 29 -> None, None, 22 -> None, 5 -> 14 -> None, 6 -> 24 -> 15 -> None, 25 -> 16 -> 7 -> None, 26 -> 8 -> None]\n",
      "2 -> [9 -> None, 19 -> None, 2 -> 29 -> None, None, 22 -> None, 5 -> 14 -> None, 6 -> 24 -> 15 -> None, 25 -> 16 -> 7 -> None, 26 -> 8 -> None]\n"
     ]
    }
   ],
   "source": [
    "#test inserting nodes\n",
    "#note that repeating keys will override the old key\n",
    "print(\"Inserting...\")\n",
    "for key in keys:\n",
    "    hash_table.hash_insert(key,str(int(key)*2))\n",
    "    print(key,\"->\",hash_table)"
   ]
  },
  {
   "cell_type": "code",
   "execution_count": 6,
   "metadata": {},
   "outputs": [
    {
     "name": "stdout",
     "output_type": "stream",
     "text": [
      "Searching...\n",
      "[9 -> None, 19 -> None, 2 -> 29 -> None, None, 22 -> None, 5 -> 14 -> None, 6 -> 24 -> 15 -> None, 25 -> 16 -> 7 -> None, 26 -> 8 -> None]\n",
      "9 : 18\n",
      "8 : 16\n",
      "29 : 58\n",
      "8 : 16\n",
      "29 : 58\n",
      "14 : 28\n",
      "15 : 30\n",
      "6 : 12\n",
      "7 : 14\n",
      "24 : 48\n",
      "22 : 44\n",
      "26 : 52\n",
      "7 : 14\n",
      "16 : 32\n",
      "25 : 50\n",
      "6 : 12\n",
      "5 : 10\n",
      "29 : 58\n",
      "19 : 38\n",
      "2 : 4\n"
     ]
    }
   ],
   "source": [
    "##test searching nodes\n",
    "print(\"Searching...\")\n",
    "print(hash_table)\n",
    "for key in keys:\n",
    "    print(hash_table.hash_search(key))"
   ]
  },
  {
   "cell_type": "code",
   "execution_count": 7,
   "metadata": {},
   "outputs": [
    {
     "name": "stdout",
     "output_type": "stream",
     "text": [
      "Deleting  9\n",
      "[None, 19 -> None, 2 -> 29 -> None, None, 22 -> None, 5 -> 14 -> None, 6 -> 24 -> 15 -> None, 25 -> 16 -> 7 -> None, 26 -> 8 -> None]\n",
      "None\n"
     ]
    }
   ],
   "source": [
    "##test delete nodes\n",
    "print(\"Deleting \", keys[0])\n",
    "hash_table.hash_delete(keys[0])\n",
    "print(hash_table)\n",
    "print(hash_table.hash_search(keys[0]))"
   ]
  },
  {
   "cell_type": "markdown",
   "metadata": {},
   "source": [
    "The built in hash() function was used to perform the prehash so that the keys will be able to take in string values as well as int values, after the prehashing, the hash was found by taking the modulo of m(in this case m = 9). The hash table was created by making a list of linked lists. For every insertion of a key, the function will first see whether the key to be inserted already exists in the hash table, if it exists, it deletes the previous key and inserts the new key:value pair onto the hash table.\n",
    "This assignment helped me understand how the inner workings of chained hash tables work. "
   ]
  }
 ],
 "metadata": {
  "kernelspec": {
   "display_name": "Python 3",
   "language": "python",
   "name": "python3"
  },
  "language_info": {
   "codemirror_mode": {
    "name": "ipython",
    "version": 3
   },
   "file_extension": ".py",
   "mimetype": "text/x-python",
   "name": "python",
   "nbconvert_exporter": "python",
   "pygments_lexer": "ipython3",
   "version": "3.6.9"
  }
 },
 "nbformat": 4,
 "nbformat_minor": 4
}
