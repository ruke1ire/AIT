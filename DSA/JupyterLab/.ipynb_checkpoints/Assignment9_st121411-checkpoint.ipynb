{
 "cells": [
  {
   "cell_type": "markdown",
   "metadata": {},
   "source": [
    "# Assignment 9 [code and report]"
   ]
  },
  {
   "cell_type": "code",
   "execution_count": 2,
   "metadata": {},
   "outputs": [],
   "source": [
    "import numpy as np\n",
    "import numpy_indexed as npi"
   ]
  },
  {
   "cell_type": "code",
   "execution_count": 3,
   "metadata": {},
   "outputs": [],
   "source": [
    "class Node:\n",
    "    def __init__(self,key,pi=None):\n",
    "        self.priority = float('inf')\n",
    "        self.d = float('inf')\n",
    "        self.pi = pi\n",
    "        self.key = key\n",
    "\n",
    "    def __repr__(self):\n",
    "        return str(self.key)\n",
    "\n",
    "class AL:\n",
    "    def __init__(self):\n",
    "        self.list = {}\n",
    "        self.connection_weights = {}\n",
    "        self.vertices = {}\n",
    "\n",
    "    def __repr__(self):\n",
    "        return str(self.list)\n",
    "\n",
    "    def add_node(self,node):\n",
    "        self.list[str(node.key)] = []\n",
    "        self.connection_weights[str(node.key)] = []\n",
    "        self.vertices[str(node.key)] = node\n",
    "\n",
    "    def add_connection(self,node1,node2,weight = None):\n",
    "        self.list[str(node1.key)].append(node2)\n",
    "        self.connection_weights[str(node1.key)].append(weight)\n",
    "\n",
    "    def get_weight(self,node1,node2):\n",
    "        node1_connections = self.list[str(node1.key)]\n",
    "        node1_weights = self.connection_weights[str(node1.key)]\n",
    "        try:\n",
    "            node2_index = node1_connections.index(node2)\n",
    "        except:\n",
    "            return None\n",
    "        return node1_weights[node2_index]\n",
    "\n"
   ]
  },
  {
   "cell_type": "code",
   "execution_count": 9,
   "metadata": {},
   "outputs": [
    {
     "name": "stdout",
     "output_type": "stream",
     "text": [
      "Adjacency List:\n",
      " {'0': [2, 9], '1': [7, 3, 4, 9], '2': [0, 7, 8, 9], '3': [1, 7, 4, 5, 6], '4': [1, 3, 9, 5], '5': [3, 4], '6': [3, 8], '7': [1, 2, 3, 9], '8': [2, 6, 9], '9': [0, 4, 8, 1, 2, 7]}\n",
      "Weights:\n",
      " {'0': [5, 3], '1': [8, 1, 3, 4], '2': [5, 8, 2, 9], '3': [1, 2, 6, 7, 8], '4': [3, 6, 4, 2], '5': [7, 2], '6': [8, 7], '7': [8, 8, 2, 7], '8': [2, 7, 8], '9': [3, 4, 8, 4, 9, 7]}\n"
     ]
    }
   ],
   "source": [
    "#create an adjacency list\n",
    "graph = AL()\n",
    "\n",
    "#list of nodes\n",
    "nodes = []\n",
    "\n",
    "#set constants\n",
    "NUMBER_OF_KEYS = 10\n",
    "NUMBER_OF_CONNECTIONS = 30\n",
    "\n",
    "#create nodes and add those nodes to the graph\n",
    "for key in range(NUMBER_OF_KEYS):\n",
    "    nodes.append(Node(key))\n",
    "    graph.add_node(nodes[-1])\n",
    "\n",
    "#create random connections between the nodes\n",
    "connections = np.unique(np.random.randint(0,NUMBER_OF_KEYS,size=(NUMBER_OF_CONNECTIONS,2)),axis=0)\n",
    "swapped_connections = connections[:,[1,0]]\n",
    "connections = npi.difference(connections, swapped_connections)\n",
    "\n",
    "#create connections with weights\n",
    "for i in connections:\n",
    "    weight = np.random.randint(10)\n",
    "    graph.add_connection(nodes[i[0]],nodes[i[1]],weight)\n",
    "    graph.add_connection(nodes[i[1]],nodes[i[0]],weight)\n",
    "\n",
    "print(\"Adjacency List:\\n\",graph)\n",
    "print(\"Weights:\\n\",graph.connection_weights)"
   ]
  },
  {
   "cell_type": "code",
   "execution_count": 10,
   "metadata": {},
   "outputs": [],
   "source": [
    "def relax(u_node,v_node):\n",
    "    weight = graph.get_weight(u_node,v_node)\n",
    "    if(v_node.d > (u_node.d + weight)):\n",
    "            v_node.d = u_node.d + weight\n",
    "            v_node.pi = u_node\n",
    "\n",
    "class PriorityQueue:\n",
    "# nodes and their corresponding priorities should be kept in this class\n",
    "    def __init__(self,nodes):\n",
    "        self.nodes = nodes\n",
    "        self.priorities =[]\n",
    "        for n in self.nodes:\n",
    "            self.priorities.append(n.d)\n",
    "\n",
    "    def extract_min(self):\n",
    "        self.priorities =[]\n",
    "        for n in self.nodes:\n",
    "            self.priorities.append(n.d)\n",
    "        min_index = self.priorities.index(min(self.priorities))\n",
    "        self.priorities.pop(min_index)\n",
    "        min_node = self.nodes.pop(min_index)\n",
    "        return min_node\n",
    "\n",
    "def dijkstra(G,s_node):\n",
    "    s_node.d = 0\n",
    "    S = set()\n",
    "    Q = PriorityQueue(list(G.vertices.values()))\n",
    "    while len(Q.nodes) != 0:\n",
    "        u_node = Q.extract_min()\n",
    "        S = S.union({u_node})\n",
    "        for v_node in G.list[str(u_node.key)]:\n",
    "            relax(u_node,v_node)"
   ]
  },
  {
   "cell_type": "code",
   "execution_count": 11,
   "metadata": {},
   "outputs": [
    {
     "name": "stdout",
     "output_type": "stream",
     "text": [
      "Distance Before Algorithm:\n",
      "0 \t inf\n",
      "1 \t inf\n",
      "2 \t inf\n",
      "3 \t inf\n",
      "4 \t inf\n",
      "5 \t inf\n",
      "6 \t inf\n",
      "7 \t inf\n",
      "8 \t inf\n",
      "9 \t inf\n"
     ]
    }
   ],
   "source": [
    "print(\"Distance Before Algorithm:\")\n",
    "for n in nodes:\n",
    "    print(n,\"\\t\",n.d)"
   ]
  },
  {
   "cell_type": "code",
   "execution_count": 12,
   "metadata": {},
   "outputs": [],
   "source": [
    "dijkstra(graph,nodes[0])"
   ]
  },
  {
   "cell_type": "code",
   "execution_count": 13,
   "metadata": {},
   "outputs": [
    {
     "name": "stdout",
     "output_type": "stream",
     "text": [
      "Distance After Algorithm:\n",
      "0 \t 0\n",
      "1 \t 7\n",
      "2 \t 5\n",
      "3 \t 8\n",
      "4 \t 7\n",
      "5 \t 9\n",
      "6 \t 14\n",
      "7 \t 10\n",
      "8 \t 7\n",
      "9 \t 3\n"
     ]
    }
   ],
   "source": [
    "print(\"Distance After Algorithm:\")\n",
    "for n in nodes:\n",
    "    print(n,\"\\t\",n.d)"
   ]
  },
  {
   "cell_type": "markdown",
   "metadata": {},
   "source": [
    "Writing this algorithm taught me what priorty queues are by comparing to how priority queues were used in the prim's algorithm. \n",
    "\n",
    "10 nodes and 30 connections were initially created but some of those connections were taken out since they represented the exact same connections, thus leaving the graph with <30 connections. The distance of node[0] to the rest of the nodes are shown above. "
   ]
  }
 ],
 "metadata": {
  "kernelspec": {
   "display_name": "Python 3",
   "language": "python",
   "name": "python3"
  },
  "language_info": {
   "codemirror_mode": {
    "name": "ipython",
    "version": 3
   },
   "file_extension": ".py",
   "mimetype": "text/x-python",
   "name": "python",
   "nbconvert_exporter": "python",
   "pygments_lexer": "ipython3",
   "version": "3.6.9"
  }
 },
 "nbformat": 4,
 "nbformat_minor": 4
}
