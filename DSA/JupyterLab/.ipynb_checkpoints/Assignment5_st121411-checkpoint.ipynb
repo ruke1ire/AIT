{
 "cells": [
  {
   "cell_type": "markdown",
   "metadata": {},
   "source": [
    "# Assignment 5 [Code and Report]\n",
    "Implement Counting, Radix, and Bucket sort.\n",
    "\n",
    "Generates appropriate distribution for each sorting (uniform distribution for bucket sort,  d = 5 for radix sort, and k=10 for counting sort)\n",
    "\n",
    "Attempt to compare the time of the followings:\n",
    "1. Quicksort vs. Counting\n",
    "2. Quicksort vs. Radix\n",
    "3. Quicksort vs. Bucket"
   ]
  },
  {
   "cell_type": "code",
   "execution_count": 1,
   "metadata": {},
   "outputs": [],
   "source": [
    "import numpy as np\n",
    "import matplotlib.pyplot as plt\n",
    "import time\n",
    "\n",
    "class QuickSortClass:\n",
    "    def QuickSort(self,A,p,r):\n",
    "        if p<r:\n",
    "            q = self.Partition(A,p,r)\n",
    "            self.QuickSort(A,p,q-1)\n",
    "            self.QuickSort(A,q+1,r)\n",
    "        return A\n",
    "\n",
    "    def Partition(self,A,p,r):\n",
    "        x = A[r]\n",
    "        i = p-1\n",
    "        for j in range(p,r):\n",
    "            if A[j] <= x:\n",
    "                i += 1\n",
    "                A[i],A[j] = A[j],A[i]\n",
    "        A[i+1],A[r] = A[r],A[i+1]\n",
    "        return i+1\n",
    "\n",
    "    def sort(self,A):\n",
    "        return self.QuickSort(A,0,A.size-1)\n",
    "\n",
    "class CountingSortClass:\n",
    "    def CountingSort(self,A_original,A,B,k):\n",
    "        C = np.zeros(k+1,dtype=int)\n",
    "        for j in range(0,A.size):\n",
    "            C[A[j]] += 1\n",
    "        for i in range(1,k+1):\n",
    "            C[i] += C[i-1]\n",
    "        for j in range(A.size-1,-1,-1):\n",
    "            B[int(C[A[j]])-1] = A_original[j]\n",
    "            C[A[j]] -= 1\n",
    "\n",
    "class RadixSortClass:\n",
    "    def __init__(self):\n",
    "        self.CS = CountingSortClass()\n",
    "    def RadixSort(self,A,d):\n",
    "        k = 10\n",
    "        B = A.astype(int)\n",
    "        for i in range(0,d):\n",
    "            Astr = A.astype(str)\n",
    "            Astr = [\"0\"*(k-len(num))+num for num in Astr]\n",
    "            Ai = np.array([int(num[k-i-1]) for num in Astr],dtype=int)\n",
    "            self.CS.CountingSort(A,Ai,B,k)\n",
    "            A = B.copy()\n",
    "        return A\n",
    "\n",
    "class BucketSortClass:\n",
    "    def __init__(self):\n",
    "        self.IS = InsertionSortClass()\n",
    "    def BucketSort(self,A):\n",
    "        n = A.size\n",
    "        B = [[] for i in range(n)]\n",
    "        for i in range(0,n):\n",
    "            B[int(n*A[i])].append(A[i])\n",
    "        C = np.array([])\n",
    "        for i in range(0,n):\n",
    "            C = np.append(C,self.IS.insertionSort(np.array(B[i])))\n",
    "        return C\n",
    "            \n",
    "\n",
    "class InsertionSortClass:\n",
    "    def insertionSort(self,A):\n",
    "        for j in range(1,A.size):\n",
    "            i = j-1\n",
    "            key = A[j]\n",
    "            while (i >= 0) and (key < A[i]):\n",
    "                A[i+1] = A[i]\n",
    "                i = i-1\n",
    "            A[i+1] = key\n",
    "        return A"
   ]
  },
  {
   "cell_type": "code",
   "execution_count": 2,
   "metadata": {},
   "outputs": [
    {
     "name": "stdout",
     "output_type": "stream",
     "text": [
      "Bucket Sort n = 10\n",
      "61 µs ± 1.61 µs per loop (mean ± std. dev. of 7 runs, 10000 loops each)\n",
      "Quick Sort n = 10\n",
      "30.6 µs ± 473 ns per loop (mean ± std. dev. of 7 runs, 10000 loops each)\n",
      "______________________________________\n",
      "Bucket Sort n = 100\n",
      "585 µs ± 7.9 µs per loop (mean ± std. dev. of 7 runs, 1000 loops each)\n",
      "Quick Sort n = 100\n",
      "2.37 ms ± 11.7 µs per loop (mean ± std. dev. of 7 runs, 100 loops each)\n",
      "______________________________________\n",
      "Bucket Sort n = 1000\n",
      "6.46 ms ± 563 µs per loop (mean ± std. dev. of 7 runs, 100 loops each)\n",
      "Quick Sort n = 1000\n",
      "248 ms ± 314 µs per loop (mean ± std. dev. of 7 runs, 10 loops each)\n",
      "______________________________________\n"
     ]
    }
   ],
   "source": [
    "n = [10,100,1000]\n",
    "\n",
    "for num in n:\n",
    "    max_int = 100\n",
    "    A = np.random.randint(max_int,size=num)\n",
    "    A = A/100\n",
    "    print(f\"Bucket Sort n = {num}\")\n",
    "    BS = BucketSortClass()\n",
    "    %timeit BS.BucketSort(A)\n",
    "    print(f\"Quick Sort n = {num}\")\n",
    "    QS = QuickSortClass()\n",
    "    %timeit QS.QuickSort(A,0,A.size-1)\n",
    "    print(\"______________________________________\")"
   ]
  },
  {
   "cell_type": "markdown",
   "metadata": {},
   "source": [
    "It could be seen that at n = 10 Quicksort is faster than bucket sort. But Bucket Sort quickly becomes much faster after n = 100. Although Bucket Sort has Theta(n) and Quicksort has Theta(nlogn), at lower n values, the constants may determine the speed of execution more than the number of elements itself. "
   ]
  },
  {
   "cell_type": "code",
   "execution_count": 3,
   "metadata": {},
   "outputs": [
    {
     "name": "stdout",
     "output_type": "stream",
     "text": [
      "Radix Sort n = 10\n",
      "179 µs ± 7.35 µs per loop (mean ± std. dev. of 7 runs, 10000 loops each)\n",
      "Quick Sort n = 10\n",
      "29.8 µs ± 48.7 ns per loop (mean ± std. dev. of 7 runs, 10000 loops each)\n",
      "______________________________________\n",
      "Radix Sort n = 100\n",
      "1.24 ms ± 2.92 µs per loop (mean ± std. dev. of 7 runs, 1000 loops each)\n",
      "Quick Sort n = 100\n",
      "2.34 ms ± 31.3 µs per loop (mean ± std. dev. of 7 runs, 100 loops each)\n",
      "______________________________________\n",
      "Radix Sort n = 1000\n",
      "12 ms ± 46.3 µs per loop (mean ± std. dev. of 7 runs, 100 loops each)\n",
      "Quick Sort n = 1000\n",
      "233 ms ± 951 µs per loop (mean ± std. dev. of 7 runs, 10 loops each)\n",
      "______________________________________\n"
     ]
    }
   ],
   "source": [
    "for num in n:\n",
    "    k = 99999\n",
    "    A = np.random.randint(k+1,size = num)\n",
    "    #print(A)\n",
    "    RS = RadixSortClass()\n",
    "    print(f\"Radix Sort n = {num}\")\n",
    "    %timeit RS.RadixSort(A,5)\n",
    "    print(f\"Quick Sort n = {num}\")\n",
    "    %timeit QS.QuickSort(A,0,A.size-1)\n",
    "    print(\"______________________________________\")"
   ]
  },
  {
   "cell_type": "markdown",
   "metadata": {},
   "source": [
    "Similar to BucketSort, RadixSort is slower than QuickSort when n = 10 but quickly becomes faster after n = 100."
   ]
  },
  {
   "cell_type": "code",
   "execution_count": 4,
   "metadata": {},
   "outputs": [
    {
     "name": "stdout",
     "output_type": "stream",
     "text": [
      "Counting Sort n = 10\n",
      "19.2 µs ± 209 ns per loop (mean ± std. dev. of 7 runs, 10000 loops each)\n",
      "Quick Sort n = 10\n",
      "29.2 µs ± 719 ns per loop (mean ± std. dev. of 7 runs, 10000 loops each)\n",
      "______________________________________\n",
      "Counting Sort n = 100\n",
      "149 µs ± 2.14 µs per loop (mean ± std. dev. of 7 runs, 10000 loops each)\n",
      "Quick Sort n = 100\n",
      "2.33 ms ± 50 µs per loop (mean ± std. dev. of 7 runs, 100 loops each)\n",
      "______________________________________\n",
      "Counting Sort n = 1000\n",
      "1.47 ms ± 11.5 µs per loop (mean ± std. dev. of 7 runs, 1000 loops each)\n",
      "Quick Sort n = 1000\n",
      "236 ms ± 4.61 ms per loop (mean ± std. dev. of 7 runs, 10 loops each)\n",
      "______________________________________\n"
     ]
    }
   ],
   "source": [
    "for num in n:\n",
    "    CS = CountingSortClass()\n",
    "    k = 10\n",
    "    A = np.random.randint(k+1,size = num)\n",
    "    B = np.empty(A.size,dtype=int)\n",
    "    print(f\"Counting Sort n = {num}\")\n",
    "    %timeit CS.CountingSort(A,A,B,k)\n",
    "    print(f\"Quick Sort n = {num}\")\n",
    "    %timeit QS.QuickSort(A,0,A.size-1)\n",
    "    print(\"______________________________________\")"
   ]
  },
  {
   "cell_type": "markdown",
   "metadata": {},
   "source": [
    "One thing which we can see right away is that on average it only took about 1ms to sort 1000 elements in Counting Sort. This is extremely fast and much faster than both RadixSort and BucketSort. Although it is faster we only limited k to 10, When I ran the Counting Sort with k = 99999, It ran much slower than RadixSort. It is interesting that, although RadixSort uses CountingSort, RadixSort utilizes CountingSort when k = 9, so basically, It utilizes CountingSort where k is quite low which is why RadixSort is faster with higher k."
   ]
  }
 ],
 "metadata": {
  "kernelspec": {
   "display_name": "Python 3",
   "language": "python",
   "name": "python3"
  },
  "language_info": {
   "codemirror_mode": {
    "name": "ipython",
    "version": 3
   },
   "file_extension": ".py",
   "mimetype": "text/x-python",
   "name": "python",
   "nbconvert_exporter": "python",
   "pygments_lexer": "ipython3",
   "version": "3.6.9"
  }
 },
 "nbformat": 4,
 "nbformat_minor": 4
}
