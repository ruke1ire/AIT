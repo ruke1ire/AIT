{
 "cells": [
  {
   "cell_type": "markdown",
   "metadata": {},
   "source": [
    "# Linear Regression Example"
   ]
  },
  {
   "cell_type": "code",
   "execution_count": 1,
   "metadata": {},
   "outputs": [],
   "source": [
    "import numpy as np\n",
    "import pandas as pd\n",
    "import matplotlib.pyplot as plt"
   ]
  },
  {
   "cell_type": "code",
   "execution_count": 2,
   "metadata": {},
   "outputs": [],
   "source": [
    "class LinearRegressionModel:\n",
    "#1. hypothesis function\n",
    "    def h(self, X, theta):      \n",
    "        hypothesis = X@theta\n",
    "        return hypothesis\n",
    "        \n",
    "#2. cost function\n",
    "    def cost(self, X, y, theta, average = False):\n",
    "        #expects X to be a design matrix, y to be a column vector and theta to be a column vector\n",
    "        if(average == False):\n",
    "            J = 1/2*(self.h(X,theta)-y).T@(self.h(X,theta)-y)\n",
    "        else:\n",
    "            J = 1/(2*X.shape[0])*(self.h(X,theta)-y).T@(self.h(X,theta)-y)\n",
    "        return J\n",
    "\n",
    "#3. gradient function\n",
    "    def gradient(self, X, y, theta, average = False):\n",
    "        if(average == False):\n",
    "            dJ = X.T@(self.h(X,theta)-y)\n",
    "        else:\n",
    "            dJ = X.T@(self.h(X,theta)-y)/(X.shape[0])\n",
    "        return dJ\n",
    "    \n",
    "#4. batch gradient descent\n",
    "    def batch_gd(self, X, y, initial_theta, max_iteration, alpha, tolerance = 0,average = False):\n",
    "        cost = []\n",
    "        theta = initial_theta\n",
    "        iteration = 0\n",
    "        cost.append(self.cost(X,y,theta,average))\n",
    "        for n in range(max_iteration):\n",
    "            gradient = self.gradient(X,y,theta,average)\n",
    "            theta = theta - alpha*gradient\n",
    "            cost.append(self.cost(X,y,theta,average))\n",
    "            iteration += 1\n",
    "        cost = np.array(cost)\n",
    "        return theta,cost,iteration\n",
    "    \n",
    "#5. normal equation\n",
    "    def normal_equation(self, X, y):\n",
    "        theta = np.linalg.inv(X.T@X)@X.T@y\n",
    "        return theta\n",
    "            \n",
    "#5. predict\n",
    "    def predict(self,X,theta):\n",
    "        prediction = self.h(X,theta)\n",
    "        return prediction\n",
    "    \n",
    "#6. score/error calculation\n",
    "    def mean_squared_error(self,X,y,theta):\n",
    "        mse = self.cost(X,y,theta,average = True)*2\n",
    "        return mse\n",
    "        \n",
    "#7. plotting cost\n",
    "    def plot_cost(self,cost, iteration_no):\n",
    "        iteration_series = np.arange(0,iteration_no+1)\n",
    "        ax = plt.axes()\n",
    "        ax.plot(iteration_series, cost)"
   ]
  },
  {
   "cell_type": "code",
   "execution_count": 3,
   "metadata": {},
   "outputs": [],
   "source": [
    "def standardScaler(X):\n",
    "    mean = np.mean(X,axis=0)\n",
    "    std = np.std(X,axis=0)\n",
    "    X_norm = (X-mean)/std\n",
    "    return X_norm, mean, std\n",
    "\n",
    "def standardUnScaler(X, mean, std):\n",
    "    X_unscaled = X*std+mean\n",
    "    return X_unscaled"
   ]
  },
  {
   "cell_type": "markdown",
   "metadata": {},
   "source": [
    "### Load Data"
   ]
  },
  {
   "cell_type": "code",
   "execution_count": 5,
   "metadata": {},
   "outputs": [
    {
     "data": {
      "image/png": "[encoded data removed]",
      "text/plain": [
       "<Figure size 432x288 with 1 Axes>"
      ]
     },
     "metadata": {
      "needs_background": "light"
     },
     "output_type": "display_data"
    },
    {
     "name": "stdout",
     "output_type": "stream",
     "text": [
      "(11, 2)\n",
      "(11,)\n"
     ]
    }
   ],
   "source": [
    "# Independent variable\n",
    "\n",
    "num_hours_studied = np.array([1, 3, 3, 4, 5, 6, 7, 7, 8, 8, 10])\n",
    "\n",
    "# Dependent variable\n",
    "\n",
    "exam_score = np.array([18, 26, 31, 40, 55, 62, 71, 70, 75, 85, 97])\n",
    "\n",
    "# Plot the data\n",
    "\n",
    "plt.scatter(num_hours_studied, exam_score)\n",
    "plt.xlabel('num_hours_studied')\n",
    "plt.ylabel('exam_score')\n",
    "plt.title('Synthetic Exam Score Data Set')\n",
    "plt.show()\n",
    "\n",
    "# Add dummy variable for intercept term to design matrix.\n",
    "# Understand the numpy insert function by reading https://numpy.org/doc/stable/reference/generated/numpy.insert.html\n",
    "\n",
    "X = np.array([num_hours_studied]).T\n",
    "X = np.insert(X, 0, 1, axis=1)\n",
    "y = exam_score\n",
    "print(X.shape)\n",
    "print(y.shape)"
   ]
  },
  {
   "cell_type": "markdown",
   "metadata": {},
   "source": [
    "### Create a Linear Regression instance"
   ]
  },
  {
   "cell_type": "code",
   "execution_count": 6,
   "metadata": {},
   "outputs": [],
   "source": [
    "LR = LinearRegressionModel()"
   ]
  },
  {
   "cell_type": "markdown",
   "metadata": {},
   "source": [
    "### Solve using the normal equation"
   ]
  },
  {
   "cell_type": "code",
   "execution_count": 9,
   "metadata": {},
   "outputs": [
    {
     "name": "stdout",
     "output_type": "stream",
     "text": [
      "MSE: 12.271701982228299\n"
     ]
    }
   ],
   "source": [
    "theta = LR.normal_equation(X,y)\n",
    "print(\"MSE:\",LR.mean_squared_error(X,y,theta))"
   ]
  },
  {
   "cell_type": "markdown",
   "metadata": {},
   "source": [
    "### Predict"
   ]
  },
  {
   "cell_type": "code",
   "execution_count": 10,
   "metadata": {},
   "outputs": [],
   "source": [
    "x_series = np.linspace(0,10,100)\n",
    "x_series = np.insert(x_series[:,np.newaxis],0,1, axis=1)\n",
    "\n",
    "y_pred = LR.predict(x_series, theta)"
   ]
  },
  {
   "cell_type": "markdown",
   "metadata": {},
   "source": [
    "### Plot"
   ]
  },
  {
   "cell_type": "code",
   "execution_count": 11,
   "metadata": {},
   "outputs": [
    {
     "data": {
      "image/png": "[encoded data removed]",
      "text/plain": [
       "<Figure size 432x288 with 1 Axes>"
      ]
     },
     "metadata": {
      "needs_background": "light"
     },
     "output_type": "display_data"
    }
   ],
   "source": [
    "plt.scatter(num_hours_studied, exam_score)\n",
    "plt.plot(x_series[:,1],y_pred)\n",
    "plt.xlabel('num_hours_studied')\n",
    "plt.ylabel('exam_score')\n",
    "plt.title('Synthetic Exam Score Data Set')\n",
    "plt.show()"
   ]
  }
 ],
 "metadata": {
  "kernelspec": {
   "display_name": "Python 3",
   "language": "python",
   "name": "python3"
  },
  "language_info": {
   "codemirror_mode": {
    "name": "ipython",
    "version": 3
   },
   "file_extension": ".py",
   "mimetype": "text/x-python",
   "name": "python",
   "nbconvert_exporter": "python",
   "pygments_lexer": "ipython3",
   "version": "3.6.9"
  }
 },
 "nbformat": 4,
 "nbformat_minor": 4
}
