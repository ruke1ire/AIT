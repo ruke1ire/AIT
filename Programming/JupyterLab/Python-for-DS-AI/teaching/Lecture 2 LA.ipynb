{
 "cells": [
  {
   "cell_type": "markdown",
   "metadata": {},
   "source": [
    "# Linear Algebra Crash Course"
   ]
  },
  {
   "cell_type": "code",
   "execution_count": 1,
   "metadata": {},
   "outputs": [],
   "source": [
    "#python list to create vectors\n",
    "[4, 2, 10.2]"
   ]
  },
  {
   "cell_type": "code",
   "execution_count": 2,
   "metadata": {},
   "outputs": [
    {
     "name": "stdout",
     "output_type": "stream",
     "text": [
      "[ 4.   2.  10.2]\n",
      "(3,)\n"
     ]
    }
   ],
   "source": [
    "#python list is very inefficient\n",
    "#each element actually holds a lot of information, like dtype\n",
    "#python is built under C\n",
    "#python is a wrapper so 4 here is actually a manifestation of a lot of values inside C\n",
    "#TLDR: python list sucks\n",
    "\n",
    "#numpy\n",
    "#numpy force us to use only fixed type list\n",
    "#numpy-each element only holds minimal information\n",
    "\n",
    "import numpy as np\n",
    "house = np.array([4, 2, 10.2])\n",
    "print(house)\n",
    "print(house.shape)  #number of rows, columns\n",
    "\n",
    "#forget about rows and columns\n",
    "#because once it's 3d 4d.....there are no such things as rows and cols\n",
    "\n",
    "#house.shape (m_features, n_sample)  ==> (3, )\n"
   ]
  },
  {
   "cell_type": "code",
   "execution_count": 3,
   "metadata": {},
   "outputs": [
    {
     "data": {
      "text/plain": [
       "(3, 2)"
      ]
     },
     "execution_count": 3,
     "metadata": {},
     "output_type": "execute_result"
    }
   ],
   "source": [
    "X = np.array([\n",
    "    [4, 2],\n",
    "    [2, 1], \n",
    "    [10.2, 4]\n",
    "])\n",
    "\n",
    "X.shape #(m_features, n_samples)"
   ]
  },
  {
   "cell_type": "markdown",
   "metadata": {},
   "source": [
    "scalar multiplication\n",
    "$$\\alpha$$\n",
    "$$\\gamma$$\n",
    "$$\\lambda$$\n",
    "$$\\beta$$\n",
    "\n",
    "$$\\frac{1}{2}$$\n",
    "\n",
    "$$\\Sigma_{i=1}^{n}\\frac{y_i - \\yhat_i}{n}$$"
   ]
  },
  {
   "cell_type": "code",
   "execution_count": 4,
   "metadata": {},
   "outputs": [
    {
     "name": "stdout",
     "output_type": "stream",
     "text": [
      "[[12.   6. ]\n",
      " [ 6.   3. ]\n",
      " [30.6 12. ]]\n",
      "[[12.   6. ]\n",
      " [ 6.   3. ]\n",
      " [30.6 12. ]]\n"
     ]
    }
   ],
   "source": [
    "alpha = 3\n",
    "\n",
    "print(alpha * X)\n",
    "\n",
    "print(X * alpha)\n",
    "\n",
    "#scalar multiplication is commutative\n",
    "# lambda * X = X * lambda"
   ]
  },
  {
   "cell_type": "code",
   "execution_count": 5,
   "metadata": {},
   "outputs": [
    {
     "data": {
      "text/plain": [
       "(3,)"
      ]
     },
     "execution_count": 5,
     "metadata": {},
     "output_type": "execute_result"
    }
   ],
   "source": [
    "b = np.array([1, 1, 0.4])\n",
    "b.shape"
   ]
  },
  {
   "cell_type": "code",
   "execution_count": 6,
   "metadata": {},
   "outputs": [
    {
     "name": "stdout",
     "output_type": "stream",
     "text": [
      "X shape:  (3, 2)\n",
      "b shape:  (3,)\n"
     ]
    }
   ],
   "source": [
    "print(\"X shape: \", X.shape)\n",
    "print(\"b shape: \", b.shape)"
   ]
  },
  {
   "cell_type": "code",
   "execution_count": 7,
   "metadata": {},
   "outputs": [
    {
     "name": "stdout",
     "output_type": "stream",
     "text": [
      "X.T shape:  (2, 3)\n",
      "[[ 4.   2.  10.2]\n",
      " [ 2.   1.   4. ]]\n"
     ]
    }
   ],
   "source": [
    "print(\"X.T shape: \", X.T.shape)\n",
    "print(X.T)"
   ]
  },
  {
   "cell_type": "code",
   "execution_count": 8,
   "metadata": {},
   "outputs": [
    {
     "name": "stdout",
     "output_type": "stream",
     "text": [
      "[10.08  4.6 ]\n",
      "<class 'numpy.ndarray'>\n",
      "[10.08  4.6 ]\n",
      "[10.08  4.6 ]\n"
     ]
    },
    {
     "data": {
      "text/plain": [
       "array([10.08,  4.6 ])"
      ]
     },
     "execution_count": 8,
     "metadata": {},
     "output_type": "execute_result"
    }
   ],
   "source": [
    "#np.dot\n",
    "print(np.dot(X.T, b))\n",
    "\n",
    "#.dot\n",
    "#all numpy type have .dot\n",
    "print(type(X))\n",
    "print(X.T.dot(b))\n",
    "\n",
    "#  @ (python3.5)\n",
    "print(X.T @ b) #matmul\n",
    "\n",
    "#np.matmul\n",
    "#matrix multiplication\n",
    "np.matmul(X.T, b)\n",
    "\n",
    "X.dot(3) #scalar\n",
    "\n",
    "np.matmul(X.T, b)  #only about matrix multiplication\n",
    "\n",
    "#dot allows scalar, vector, matrix\n",
    "\n",
    "\n",
    "\n"
   ]
  },
  {
   "cell_type": "code",
   "execution_count": 9,
   "metadata": {},
   "outputs": [
    {
     "name": "stdout",
     "output_type": "stream",
     "text": [
      "b_shape1:  (3,)\n",
      "b_shape2:  (3, 1)\n"
     ]
    },
    {
     "data": {
      "text/plain": [
       "array([[1. ],\n",
       "       [1. ],\n",
       "       [0.4]])"
      ]
     },
     "execution_count": 9,
     "metadata": {},
     "output_type": "execute_result"
    }
   ],
   "source": [
    "# print(X.T.shape)\n",
    "# print(b.shape)\n",
    "# print((X.T @ b).shape)\n",
    "\n",
    "\n",
    "b_reshape = b.reshape(3, 1)\n",
    "\n",
    "#print((X.T @ b_reshape).shape)\n",
    "\n",
    "#whether b should be shape (m_features, ) or (m_features, 1)\n",
    "#depend on your y\n",
    "#if your y is shape (n_samples, ) or (n_samples, 1)\n",
    "\n",
    "#X shape (2, 3) @ (3, ) = (2, )\n",
    "b_shape1 = b.reshape(3, )\n",
    "print(\"b_shape1: \", b_shape1.shape)\n",
    "\n",
    "\n",
    "#X shape (2, 3) @ (3, 1) = (2, 1)\n",
    "b_shape2 = b.reshape(3, 1)\n",
    "print(\"b_shape2: \", b_shape2.shape)\n",
    "\n",
    "\n",
    "#randomize values between [0, 1) with the given shape\n",
    "yhat = np.random.rand(2, )\n",
    "\n",
    "#if your y_hat is this shape\n",
    "#make sure your b has no dimensions\n",
    "\n",
    "y_hat2 = np.random.rand(2, 1)\n",
    "\n",
    "b_shape2"
   ]
  },
  {
   "cell_type": "code",
   "execution_count": 10,
   "metadata": {},
   "outputs": [
    {
     "name": "stdout",
     "output_type": "stream",
     "text": [
      "11.0\n"
     ]
    }
   ],
   "source": [
    "x3 = np.array([3, 2, 15])\n",
    "\n",
    "#what is the price?\n",
    "print(x3.T @ b)"
   ]
  },
  {
   "cell_type": "markdown",
   "metadata": {},
   "source": [
    "$$ u \\cdot v = v \\times u $$"
   ]
  },
  {
   "cell_type": "code",
   "execution_count": 11,
   "metadata": {},
   "outputs": [
    {
     "name": "stdout",
     "output_type": "stream",
     "text": [
      "38.599999999999994\n",
      "38.599999999999994\n",
      "87.19999999999999\n",
      "87.19999999999999\n"
     ]
    }
   ],
   "source": [
    "#basic properties of dot product\n",
    "#dot product refers to @ operations between two vectors\n",
    "#I am talking about vectors, NOT matrix\n",
    "\n",
    "# commutative law\n",
    "# u . v = v . u\n",
    "u = np.array([4, 2, 10.2])\n",
    "v = np.array([1, 2, 3])\n",
    "w = np.array([3, 3, 3])\n",
    "\n",
    "print(u @ v)\n",
    "print(v @ u)\n",
    "\n",
    "# associative law (does not follow)\n",
    "# u . (v . w) != (u . v) . w\n",
    "# dot product only can be possible between two vectors\n",
    "# NOT between a vector and a scalar\n",
    "# u @ (v @ w)\n",
    "\n",
    "#distribution law\n",
    "# u . (v + w) = u . v + u . w\n",
    "print(u @ (v + w))\n",
    "print(u @ v + u @ w)"
   ]
  },
  {
   "cell_type": "code",
   "execution_count": 12,
   "metadata": {},
   "outputs": [
    {
     "name": "stdout",
     "output_type": "stream",
     "text": [
      "(2, 2)\n",
      "(3, 3)\n",
      "(2, 5)\n",
      "(2, 5)\n",
      "[[0.84447469 0.94101512 1.31489454 0.89998493 0.04375911]\n",
      " [0.86020707 0.95854603 1.33939074 0.91675146 0.04457433]\n",
      " [0.49026367 0.54631067 0.76336808 0.5224904  0.02540455]]\n",
      "[[0.84447469 0.94101512 1.31489454 0.89998493 0.04375911]\n",
      " [0.86020707 0.95854603 1.33939074 0.91675146 0.04457433]\n",
      " [0.49026367 0.54631067 0.76336808 0.5224904  0.02540455]]\n"
     ]
    }
   ],
   "source": [
    "#this is different for matrix multiplication\n",
    "#many dot product\n",
    "\n",
    "# NOT commutative law\n",
    "# whether left or right matters\n",
    "# QR != RQ\n",
    "# Q (2, 3)\n",
    "# R (3, 2)\n",
    "# QR (2, 2)\n",
    "# RQ (3, 3)\n",
    "\n",
    "Q = np.random.rand(2, 3)\n",
    "R = np.random.rand(3, 2)\n",
    "\n",
    "print((Q @ R).shape)\n",
    "print((R @ Q).shape)\n",
    "\n",
    "#associative\n",
    "#order of operation does not matter\n",
    "#Q(RS) == (QR)S\n",
    "S = np.random.rand(2, 5)\n",
    "\n",
    "print((Q @ (R @ S)).shape)\n",
    "print(((Q @ R) @ S).shape)\n",
    "\n",
    "#distributive\n",
    "#(Q + R)S = QS + RS\n",
    "\n",
    "Q = np.random.rand(3, 1)\n",
    "R = np.random.rand(3, 1)\n",
    "S = np.random.rand(1, 5)\n",
    "\n",
    "print((Q+R) @ S)\n",
    "print(Q @ S + R @ S)"
   ]
  },
  {
   "cell_type": "code",
   "execution_count": 13,
   "metadata": {},
   "outputs": [],
   "source": [
    "#addition\n",
    "#A + B  #A.shape = B.shape"
   ]
  },
  {
   "cell_type": "code",
   "execution_count": 14,
   "metadata": {},
   "outputs": [
    {
     "data": {
      "image/png": "[encoded data removed]",
      "text/plain": [
       "<Figure size 432x288 with 1 Axes>"
      ]
     },
     "metadata": {
      "needs_background": "light"
     },
     "output_type": "display_data"
    }
   ],
   "source": [
    "#vectors as arrows\n",
    "#arrow has two properties\n",
    "#direction\n",
    "#magnitude - length\n",
    "\n",
    "u = np.array([2, 5])\n",
    "v = np.array([3, 1])\n",
    "\n",
    "import matplotlib.pyplot as plt\n",
    "x, y = zip(u, v)\n",
    "plt.scatter(x, y, color=['r', 'b'])\n",
    "plt.axis([0, 9, 0, 6])\n",
    "plt.grid()"
   ]
  },
  {
   "cell_type": "code",
   "execution_count": 15,
   "metadata": {},
   "outputs": [],
   "source": [
    "def plot_arrow(vector2d, origin=[0, 0], **options):\n",
    "    #**keyword arguments\n",
    "    return plt.arrow(origin[0], origin[1], vector2d[0], vector2d[1],\n",
    "                    head_width=0.2, head_length=0.3, length_includes_head=True,\n",
    "                    **options)"
   ]
  },
  {
   "cell_type": "code",
   "execution_count": 16,
   "metadata": {},
   "outputs": [
    {
     "data": {
      "image/png": "[encoded data removed]",
      "text/plain": [
       "<Figure size 432x288 with 1 Axes>"
      ]
     },
     "metadata": {
      "needs_background": "light"
     },
     "output_type": "display_data"
    }
   ],
   "source": [
    "plot_arrow(u, color=\"r\")\n",
    "plot_arrow(v, color=\"b\")\n",
    "plt.axis([0, 9, 0, 6])\n",
    "plt.grid()"
   ]
  },
  {
   "cell_type": "markdown",
   "metadata": {},
   "source": [
    "How about the length?\n",
    "\n",
    "We can use L2-norm to find  (Euclidean distance)\n",
    "\n",
    "$$\\left \\Vert \\textbf{u} \\right \\| = \\sqrt{\\sum_{i}{\\textbf{u}_i}^2}$$\n",
    "\n",
    "<code>u = [2, 5]</code>"
   ]
  },
  {
   "cell_type": "raw",
   "metadata": {},
   "source": [
    "i = 0, 1\n",
    "u_0 = 2^2 = 4\n",
    "u_1 = 5^2 = 25\n",
    "4 + 25 = 29\n",
    "\\sqrt(29) = 5.3"
   ]
  },
  {
   "cell_type": "code",
   "execution_count": 17,
   "metadata": {},
   "outputs": [],
   "source": [
    "def norm(vector):\n",
    "    print(\"Vector: \", vector)\n",
    "    squares = [element**2 for element in vector]\n",
    "    print(\"Squares: \", squares)\n",
    "    print(\"Sum: \", sum(squares))\n",
    "    print(\"Sum: \", np.sum(squares))\n",
    "    sumofsquares = sum(squares)\n",
    "    print(\"Square root: \", np.sqrt(sumofsquares))\n",
    "    print(\"Square root: \", sumofsquares**0.5)\n",
    "    return sum(squares)**0.5"
   ]
  },
  {
   "cell_type": "code",
   "execution_count": 18,
   "metadata": {},
   "outputs": [
    {
     "name": "stdout",
     "output_type": "stream",
     "text": [
      "Vector:  [2 5]\n",
      "Squares:  [4, 25]\n",
      "Sum:  29\n",
      "Sum:  29\n",
      "Square root:  5.385164807134504\n",
      "Square root:  5.385164807134504\n"
     ]
    },
    {
     "data": {
      "text/plain": [
       "5.385164807134504"
      ]
     },
     "execution_count": 18,
     "metadata": {},
     "output_type": "execute_result"
    }
   ],
   "source": [
    "norm(u)"
   ]
  },
  {
   "cell_type": "code",
   "execution_count": 19,
   "metadata": {},
   "outputs": [
    {
     "data": {
      "text/plain": [
       "5.385164807134504"
      ]
     },
     "execution_count": 19,
     "metadata": {},
     "output_type": "execute_result"
    }
   ],
   "source": [
    "import numpy.linalg as LA\n",
    "\n",
    "LA.norm(u)"
   ]
  },
  {
   "cell_type": "code",
   "execution_count": 20,
   "metadata": {},
   "outputs": [
    {
     "data": {
      "text/plain": [
       "(0.0, 9.0, 0.0, 7.0)"
      ]
     },
     "execution_count": 20,
     "metadata": {},
     "output_type": "execute_result"
    },
    {
     "data": {
      "image/png": "[encoded data removed]",
      "text/plain": [
       "<Figure size 432x288 with 1 Axes>"
      ]
     },
     "metadata": {
      "needs_background": "light"
     },
     "output_type": "display_data"
    }
   ],
   "source": [
    "##addition\n",
    "#how does addition looks like in arrow\n",
    "plot_arrow(u, color=\"r\")\n",
    "plot_arrow(v, color=\"b\")\n",
    "plot_arrow(v, origin=u, color=\"b\")\n",
    "plot_arrow(u, origin=v, color=\"r\")\n",
    "plot_arrow(u+v, color=\"g\")\n",
    "\n",
    "plt.text(0.7, 3, \"u\")\n",
    "plt.text(1.8, 0.2, \"v\")\n",
    "\n",
    "plt.text(2.4, 2.5, \"u+v / v+u\")\n",
    "\n",
    "\n",
    "plt.axis([0, 9, 0, 7])"
   ]
  },
  {
   "cell_type": "code",
   "execution_count": 21,
   "metadata": {},
   "outputs": [
    {
     "data": {
      "image/png": "[encoded data removed]",
      "text/plain": [
       "<Figure size 432x288 with 1 Axes>"
      ]
     },
     "metadata": {
      "needs_background": "light"
     },
     "output_type": "display_data"
    }
   ],
   "source": [
    "#scalar multiplication\n",
    "#changing length - scale\n",
    "plot_arrow(v, color=\"b\")\n",
    "plot_arrow(v * 0.2, color=\"r\")\n",
    "\n",
    "plt.axis([0, 9, 0, 6])\n",
    "plt.grid()"
   ]
  },
  {
   "cell_type": "markdown",
   "metadata": {},
   "source": [
    "**commutative**\n",
    "$$ \\lambda \\times u = u \\times \\lambda $$\n",
    "\n",
    "**associative**\n",
    "$$ \\lambda_{1} \\times (\\lambda_2 \\times u) = (\\lambda_1 \\times \\lambda) \\times u$$\n",
    "\n",
    "**distributive**\n",
    "$$ \\lambda \\times (u + v) = \\lambda \\times u + \\lambda \\times v$$\n"
   ]
  },
  {
   "cell_type": "code",
   "execution_count": 22,
   "metadata": {},
   "outputs": [
    {
     "data": {
      "text/plain": [
       "(0.0, 9.0, 0.0, 6.0)"
      ]
     },
     "execution_count": 22,
     "metadata": {},
     "output_type": "execute_result"
    },
    {
     "data": {
      "image/png": "[encoded data removed]",
      "text/plain": [
       "<Figure size 432x288 with 1 Axes>"
      ]
     },
     "metadata": {
      "needs_background": "light"
     },
     "output_type": "display_data"
    }
   ],
   "source": [
    "###unit vectors\n",
    "plot_arrow(u, color=\"b\")\n",
    "plot_arrow(u / LA.norm(u), color=\"r\")\n",
    "\n",
    "plt.grid()\n",
    "plt.axis([0, 9, 0, 6])"
   ]
  },
  {
   "cell_type": "markdown",
   "metadata": {},
   "source": [
    "A **square matrix** is a matrix that has the same number of rows and columns, for example a $3 \\times 3$ matrix:\n",
    "\n",
    "$$\\begin{bmatrix}\n",
    "  4 & 9 & 2 \\\\\n",
    "  3 & 5 & 7 \\\\\n",
    "  8 & 1 & 6\n",
    "\\end{bmatrix}$$\n",
    "\n",
    "**only square matrix can find inverse, but not all square matrix can find inverse**\n",
    "\n",
    "**in many applications, like cnn (convolutional neural network) likes square matrices**\n",
    "\n",
    "An **upper triangular matrix** is a special kind of square matrix where all the elements *below* the main diagonal (top-left to bottom-right) are zero, for example:\n",
    "\n",
    "$$\\begin{bmatrix}\n",
    "  4 & 9 & 2 \\\\\n",
    "  0 & 5 & 7 \\\\\n",
    "  0 & 0 & 6\n",
    "\\end{bmatrix}$$\n",
    "\n",
    "Similarly, a **lower triangular matrix** is a square matrix where all elements *above* the main diagonal are zero, for example:\n",
    "\n",
    "$$\\begin{bmatrix}\n",
    "  4 & 0 & 0 \\\\\n",
    "  3 & 5 & 0 \\\\\n",
    "  8 & 1 & 6\n",
    "\\end{bmatrix}$$\n",
    "\n",
    "A matrix that is both upper and lower triangular is called a **diagonal matrix**, for example:\n",
    "\n",
    "$$\\begin{bmatrix}\n",
    "  4 & 0 & 0 \\\\\n",
    "  0 & 5 & 0 \\\\\n",
    "  0 & 0 & 6\n",
    "\\end{bmatrix}$$\n",
    "\n",
    "You can construct a diagonal matrix using NumPy's `diag` function:\n",
    "\n"
   ]
  },
  {
   "cell_type": "code",
   "execution_count": 23,
   "metadata": {},
   "outputs": [
    {
     "data": {
      "text/plain": [
       "array([[4, 0, 0],\n",
       "       [0, 5, 0],\n",
       "       [0, 0, 6]])"
      ]
     },
     "execution_count": 23,
     "metadata": {},
     "output_type": "execute_result"
    }
   ],
   "source": [
    "np.diag([4, 5, 6])"
   ]
  },
  {
   "cell_type": "code",
   "execution_count": 24,
   "metadata": {},
   "outputs": [
    {
     "name": "stdout",
     "output_type": "stream",
     "text": [
      "[[ 4.   2. ]\n",
      " [ 2.   1. ]\n",
      " [10.2  4. ]]\n"
     ]
    }
   ],
   "source": [
    "print(X)"
   ]
  },
  {
   "cell_type": "code",
   "execution_count": 25,
   "metadata": {},
   "outputs": [
    {
     "name": "stdout",
     "output_type": "stream",
     "text": [
      "(3, 2)\n",
      "[[ 4.   2. ]\n",
      " [ 2.   1. ]\n",
      " [10.2  4. ]]\n",
      "[[ 4.   2. ]\n",
      " [ 2.   1. ]\n",
      " [10.2  4. ]]\n"
     ]
    }
   ],
   "source": [
    "#X @ ? = X\n",
    "#? @ X = X\n",
    "\n",
    "Im = np.eye(3)\n",
    "In = np.eye(2)\n",
    "\n",
    "print(X.shape)\n",
    "\n",
    "print(X @ In)\n",
    "\n",
    "print(Im @ X)"
   ]
  },
  {
   "cell_type": "markdown",
   "metadata": {},
   "source": [
    "The product of a matrix $M$ by the identity matrix (of matching size) results in the same matrix $M$. More formally, if $M$ is an $m \\times n$ matrix, then:\n",
    "\n",
    "$M I_n = I_m M = M$\n",
    "\n",
    "This is generally written more concisely (since the size of the identity matrices is unambiguous given the context):\n",
    "\n",
    "$MI = IM = M$\n",
    "\n",
    "For example:"
   ]
  },
  {
   "cell_type": "code",
   "execution_count": 26,
   "metadata": {},
   "outputs": [
    {
     "data": {
      "image/png": "[encoded data removed]",
      "text/plain": [
       "<Figure size 432x288 with 1 Axes>"
      ]
     },
     "metadata": {
      "needs_background": "light"
     },
     "output_type": "display_data"
    }
   ],
   "source": [
    "##matrix operations\n",
    "#addition\n",
    "\n",
    "from matplotlib.patches import Polygon\n",
    "\n",
    "P = np.array([\n",
    "    [3.0, 4.0, 1.0, 4.6],\n",
    "    [0.2, 3.5, 2.0, 0.5]\n",
    "])\n",
    "\n",
    "H = np.array([\n",
    "    [0.5, -0.2, 0.2, -0.1],\n",
    "    [0.4, 0.4, 1.5, 0.6]\n",
    "])\n",
    "\n",
    "P_moved = P + H\n",
    "\n",
    "plt.gca().add_artist(Polygon(P.T, alpha=0.2))\n",
    "plt.gca().add_artist(Polygon(P_moved.T, alpha=0.3, color=\"r\"))\n",
    "\n",
    "plt.axis([0, 5, 0, 4])\n",
    "plt.grid()"
   ]
  },
  {
   "cell_type": "code",
   "execution_count": 27,
   "metadata": {},
   "outputs": [],
   "source": [
    "#scalar multiplication\n",
    "def plot_transform(P_before, P_after, axis=[0, 5, 0, 4]):\n",
    "    plt.gca().add_artist(Polygon(P_before.T, alpha=0.2))\n",
    "    plt.gca().add_artist(Polygon(P_after.T, alpha=0.3, color=\"r\"))\n",
    "    plt.axis(axis)"
   ]
  },
  {
   "cell_type": "code",
   "execution_count": 28,
   "metadata": {},
   "outputs": [
    {
     "data": {
      "image/png": "[encoded data removed]",
      "text/plain": [
       "<Figure size 432x288 with 1 Axes>"
      ]
     },
     "metadata": {
      "needs_background": "light"
     },
     "output_type": "display_data"
    }
   ],
   "source": [
    "P\n",
    "P_scaled = 0.6 * P\n",
    "\n",
    "plot_transform(P, P_scaled)"
   ]
  },
  {
   "cell_type": "code",
   "execution_count": 29,
   "metadata": {},
   "outputs": [
    {
     "name": "stdout",
     "output_type": "stream",
     "text": [
      "[[3.  4.  1.  4.6]\n",
      " [0.2 3.5 2.  0.5]]\n",
      "[[3.  4.  1.  4.6]]\n"
     ]
    }
   ],
   "source": [
    "#transformations\n",
    "# F @ P \n",
    "# P is our given vector\n",
    "# F is the transformation\n",
    "# F can be any transformation that we want to achieve\n",
    "\n",
    "print(P)\n",
    "U = np.array([[1, 0]])\n",
    "print(U.dot(P))"
   ]
  },
  {
   "cell_type": "code",
   "execution_count": 30,
   "metadata": {},
   "outputs": [],
   "source": [
    "def plot_projection(U, P):\n",
    "    U_P = U.dot(P)\n",
    "    plt.gca().add_artist(Polygon(P.T, alpha=0.2))\n",
    "    for vector, proj in zip(P.T, U_P.T):\n",
    "        proj_point = proj * U\n",
    "        plt.plot(proj_point[0][0], proj_point[0][1], \"ro\"),\n",
    "        plt.plot([vector[0], proj_point[0][0]], [vector[1], proj_point[0][1]], \"r--\")\n",
    "    plt.axis([0, 5, 0, 4])"
   ]
  },
  {
   "cell_type": "code",
   "execution_count": 31,
   "metadata": {},
   "outputs": [
    {
     "data": {
      "image/png": "[encoded data removed]",
      "text/plain": [
       "<Figure size 432x288 with 1 Axes>"
      ]
     },
     "metadata": {
      "needs_background": "light"
     },
     "output_type": "display_data"
    }
   ],
   "source": [
    "plot_projection(U, P)"
   ]
  },
  {
   "cell_type": "code",
   "execution_count": 32,
   "metadata": {},
   "outputs": [],
   "source": [
    "#rotation\n",
    "#rotation around z-axis\n",
    "#transform matrix = [cos -sin]\n",
    "                  # [sin cos]\n",
    "    \n",
    "def rotateZ(angle):\n",
    "    c = np.cos(np.radians(angle))\n",
    "    s = np.sin(np.radians(angle))\n",
    "    return np.array([[c, -s],\n",
    "                     [s, c]])\n"
   ]
  },
  {
   "cell_type": "code",
   "execution_count": 33,
   "metadata": {},
   "outputs": [
    {
     "data": {
      "image/png": "[encoded data removed]",
      "text/plain": [
       "<Figure size 432x288 with 1 Axes>"
      ]
     },
     "metadata": {
      "needs_background": "light"
     },
     "output_type": "display_data"
    }
   ],
   "source": [
    "P_rotated = rotateZ(30).dot(P)\n",
    "\n",
    "plot_transform(P, P_rotated, axis=[-2, 6, -2, 4])"
   ]
  },
  {
   "cell_type": "code",
   "execution_count": 34,
   "metadata": {},
   "outputs": [
    {
     "data": {
      "image/png": "[encoded data removed]",
      "text/plain": [
       "<Figure size 432x288 with 1 Axes>"
      ]
     },
     "metadata": {
      "needs_background": "light"
     },
     "output_type": "display_data"
    }
   ],
   "source": [
    "F_shear = np.array([\n",
    "    [1, 1.5],\n",
    "    [0, 1]\n",
    "])\n",
    "\n",
    "plot_transform(P, F_shear.dot(P), axis=[0, 10, 0, 7])"
   ]
  },
  {
   "cell_type": "code",
   "execution_count": 35,
   "metadata": {},
   "outputs": [
    {
     "data": {
      "image/png": "[encoded data removed]",
      "text/plain": [
       "<Figure size 432x288 with 1 Axes>"
      ]
     },
     "metadata": {
      "needs_background": "light"
     },
     "output_type": "display_data"
    }
   ],
   "source": [
    "Square = np.array([\n",
    "    [0, 0, 1, 1],\n",
    "    [0, 1, 1, 0]\n",
    "])\n",
    "\n",
    "plot_transform(Square, F_shear.dot(Square), axis=[0, 2.6, 0, 1.8])"
   ]
  },
  {
   "cell_type": "code",
   "execution_count": 37,
   "metadata": {},
   "outputs": [
    {
     "data": {
      "image/png": "[encoded data removed]",
      "text/plain": [
       "<Figure size 432x288 with 1 Axes>"
      ]
     },
     "metadata": {
      "needs_background": "light"
     },
     "output_type": "display_data"
    }
   ],
   "source": [
    "F_squeeze = np.array([\n",
    "    [1.5, 0],\n",
    "    [0, 1/1.5]\n",
    "])\n",
    "\n",
    "plot_transform(P, F_squeeze.dot(P), axis=[0, 7, 0, 5])"
   ]
  },
  {
   "cell_type": "code",
   "execution_count": 38,
   "metadata": {},
   "outputs": [
    {
     "data": {
      "image/png": "[encoded data removed]",
      "text/plain": [
       "<Figure size 432x288 with 1 Axes>"
      ]
     },
     "metadata": {
      "needs_background": "light"
     },
     "output_type": "display_data"
    }
   ],
   "source": [
    "F_inv_shear = LA.inv(F_shear)\n",
    "P_sheared = F_shear.dot(P)  #transform P with shear\n",
    "P_unsheared = F_inv_shear.dot(P_sheared) #undo it\n",
    "\n",
    "plot_transform(P_sheared, P_unsheared, axis=[0, 10, 0, 7])"
   ]
  },
  {
   "cell_type": "code",
   "execution_count": 43,
   "metadata": {},
   "outputs": [],
   "source": [
    "A = np.array([\n",
    "    [2, 3],\n",
    "    [4, 6]\n",
    "])\n",
    "\n",
    "# LA.inv(A)"
   ]
  },
  {
   "cell_type": "code",
   "execution_count": 45,
   "metadata": {},
   "outputs": [
    {
     "data": {
      "image/png": "[encoded data removed]",
      "text/plain": [
       "<Figure size 432x288 with 1 Axes>"
      ]
     },
     "metadata": {
      "needs_background": "light"
     },
     "output_type": "display_data"
    }
   ],
   "source": [
    "#determinant\n",
    "\n",
    "#what is the purpose of determinant\n",
    "\n",
    "#1. Find whether it's invertible\n",
    "# if det = 0, the matrix cannot be inversed\n",
    "# else, maybe, hopefully ok\n",
    "LA.det(F_shear)\n",
    "LA.det(A)  #det with 0 means not invertible\n",
    "\n",
    "#2. Find the area of the transformation\n",
    "F_scale = np.array([\n",
    "    [0.5, 0],\n",
    "    [0, 0.5]\n",
    "])\n",
    "plot_transform(P, F_scale.dot(P), axis=[0, 6, -1, 4])"
   ]
  },
  {
   "cell_type": "code",
   "execution_count": 46,
   "metadata": {},
   "outputs": [
    {
     "data": {
      "text/plain": [
       "0.25"
      ]
     },
     "execution_count": 46,
     "metadata": {},
     "output_type": "execute_result"
    }
   ],
   "source": [
    "LA.det(F_scale)"
   ]
  },
  {
   "cell_type": "code",
   "execution_count": 47,
   "metadata": {},
   "outputs": [
    {
     "name": "stdout",
     "output_type": "stream",
     "text": [
      "[[1.  1.5]\n",
      " [0.  1. ]]\n"
     ]
    }
   ],
   "source": [
    "#Singular value decomposition\n",
    "\n",
    "#Any matrix M: R-> m x n in the world can be decomposed into\n",
    "#. U . Sigma . VT\n",
    "# Definition of orthonormal - unit vectors that are orthogonal\n",
    "# Orthogonal - vectors are perpendicular\n",
    "# Orthogonal - xT . y = 0 then x and y are orthogonal\n",
    "# example x = [1]   y [0]\n",
    "#.            [0]     [-1]\n",
    "# U = [1  0]\n",
    "#.    [0 -1]  \n",
    "# orthonormal_U = [1/sqrt(2) 0]\n",
    "#.                [0.      -1/sqrt(2)]\n",
    "# U is a orthonormal-orthogonal: R -> (m x m)\n",
    "# S is a diag  R -> (m x n)\n",
    "# only values in the diagonal, but 0 elsewhere\n",
    "# V is also a orthogonal matrix  R -> (n x n)\n",
    "\n",
    "# U, S_diag, VT = LA.svd(F_shear)\n",
    "\n",
    "print(F_shear)"
   ]
  },
  {
   "cell_type": "code",
   "execution_count": 52,
   "metadata": {},
   "outputs": [
    {
     "name": "stdout",
     "output_type": "stream",
     "text": [
      "[[ 0.89442719 -0.4472136 ]\n",
      " [ 0.4472136   0.89442719]]\n",
      "[[2.  0. ]\n",
      " [0.  0.5]]\n",
      "[[ 0.4472136   0.89442719]\n",
      " [-0.89442719  0.4472136 ]]\n"
     ]
    }
   ],
   "source": [
    "U, S_diag, VT = LA.svd(F_shear)\n",
    "\n",
    "print(U)\n",
    "print(np.diag(S_diag))  #np.diag will fill the zero\n",
    "print(VT)\n",
    "\n",
    "S = np.diag(S_diag)"
   ]
  },
  {
   "cell_type": "code",
   "execution_count": 51,
   "metadata": {},
   "outputs": [
    {
     "data": {
      "image/png": "[encoded data removed]",
      "text/plain": [
       "<Figure size 432x288 with 1 Axes>"
      ]
     },
     "metadata": {
      "needs_background": "light"
     },
     "output_type": "display_data"
    }
   ],
   "source": [
    "#V is a rotation matrix\n",
    "\n",
    "V_apply = VT.dot(Square)\n",
    "\n",
    "plot_transform(Square, V_apply, axis=[-0.5, 3.5, -1.5, 1.5])"
   ]
  },
  {
   "cell_type": "code",
   "execution_count": 53,
   "metadata": {},
   "outputs": [
    {
     "data": {
      "image/png": "[encoded data removed]",
      "text/plain": [
       "<Figure size 432x288 with 1 Axes>"
      ]
     },
     "metadata": {
      "needs_background": "light"
     },
     "output_type": "display_data"
    }
   ],
   "source": [
    "#S is a scaling/squeezing matrix\n",
    "S_apply = S.dot(V_apply)\n",
    "\n",
    "plot_transform(V_apply, S_apply, axis=[-0.5, 3.5, -1.5, 1.5])"
   ]
  },
  {
   "cell_type": "code",
   "execution_count": 54,
   "metadata": {},
   "outputs": [
    {
     "data": {
      "image/png": "[encoded data removed]",
      "text/plain": [
       "<Figure size 432x288 with 1 Axes>"
      ]
     },
     "metadata": {
      "needs_background": "light"
     },
     "output_type": "display_data"
    }
   ],
   "source": [
    "U_apply = U.dot(S_apply)\n",
    "\n",
    "plot_transform(S_apply, U_apply, axis=[-0.5, 3.5, -1.5, 1.5])"
   ]
  },
  {
   "cell_type": "code",
   "execution_count": null,
   "metadata": {},
   "outputs": [],
   "source": [
    "#V rotation matrix\n",
    "#Sigma scaling/squeezing matrix\n",
    "#U rotation matrix\n",
    "\n",
    "#Any matrix can be decomposed into these three components\n",
    "\n",
    "#U is actually row space eigenvectors\n",
    "#Sigma is actually eigenvalues\n",
    "#V is actually col space eigenvectors"
   ]
  }
 ],
 "metadata": {
  "kernelspec": {
   "display_name": "Python 3",
   "language": "python",
   "name": "python3"
  },
  "language_info": {
   "codemirror_mode": {
    "name": "ipython",
    "version": 3
   },
   "file_extension": ".py",
   "mimetype": "text/x-python",
   "name": "python",
   "nbconvert_exporter": "python",
   "pygments_lexer": "ipython3",
   "version": "3.8.3"
  }
 },
 "nbformat": 4,
 "nbformat_minor": 4
}
