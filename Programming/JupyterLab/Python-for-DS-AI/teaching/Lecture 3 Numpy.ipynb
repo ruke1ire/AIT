{
 "cells": [
  {
   "cell_type": "code",
   "execution_count": 1,
   "metadata": {},
   "outputs": [
    {
     "data": {
      "text/plain": [
       "'1.18.5'"
      ]
     },
     "execution_count": 1,
     "metadata": {},
     "output_type": "execute_result"
    }
   ],
   "source": [
    "import numpy as np\n",
    "np.__version__"
   ]
  },
  {
   "cell_type": "code",
   "execution_count": 5,
   "metadata": {},
   "outputs": [
    {
     "data": {
      "text/plain": [
       "numpy.ndarray"
      ]
     },
     "execution_count": 5,
     "metadata": {},
     "output_type": "execute_result"
    }
   ],
   "source": [
    "#creating numpy array\n",
    "\n",
    "#using np.array from list\n",
    "list1 = [1, 2, 3, 4]\n",
    "l_numpy = np.array(list1)\n",
    "l_numpy\n",
    "type(l_numpy)\n",
    "\n",
    "#you can use np.array putting the list inline\n",
    "some_numpy = np.array([1, 2, 3, 4])\n",
    "some_numpy\n",
    "type(some_numpy)"
   ]
  },
  {
   "cell_type": "code",
   "execution_count": 9,
   "metadata": {},
   "outputs": [
    {
     "name": "stdout",
     "output_type": "stream",
     "text": [
      "[1.2 2.  3.  4. ]\n"
     ]
    }
   ],
   "source": [
    "some_numpy = np.array([1.2, 2, 3, 4])\n",
    "\n",
    "#what will happen if some are float, and some are integers\n",
    "#all will change to float\n",
    "#numpy has a fixed type\n",
    "\n",
    "print(some_numpy)\n",
    "\n",
    "#dtype = data type\n",
    "# np.dtype(some_numpy)"
   ]
  },
  {
   "cell_type": "code",
   "execution_count": 12,
   "metadata": {},
   "outputs": [
    {
     "data": {
      "text/plain": [
       "array([ True,  True,  True,  True])"
      ]
     },
     "execution_count": 12,
     "metadata": {},
     "output_type": "execute_result"
    }
   ],
   "source": [
    "lista = [1, 2, 3, 4]\n",
    "\n",
    "#dtype is defined by numpy -> float32, float64, int32, bool\n",
    "numpy_float = np.array(lista, dtype='bool')\n",
    "\n",
    "numpy_float"
   ]
  },
  {
   "cell_type": "code",
   "execution_count": 13,
   "metadata": {},
   "outputs": [],
   "source": [
    "numpy_int = numpy_float.astype(int)"
   ]
  },
  {
   "cell_type": "code",
   "execution_count": 14,
   "metadata": {},
   "outputs": [
    {
     "data": {
      "text/plain": [
       "array([1, 1, 1, 1])"
      ]
     },
     "execution_count": 14,
     "metadata": {},
     "output_type": "execute_result"
    }
   ],
   "source": [
    "numpy_int"
   ]
  },
  {
   "cell_type": "code",
   "execution_count": 20,
   "metadata": {},
   "outputs": [
    {
     "data": {
      "text/plain": [
       "(2, 2)"
      ]
     },
     "execution_count": 20,
     "metadata": {},
     "output_type": "execute_result"
    }
   ],
   "source": [
    "l_numpy_2d = np.array([[1, 2], [3, 4]])\n",
    "\n",
    "l_numpy_2d.shape #(2, 2)\n",
    "l_numpy_2d.ndim  #useful for checking dimension\n",
    "l_numpy_2d.shape[0]  #2\n",
    "l_numpy_2d.shape[1]  #2\n",
    "\n",
    "l_numpy_2d.size  #total elements\n",
    "\n",
    "len(l_numpy_2d)  #not so useful\n",
    "\n",
    "l_numpy_2d.shape #(2, 2)"
   ]
  },
  {
   "cell_type": "code",
   "execution_count": 21,
   "metadata": {},
   "outputs": [
    {
     "data": {
      "text/plain": [
       "array([[2, 3, 4],\n",
       "       [4, 5, 6],\n",
       "       [6, 7, 8]])"
      ]
     },
     "execution_count": 21,
     "metadata": {},
     "output_type": "execute_result"
    }
   ],
   "source": [
    "#our favorite list comprehension to create np array\n",
    "\n",
    "a = np.array([range(i, i+3) for i in [2, 4, 6]])\n",
    "a"
   ]
  },
  {
   "cell_type": "code",
   "execution_count": 22,
   "metadata": {},
   "outputs": [
    {
     "data": {
      "text/plain": [
       "array([0, 0, 0, 0, 0, 0, 0, 0, 0, 0])"
      ]
     },
     "execution_count": 22,
     "metadata": {},
     "output_type": "execute_result"
    }
   ],
   "source": [
    "#how to create empty numpy\n",
    "#for those who program a lot\n",
    "#count = 0\n",
    "#how do you do in numpy\n",
    "\n",
    "np.zeros(10, dtype=int)"
   ]
  },
  {
   "cell_type": "code",
   "execution_count": 23,
   "metadata": {},
   "outputs": [
    {
     "data": {
      "text/plain": [
       "array([[0, 0, 0],\n",
       "       [0, 0, 0]])"
      ]
     },
     "execution_count": 23,
     "metadata": {},
     "output_type": "execute_result"
    }
   ],
   "source": [
    "np.zeros((2, 3), dtype=int)  #zeros of shape 2, 3 #(2, 3) is a tuple"
   ]
  },
  {
   "cell_type": "code",
   "execution_count": 26,
   "metadata": {},
   "outputs": [
    {
     "data": {
      "text/plain": [
       "array([[1., 1., 1.],\n",
       "       [1., 1., 1.]])"
      ]
     },
     "execution_count": 26,
     "metadata": {},
     "output_type": "execute_result"
    }
   ],
   "source": [
    "np.ones((2, 3), dtype=float)"
   ]
  },
  {
   "cell_type": "code",
   "execution_count": 27,
   "metadata": {},
   "outputs": [
    {
     "data": {
      "text/plain": [
       "array([[3.14, 3.14],\n",
       "       [3.14, 3.14],\n",
       "       [3.14, 3.14],\n",
       "       [3.14, 3.14]])"
      ]
     },
     "execution_count": 27,
     "metadata": {},
     "output_type": "execute_result"
    }
   ],
   "source": [
    "#when to use zero, when to use one\n",
    "#simple question\n",
    "# multiply -> np.ones\n",
    "# add -> np.zeros\n",
    "\n",
    "#what if I want to fill all values with some value\n",
    "np.full((4, 2), 3.14)\n"
   ]
  },
  {
   "cell_type": "code",
   "execution_count": 38,
   "metadata": {},
   "outputs": [
    {
     "data": {
      "text/plain": [
       "<matplotlib.collections.PathCollection at 0x7f5327cdf220>"
      ]
     },
     "execution_count": 38,
     "metadata": {},
     "output_type": "execute_result"
    },
    {
     "data": {
      "image/png": "[encoded data removed]",
      "text/plain": [
       "<Figure size 432x288 with 1 Axes>"
      ]
     },
     "metadata": {
      "needs_background": "light"
     },
     "output_type": "display_data"
    }
   ],
   "source": [
    "#np.linspace\n",
    "#I want 10 values equally distributed between 0 and 1\n",
    "np.linspace(0, 1, 10)   #(start, stop, how-many-values)\n",
    "#for plotting\n",
    "#plot all possible x values\n",
    "x = np.linspace(0, 1, 100000)\n",
    "y = 2 * x + 1\n",
    "\n",
    "import matplotlib.pyplot as plt\n",
    "plt.scatter(x, y)"
   ]
  },
  {
   "cell_type": "code",
   "execution_count": 39,
   "metadata": {},
   "outputs": [
    {
     "data": {
      "text/plain": [
       "array([   10.,   100.,  1000., 10000.])"
      ]
     },
     "execution_count": 39,
     "metadata": {},
     "output_type": "execute_result"
    }
   ],
   "source": [
    "#logspace\n",
    "#something\n",
    "#chaky has money in his bank = 10 baht\n",
    "#ploy has money in her bank = 100 baht\n",
    "#beau has money in her bank = 10000000 baht\n",
    "\n",
    "#chaky has money in his bank = 10^1 baht.  (log_10 1)\n",
    "#ploy has money in her bank = 10^2 baht. (log_10 2)\n",
    "#beau has money in her bank = 10^7 baht (log_10 7)\n",
    "\n",
    "np.logspace(1, 4, 4)\n",
    "\n",
    "#when your values are very far apart, but you want to plot them\n",
    "#and make some sense\n"
   ]
  },
  {
   "cell_type": "code",
   "execution_count": 40,
   "metadata": {},
   "outputs": [
    {
     "data": {
      "text/plain": [
       "array([[0.04334011, 0.67747212, 0.03961695],\n",
       "       [0.7899558 , 0.40900412, 0.83920715],\n",
       "       [0.37360253, 0.68792584, 0.02261222]])"
      ]
     },
     "execution_count": 40,
     "metadata": {},
     "output_type": "execute_result"
    }
   ],
   "source": [
    "#random\n",
    "\n",
    "np.random.random((3, 3))  #randomize value between 0 and 1 in shape of 3, 3\n",
    "#make sure (3, 3) IS a tuple\n"
   ]
  },
  {
   "cell_type": "code",
   "execution_count": 44,
   "metadata": {},
   "outputs": [
    {
     "data": {
      "text/plain": [
       "array([[0.16258314, 0.55693457, 0.06599636],\n",
       "       [0.47706095, 0.55515495, 0.4213894 ],\n",
       "       [0.99143998, 0.33363526, 0.75969608]])"
      ]
     },
     "execution_count": 44,
     "metadata": {},
     "output_type": "execute_result"
    }
   ],
   "source": [
    "#[0.0, 1.0)\n",
    "#include 0, but not include 1\n",
    "#0 inclusive, 1 exclusive\n",
    "\n",
    "np.random.rand(3, 3)  #rand does not need tuple"
   ]
  },
  {
   "cell_type": "code",
   "execution_count": 47,
   "metadata": {},
   "outputs": [
    {
     "data": {
      "text/plain": [
       "array([[ 0,  1,  2,  3],\n",
       "       [ 4,  5,  6,  7],\n",
       "       [ 8,  9, 10, 11]])"
      ]
     },
     "execution_count": 47,
     "metadata": {},
     "output_type": "execute_result"
    }
   ],
   "source": [
    "# 0 1 2 3\n",
    "# 4 5 6 7\n",
    "# 8 9 10 11\n",
    "\n",
    "np.arange(12).reshape((3, 4))\n",
    "\n",
    "#.reshape loves tuples\n",
    "\n",
    "#but I found that it is quite smart"
   ]
  },
  {
   "cell_type": "code",
   "execution_count": 50,
   "metadata": {},
   "outputs": [
    {
     "data": {
      "text/plain": [
       "array([[ 0,  1,  2,  3],\n",
       "       [ 4,  5,  6,  7],\n",
       "       [ 8,  9, 10, 11]])"
      ]
     },
     "execution_count": 50,
     "metadata": {},
     "output_type": "execute_result"
    }
   ],
   "source": [
    "np.arange(12).reshape(3, 4)  #i don't recommend"
   ]
  },
  {
   "cell_type": "code",
   "execution_count": 51,
   "metadata": {},
   "outputs": [
    {
     "data": {
      "text/plain": [
       "array([[ 0,  1,  2,  3],\n",
       "       [ 4,  5,  6,  7],\n",
       "       [ 8,  9, 10, 11]])"
      ]
     },
     "execution_count": 51,
     "metadata": {},
     "output_type": "execute_result"
    }
   ],
   "source": [
    "np.arange(12).reshape(3, -1)  #I don't care how many columns, i only care i want 3 rows"
   ]
  },
  {
   "cell_type": "code",
   "execution_count": 52,
   "metadata": {},
   "outputs": [
    {
     "data": {
      "text/plain": [
       "array([[ 0,  1,  2,  3],\n",
       "       [ 4,  5,  6,  7],\n",
       "       [ 8,  9, 10, 11]])"
      ]
     },
     "execution_count": 52,
     "metadata": {},
     "output_type": "execute_result"
    }
   ],
   "source": [
    "np.arange(12).reshape(-1, 4) "
   ]
  },
  {
   "cell_type": "code",
   "execution_count": 53,
   "metadata": {},
   "outputs": [
    {
     "data": {
      "text/plain": [
       "array([[ 0,  1,  2,  3,  4,  5],\n",
       "       [ 6,  7,  8,  9, 10, 11]])"
      ]
     },
     "execution_count": 53,
     "metadata": {},
     "output_type": "execute_result"
    }
   ],
   "source": [
    "np.arange(12).reshape(2, -1) "
   ]
  },
  {
   "cell_type": "code",
   "execution_count": 54,
   "metadata": {},
   "outputs": [
    {
     "ename": "ValueError",
     "evalue": "cannot reshape array of size 12 into shape (5,newaxis)",
     "output_type": "error",
     "traceback": [
      "\u001b[0;31m---------------------------------------------------------------------------\u001b[0m",
      "\u001b[0;31mValueError\u001b[0m                                Traceback (most recent call last)",
      "\u001b[0;32m<ipython-input-54-450e80fbebb2>\u001b[0m in \u001b[0;36m<module>\u001b[0;34m\u001b[0m\n\u001b[0;32m----> 1\u001b[0;31m \u001b[0mnp\u001b[0m\u001b[0;34m.\u001b[0m\u001b[0marange\u001b[0m\u001b[0;34m(\u001b[0m\u001b[0;36m12\u001b[0m\u001b[0;34m)\u001b[0m\u001b[0;34m.\u001b[0m\u001b[0mreshape\u001b[0m\u001b[0;34m(\u001b[0m\u001b[0;36m5\u001b[0m\u001b[0;34m,\u001b[0m \u001b[0;34m-\u001b[0m\u001b[0;36m1\u001b[0m\u001b[0;34m)\u001b[0m \u001b[0;31m#5 cannot be divided by 12\u001b[0m\u001b[0;34m\u001b[0m\u001b[0;34m\u001b[0m\u001b[0m\n\u001b[0m",
      "\u001b[0;31mValueError\u001b[0m: cannot reshape array of size 12 into shape (5,newaxis)"
     ]
    }
   ],
   "source": []
  },
  {
   "cell_type": "code",
   "execution_count": 56,
   "metadata": {},
   "outputs": [
    {
     "data": {
      "text/plain": [
       "array([[1, 2, 4, 4],\n",
       "       [0, 0, 3, 7],\n",
       "       [0, 7, 7, 5]])"
      ]
     },
     "execution_count": 56,
     "metadata": {},
     "output_type": "execute_result"
    }
   ],
   "source": [
    "np.random.randint(0, 11, (3, 4))  #[0, 11)"
   ]
  },
  {
   "cell_type": "code",
   "execution_count": 64,
   "metadata": {},
   "outputs": [
    {
     "name": "stdout",
     "output_type": "stream",
     "text": [
      "[0.13603877 0.12270176]\n",
      "[0.82992935 0.94081541]\n"
     ]
    }
   ],
   "source": [
    "#also a very useful method to create some distribution\n",
    "#let say I want 100 values, mean = 0, std = 1, normal distribution\n",
    "#can numpy give me these 100 values\n",
    "\n",
    "#0 = mean, 1 = std, shape = 2, 50\n",
    "a = np.random.normal(0, 1, (2, 50))\n",
    "print(a.mean(axis=1))  #this is still random\n",
    "\n",
    "print(a.std(axis=1))"
   ]
  },
  {
   "cell_type": "code",
   "execution_count": 65,
   "metadata": {},
   "outputs": [
    {
     "data": {
      "text/plain": [
       "array([[1., 0., 0.],\n",
       "       [0., 1., 0.],\n",
       "       [0., 0., 1.]])"
      ]
     },
     "execution_count": 65,
     "metadata": {},
     "output_type": "execute_result"
    }
   ],
   "source": [
    "#identity matrix\n",
    "\n",
    "np.eye(3)"
   ]
  },
  {
   "cell_type": "code",
   "execution_count": 71,
   "metadata": {},
   "outputs": [
    {
     "data": {
      "text/plain": [
       "array([[10.   , 22.375, 22.375, 10.   ]])"
      ]
     },
     "execution_count": 71,
     "metadata": {},
     "output_type": "execute_result"
    }
   ],
   "source": [
    "#we did talk about\n",
    "#np.zeros\n",
    "#np.ones\n",
    "#np.full\n",
    "#np.empty\n",
    "\n",
    "# help(np.empty)\n",
    "\n",
    "np.empty((1, 4))\n",
    "\n",
    "#np empty will take whatever values exist in that memory"
   ]
  },
  {
   "cell_type": "code",
   "execution_count": 75,
   "metadata": {},
   "outputs": [
    {
     "name": "stdout",
     "output_type": "stream",
     "text": [
      "===X1===\n",
      "[3 2 7 3 7 7]\n",
      "===X2===\n",
      "[[1 7 0 9]\n",
      " [0 3 4 0]\n",
      " [6 5 3 8]]\n",
      "===X3===\n",
      "[[[7 0 9 0 8]\n",
      "  [1 4 5 2 3]\n",
      "  [0 0 0 3 3]\n",
      "  [0 9 7 1 8]]\n",
      "\n",
      " [[6 4 7 7 5]\n",
      "  [7 9 1 5 2]\n",
      "  [6 4 5 3 4]\n",
      "  [1 9 6 6 1]]\n",
      "\n",
      " [[2 1 6 2 9]\n",
      "  [1 5 1 5 5]\n",
      "  [9 7 1 7 2]\n",
      "  [6 3 3 9 1]]]\n"
     ]
    }
   ],
   "source": [
    "#indexing and slicing\n",
    "x1 = np.random.randint(10, size = 6)  #1d\n",
    "\n",
    "x2 = np.random.randint(10, size = (3, 4)) #2d\n",
    "\n",
    "x3 = np.random.randint(10, size = (3, 4, 5)) #3d\n",
    "\n",
    "print(\"===X1===\")\n",
    "print(x1)\n",
    "print(\"===X2===\")\n",
    "print(x2)\n",
    "print(\"===X3===\")\n",
    "print(x3)"
   ]
  },
  {
   "cell_type": "code",
   "execution_count": 76,
   "metadata": {},
   "outputs": [
    {
     "name": "stdout",
     "output_type": "stream",
     "text": [
      "[3 2 7 3 7 7]\n"
     ]
    }
   ],
   "source": [
    "#indexing and slicing\n",
    "#get the values\n",
    "print(x1)"
   ]
  },
  {
   "cell_type": "code",
   "execution_count": 77,
   "metadata": {},
   "outputs": [
    {
     "data": {
      "text/plain": [
       "3"
      ]
     },
     "execution_count": 77,
     "metadata": {},
     "output_type": "execute_result"
    }
   ],
   "source": [
    "x1[0]"
   ]
  },
  {
   "cell_type": "code",
   "execution_count": 78,
   "metadata": {},
   "outputs": [
    {
     "data": {
      "text/plain": [
       "array([3, 2])"
      ]
     },
     "execution_count": 78,
     "metadata": {},
     "output_type": "execute_result"
    }
   ],
   "source": [
    "x1[0:2]  #[start:stop:step]  [start, stop)"
   ]
  },
  {
   "cell_type": "code",
   "execution_count": 79,
   "metadata": {},
   "outputs": [
    {
     "data": {
      "text/plain": [
       "array([7, 7])"
      ]
     },
     "execution_count": 79,
     "metadata": {},
     "output_type": "execute_result"
    }
   ],
   "source": [
    "x1[-2:]"
   ]
  },
  {
   "cell_type": "code",
   "execution_count": 80,
   "metadata": {},
   "outputs": [
    {
     "name": "stdout",
     "output_type": "stream",
     "text": [
      "[[1 7 0 9]\n",
      " [0 3 4 0]\n",
      " [6 5 3 8]]\n"
     ]
    }
   ],
   "source": [
    "print(x2)"
   ]
  },
  {
   "cell_type": "code",
   "execution_count": 93,
   "metadata": {},
   "outputs": [
    {
     "data": {
      "text/plain": [
       "array([[3, 0],\n",
       "       [5, 8]])"
      ]
     },
     "execution_count": 93,
     "metadata": {},
     "output_type": "execute_result"
    }
   ],
   "source": [
    "x2[-2:, 1::2]"
   ]
  },
  {
   "cell_type": "code",
   "execution_count": 94,
   "metadata": {},
   "outputs": [
    {
     "data": {
      "text/plain": [
       "array([[[7, 0, 9, 0, 8],\n",
       "        [1, 4, 5, 2, 3],\n",
       "        [0, 0, 0, 3, 3],\n",
       "        [0, 9, 7, 1, 8]],\n",
       "\n",
       "       [[6, 4, 7, 7, 5],\n",
       "        [7, 9, 1, 5, 2],\n",
       "        [6, 4, 5, 3, 4],\n",
       "        [1, 9, 6, 6, 1]],\n",
       "\n",
       "       [[2, 1, 6, 2, 9],\n",
       "        [1, 5, 1, 5, 5],\n",
       "        [9, 7, 1, 7, 2],\n",
       "        [6, 3, 3, 9, 1]]])"
      ]
     },
     "execution_count": 94,
     "metadata": {},
     "output_type": "execute_result"
    }
   ],
   "source": [
    "x3"
   ]
  },
  {
   "cell_type": "code",
   "execution_count": 99,
   "metadata": {},
   "outputs": [
    {
     "data": {
      "text/plain": [
       "4"
      ]
     },
     "execution_count": 99,
     "metadata": {},
     "output_type": "execute_result"
    }
   ],
   "source": [
    "x3[0, 1, 1]"
   ]
  },
  {
   "cell_type": "code",
   "execution_count": 103,
   "metadata": {},
   "outputs": [
    {
     "data": {
      "text/plain": [
       "array([[[7, 0, 9, 0, 8],\n",
       "        [1, 4, 5, 2, 3],\n",
       "        [0, 0, 0, 3, 3],\n",
       "        [0, 9, 7, 1, 8]],\n",
       "\n",
       "       [[6, 4, 7, 7, 5],\n",
       "        [7, 9, 1, 5, 2],\n",
       "        [6, 4, 5, 3, 4],\n",
       "        [1, 9, 6, 6, 1]],\n",
       "\n",
       "       [[2, 1, 6, 2, 9],\n",
       "        [1, 5, 1, 5, 5],\n",
       "        [9, 7, 1, 7, 2],\n",
       "        [6, 3, 3, 9, 1]]])"
      ]
     },
     "execution_count": 103,
     "metadata": {},
     "output_type": "execute_result"
    }
   ],
   "source": [
    "x3"
   ]
  },
  {
   "cell_type": "code",
   "execution_count": 104,
   "metadata": {},
   "outputs": [
    {
     "data": {
      "text/plain": [
       "array([[6, 4, 7, 7, 5],\n",
       "       [7, 9, 1, 5, 2],\n",
       "       [6, 4, 5, 3, 4],\n",
       "       [1, 9, 6, 6, 1]])"
      ]
     },
     "execution_count": 104,
     "metadata": {},
     "output_type": "execute_result"
    }
   ],
   "source": [
    "x3[1, :, :]"
   ]
  },
  {
   "cell_type": "code",
   "execution_count": 105,
   "metadata": {},
   "outputs": [
    {
     "data": {
      "text/plain": [
       "array([3, 2, 7, 3, 7, 7])"
      ]
     },
     "execution_count": 105,
     "metadata": {},
     "output_type": "execute_result"
    }
   ],
   "source": [
    "###slicing is not a copy\n",
    "\n",
    "x1"
   ]
  },
  {
   "cell_type": "code",
   "execution_count": 106,
   "metadata": {},
   "outputs": [
    {
     "data": {
      "text/plain": [
       "array([3, 2])"
      ]
     },
     "execution_count": 106,
     "metadata": {},
     "output_type": "execute_result"
    }
   ],
   "source": [
    "a = x1[0:2]\n",
    "\n",
    "a"
   ]
  },
  {
   "cell_type": "code",
   "execution_count": 107,
   "metadata": {},
   "outputs": [
    {
     "data": {
      "text/plain": [
       "array([99,  2])"
      ]
     },
     "execution_count": 107,
     "metadata": {},
     "output_type": "execute_result"
    }
   ],
   "source": [
    "a[0] = 99\n",
    "\n",
    "a"
   ]
  },
  {
   "cell_type": "code",
   "execution_count": 108,
   "metadata": {},
   "outputs": [
    {
     "data": {
      "text/plain": [
       "array([99,  2,  7,  3,  7,  7])"
      ]
     },
     "execution_count": 108,
     "metadata": {},
     "output_type": "execute_result"
    }
   ],
   "source": [
    "x1"
   ]
  },
  {
   "cell_type": "code",
   "execution_count": 109,
   "metadata": {},
   "outputs": [
    {
     "data": {
      "text/plain": [
       "array([99,  2,  7,  3,  7,  7])"
      ]
     },
     "execution_count": 109,
     "metadata": {},
     "output_type": "execute_result"
    }
   ],
   "source": [
    "#when you slice\n",
    "#you are still working on the same object\n",
    "#why the python guys / numpy guys do like this?\n",
    "\n",
    "#because somethings you may have 6 million rows\n",
    "#you want to do 1 million rows at a time\n",
    "#you can use slicing\n",
    "\n",
    "x1"
   ]
  },
  {
   "cell_type": "code",
   "execution_count": 110,
   "metadata": {},
   "outputs": [],
   "source": [
    "some_copy = x1[0:2].copy()"
   ]
  },
  {
   "cell_type": "code",
   "execution_count": 111,
   "metadata": {},
   "outputs": [
    {
     "data": {
      "text/plain": [
       "array([1999999,       2])"
      ]
     },
     "execution_count": 111,
     "metadata": {},
     "output_type": "execute_result"
    }
   ],
   "source": [
    "some_copy[0] = 1999999\n",
    "\n",
    "some_copy"
   ]
  },
  {
   "cell_type": "code",
   "execution_count": 112,
   "metadata": {},
   "outputs": [
    {
     "data": {
      "text/plain": [
       "array([99,  2,  7,  3,  7,  7])"
      ]
     },
     "execution_count": 112,
     "metadata": {},
     "output_type": "execute_result"
    }
   ],
   "source": [
    "x1"
   ]
  },
  {
   "cell_type": "code",
   "execution_count": 113,
   "metadata": {},
   "outputs": [],
   "source": [
    "#deepcopy --> go and read\n",
    "#copy"
   ]
  },
  {
   "cell_type": "code",
   "execution_count": 119,
   "metadata": {},
   "outputs": [
    {
     "data": {
      "text/plain": [
       "5"
      ]
     },
     "execution_count": 119,
     "metadata": {},
     "output_type": "execute_result"
    }
   ],
   "source": [
    "#reshaping\n",
    "\n",
    "#reshaping, just like shape, is probably one of the MOST important\n",
    "#function you need to master\n",
    "\n",
    "#let say that sklearn -> library for machine learning\n",
    "#and sklearn wants X to be of shape (num_samples, num_features)\n",
    "#X (n, m)\n",
    "\n",
    "X = np.array([11, 22, 33, 44, 55])\n",
    "\n",
    "X.shape\n",
    "\n",
    "#sklearn expects X to be of shape (n, m)  NOT (n, )\n",
    "\n",
    "X.shape[0]"
   ]
  },
  {
   "cell_type": "code",
   "execution_count": 116,
   "metadata": {},
   "outputs": [
    {
     "data": {
      "text/plain": [
       "(5, 1)"
      ]
     },
     "execution_count": 116,
     "metadata": {},
     "output_type": "execute_result"
    }
   ],
   "source": [
    "X.reshape(-1, 1).shape  #I need to know that my num_feature is 1"
   ]
  },
  {
   "cell_type": "code",
   "execution_count": 117,
   "metadata": {},
   "outputs": [
    {
     "data": {
      "text/plain": [
       "(5, 1)"
      ]
     },
     "execution_count": 117,
     "metadata": {},
     "output_type": "execute_result"
    }
   ],
   "source": [
    "X.reshape(X.shape[0], -1).shape  ###this one we prefer....I know X.shape[0], -1"
   ]
  },
  {
   "cell_type": "code",
   "execution_count": 118,
   "metadata": {},
   "outputs": [
    {
     "data": {
      "text/plain": [
       "(5, 1)"
      ]
     },
     "execution_count": 118,
     "metadata": {},
     "output_type": "execute_result"
    }
   ],
   "source": [
    "X.reshape(X.shape[0], 1).shape #I also need to know that my num_features is1"
   ]
  },
  {
   "cell_type": "code",
   "execution_count": 126,
   "metadata": {},
   "outputs": [
    {
     "data": {
      "text/plain": [
       "(5, 1)"
      ]
     },
     "execution_count": 126,
     "metadata": {},
     "output_type": "execute_result"
    }
   ],
   "source": [
    "#reshape is NOT in-place algorithm\n",
    "\n",
    "X_reshape = X.reshape(5, 1).copy()\n",
    "\n",
    "X_reshape.shape"
   ]
  },
  {
   "cell_type": "code",
   "execution_count": 127,
   "metadata": {},
   "outputs": [
    {
     "data": {
      "text/plain": [
       "array([999,  22,  33,  44,  55])"
      ]
     },
     "execution_count": 127,
     "metadata": {},
     "output_type": "execute_result"
    }
   ],
   "source": [
    "X"
   ]
  },
  {
   "cell_type": "code",
   "execution_count": 128,
   "metadata": {},
   "outputs": [
    {
     "data": {
      "text/plain": [
       "array([[999],\n",
       "       [ 22],\n",
       "       [ 33],\n",
       "       [ 44],\n",
       "       [ 55]])"
      ]
     },
     "execution_count": 128,
     "metadata": {},
     "output_type": "execute_result"
    }
   ],
   "source": [
    "X_reshape"
   ]
  },
  {
   "cell_type": "code",
   "execution_count": 129,
   "metadata": {},
   "outputs": [
    {
     "data": {
      "text/plain": [
       "array([[10000000],\n",
       "       [      22],\n",
       "       [      33],\n",
       "       [      44],\n",
       "       [      55]])"
      ]
     },
     "execution_count": 129,
     "metadata": {},
     "output_type": "execute_result"
    }
   ],
   "source": [
    "X_reshape[0] = 10000000\n",
    "\n",
    "X_reshape"
   ]
  },
  {
   "cell_type": "code",
   "execution_count": 132,
   "metadata": {},
   "outputs": [
    {
     "ename": "ValueError",
     "evalue": "can only specify one unknown dimension",
     "output_type": "error",
     "traceback": [
      "\u001b[0;31m---------------------------------------------------------------------------\u001b[0m",
      "\u001b[0;31mValueError\u001b[0m                                Traceback (most recent call last)",
      "\u001b[0;32m<ipython-input-132-8ac9f7b86e8b>\u001b[0m in \u001b[0;36m<module>\u001b[0;34m\u001b[0m\n\u001b[0;32m----> 1\u001b[0;31m \u001b[0mX\u001b[0m\u001b[0;34m.\u001b[0m\u001b[0mreshape\u001b[0m\u001b[0;34m(\u001b[0m\u001b[0;34m(\u001b[0m\u001b[0;34m-\u001b[0m\u001b[0;36m1\u001b[0m\u001b[0;34m,\u001b[0m \u001b[0;34m-\u001b[0m\u001b[0;36m1\u001b[0m\u001b[0;34m)\u001b[0m\u001b[0;34m)\u001b[0m\u001b[0;34m\u001b[0m\u001b[0;34m\u001b[0m\u001b[0m\n\u001b[0m",
      "\u001b[0;31mValueError\u001b[0m: can only specify one unknown dimension"
     ]
    }
   ],
   "source": [
    "X.reshape((-1, -1))"
   ]
  },
  {
   "cell_type": "code",
   "execution_count": 146,
   "metadata": {},
   "outputs": [
    {
     "name": "stdout",
     "output_type": "stream",
     "text": [
      "(10, 28, 28, 3)\n"
     ]
    },
    {
     "data": {
      "text/plain": [
       "(10, 3, 28, 28)"
      ]
     },
     "execution_count": 146,
     "metadata": {},
     "output_type": "execute_result"
    }
   ],
   "source": [
    "X = np.random.random((10, 28, 28, 3))\n",
    "\n",
    "#sklearn want (num_samples, n_features)\n",
    "#but my X is a 28 pixels by 28 pixels and I have 10 images\n",
    "\n",
    "X.reshape(X.shape[0], -1).shape\n",
    "\n",
    "#(n, i, k, j) @ (k, i * n)\n",
    "\n",
    "#(n, i, j, k) @ (k, i * n)\n",
    "\n",
    "#(n * i, j, k) @(k, i * n)\n",
    "\n",
    "#(j, n*i, k) @(k, i * n)\n",
    "\n",
    "# (j, )\n",
    "\n",
    "print(X.shape)\n",
    "\n",
    "np.transpose(X, (0, 3, 2, 1)).shape"
   ]
  },
  {
   "cell_type": "code",
   "execution_count": 131,
   "metadata": {},
   "outputs": [],
   "source": [
    "#you can reshape your data\n",
    "#change some values\n",
    "#and perhaps use the old one without changing the shape"
   ]
  },
  {
   "cell_type": "code",
   "execution_count": 149,
   "metadata": {},
   "outputs": [
    {
     "data": {
      "text/plain": [
       "(5, 3)"
      ]
     },
     "execution_count": 149,
     "metadata": {},
     "output_type": "execute_result"
    }
   ],
   "source": [
    "#2d to 3d data\n",
    "X = np.random.random((5, 3))\n",
    "\n",
    "X.shape"
   ]
  },
  {
   "cell_type": "code",
   "execution_count": 150,
   "metadata": {},
   "outputs": [
    {
     "data": {
      "text/plain": [
       "(3, 5)"
      ]
     },
     "execution_count": 150,
     "metadata": {},
     "output_type": "execute_result"
    }
   ],
   "source": [
    "np.transpose(X, (1, 0)).shape"
   ]
  },
  {
   "cell_type": "code",
   "execution_count": 152,
   "metadata": {},
   "outputs": [
    {
     "data": {
      "text/plain": [
       "(3, 5)"
      ]
     },
     "execution_count": 152,
     "metadata": {},
     "output_type": "execute_result"
    }
   ],
   "source": [
    "X.T.shape"
   ]
  },
  {
   "cell_type": "code",
   "execution_count": 153,
   "metadata": {},
   "outputs": [],
   "source": [
    "X = np.random.random((3, 4, 5))"
   ]
  },
  {
   "cell_type": "code",
   "execution_count": 155,
   "metadata": {},
   "outputs": [
    {
     "data": {
      "text/plain": [
       "(5, 4, 3)"
      ]
     },
     "execution_count": 155,
     "metadata": {},
     "output_type": "execute_result"
    }
   ],
   "source": [
    "X.T.shape"
   ]
  },
  {
   "cell_type": "code",
   "execution_count": 157,
   "metadata": {},
   "outputs": [
    {
     "data": {
      "text/plain": [
       "(4, 4)"
      ]
     },
     "execution_count": 157,
     "metadata": {},
     "output_type": "execute_result"
    }
   ],
   "source": [
    "b = np.arange(16).reshape(4, 4)\n",
    "\n",
    "b.shape"
   ]
  },
  {
   "cell_type": "code",
   "execution_count": 159,
   "metadata": {},
   "outputs": [
    {
     "data": {
      "text/plain": [
       "(16,)"
      ]
     },
     "execution_count": 159,
     "metadata": {},
     "output_type": "execute_result"
    }
   ],
   "source": [
    "b.ravel().shape"
   ]
  },
  {
   "cell_type": "code",
   "execution_count": 164,
   "metadata": {},
   "outputs": [
    {
     "data": {
      "text/plain": [
       "(1, 1, 1, 1, 16)"
      ]
     },
     "execution_count": 164,
     "metadata": {},
     "output_type": "execute_result"
    }
   ],
   "source": [
    "b = np.arange(16).reshape(1, 1, 1, 1, -1)\n",
    "\n",
    "b.shape"
   ]
  },
  {
   "cell_type": "code",
   "execution_count": 165,
   "metadata": {},
   "outputs": [],
   "source": [
    "a = np.squeeze(b)  #squeeze will remove all dimension with 1"
   ]
  },
  {
   "cell_type": "code",
   "execution_count": 166,
   "metadata": {},
   "outputs": [
    {
     "name": "stdout",
     "output_type": "stream",
     "text": [
      "(16,)\n"
     ]
    }
   ],
   "source": [
    "print(a.shape)"
   ]
  },
  {
   "cell_type": "code",
   "execution_count": 170,
   "metadata": {},
   "outputs": [
    {
     "data": {
      "text/plain": [
       "(1, 3, 2)"
      ]
     },
     "execution_count": 170,
     "metadata": {},
     "output_type": "execute_result"
    }
   ],
   "source": [
    "#for LSTM or recurrent neural network or sequential data\n",
    "X = np.array([\n",
    "    [11, 22],\n",
    "    [33, 44],\n",
    "    [55, 66]\n",
    "])\n",
    "\n",
    "#in a time series analysis, we need 3d data (sample, time-steps, features)\n",
    "#compared to 2d data -sklearn (sample, features)\n",
    "\n",
    "X.shape\n",
    "\n",
    "#map 2d data to 3d data\n",
    "\n",
    "X.reshape(1, X.shape[0], X.shape[1]).shape  #(sample, time-steps, features)"
   ]
  },
  {
   "cell_type": "code",
   "execution_count": 19,
   "metadata": {},
   "outputs": [
    {
     "name": "stdout",
     "output_type": "stream",
     "text": [
      "(3, 2, 3) (2, 2, 1)\n"
     ]
    }
   ],
   "source": [
    "import numpy as np\n",
    "\n",
    "#concatenation\n",
    "\n",
    "x = np.array([\n",
    "    [1, 2, 3],\n",
    "    [3, 4, 1]\n",
    "])\n",
    "\n",
    "y = np.array([\n",
    "    [3, 2, 1]\n",
    "])\n",
    "\n",
    "#print(x.shape, y.shape)\n",
    "\n",
    "#np.concatenate\n",
    "np.concatenate((x, y), axis=0)  #this receive a tuple\n",
    "\n",
    "\n",
    "#np.concatenate((x, y), axis=1)\n",
    "\n",
    "\n",
    "x = np.array([\n",
    "    [1, 3, 4, 5],\n",
    "    [2, 3, 1, 4],\n",
    "    [3, 1, 5, 3]\n",
    "])\n",
    "\n",
    "y = np.array([\n",
    "    [2, 1, 4],\n",
    "    [1, 3, 4],\n",
    "    [1, 9, 3]\n",
    "])\n",
    "\n",
    "# print(x.shape, y.shape)\n",
    "\n",
    "np.concatenate((x, y), axis=1)\n",
    "\n",
    "\n",
    "x = np.random.random((3, 2, 3))\n",
    "y = np.random.random((2, 2, 1))\n",
    "\n",
    "print(x.shape, y.shape)\n",
    "\n",
    "# print(x)\n",
    "\n",
    "#when you concatenate, you can ONLY concatenate along the axis\n",
    "#that is NOT the same, but other dimensions should be the same\n",
    "\n",
    "# np.concatenate((x, y), axis=2)"
   ]
  },
  {
   "cell_type": "code",
   "execution_count": 21,
   "metadata": {},
   "outputs": [
    {
     "data": {
      "text/plain": [
       "array([[11, 22, 11, 22],\n",
       "       [33, 44, 33, 44],\n",
       "       [55, 66, 55, 66]])"
      ]
     },
     "execution_count": 21,
     "metadata": {},
     "output_type": "execute_result"
    }
   ],
   "source": [
    "#vstack - np.concatenate axis = 0\n",
    "#hstack - np.concatenate axis = 1\n",
    "\n",
    "X = np.array([\n",
    "    [11, 22],\n",
    "    [33, 44],\n",
    "    [55, 66]\n",
    "])\n",
    "\n",
    "Y = np.array([\n",
    "    [11, 22],\n",
    "    [33, 44],\n",
    "    [55, 66]\n",
    "])\n",
    "\n",
    "np.vstack((X, Y))\n",
    "\n",
    "np.hstack((X, Y))\n",
    "\n",
    "#do i recommend to use\n",
    "#actually no\n",
    "#because I feel np.concatenate can do most of the stuff"
   ]
  },
  {
   "cell_type": "code",
   "execution_count": 25,
   "metadata": {},
   "outputs": [
    {
     "data": {
      "text/plain": [
       "array([0, 1, 2, 3, 4, 5, 6, 7, 8, 9])"
      ]
     },
     "execution_count": 25,
     "metadata": {},
     "output_type": "execute_result"
    }
   ],
   "source": [
    "#splitting\n",
    "\n",
    "x = np.arange(10)\n",
    "x"
   ]
  },
  {
   "cell_type": "code",
   "execution_count": 28,
   "metadata": {},
   "outputs": [
    {
     "data": {
      "text/plain": [
       "[array([0, 1, 2, 3, 4]), array([5, 6, 7, 8, 9])]"
      ]
     },
     "execution_count": 28,
     "metadata": {},
     "output_type": "execute_result"
    }
   ],
   "source": [
    "#np.split\n",
    "\n",
    "np.split(x, 2)"
   ]
  },
  {
   "cell_type": "code",
   "execution_count": 29,
   "metadata": {},
   "outputs": [
    {
     "data": {
      "text/plain": [
       "[array([0, 1, 2]), array([3, 4]), array([5, 6, 7, 8, 9])]"
      ]
     },
     "execution_count": 29,
     "metadata": {},
     "output_type": "execute_result"
    }
   ],
   "source": [
    "np.split(x, (3, 5))  #[:3], [3:5], [5:]"
   ]
  },
  {
   "cell_type": "code",
   "execution_count": 30,
   "metadata": {},
   "outputs": [
    {
     "data": {
      "text/plain": [
       "array([ 0,  1,  2,  3,  4,  5,  6,  7,  8,  9, 10, 11, 12, 13, 14])"
      ]
     },
     "execution_count": 30,
     "metadata": {},
     "output_type": "execute_result"
    }
   ],
   "source": [
    "y = np.arange(15)\n",
    "\n",
    "y"
   ]
  },
  {
   "cell_type": "code",
   "execution_count": 34,
   "metadata": {},
   "outputs": [
    {
     "data": {
      "text/plain": [
       "[array([0, 1, 2]),\n",
       " array([3, 4]),\n",
       " array([ 5,  6,  7,  8,  9, 10, 11]),\n",
       " array([12, 13, 14])]"
      ]
     },
     "execution_count": 34,
     "metadata": {},
     "output_type": "execute_result"
    }
   ],
   "source": [
    "#try to split them evenly into 3 chunks\n",
    "np.split(y, 3)\n",
    "\n",
    "#try to split them so they look this:\n",
    "#[0, 1, 2], [3, 4], [5, 6, 7, 8, 9, 10, 11], [12, 13, 14]\n",
    "\n",
    "np.split(y, (3, 5, 12))\n",
    "\n",
    "#note\n",
    "#split can be used in multidimension\n",
    "#hsplit   - hstack (axis = 1)\n",
    "#vsplit   - vstack (axis = 0)\n",
    "\n",
    "# help(np.split)"
   ]
  },
  {
   "cell_type": "code",
   "execution_count": 35,
   "metadata": {},
   "outputs": [],
   "source": [
    "#vectorization and broadcasting\n",
    "\n",
    "#1. shape/reshape\n",
    "#2. slicing/indexing/fancy indexing/boolean masking\n",
    "#3. vectorization and broadcasting (vectorized when possible)\n",
    "\n",
    "a = [1, 2, 3, 4, 5]\n",
    "b = [1, 1, -1, 5, 1]"
   ]
  },
  {
   "cell_type": "code",
   "execution_count": 37,
   "metadata": {},
   "outputs": [
    {
     "data": {
      "text/plain": [
       "[2, 3, 2, 9, 6]"
      ]
     },
     "execution_count": 37,
     "metadata": {},
     "output_type": "execute_result"
    }
   ],
   "source": [
    "#this is NOT vectorization\n",
    "#python list does not support vectorization\n",
    "a + b\n",
    "\n",
    "#vector addition\n",
    "#[2, 3, 2, 9, 6]\n",
    "\n",
    "[x + y for x, y in zip(a, b)]"
   ]
  },
  {
   "cell_type": "code",
   "execution_count": 38,
   "metadata": {},
   "outputs": [
    {
     "data": {
      "text/plain": [
       "array([2, 3, 2, 9, 6])"
      ]
     },
     "execution_count": 38,
     "metadata": {},
     "output_type": "execute_result"
    }
   ],
   "source": [
    "#by default, numpy does vectorization \n",
    "\n",
    "x = np.array(a)\n",
    "y = np.array(b)\n",
    "\n",
    "x + y"
   ]
  },
  {
   "cell_type": "code",
   "execution_count": 39,
   "metadata": {},
   "outputs": [
    {
     "data": {
      "text/plain": [
       "array([ 0, -1, -2, -3, -4])"
      ]
     },
     "execution_count": 39,
     "metadata": {},
     "output_type": "execute_result"
    }
   ],
   "source": [
    "1 - x\n",
    "\n",
    "#x shape (1, 5)\n",
    "#1. shape (1, )\n",
    "\n",
    "#[1, 1, 1, 1, 1] - [2, 3, 2, 9, 6]  ==> broadcasting"
   ]
  },
  {
   "cell_type": "code",
   "execution_count": 41,
   "metadata": {},
   "outputs": [
    {
     "data": {
      "text/plain": [
       "array([ 1,  4,  9, 16, 25])"
      ]
     },
     "execution_count": 41,
     "metadata": {},
     "output_type": "execute_result"
    }
   ],
   "source": [
    "x ** 2"
   ]
  },
  {
   "cell_type": "code",
   "execution_count": 42,
   "metadata": {},
   "outputs": [
    {
     "data": {
      "text/plain": [
       "array([0.6, 0.7, 0.8, 0.9, 1. ])"
      ]
     },
     "execution_count": 42,
     "metadata": {},
     "output_type": "execute_result"
    }
   ],
   "source": [
    "(x + 5) / 10"
   ]
  },
  {
   "cell_type": "code",
   "execution_count": 43,
   "metadata": {},
   "outputs": [
    {
     "data": {
      "text/plain": [
       "array([3, 4, 5, 6, 7])"
      ]
     },
     "execution_count": 43,
     "metadata": {},
     "output_type": "execute_result"
    }
   ],
   "source": [
    "x + 2"
   ]
  },
  {
   "cell_type": "code",
   "execution_count": 79,
   "metadata": {},
   "outputs": [
    {
     "name": "stdout",
     "output_type": "stream",
     "text": [
      "[3 2 5 1 4]\n"
     ]
    },
    {
     "data": {
      "text/plain": [
       "array([3, 1, 0, 4, 2])"
      ]
     },
     "execution_count": 79,
     "metadata": {},
     "output_type": "execute_result"
    }
   ],
   "source": [
    "np.add(x, 2)\n",
    "\n",
    "#np.mod\n",
    "#np.subtract\n",
    "#np.add.reduce. #sum\n",
    "\n",
    "x = np.arange(1, 6)\n",
    "x\n",
    "\n",
    "np.add.reduce(x)\n",
    "\n",
    "np.sum(x)\n",
    "\n",
    "# help(np.add.reduce)\n",
    "\n",
    "# help(np.sum)\n",
    "\n",
    "# np.multiply.reduce(x)\n",
    "\n",
    "# np.prod(range(1, 5))\n",
    "\n",
    "# import itertools\n",
    "\n",
    "# help(itertools.product(range(10)))\n",
    "#itertools.product(x)\n",
    "\n",
    "np.add.accumulate(x)\n",
    "\n",
    "np.cumsum(x)\n",
    "\n",
    "np.multiply.accumulate(x)\n",
    "\n",
    "np.cumprod(x)\n",
    "\n",
    "\n",
    "np.min(x)\n",
    "\n",
    "np.argmin(x)  #tell you the index \n",
    "\n",
    "np.random.seed(1)\n",
    "\n",
    "np.random.shuffle(x)  #in place\n",
    "\n",
    "print(x)\n",
    "\n",
    "np.min(x)\n",
    "\n",
    "np.argmin(x)\n",
    "\n",
    "np.argsort(x)  #nearest neighbors, manifold learning, clustering, distance based algorithms"
   ]
  },
  {
   "cell_type": "code",
   "execution_count": 98,
   "metadata": {},
   "outputs": [
    {
     "data": {
      "text/plain": [
       "array([1, 3, 0, 2])"
      ]
     },
     "execution_count": 98,
     "metadata": {},
     "output_type": "execute_result"
    }
   ],
   "source": [
    "#\n",
    "x = np.array([\n",
    "    [0, 4, 2, 3],\n",
    "    [2, 0, 3, 4],\n",
    "    [10, 3, 0, 10],\n",
    "    [33, 2, 99, 0]\n",
    "])\n",
    "\n",
    "\n",
    "np.argmax(x, axis=1)\n",
    "# np.argmin(x)\n"
   ]
  },
  {
   "cell_type": "code",
   "execution_count": 118,
   "metadata": {},
   "outputs": [
    {
     "data": {
      "text/plain": [
       "'\\nrule 1: if two arrays differ in their no. of dims, the shape of the one with \\nfewer dims is padded with ones on its leading side (left)\\n\\nrule 2: if there are any two dimensions that differ, change that dim to match \\nthe another\\n\\nrule 3: if the dim still disagree, bye bye (cannot be broadcasted)\\n'"
      ]
     },
     "execution_count": 118,
     "metadata": {},
     "output_type": "execute_result"
    }
   ],
   "source": [
    "#Rules of broadcasting\n",
    "a = np.ones((2, 3))\n",
    "b = np.arange(3)\n",
    "\n",
    "a.shape, b.shape\n",
    "\n",
    "\n",
    "# print(a)\n",
    "\n",
    "# print(b)\n",
    "\n",
    "# print(a + b)\n",
    "\n",
    "#can they be added\n",
    "#if so, what is the result\n",
    "\n",
    "\n",
    "a = np.ones((3, 1))\n",
    "b = np.arange(3)\n",
    "\n",
    "# print(a)\n",
    "# print(\"+\")\n",
    "# print(b)\n",
    "# print(\"=\")\n",
    "\n",
    "# print(a + b)\n",
    "\n",
    "\n",
    "a = np.ones((3, 2))\n",
    "b = np.arange(3)\n",
    "\n",
    "\n",
    "\n",
    "\n"
   ]
  },
  {
   "cell_type": "code",
   "execution_count": 139,
   "metadata": {},
   "outputs": [
    {
     "name": "stdout",
     "output_type": "stream",
     "text": [
      "(3, 2)\n",
      "(3, 1)\n",
      "(3, 2)\n",
      "[[6. 6.]\n",
      " [6. 6.]\n",
      " [6. 6.]]\n"
     ]
    }
   ],
   "source": [
    "'''\n",
    "rule 1: if two arrays differ in their no. of dims, the shape of the one with \n",
    "fewer dims is padded with ones on its leading side (left)\n",
    "\n",
    "rule 2: if there are any two dimensions that differ, change that dim to match \n",
    "the another\n",
    "\n",
    "rule 3: if the dim still disagree, bye bye (cannot be broadcasted)\n",
    "# '''\n",
    "\n",
    "# a = np.ones((2, 3))\n",
    "# b = np.arange(3)\n",
    "\n",
    "# #rule 1:  b has only 1d, while a has 2d.  So b has fewer dims.\n",
    "# # shape of b. (3, )  -> (1, 3)\n",
    "\n",
    "# #rule 2: both a and b are 2d.  but a has shape of (2, 3)  b shape is (1, 3)\n",
    "# # b shape to (2, 3).....thus the result of a + b = (2, 3)\n",
    "\n",
    "# print((a+b).shape)\n",
    "\n",
    "# a = np.ones((3, 1))\n",
    "# b = np.ones(3)\n",
    "\n",
    "# #thus the resulting shape is what?\n",
    "# #rule 1   b has fewer dims.  pad b with one. (3, ) => (1, 3)\n",
    "# #rule 2   a (3, 1)  b (1, 3)  => a (3, 3)  b (3, 3)\n",
    "# #rule 3  (3, 3)  (3, 3)\n",
    "# # (3, 3)\n",
    "# print((a + b).shape)\n",
    "\n",
    "\n",
    "a = np.ones((3, 2))\n",
    "b = np.full(3, 5)\n",
    "\n",
    "#rule 1   b => (1, 3)\n",
    "#rule 2   a (3, 2)  b(1, 3) => (3, 3)\n",
    "#rule 3   a (3, 2)   b (3, 3)\n",
    "\n",
    "# print(a.shape)\n",
    "# print(b.shape)\n",
    "\n",
    "\n",
    "# a_reshape = a.reshape((2, 3))  #not in place\n",
    "# print(a_reshape.shape)\n",
    "# print(b.shape)\n",
    "\n",
    "# #rule 1 fewer dim pad with 1. b -> (1, 3)\n",
    "# #rule 2 a (2, 3) b (1, 3) => (2, 3)\n",
    "# #rule 3 a (2, 3)  b (2, 3)\n",
    "# print(a_reshape + b)\n",
    "\n",
    "b_mahesh_reshape = b.reshape((3, 1))\n",
    "\n",
    "print(a.shape)\n",
    "print(b_mahesh_reshape.shape)\n",
    "\n",
    "#rule 1 does not work because both are 2d\n",
    "#rule 2 b become (3, 2)\n",
    "#rule 3 yay!\n",
    "\n",
    "print((a + b_mahesh_reshape).shape)\n",
    "\n",
    "print(a + b_mahesh_reshape)"
   ]
  },
  {
   "cell_type": "code",
   "execution_count": 171,
   "metadata": {},
   "outputs": [
    {
     "name": "stdout",
     "output_type": "stream",
     "text": [
      "(12,)\n",
      "====Now x reshape=====\n",
      "(2, 12)\n",
      "[[ 0  2  4  6  8 10 12 14 16 18 20 22]\n",
      " [12 14 16 18 20 22 24 26 28 30 32 34]]\n",
      "====Now y reshape=====\n",
      "(3, 4)\n",
      "[[[ 0  2  4  6]\n",
      "  [ 8 10 12 14]\n",
      "  [16 18 20 22]]\n",
      "\n",
      " [[12 14 16 18]\n",
      "  [20 22 24 26]\n",
      "  [28 30 32 34]]]\n"
     ]
    }
   ],
   "source": [
    "x = np.arange(24).reshape(2, 3, 4)\n",
    "\n",
    "# print(x)\n",
    "# print(x.shape)\n",
    "\n",
    "y = np.arange(12).reshape(12)\n",
    "\n",
    "# print(y)\n",
    "print(y.shape)\n",
    "\n",
    "print(\"====Now x reshape=====\")\n",
    "x_reshaped = x.reshape(x.shape[0], -1)\n",
    "print(x_reshaped.shape)\n",
    "print(x_reshaped + y)\n",
    "\n",
    "print(\"====Now y reshape=====\")\n",
    "y_reshaped = y.reshape((3, 4))\n",
    "print(y_reshaped.shape)\n",
    "print(x + y_reshaped)"
   ]
  },
  {
   "cell_type": "code",
   "execution_count": 1,
   "metadata": {},
   "outputs": [],
   "source": [
    "#masking\n",
    "\n",
    "#shape; reshape\n",
    "#slicing\n",
    "#vectorizaton/broadcasting (vectorized when possible)\n",
    "#matrix manipulations - I don't want to see any of you using for loops\n"
   ]
  },
  {
   "cell_type": "code",
   "execution_count": 3,
   "metadata": {},
   "outputs": [],
   "source": [
    "import numpy as np\n",
    "\n",
    "rng = np.random.RandomState(0)  #now I have random generator\n",
    "\n",
    "x = rng.randint(10, size=(3, 4))"
   ]
  },
  {
   "cell_type": "code",
   "execution_count": 4,
   "metadata": {},
   "outputs": [
    {
     "data": {
      "text/plain": [
       "array([[5, 0, 3, 3],\n",
       "       [7, 9, 3, 5],\n",
       "       [2, 4, 7, 6]])"
      ]
     },
     "execution_count": 4,
     "metadata": {},
     "output_type": "execute_result"
    }
   ],
   "source": [
    "#masking\n",
    "\n",
    "x\n",
    "\n",
    "#what if I want all values that are less than 4\n",
    "\n",
    "#emptylist = []\n",
    "#if ......x[i] < 4\n",
    "#  emptylist.append(x[i])"
   ]
  },
  {
   "cell_type": "code",
   "execution_count": 5,
   "metadata": {},
   "outputs": [
    {
     "data": {
      "text/plain": [
       "array([[False,  True,  True,  True],\n",
       "       [False, False,  True, False],\n",
       "       [ True, False, False, False]])"
      ]
     },
     "execution_count": 5,
     "metadata": {},
     "output_type": "execute_result"
    }
   ],
   "source": [
    "x < 4"
   ]
  },
  {
   "cell_type": "code",
   "execution_count": 6,
   "metadata": {},
   "outputs": [
    {
     "data": {
      "text/plain": [
       "array([0, 3, 3, 3, 2])"
      ]
     },
     "execution_count": 6,
     "metadata": {},
     "output_type": "execute_result"
    }
   ],
   "source": [
    "x[x < 4]"
   ]
  },
  {
   "cell_type": "code",
   "execution_count": 7,
   "metadata": {},
   "outputs": [
    {
     "data": {
      "text/plain": [
       "array([0, 3, 3, 9, 3, 6])"
      ]
     },
     "execution_count": 7,
     "metadata": {},
     "output_type": "execute_result"
    }
   ],
   "source": [
    "x[x%3==0]"
   ]
  },
  {
   "cell_type": "code",
   "execution_count": 8,
   "metadata": {},
   "outputs": [
    {
     "data": {
      "text/plain": [
       "array([], dtype=int64)"
      ]
     },
     "execution_count": 8,
     "metadata": {},
     "output_type": "execute_result"
    }
   ],
   "source": [
    "x[np.isnan(x)]"
   ]
  },
  {
   "cell_type": "code",
   "execution_count": 9,
   "metadata": {},
   "outputs": [
    {
     "data": {
      "text/plain": [
       "array([0, 3, 3, 3, 2])"
      ]
     },
     "execution_count": 9,
     "metadata": {},
     "output_type": "execute_result"
    }
   ],
   "source": [
    "x[x < 4]"
   ]
  },
  {
   "cell_type": "code",
   "execution_count": 10,
   "metadata": {},
   "outputs": [
    {
     "data": {
      "text/plain": [
       "array([0, 3, 3, 3, 2])"
      ]
     },
     "execution_count": 10,
     "metadata": {},
     "output_type": "execute_result"
    }
   ],
   "source": [
    "lessthanfour = x < 4\n",
    "x[lessthanfour]"
   ]
  },
  {
   "cell_type": "code",
   "execution_count": 11,
   "metadata": {},
   "outputs": [
    {
     "data": {
      "text/plain": [
       "array([[0, 1],\n",
       "       [0, 2],\n",
       "       [0, 3],\n",
       "       [1, 2],\n",
       "       [2, 0]])"
      ]
     },
     "execution_count": 11,
     "metadata": {},
     "output_type": "execute_result"
    }
   ],
   "source": [
    "#know the position\n",
    "#argwhere return the index in which the condition is evaluated to be True\n",
    "np.argwhere(x < 4)"
   ]
  },
  {
   "cell_type": "code",
   "execution_count": 12,
   "metadata": {},
   "outputs": [
    {
     "data": {
      "text/plain": [
       "array([[False,  True,  True,  True],\n",
       "       [False, False,  True, False],\n",
       "       [ True, False, False, False]])"
      ]
     },
     "execution_count": 12,
     "metadata": {},
     "output_type": "execute_result"
    }
   ],
   "source": [
    "x < 4"
   ]
  },
  {
   "cell_type": "code",
   "execution_count": 13,
   "metadata": {},
   "outputs": [
    {
     "data": {
      "text/plain": [
       "5"
      ]
     },
     "execution_count": 13,
     "metadata": {},
     "output_type": "execute_result"
    }
   ],
   "source": [
    "#np sum condition = counting all the True values\n",
    "\n",
    "np.sum(x < 4)  #False + True + True + True + ....False + False\n",
    "#False = 0\n",
    "#True = 1"
   ]
  },
  {
   "cell_type": "code",
   "execution_count": 14,
   "metadata": {},
   "outputs": [
    {
     "data": {
      "text/plain": [
       "9"
      ]
     },
     "execution_count": 14,
     "metadata": {},
     "output_type": "execute_result"
    }
   ],
   "source": [
    "np.sum(x % 3)"
   ]
  },
  {
   "cell_type": "code",
   "execution_count": 15,
   "metadata": {},
   "outputs": [
    {
     "data": {
      "text/plain": [
       "5"
      ]
     },
     "execution_count": 15,
     "metadata": {},
     "output_type": "execute_result"
    }
   ],
   "source": [
    "np.count_nonzero(x < 4)"
   ]
  },
  {
   "cell_type": "code",
   "execution_count": 16,
   "metadata": {},
   "outputs": [
    {
     "data": {
      "text/plain": [
       "True"
      ]
     },
     "execution_count": 16,
     "metadata": {},
     "output_type": "execute_result"
    }
   ],
   "source": [
    "#np.any\n",
    "#np.any tries to evaluate whether ANY value actually meet the condition\n",
    "\n",
    "#is there any element in x that is equal to zero\n",
    "np.any(x==0)"
   ]
  },
  {
   "cell_type": "code",
   "execution_count": 17,
   "metadata": {},
   "outputs": [
    {
     "data": {
      "text/plain": [
       "False"
      ]
     },
     "execution_count": 17,
     "metadata": {},
     "output_type": "execute_result"
    }
   ],
   "source": [
    "#are ALL elements in x equal to zero\n",
    "np.all(x==0)"
   ]
  },
  {
   "cell_type": "code",
   "execution_count": 18,
   "metadata": {},
   "outputs": [
    {
     "data": {
      "text/plain": [
       "False"
      ]
     },
     "execution_count": 18,
     "metadata": {},
     "output_type": "execute_result"
    }
   ],
   "source": [
    "#& or \"and\"  | or \"or\"\n",
    "\n",
    "np.any((x==0) & (x==2))"
   ]
  },
  {
   "cell_type": "code",
   "execution_count": 20,
   "metadata": {},
   "outputs": [
    {
     "name": "stdout",
     "output_type": "stream",
     "text": [
      "True\n",
      "True\n"
     ]
    }
   ],
   "source": [
    "#what is the difference between & and and\n",
    "print(True & True)\n",
    "print(True and True)"
   ]
  },
  {
   "cell_type": "code",
   "execution_count": 21,
   "metadata": {},
   "outputs": [
    {
     "name": "stdout",
     "output_type": "stream",
     "text": [
      "0\n",
      "2\n"
     ]
    }
   ],
   "source": [
    "print(1 & 2)  #why 1 & 2 is 0\n",
    "print(1 and 2) #1 and 2 are True because they are not 0"
   ]
  },
  {
   "cell_type": "code",
   "execution_count": 22,
   "metadata": {},
   "outputs": [
    {
     "data": {
      "text/plain": [
       "'0b101010'"
      ]
     },
     "execution_count": 22,
     "metadata": {},
     "output_type": "execute_result"
    }
   ],
   "source": [
    "bin(42)"
   ]
  },
  {
   "cell_type": "code",
   "execution_count": 23,
   "metadata": {},
   "outputs": [
    {
     "data": {
      "text/plain": [
       "'0b111011'"
      ]
     },
     "execution_count": 23,
     "metadata": {},
     "output_type": "execute_result"
    }
   ],
   "source": [
    "bin(59)"
   ]
  },
  {
   "cell_type": "code",
   "execution_count": 24,
   "metadata": {},
   "outputs": [
    {
     "data": {
      "text/plain": [
       "'0b101010'"
      ]
     },
     "execution_count": 24,
     "metadata": {},
     "output_type": "execute_result"
    }
   ],
   "source": [
    "#& does a bitwise comparison\n",
    "bin(42 & 59)"
   ]
  },
  {
   "cell_type": "code",
   "execution_count": 25,
   "metadata": {},
   "outputs": [
    {
     "data": {
      "text/plain": [
       "'0b111011'"
      ]
     },
     "execution_count": 25,
     "metadata": {},
     "output_type": "execute_result"
    }
   ],
   "source": [
    "bin(42 and 59)"
   ]
  },
  {
   "cell_type": "code",
   "execution_count": null,
   "metadata": {},
   "outputs": [],
   "source": [
    "#lesson learned\n",
    "#& is useful to compared 0 and 1\n",
    "#& is useful to compare True and False\n",
    "#but & is not useful to compare integers, arrays, or whatever"
   ]
  },
  {
   "cell_type": "code",
   "execution_count": 30,
   "metadata": {},
   "outputs": [
    {
     "data": {
      "text/plain": [
       "True"
      ]
     },
     "execution_count": 30,
     "metadata": {},
     "output_type": "execute_result"
    }
   ],
   "source": [
    "#and is short-circuiting but not &\n",
    "True or print('hello')\n",
    "\n",
    "#but & and | are not short-circuiting\n",
    "# True | print('hello')"
   ]
  },
  {
   "cell_type": "code",
   "execution_count": 31,
   "metadata": {},
   "outputs": [
    {
     "name": "stdout",
     "output_type": "stream",
     "text": [
      "[11 87 95 45  8 50 79 38 64 39]\n"
     ]
    }
   ],
   "source": [
    "#Fancy indexing  --> define a list of index\n",
    "\n",
    "import random\n",
    "a = np.random.randint(100, size=10)\n",
    "print(a)"
   ]
  },
  {
   "cell_type": "code",
   "execution_count": 32,
   "metadata": {},
   "outputs": [
    {
     "name": "stdout",
     "output_type": "stream",
     "text": [
      "11 45 50\n"
     ]
    }
   ],
   "source": [
    "print(a[0], a[3], a[5])"
   ]
  },
  {
   "cell_type": "code",
   "execution_count": 35,
   "metadata": {},
   "outputs": [
    {
     "name": "stdout",
     "output_type": "stream",
     "text": [
      "[11 45 50]\n"
     ]
    }
   ],
   "source": [
    "#fancy indexing\n",
    "print(a[  [0, 3, 5]    ])"
   ]
  },
  {
   "cell_type": "code",
   "execution_count": 36,
   "metadata": {},
   "outputs": [
    {
     "data": {
      "text/plain": [
       "array([[45, 38],\n",
       "       [ 8, 50]])"
      ]
     },
     "execution_count": 36,
     "metadata": {},
     "output_type": "execute_result"
    }
   ],
   "source": [
    "#the result follows the shape of the index\n",
    "ix = np.array([\n",
    "    [3, 7],\n",
    "    [4, 5]\n",
    "])\n",
    "\n",
    "a[ix]"
   ]
  },
  {
   "cell_type": "code",
   "execution_count": 37,
   "metadata": {},
   "outputs": [],
   "source": [
    "X = np.arange(12).reshape((3, 4))"
   ]
  },
  {
   "cell_type": "code",
   "execution_count": 38,
   "metadata": {},
   "outputs": [
    {
     "data": {
      "text/plain": [
       "array([[ 0,  1,  2,  3],\n",
       "       [ 4,  5,  6,  7],\n",
       "       [ 8,  9, 10, 11]])"
      ]
     },
     "execution_count": 38,
     "metadata": {},
     "output_type": "execute_result"
    }
   ],
   "source": [
    "X"
   ]
  },
  {
   "cell_type": "code",
   "execution_count": 42,
   "metadata": {},
   "outputs": [
    {
     "name": "stdout",
     "output_type": "stream",
     "text": [
      "3 5 11\n"
     ]
    }
   ],
   "source": [
    "row_ix = np.array([0, 1, 2])\n",
    "col_ix = np.array([2, 1, 3])\n",
    "\n",
    "print(x[0, 2], X[1, 1], X[2, 3])"
   ]
  },
  {
   "cell_type": "code",
   "execution_count": 43,
   "metadata": {},
   "outputs": [
    {
     "data": {
      "text/plain": [
       "array([[ 0,  1,  2,  3],\n",
       "       [ 4,  5,  6,  7],\n",
       "       [ 8,  9, 10, 11]])"
      ]
     },
     "execution_count": 43,
     "metadata": {},
     "output_type": "execute_result"
    }
   ],
   "source": [
    "X"
   ]
  },
  {
   "cell_type": "code",
   "execution_count": 44,
   "metadata": {},
   "outputs": [
    {
     "data": {
      "text/plain": [
       "array([10,  8,  9])"
      ]
     },
     "execution_count": 44,
     "metadata": {},
     "output_type": "execute_result"
    }
   ],
   "source": [
    "X[2, [2, 0, 1]]"
   ]
  },
  {
   "cell_type": "code",
   "execution_count": 45,
   "metadata": {},
   "outputs": [
    {
     "data": {
      "text/plain": [
       "array([ 6,  4, 10,  8])"
      ]
     },
     "execution_count": 45,
     "metadata": {},
     "output_type": "execute_result"
    }
   ],
   "source": [
    "#slicing + fancy indexing + masking\n",
    "#bad habit of writing code\n",
    "X[1:, [2, 0, 1]][X[1:, [2, 0, 1]]%2 == 0]"
   ]
  },
  {
   "cell_type": "code",
   "execution_count": 46,
   "metadata": {},
   "outputs": [
    {
     "name": "stdout",
     "output_type": "stream",
     "text": [
      "[ 6  4 10  8]\n"
     ]
    }
   ],
   "source": [
    "#encourage you to write mask as a variable\n",
    "Y = X[1:, [2, 0, 1]]\n",
    "mod2 = Y[Y%2==0]\n",
    "\n",
    "print(mod2)"
   ]
  },
  {
   "cell_type": "code",
   "execution_count": 51,
   "metadata": {},
   "outputs": [
    {
     "data": {
      "text/plain": [
       "array([[[ 0,  1,  2],\n",
       "        [ 3,  4,  5],\n",
       "        [ 6,  7,  8],\n",
       "        [ 9, 10, 11]],\n",
       "\n",
       "       [[12, 13, 14],\n",
       "        [15, 16, 17],\n",
       "        [18, 19, 20],\n",
       "        [21, 22, 23]],\n",
       "\n",
       "       [[24, 25, 26],\n",
       "        [27, 28, 29],\n",
       "        [30, 31, 32],\n",
       "        [33, 34, 35]]])"
      ]
     },
     "execution_count": 51,
     "metadata": {},
     "output_type": "execute_result"
    }
   ],
   "source": [
    "#3d\n",
    "X = np.arange(36).reshape((3, 4, 3))\n",
    "X"
   ]
  },
  {
   "cell_type": "code",
   "execution_count": 71,
   "metadata": {},
   "outputs": [
    {
     "data": {
      "text/plain": [
       "array([ 0, 35])"
      ]
     },
     "execution_count": 71,
     "metadata": {},
     "output_type": "execute_result"
    }
   ],
   "source": [
    "#give me 24, 27\n",
    "X[2, [0, 1], [0]]\n",
    "\n",
    "#give me 13 and 23\n",
    "X[1, [0, 3], [1, 2]]\n",
    "\n",
    "#give me 0 and 35\n",
    "X[0, 0, 0]\n",
    "X[2, 3, 2]\n",
    "\n",
    "X[[0, 2], [0, 3], [0, 2]]\n",
    "\n",
    "\n"
   ]
  },
  {
   "cell_type": "code",
   "execution_count": 74,
   "metadata": {},
   "outputs": [
    {
     "data": {
      "text/plain": [
       "array([0, 1, 2, 3, 4, 5, 6, 7, 8, 9])"
      ]
     },
     "execution_count": 74,
     "metadata": {},
     "output_type": "execute_result"
    }
   ],
   "source": [
    "X = np.arange(10)\n",
    "X"
   ]
  },
  {
   "cell_type": "code",
   "execution_count": 76,
   "metadata": {},
   "outputs": [
    {
     "data": {
      "text/plain": [
       "array([6, 1, 2, 3, 4, 5, 6, 7, 8, 9])"
      ]
     },
     "execution_count": 76,
     "metadata": {},
     "output_type": "execute_result"
    }
   ],
   "source": [
    "X[[0, 0]] = 4, 6\n",
    "\n",
    "X[0] = 4\n",
    "X[0] = 6\n",
    "\n",
    "X"
   ]
  },
  {
   "cell_type": "code",
   "execution_count": 77,
   "metadata": {},
   "outputs": [
    {
     "data": {
      "text/plain": [
       "array([0., 0., 0., 0., 0., 0., 0., 0., 0., 0.])"
      ]
     },
     "execution_count": 77,
     "metadata": {},
     "output_type": "execute_result"
    }
   ],
   "source": [
    "x"
   ]
  },
  {
   "cell_type": "code",
   "execution_count": 80,
   "metadata": {},
   "outputs": [
    {
     "data": {
      "text/plain": [
       "array([0., 0., 1., 1., 1., 0., 0., 0., 0., 0.])"
      ]
     },
     "execution_count": 80,
     "metadata": {},
     "output_type": "execute_result"
    }
   ],
   "source": [
    "x = np.zeros(10)\n",
    "ix = [2, 3, 3, 4, 4, 4]\n",
    "x[ix] += 1"
   ]
  },
  {
   "cell_type": "code",
   "execution_count": 81,
   "metadata": {},
   "outputs": [
    {
     "data": {
      "text/plain": [
       "array([0., 0., 1., 2., 3., 0., 0., 0., 0., 0.])"
      ]
     },
     "execution_count": 81,
     "metadata": {},
     "output_type": "execute_result"
    }
   ],
   "source": [
    "x = np.zeros(10)\n",
    "np.add.at(x, ix, 1)  #(input, index, value)\n",
    "\n",
    "x"
   ]
  },
  {
   "cell_type": "code",
   "execution_count": 88,
   "metadata": {},
   "outputs": [],
   "source": [
    "#other useful stuffs about numpy\n",
    "#that nobody talks about\n",
    "#but chaky wants to talk about\n",
    "#because chaky uses them a lot\n",
    "\n",
    "#python sort\n",
    "#numpy sort\n",
    "\n",
    "py_list = list(range(100000))\n",
    "random.shuffle(py_list)  #shuffle is in-place\n",
    "\n",
    "numpy_list = np.arange(100000)\n",
    "np.random.shuffle(numpy_list)  #np.random.shuffle is in-place"
   ]
  },
  {
   "cell_type": "code",
   "execution_count": 102,
   "metadata": {},
   "outputs": [
    {
     "name": "stdout",
     "output_type": "stream",
     "text": [
      "Help on built-in function sort:\n",
      "\n",
      "sort(*, key=None, reverse=False) method of builtins.list instance\n",
      "    Sort the list in ascending order and return None.\n",
      "    \n",
      "    The sort is in-place (i.e. the list itself is modified) and stable (i.e. the\n",
      "    order of two equal elements is maintained).\n",
      "    \n",
      "    If a key function is given, apply it once to each list item and sort them,\n",
      "    ascending or descending, according to their function values.\n",
      "    \n",
      "    The reverse flag can be set to sort in descending order.\n",
      "\n"
     ]
    }
   ],
   "source": [
    "# %timeit py_list.sort()  #any python list will have a function sort"
   ]
  },
  {
   "cell_type": "code",
   "execution_count": 90,
   "metadata": {},
   "outputs": [
    {
     "name": "stdout",
     "output_type": "stream",
     "text": [
      "689 µs ± 14.3 µs per loop (mean ± std. dev. of 7 runs, 1000 loops each)\n"
     ]
    }
   ],
   "source": [
    "%timeit numpy_list.sort()  #any numpy list will have a function sort"
   ]
  },
  {
   "cell_type": "code",
   "execution_count": 92,
   "metadata": {},
   "outputs": [
    {
     "data": {
      "text/plain": [
       "array([1])"
      ]
     },
     "execution_count": 92,
     "metadata": {},
     "output_type": "execute_result"
    }
   ],
   "source": [
    "#np.digitize\n",
    "\n",
    "x = np.array([0.5])\n",
    "x\n",
    "\n",
    "bins = np.array([0, 1, 2, 3])\n",
    "#bin1 < 0\n",
    "#bin2 0 <= x < 1\n",
    "#bin3 1 <= x < 2\n",
    "#bin4 2 <= x < 3\n",
    "#bin5 4 <= x\n",
    "\n",
    "np.digitize(x, bins)"
   ]
  },
  {
   "cell_type": "code",
   "execution_count": 93,
   "metadata": {},
   "outputs": [
    {
     "data": {
      "text/plain": [
       "array([3, 3, 3, 3, 3])"
      ]
     },
     "execution_count": 93,
     "metadata": {},
     "output_type": "execute_result"
    }
   ],
   "source": [
    "#np.repeat\n",
    "np.repeat(3, 5)\n",
    "\n",
    "#when you initialize your models\n",
    "#you know that your weights are some random numbers"
   ]
  },
  {
   "cell_type": "code",
   "execution_count": 97,
   "metadata": {},
   "outputs": [
    {
     "data": {
      "text/plain": [
       "array([1, 1, 0, 0, 0, 0, 0, 0, 0, 0])"
      ]
     },
     "execution_count": 97,
     "metadata": {},
     "output_type": "execute_result"
    }
   ],
   "source": [
    "#np.random.binomial\n",
    "\n",
    "#binomial distribution - trials (10), probability (0.5)\n",
    "#if i flip my coins 10 times, \n",
    "# I want to know the results now [0, 1, 0, 0, 1, 0, 0, ]\n",
    "\n",
    "flips = np.random.binomial(1, 0.4, 10)\n",
    "flips"
   ]
  },
  {
   "cell_type": "code",
   "execution_count": 106,
   "metadata": {},
   "outputs": [
    {
     "data": {
      "text/plain": [
       "0.8"
      ]
     },
     "execution_count": 106,
     "metadata": {},
     "output_type": "execute_result"
    }
   ],
   "source": [
    "#give me the probability of 1\n",
    "np.sum(flips==1)/flips.size\n",
    "\n",
    "#give me the probability of 0\n",
    "np.count_nonzero(flips==0)/flips.shape[0]\n"
   ]
  },
  {
   "cell_type": "code",
   "execution_count": 125,
   "metadata": {},
   "outputs": [
    {
     "name": "stdout",
     "output_type": "stream",
     "text": [
      "[1. 0. 0. 2. 2. 0.]\n",
      "[[2 4 3]\n",
      " [3 4 5]\n",
      " [1 2 7]\n",
      " [3 8 6]\n",
      " [2 5 1]\n",
      " [5 8 4]]\n"
     ]
    }
   ],
   "source": [
    "#polyfit\n",
    "eeg = np.array([\n",
    "    [2, 4, 3],   #time 0 3 sensors measured in microvolts\n",
    "    [3, 4, 5],   #time 1 3 sensors measured in microvolts\n",
    "    [1, 2, 7],\n",
    "    [3, 8, 6],\n",
    "    [2, 5, 1],\n",
    "    [5, 8, 4]\n",
    "])\n",
    "\n",
    "#eeg timestamp\n",
    "eeg_ts = np.array([12089, 12130, 12239, 12345, 12367, 12470])\n",
    "\n",
    "#marker ==> event\n",
    "#1 = angry images; 2 = sad images\n",
    "marker = np.array([1, 2, 2])\n",
    "marker_ts = np.array([12072, 12321, 12389])\n",
    "\n",
    "mapped_markers = np.zeros(len(eeg_ts))\n",
    "\n",
    "for each_marker_ix, each_marker_ts in enumerate(marker_ts):\n",
    "    ix = np.argmin(np.abs(each_marker_ts - eeg_ts))\n",
    "    mapped_markers[ix] = marker[each_marker_ix]\n",
    "\n",
    "print(mapped_markers)\n",
    "print(eeg)"
   ]
  },
  {
   "cell_type": "code",
   "execution_count": 128,
   "metadata": {},
   "outputs": [
    {
     "name": "stdout",
     "output_type": "stream",
     "text": [
      "[0, 1, 2, 3, 4, 5]\n",
      "[12089 12130 12239 12345 12367 12470]\n"
     ]
    }
   ],
   "source": [
    "#polyfit\n",
    "\n",
    "#intuition\n",
    "#linear regression\n",
    "y_axis = list(range(len(eeg_ts)))\n",
    "y_axis\n",
    "\n",
    "print(y_axis)\n",
    "print(eeg_ts)"
   ]
  },
  {
   "cell_type": "code",
   "execution_count": 129,
   "metadata": {},
   "outputs": [],
   "source": [
    "coeff = np.polyfit(eeg_ts, y_axis, 1)  #deg = 1"
   ]
  },
  {
   "cell_type": "code",
   "execution_count": 130,
   "metadata": {},
   "outputs": [
    {
     "data": {
      "text/plain": [
       "array([ 1.25681815e-02, -1.51753481e+02])"
      ]
     },
     "execution_count": 130,
     "metadata": {},
     "output_type": "execute_result"
    }
   ],
   "source": [
    "coeff  #slope, #intercept"
   ]
  },
  {
   "cell_type": "code",
   "execution_count": 131,
   "metadata": {},
   "outputs": [],
   "source": [
    "marker_ind = np.rint(np.polyval(coeff, marker_ts)).astype(int)"
   ]
  },
  {
   "cell_type": "code",
   "execution_count": 132,
   "metadata": {},
   "outputs": [
    {
     "name": "stdout",
     "output_type": "stream",
     "text": [
      "[1. 0. 0. 2. 2. 0.]\n"
     ]
    }
   ],
   "source": [
    "mapped_markers = np.zeros(len(eeg_ts))\n",
    "mapped_markers[marker_ind] = marker\n",
    "\n",
    "print(mapped_markers)"
   ]
  },
  {
   "cell_type": "code",
   "execution_count": null,
   "metadata": {},
   "outputs": [],
   "source": [
    "#when reshape matters\n",
    "\n",
    "import numpy as np\n",
    "from torchvision import datasets #torchvision holds a lot of resources provided by the pyTorch guys\n",
    "import torchvision.transforms as transforms #transform data to tensor format\n",
    "import matplotlib.pyplot as plt\n",
    "\n",
    "#declaring a converter\n",
    "transform = transforms.ToTensor()\n",
    "\n"
   ]
  }
 ],
 "metadata": {
  "kernelspec": {
   "display_name": "Python 3",
   "language": "python",
   "name": "python3"
  },
  "language_info": {
   "codemirror_mode": {
    "name": "ipython",
    "version": 3
   },
   "file_extension": ".py",
   "mimetype": "text/x-python",
   "name": "python",
   "nbconvert_exporter": "python",
   "pygments_lexer": "ipython3",
   "version": "3.8.3"
  }
 },
 "nbformat": 4,
 "nbformat_minor": 4
}
