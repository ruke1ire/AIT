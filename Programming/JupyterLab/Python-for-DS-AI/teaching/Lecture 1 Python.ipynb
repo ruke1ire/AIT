{
 "cells": [
  {
   "cell_type": "markdown",
   "metadata": {},
   "source": [
    "### link of course materials\n",
    "https://github.com/chaklam-silpasuwanchai/Python-for-DS-AI\n",
    "\n",
    "If you found it difficult, you can also go to\n",
    "http://chaklam.com \n",
    "Search for the course name....there should be a link\n",
    "\n",
    "Please kindly open 0. Course Introduction\n",
    "\n",
    "What makes python so cool?\n",
    "\n",
    "python has many wonderful libraries that you can use\n",
    "And they also provide very efficient computations"
   ]
  },
  {
   "cell_type": "markdown",
   "metadata": {},
   "source": [
    "### Importing and Help"
   ]
  },
  {
   "cell_type": "code",
   "execution_count": 14,
   "metadata": {},
   "outputs": [],
   "source": [
    "import math"
   ]
  },
  {
   "cell_type": "code",
   "execution_count": 15,
   "metadata": {},
   "outputs": [
    {
     "data": {
      "text/plain": [
       "['__doc__',\n",
       " '__file__',\n",
       " '__loader__',\n",
       " '__name__',\n",
       " '__package__',\n",
       " '__spec__',\n",
       " 'acos',\n",
       " 'acosh',\n",
       " 'asin',\n",
       " 'asinh',\n",
       " 'atan',\n",
       " 'atan2',\n",
       " 'atanh',\n",
       " 'ceil',\n",
       " 'comb',\n",
       " 'copysign',\n",
       " 'cos',\n",
       " 'cosh',\n",
       " 'degrees',\n",
       " 'dist',\n",
       " 'e',\n",
       " 'erf',\n",
       " 'erfc',\n",
       " 'exp',\n",
       " 'expm1',\n",
       " 'fabs',\n",
       " 'factorial',\n",
       " 'floor',\n",
       " 'fmod',\n",
       " 'frexp',\n",
       " 'fsum',\n",
       " 'gamma',\n",
       " 'gcd',\n",
       " 'hypot',\n",
       " 'inf',\n",
       " 'isclose',\n",
       " 'isfinite',\n",
       " 'isinf',\n",
       " 'isnan',\n",
       " 'isqrt',\n",
       " 'ldexp',\n",
       " 'lgamma',\n",
       " 'log',\n",
       " 'log10',\n",
       " 'log1p',\n",
       " 'log2',\n",
       " 'modf',\n",
       " 'nan',\n",
       " 'perm',\n",
       " 'pi',\n",
       " 'pow',\n",
       " 'prod',\n",
       " 'radians',\n",
       " 'remainder',\n",
       " 'sin',\n",
       " 'sinh',\n",
       " 'sqrt',\n",
       " 'tan',\n",
       " 'tanh',\n",
       " 'tau',\n",
       " 'trunc']"
      ]
     },
     "execution_count": 15,
     "metadata": {},
     "output_type": "execute_result"
    }
   ],
   "source": [
    "dir(math)"
   ]
  },
  {
   "cell_type": "code",
   "execution_count": 16,
   "metadata": {},
   "outputs": [
    {
     "name": "stdout",
     "output_type": "stream",
     "text": [
      "Help on built-in function exp in module math:\n",
      "\n",
      "exp(x, /)\n",
      "    Return e raised to the power of x.\n",
      "\n"
     ]
    }
   ],
   "source": [
    "help(math.exp)"
   ]
  },
  {
   "cell_type": "code",
   "execution_count": 17,
   "metadata": {},
   "outputs": [
    {
     "data": {
      "text/plain": [
       "2.718281828459045"
      ]
     },
     "execution_count": 17,
     "metadata": {},
     "output_type": "execute_result"
    }
   ],
   "source": [
    "math.exp(1)"
   ]
  },
  {
   "cell_type": "code",
   "execution_count": 18,
   "metadata": {},
   "outputs": [
    {
     "name": "stdout",
     "output_type": "stream",
     "text": [
      "Help on built-in function log in module math:\n",
      "\n",
      "log(...)\n",
      "    log(x, [base=math.e])\n",
      "    Return the logarithm of x to the given base.\n",
      "    \n",
      "    If the base not specified, returns the natural logarithm (base e) of x.\n",
      "\n"
     ]
    }
   ],
   "source": [
    "help(math.log)"
   ]
  },
  {
   "cell_type": "code",
   "execution_count": 19,
   "metadata": {},
   "outputs": [
    {
     "data": {
      "text/plain": [
       "2.302585092994046"
      ]
     },
     "execution_count": 19,
     "metadata": {},
     "output_type": "execute_result"
    }
   ],
   "source": [
    "math.log(10)"
   ]
  },
  {
   "cell_type": "code",
   "execution_count": 20,
   "metadata": {},
   "outputs": [
    {
     "data": {
      "text/plain": [
       "3.3219280948873626"
      ]
     },
     "execution_count": 20,
     "metadata": {},
     "output_type": "execute_result"
    }
   ],
   "source": [
    "math.log(10, 2)"
   ]
  },
  {
   "cell_type": "code",
   "execution_count": 21,
   "metadata": {},
   "outputs": [
    {
     "data": {
      "text/plain": [
       "3.141592653589793"
      ]
     },
     "execution_count": 21,
     "metadata": {},
     "output_type": "execute_result"
    }
   ],
   "source": [
    "1 * math.pi"
   ]
  },
  {
   "cell_type": "code",
   "execution_count": 22,
   "metadata": {},
   "outputs": [
    {
     "data": {
      "text/plain": [
       "3.3219280948873626"
      ]
     },
     "execution_count": 22,
     "metadata": {},
     "output_type": "execute_result"
    }
   ],
   "source": [
    "math.log(10, 2)"
   ]
  },
  {
   "cell_type": "code",
   "execution_count": 23,
   "metadata": {},
   "outputs": [
    {
     "data": {
      "text/plain": [
       "3.3219280948873626"
      ]
     },
     "execution_count": 23,
     "metadata": {},
     "output_type": "execute_result"
    }
   ],
   "source": [
    "from math import log\n",
    "\n",
    "log(10, 2)"
   ]
  },
  {
   "cell_type": "markdown",
   "metadata": {},
   "source": [
    "### Basics"
   ]
  },
  {
   "cell_type": "code",
   "execution_count": 24,
   "metadata": {},
   "outputs": [
    {
     "data": {
      "text/plain": [
       "str"
      ]
     },
     "execution_count": 24,
     "metadata": {},
     "output_type": "execute_result"
    }
   ],
   "source": [
    "some_string = \"hello\"\n",
    "some_string2 = 'hello'\n",
    "type(some_string)"
   ]
  },
  {
   "cell_type": "code",
   "execution_count": 25,
   "metadata": {},
   "outputs": [
    {
     "data": {
      "text/plain": [
       "(str, bool, int, float)"
      ]
     },
     "execution_count": 25,
     "metadata": {},
     "output_type": "execute_result"
    }
   ],
   "source": [
    "str, bool, int, float"
   ]
  },
  {
   "cell_type": "code",
   "execution_count": 26,
   "metadata": {},
   "outputs": [
    {
     "data": {
      "text/plain": [
       "bool"
      ]
     },
     "execution_count": 26,
     "metadata": {},
     "output_type": "execute_result"
    }
   ],
   "source": [
    "a = True\n",
    "b = False\n",
    "type(a)"
   ]
  },
  {
   "cell_type": "code",
   "execution_count": 27,
   "metadata": {},
   "outputs": [
    {
     "name": "stdout",
     "output_type": "stream",
     "text": [
      "<class 'int'>\n",
      "<class 'float'>\n"
     ]
    }
   ],
   "source": [
    "a = 1\n",
    "b = 3.14\n",
    "print(type(a))\n",
    "print(type(b))"
   ]
  },
  {
   "cell_type": "code",
   "execution_count": 33,
   "metadata": {},
   "outputs": [
    {
     "data": {
      "text/plain": [
       "str"
      ]
     },
     "execution_count": 33,
     "metadata": {},
     "output_type": "execute_result"
    }
   ],
   "source": [
    "# float + int = ?  float\n",
    "type(3.14 + 3)\n",
    "# float + float = ? float\n",
    "type(3.14 + 3.14)\n",
    "# bool + float = ? float\n",
    "type(True + 3.14)\n",
    "# bool + int = ? int\n",
    "type(True + 3)\n",
    "# float/int + str = ? errors\n",
    "#type(3 + \"hello\")\n",
    "# str + str = ? strstr\n",
    "type(\"hello\" + \"world\")"
   ]
  },
  {
   "cell_type": "code",
   "execution_count": 51,
   "metadata": {},
   "outputs": [
    {
     "name": "stdout",
     "output_type": "stream",
     "text": [
      "x:  5 5 5\n",
      "X: 5 5\n",
      "X: 5\n",
      "hello\n",
      "world\n",
      "\n",
      "hello\\nworld\\n\n",
      "helloworld\n",
      "Downloads/Github/Chaky\n",
      " \"hi\" \n",
      "X: 3.14 3 3.1438383223923\n"
     ]
    }
   ],
   "source": [
    "#print things:\n",
    "\n",
    "a = 5\n",
    "\n",
    "#comma way\n",
    "print(\"x: \", a, a, a)\n",
    "\n",
    "#format way\n",
    "print(\"X: {} {}\".format(a, a))\n",
    "\n",
    "#f string\n",
    "print(f\"X: {a}\")\n",
    "\n",
    "#\\n means new line\n",
    "print(\"hello\\nworld\\n\")\n",
    "\n",
    "print(r\"hello\\nworld\\n\")\n",
    "\n",
    "print(\"hello\", end='')\n",
    "print(\"world\")\n",
    "\n",
    "print(\"Downloads\", \"Github\", \"Chaky\", sep='/')\n",
    "\n",
    "#escape in python using \\\n",
    "print(\" \\\"hi\\\" \")\n",
    "\n",
    "a = 3.1438383223923\n",
    "\n",
    "#.f float; d integers; s string\n",
    "print(\"X: %.2f %d %s\" % (a, a, a))"
   ]
  },
  {
   "cell_type": "code",
   "execution_count": 57,
   "metadata": {},
   "outputs": [],
   "source": [
    "string = \"3.14\""
   ]
  },
  {
   "cell_type": "code",
   "execution_count": 58,
   "metadata": {},
   "outputs": [
    {
     "data": {
      "text/plain": [
       "6.140000000000001"
      ]
     },
     "execution_count": 58,
     "metadata": {},
     "output_type": "execute_result"
    }
   ],
   "source": [
    "#str + int = error\n",
    "float(string) + 3"
   ]
  },
  {
   "cell_type": "code",
   "execution_count": 59,
   "metadata": {},
   "outputs": [
    {
     "data": {
      "text/plain": [
       "'3.14'"
      ]
     },
     "execution_count": 59,
     "metadata": {},
     "output_type": "execute_result"
    }
   ],
   "source": [
    "float(str(float(string))"
   ]
  },
  {
   "cell_type": "code",
   "execution_count": 64,
   "metadata": {},
   "outputs": [
    {
     "name": "stdout",
     "output_type": "stream",
     "text": [
      "a is True\n"
     ]
    }
   ],
   "source": [
    "#boolean\n",
    "\n",
    "a = True\n",
    "a2 = 1  #1 is True\n",
    "a3 = False\n",
    "a4 = 0\n",
    "a5 = -10  #any number that is not 0 is True\n",
    "\n",
    "if a5:\n",
    "    print(\"a is True\")\n",
    "else:\n",
    "    print(\"a is False\")"
   ]
  },
  {
   "cell_type": "code",
   "execution_count": 71,
   "metadata": {},
   "outputs": [
    {
     "name": "stdout",
     "output_type": "stream",
     "text": [
      "a is True\n",
      "a2 is True again\n",
      "0\n",
      "1\n",
      "2\n"
     ]
    }
   ],
   "source": [
    "if(a):\n",
    "    print(\"a is True\")\n",
    "    if (a2):\n",
    "        print(\"a2 is True again\")\n",
    "    elif (a3):\n",
    "        print(\"a3 is True\")\n",
    "    elif (a4):\n",
    "        print(\"a4 is True\")\n",
    "    else:\n",
    "        print(\"all is False\")\n",
    "    \n",
    "x = 0\n",
    "while x <5:\n",
    "    print(x)\n",
    "    if(x == 2):\n",
    "    break #don't do the rest of the below stuffs\n",
    "    x += 1\n",
    "\n",
    "break\n",
    "    \n",
    "    \n",
    "    "
   ]
  },
  {
   "cell_type": "code",
   "execution_count": 72,
   "metadata": {},
   "outputs": [
    {
     "name": "stdout",
     "output_type": "stream",
     "text": [
      "False\n",
      "True\n",
      "True\n",
      "True\n",
      "False\n"
     ]
    }
   ],
   "source": [
    "print(True and False) #False\n",
    "print(True and True) #True\n",
    "print(True or False) #True\n",
    "print(True or True) #True\n",
    "print(False or False) #False"
   ]
  },
  {
   "cell_type": "code",
   "execution_count": 74,
   "metadata": {},
   "outputs": [
    {
     "data": {
      "text/plain": [
       "(6, 1.0, 1, 2, 4)"
      ]
     },
     "execution_count": 74,
     "metadata": {},
     "output_type": "execute_result"
    }
   ],
   "source": [
    "#math operations\n",
    "#add, div, int div, modulo, power\n",
    "3 + 3, 3 / 3, 5 // 3, 5 % 3, 2 ** 2"
   ]
  },
  {
   "cell_type": "code",
   "execution_count": 75,
   "metadata": {},
   "outputs": [
    {
     "name": "stdout",
     "output_type": "stream",
     "text": [
      "1.0\n",
      "-1.0\n"
     ]
    }
   ],
   "source": [
    "x = 1.0 - 1.0j\n",
    "print(x.real)\n",
    "print(x.imag)"
   ]
  },
  {
   "cell_type": "code",
   "execution_count": null,
   "metadata": {},
   "outputs": [],
   "source": [
    "###Variable convention\n",
    "\n",
    "#define any local variables\n",
    "#usse small letters\n",
    "\n",
    "local = 1  #small letter\n",
    "local_network = 1 #using underscore\n",
    "localNetwork = 1 #cap second word onward\n",
    "PI = 3.1415 #All caps for constants\n",
    "MyClass = 1 #cap first letters all words\n",
    "\n",
    "# #input_  #avoid conflict with python sym variable\n",
    "# _input #inform that this variable is only for internal use\n",
    "# __input__\n",
    "\n",
    "# __init__  #these methods are created by Python guys, and you can always override, but you should obey their signatures\n",
    "# __str__\n",
    "# __getattributes__\n",
    "# __main__"
   ]
  },
  {
   "cell_type": "code",
   "execution_count": 76,
   "metadata": {},
   "outputs": [
    {
     "data": {
      "text/plain": [
       "True"
      ]
     },
     "execution_count": 76,
     "metadata": {},
     "output_type": "execute_result"
    }
   ],
   "source": [
    "## Comparison\n",
    "3 > 2\n",
    "2 < 3\n",
    "2 >= 2\n",
    "2 <= 2 \n",
    "2 == 2\n",
    "2 != 1\n",
    "object1 = object2 = [1, 2]\n",
    "object1 is object2"
   ]
  },
  {
   "cell_type": "code",
   "execution_count": 79,
   "metadata": {},
   "outputs": [
    {
     "data": {
      "text/plain": [
       "True"
      ]
     },
     "execution_count": 79,
     "metadata": {},
     "output_type": "execute_result"
    }
   ],
   "source": [
    "True and True or False\n",
    "True or False and True"
   ]
  },
  {
   "cell_type": "code",
   "execution_count": 85,
   "metadata": {},
   "outputs": [
    {
     "name": "stdout",
     "output_type": "stream",
     "text": [
      "Help on built-in function bin in module builtins:\n",
      "\n",
      "bin(number, /)\n",
      "    Return the binary representation of an integer.\n",
      "    \n",
      "    >>> bin(2796202)\n",
      "    '0b1010101010101010101010'\n",
      "\n"
     ]
    }
   ],
   "source": [
    "#&& and bitwise\n",
    "a = bin(100001)\n",
    "b = bin(111110)\n",
    "#|| or  bitwise\n",
    "#a & b\n",
    "\n",
    "help(bin)"
   ]
  },
  {
   "cell_type": "code",
   "execution_count": 97,
   "metadata": {},
   "outputs": [
    {
     "data": {
      "text/plain": [
       "8"
      ]
     },
     "execution_count": 97,
     "metadata": {},
     "output_type": "execute_result"
    }
   ],
   "source": [
    "# list and strings\n",
    "\n",
    "some_string = \"hello\"\n",
    "\n",
    "some_string[0] #h\n",
    "#[start:stop:step] #not include stop\n",
    "\n",
    "some_string[0::2] #he\n",
    "\n",
    "some_string[:] #everything\n",
    "\n",
    "some_string[-2:]\n",
    "\n",
    "#hello -> olleh\n",
    "some_string[::-1]\n",
    "\n",
    "len(some_string)\n",
    "\n",
    "#List use []\n",
    "list1 = [1, 2, 3, 4] #list of numbers\n",
    "list2 = [\"Chaky\", \"John\", \"Jane\"] #list ofstrings\n",
    "list3 = [\"Chaky\", 2, 3.14]\n",
    "type(list3) \n",
    "\n",
    "list2[0][2]\n",
    "\n",
    "list4 = [1, [2, 3], [4, 5], [[6, 7], 8]]\n",
    "list4[-1][-1]"
   ]
  },
  {
   "cell_type": "code",
   "execution_count": 104,
   "metadata": {},
   "outputs": [
    {
     "name": "stdout",
     "output_type": "stream",
     "text": [
      "[2, 3, 2, 3, 2, 3, 2, 3, 2, 3]\n"
     ]
    }
   ],
   "source": [
    "list0 = [0, 0, 0, 0, 0]\n",
    "list0_2 = [2, 3] * 5\n",
    "print(list0_2)\n",
    "\n",
    "list2 = [0, 1, 2, 3, 4, 5]\n",
    "a = range(5)  #0, 1, 2, 3, 4"
   ]
  },
  {
   "cell_type": "code",
   "execution_count": 109,
   "metadata": {},
   "outputs": [
    {
     "name": "stdout",
     "output_type": "stream",
     "text": [
      "0\n",
      "1\n",
      "2\n",
      "3\n",
      "4\n"
     ]
    }
   ],
   "source": [
    "type(a)\n",
    "#range is a generator\n",
    "list(a)\n",
    "\n",
    "for i in a:\n",
    "    print(i)"
   ]
  },
  {
   "cell_type": "code",
   "execution_count": 112,
   "metadata": {},
   "outputs": [
    {
     "name": "stdout",
     "output_type": "stream",
     "text": [
      "0 0 Apple\n",
      "1 1 Orange\n",
      "2 3 Bananas\n",
      "3 5 Mangos\n"
     ]
    }
   ],
   "source": [
    "a = [0, 1, 3, 5]\n",
    "b = [\"Apple\", \"Orange\", \"Bananas\", \"Mangos\"]\n",
    "\n",
    "for ix, x in enumerate(a):\n",
    "    print(ix, x, b[ix])"
   ]
  },
  {
   "cell_type": "code",
   "execution_count": 113,
   "metadata": {},
   "outputs": [
    {
     "name": "stdout",
     "output_type": "stream",
     "text": [
      "0 0 Apple\n",
      "1 1 Orange\n",
      "2 3 Bananas\n",
      "3 5 Mangos\n"
     ]
    }
   ],
   "source": [
    "for i in range(len(a)):  #0, 1, 2, 3\n",
    "    print(i, a[i], b[i])"
   ]
  },
  {
   "cell_type": "code",
   "execution_count": 117,
   "metadata": {},
   "outputs": [
    {
     "data": {
      "text/plain": [
       "[5, 9, 9, 13]"
      ]
     },
     "execution_count": 117,
     "metadata": {},
     "output_type": "execute_result"
    }
   ],
   "source": [
    "a = [0, 7, 9, 13]\n",
    "a[1] = 3\n",
    "\n",
    "a\n",
    "\n",
    "#0, 1\n",
    "a[0:2] = 5, 9\n",
    "a"
   ]
  },
  {
   "cell_type": "code",
   "execution_count": 121,
   "metadata": {},
   "outputs": [
    {
     "data": {
      "text/plain": [
       "[9, 9, 13]"
      ]
     },
     "execution_count": 121,
     "metadata": {},
     "output_type": "execute_result"
    }
   ],
   "source": [
    "a"
   ]
  },
  {
   "cell_type": "code",
   "execution_count": 122,
   "metadata": {},
   "outputs": [],
   "source": [
    "a.remove(9)"
   ]
  },
  {
   "cell_type": "code",
   "execution_count": 123,
   "metadata": {},
   "outputs": [
    {
     "data": {
      "text/plain": [
       "[9, 13]"
      ]
     },
     "execution_count": 123,
     "metadata": {},
     "output_type": "execute_result"
    }
   ],
   "source": [
    "a"
   ]
  },
  {
   "cell_type": "code",
   "execution_count": 124,
   "metadata": {},
   "outputs": [],
   "source": [
    "a.insert(0, 22)"
   ]
  },
  {
   "cell_type": "code",
   "execution_count": 125,
   "metadata": {},
   "outputs": [
    {
     "data": {
      "text/plain": [
       "[22, 9, 13]"
      ]
     },
     "execution_count": 125,
     "metadata": {},
     "output_type": "execute_result"
    }
   ],
   "source": [
    "a"
   ]
  },
  {
   "cell_type": "code",
   "execution_count": 126,
   "metadata": {},
   "outputs": [
    {
     "data": {
      "text/plain": [
       "9"
      ]
     },
     "execution_count": 126,
     "metadata": {},
     "output_type": "execute_result"
    }
   ],
   "source": [
    "a.pop(1)"
   ]
  },
  {
   "cell_type": "code",
   "execution_count": 127,
   "metadata": {},
   "outputs": [
    {
     "data": {
      "text/plain": [
       "[22, 13]"
      ]
     },
     "execution_count": 127,
     "metadata": {},
     "output_type": "execute_result"
    }
   ],
   "source": [
    "a"
   ]
  },
  {
   "cell_type": "code",
   "execution_count": 128,
   "metadata": {},
   "outputs": [],
   "source": [
    "#remove(value)\n",
    "#pop(index)\n",
    "#insert(index, value)\n",
    "#[0] = 132\n",
    "\n",
    "#sorting\n",
    "a = [3, 19, 5]\n",
    "a.sort() #in place function"
   ]
  },
  {
   "cell_type": "code",
   "execution_count": 129,
   "metadata": {},
   "outputs": [
    {
     "data": {
      "text/plain": [
       "[3, 5, 19]"
      ]
     },
     "execution_count": 129,
     "metadata": {},
     "output_type": "execute_result"
    }
   ],
   "source": [
    "a"
   ]
  },
  {
   "cell_type": "code",
   "execution_count": 130,
   "metadata": {},
   "outputs": [
    {
     "name": "stdout",
     "output_type": "stream",
     "text": [
      "None\n"
     ]
    }
   ],
   "source": [
    "b = [89, 10, 42]\n",
    "print(b.sort())"
   ]
  },
  {
   "cell_type": "code",
   "execution_count": 131,
   "metadata": {},
   "outputs": [
    {
     "data": {
      "text/plain": [
       "[10, 42, 89]"
      ]
     },
     "execution_count": 131,
     "metadata": {},
     "output_type": "execute_result"
    }
   ],
   "source": [
    "b"
   ]
  },
  {
   "cell_type": "code",
   "execution_count": 134,
   "metadata": {},
   "outputs": [],
   "source": [
    "a.reverse()"
   ]
  },
  {
   "cell_type": "code",
   "execution_count": 135,
   "metadata": {},
   "outputs": [
    {
     "data": {
      "text/plain": [
       "[19, 5, 3]"
      ]
     },
     "execution_count": 135,
     "metadata": {},
     "output_type": "execute_result"
    }
   ],
   "source": [
    "a"
   ]
  },
  {
   "cell_type": "code",
   "execution_count": 141,
   "metadata": {},
   "outputs": [
    {
     "name": "stdout",
     "output_type": "stream",
     "text": [
      "19\n",
      "5\n",
      "1\n"
     ]
    }
   ],
   "source": [
    "a = [19, 1, 5]\n",
    "for num in reversed(sorted(a)):\n",
    "    print(num)"
   ]
  },
  {
   "cell_type": "code",
   "execution_count": 173,
   "metadata": {},
   "outputs": [
    {
     "name": "stdout",
     "output_type": "stream",
     "text": [
      "Shuffling:  [5, 3, 0, 8, 9, 1, 6, 4, 7, 2]\n",
      "Subsampling:  [8, 1, 7, 5, 4]\n",
      "Choice:  3\n"
     ]
    }
   ],
   "source": [
    "#random\n",
    "a = list(range(10)) #0..9\n",
    "\n",
    "#Why randomize?\n",
    "import random\n",
    "\n",
    "random.seed(20200806)\n",
    "\n",
    "random.shuffle(a)\n",
    "print(\"Shuffling: \", a)  #in-place\n",
    "print(\"Subsampling: \", random.sample(a, 5))\n",
    "print(\"Choice: \", random.choice(a))"
   ]
  },
  {
   "cell_type": "code",
   "execution_count": 175,
   "metadata": {},
   "outputs": [
    {
     "name": "stdout",
     "output_type": "stream",
     "text": [
      "Permutations:  [(1, 2), (1, 3), (2, 1), (2, 3), (3, 1), (3, 2)]\n",
      "Combinations:  [(1, 2), (1, 3), (2, 3)]\n"
     ]
    }
   ],
   "source": [
    "a = [1, 2, 3]\n",
    "from itertools import permutations, combinations\n",
    "#permuations\n",
    "# order senstive\n",
    "# (i, k) != (k, i)\n",
    "print(\"Permutations: \", list(permutations(a, 2)))\n",
    "#combinations\n",
    "# not order sensitive\n",
    "# (i, k) == (k, i)\n",
    "print(\"Combinations: \", list(combinations(a, 2)))\n",
    "\n"
   ]
  },
  {
   "cell_type": "code",
   "execution_count": 184,
   "metadata": {},
   "outputs": [
    {
     "name": "stdout",
     "output_type": "stream",
     "text": [
      "Chaky 18\n",
      "John 25\n",
      "Jane 35\n"
     ]
    }
   ],
   "source": [
    "#zip\n",
    "\n",
    "names = [\"Chaky\", \"John\", \"Jane\"]\n",
    "ages = [18, 25, 35]\n",
    "\n",
    "#print(names[0], age[0])\n",
    "#print(names[1], age[1])\n",
    "\n",
    "#non-pythonic way\n",
    "# for i in range(len(names)):\n",
    "#     print(names[i], age[i])\n",
    "\n",
    "#tuple\n",
    "for (name, age) in list(zip(names, ages)):\n",
    "    print(name, age)"
   ]
  },
  {
   "cell_type": "code",
   "execution_count": 197,
   "metadata": {},
   "outputs": [
    {
     "name": "stdout",
     "output_type": "stream",
     "text": [
      "A inverted U B 2\n",
      "a-b {1, 3}\n",
      "b-a {5, 6}\n",
      "{1, 3, 5, 6}\n",
      "{1, 3, 5, 6}\n",
      "{1, 2, 3, 5, 6}\n"
     ]
    }
   ],
   "source": [
    "#set\n",
    "a = [1, 2, 3, 2]\n",
    "b = [2, 5, 6, 6]\n",
    "#set must have no duplicate values\n",
    "set_a = set(a) #not in-place\n",
    "set_b = set(b) #not in-place\n",
    "\n",
    "#intersection\n",
    "#what is in a that is also in b\n",
    "print(\"A inverted U B\", list(set_a.intersection(set_b))[0])\n",
    "\n",
    "#difference\n",
    "#what is in a that is not in b\n",
    "print(\"a-b\", set_a.difference(set_b))\n",
    "\n",
    "#what is in b that is not in a\n",
    "print(\"b-a\",set_b.difference(set_a))\n",
    "\n",
    "#symmetric differences\n",
    "#a-b + b-a\n",
    "print(set_a.symmetric_difference(set_b))\n",
    "print(set_b.symmetric_difference(set_a))\n",
    "\n",
    "print(set_a.union(set_b))"
   ]
  },
  {
   "cell_type": "code",
   "execution_count": 202,
   "metadata": {},
   "outputs": [
    {
     "data": {
      "text/plain": [
       "[[[8, 9], 1], [[4, 5], 2], [[10, 12], 2]]"
      ]
     },
     "execution_count": 202,
     "metadata": {},
     "output_type": "execute_result"
    }
   ],
   "source": [
    "8 // 3  #integer divison\n",
    "8 % 3   #modulo; remainder\n",
    "\n",
    "\n",
    "two_eeg_signals1 = [8, 9]  #two electodes, 8 mv, 9mv\n",
    "event1 = 1 #cat\n",
    "two_eeg_signals2 = [4, 5]\n",
    "event2 = 2  #dog\n",
    "two_eeg_signals3 = [10, 12]\n",
    "event3 = 2\n",
    "\n",
    "eeg = []\n",
    "eeg.append([two_eeg_signals1, event1])\n",
    "eeg.append([two_eeg_signals2, event2])\n",
    "eeg.append([two_eeg_signals3, event3])\n",
    "\n",
    "eeg\n",
    "\n",
    "#how do i get only the eeg signals from eeg\n",
    "#[[8, 9], [4, 5], [10, 12]]\n",
    "\n",
    "#how do i get only the event from eeg\n",
    "#[1, 2, 2]\n",
    "\n",
    "#how do i get the eeg signal in which event is dog (2)\n",
    "#[[4, 5], [10, 12]]"
   ]
  },
  {
   "cell_type": "code",
   "execution_count": 204,
   "metadata": {},
   "outputs": [
    {
     "data": {
      "text/plain": [
       "[[8, 9], 1]"
      ]
     },
     "execution_count": 204,
     "metadata": {},
     "output_type": "execute_result"
    }
   ],
   "source": [
    "eeg[0]"
   ]
  },
  {
   "cell_type": "code",
   "execution_count": 209,
   "metadata": {},
   "outputs": [
    {
     "data": {
      "text/plain": [
       "[8, 9]"
      ]
     },
     "execution_count": 209,
     "metadata": {},
     "output_type": "execute_result"
    }
   ],
   "source": [
    "eeg[0][0]"
   ]
  },
  {
   "cell_type": "code",
   "execution_count": 211,
   "metadata": {},
   "outputs": [
    {
     "data": {
      "text/plain": [
       "1"
      ]
     },
     "execution_count": 211,
     "metadata": {},
     "output_type": "execute_result"
    }
   ],
   "source": [
    "eeg[0][1]"
   ]
  },
  {
   "cell_type": "code",
   "execution_count": 205,
   "metadata": {},
   "outputs": [
    {
     "data": {
      "text/plain": [
       "[[4, 5], 2]"
      ]
     },
     "execution_count": 205,
     "metadata": {},
     "output_type": "execute_result"
    }
   ],
   "source": [
    "eeg[1]"
   ]
  },
  {
   "cell_type": "code",
   "execution_count": 206,
   "metadata": {},
   "outputs": [
    {
     "data": {
      "text/plain": [
       "[[10, 12], 2]"
      ]
     },
     "execution_count": 206,
     "metadata": {},
     "output_type": "execute_result"
    }
   ],
   "source": [
    "eeg[2]"
   ]
  },
  {
   "cell_type": "code",
   "execution_count": 207,
   "metadata": {},
   "outputs": [
    {
     "data": {
      "text/plain": [
       "3"
      ]
     },
     "execution_count": 207,
     "metadata": {},
     "output_type": "execute_result"
    }
   ],
   "source": [
    "len(eeg)"
   ]
  },
  {
   "cell_type": "code",
   "execution_count": 214,
   "metadata": {},
   "outputs": [
    {
     "name": "stdout",
     "output_type": "stream",
     "text": [
      "Help on class range in module builtins:\n",
      "\n",
      "class range(object)\n",
      " |  range(stop) -> range object\n",
      " |  range(start, stop[, step]) -> range object\n",
      " |  \n",
      " |  Return an object that produces a sequence of integers from start (inclusive)\n",
      " |  to stop (exclusive) by step.  range(i, j) produces i, i+1, i+2, ..., j-1.\n",
      " |  start defaults to 0, and stop is omitted!  range(4) produces 0, 1, 2, 3.\n",
      " |  These are exactly the valid indices for a list of 4 elements.\n",
      " |  When step is given, it specifies the increment (or decrement).\n",
      " |  \n",
      " |  Methods defined here:\n",
      " |  \n",
      " |  __bool__(self, /)\n",
      " |      self != 0\n",
      " |  \n",
      " |  __contains__(self, key, /)\n",
      " |      Return key in self.\n",
      " |  \n",
      " |  __eq__(self, value, /)\n",
      " |      Return self==value.\n",
      " |  \n",
      " |  __ge__(self, value, /)\n",
      " |      Return self>=value.\n",
      " |  \n",
      " |  __getattribute__(self, name, /)\n",
      " |      Return getattr(self, name).\n",
      " |  \n",
      " |  __getitem__(self, key, /)\n",
      " |      Return self[key].\n",
      " |  \n",
      " |  __gt__(self, value, /)\n",
      " |      Return self>value.\n",
      " |  \n",
      " |  __hash__(self, /)\n",
      " |      Return hash(self).\n",
      " |  \n",
      " |  __iter__(self, /)\n",
      " |      Implement iter(self).\n",
      " |  \n",
      " |  __le__(self, value, /)\n",
      " |      Return self<=value.\n",
      " |  \n",
      " |  __len__(self, /)\n",
      " |      Return len(self).\n",
      " |  \n",
      " |  __lt__(self, value, /)\n",
      " |      Return self<value.\n",
      " |  \n",
      " |  __ne__(self, value, /)\n",
      " |      Return self!=value.\n",
      " |  \n",
      " |  __reduce__(...)\n",
      " |      Helper for pickle.\n",
      " |  \n",
      " |  __repr__(self, /)\n",
      " |      Return repr(self).\n",
      " |  \n",
      " |  __reversed__(...)\n",
      " |      Return a reverse iterator.\n",
      " |  \n",
      " |  count(...)\n",
      " |      rangeobject.count(value) -> integer -- return number of occurrences of value\n",
      " |  \n",
      " |  index(...)\n",
      " |      rangeobject.index(value) -> integer -- return index of value.\n",
      " |      Raise ValueError if the value is not present.\n",
      " |  \n",
      " |  ----------------------------------------------------------------------\n",
      " |  Static methods defined here:\n",
      " |  \n",
      " |  __new__(*args, **kwargs) from builtins.type\n",
      " |      Create and return a new object.  See help(type) for accurate signature.\n",
      " |  \n",
      " |  ----------------------------------------------------------------------\n",
      " |  Data descriptors defined here:\n",
      " |  \n",
      " |  start\n",
      " |  \n",
      " |  step\n",
      " |  \n",
      " |  stop\n",
      "\n"
     ]
    }
   ],
   "source": [
    "range(3)\n",
    "range(0, 3)  #run from 0, 1, 2, but not include 3\n",
    "range(1, 5, 2)  #run from 1, 3, but not include 5\n",
    "help(range)"
   ]
  },
  {
   "cell_type": "code",
   "execution_count": 218,
   "metadata": {},
   "outputs": [
    {
     "name": "stdout",
     "output_type": "stream",
     "text": [
      "Only eeg:  [[8, 9], [4, 5], [10, 12]]\n",
      "Only event:  [1, 2, 2]\n",
      "Only event 2 eeg:  [[4, 5], [10, 12]]\n"
     ]
    }
   ],
   "source": [
    "onlyeegineed = []\n",
    "onlyeventineed = []\n",
    "onlyeegevent2 = []\n",
    "for index in range(len(eeg)):\n",
    "    #print(f\"======{index}======\")\n",
    "    #print(\"EEG signal: \", eeg[index][0])\n",
    "    #print(\"Event: \", eeg[index][1])\n",
    "    onlyeegineed.append(eeg[index][0])\n",
    "    onlyeventineed.append(eeg[index][1])\n",
    "    #print(\"Only eeg: \", onlyeegineed)\n",
    "    #print(\"Only event: \", onlyeventineed)\n",
    "    if(eeg[index][1] == 2):\n",
    "        onlyeegevent2.append(eeg[index][0])\n",
    "\n",
    "print(\"Only eeg: \", onlyeegineed)\n",
    "print(\"Only event: \", onlyeventineed)\n",
    "print(\"Only event 2 eeg: \", onlyeegevent2)"
   ]
  },
  {
   "cell_type": "code",
   "execution_count": 219,
   "metadata": {},
   "outputs": [
    {
     "name": "stdout",
     "output_type": "stream",
     "text": [
      "[[8, 9], [4, 5], [10, 12]]\n",
      "[1, 2, 2]\n",
      "[[4, 5], [10, 12]]\n"
     ]
    }
   ],
   "source": [
    "onlyeeg = [eacheeg[0] for eacheeg in eeg]\n",
    "onlyevent = [eacheeg[1] for eacheeg in eeg]\n",
    "onlyevent2 = [eacheeg[0] for eacheeg in eeg if eacheeg[1] == 2]\n",
    "\n",
    "print(onlyeeg)\n",
    "print(onlyevent)\n",
    "print(onlyevent2)\n",
    "\n",
    "#a = [output something  for something in generator if something = something]"
   ]
  },
  {
   "cell_type": "code",
   "execution_count": 222,
   "metadata": {},
   "outputs": [
    {
     "name": "stdout",
     "output_type": "stream",
     "text": [
      "[2, 3, 4, 5, 6]\n",
      "[3, 4, 5, 6, 7]\n"
     ]
    }
   ],
   "source": [
    "a = [1, 2, 3, 4, 5]\n",
    "\n",
    "for ix in range(len(a)):\n",
    "    a[ix] += 1\n",
    "    \n",
    "print(a)\n",
    "\n",
    "output = [num + 1 for num in a]\n",
    "print(output)"
   ]
  },
  {
   "cell_type": "code",
   "execution_count": 224,
   "metadata": {},
   "outputs": [],
   "source": [
    "### Tuples\n",
    "\n",
    "#list that cannot be changed, added, remove, pop\n",
    "#tuples ARE MUCH MORE MEMORY EFFICIENT than list\n",
    "\n",
    "#( , , ,,,,,)\n",
    "point1 = (10, 20)\n",
    "#  , , , , \n",
    "point2 = 10, 20\n"
   ]
  },
  {
   "cell_type": "code",
   "execution_count": 225,
   "metadata": {},
   "outputs": [
    {
     "name": "stdout",
     "output_type": "stream",
     "text": [
      "(10, 20)\n",
      "(10, 20)\n"
     ]
    }
   ],
   "source": [
    "print(point1)\n",
    "print(point2)"
   ]
  },
  {
   "cell_type": "code",
   "execution_count": 227,
   "metadata": {},
   "outputs": [
    {
     "name": "stdout",
     "output_type": "stream",
     "text": [
      "10 20\n"
     ]
    }
   ],
   "source": [
    "x, y = point1\n",
    "print(x, y)"
   ]
  },
  {
   "cell_type": "code",
   "execution_count": 228,
   "metadata": {},
   "outputs": [
    {
     "data": {
      "text/plain": [
       "10"
      ]
     },
     "execution_count": 228,
     "metadata": {},
     "output_type": "execute_result"
    }
   ],
   "source": [
    "point1[0]"
   ]
  },
  {
   "cell_type": "code",
   "execution_count": 233,
   "metadata": {},
   "outputs": [
    {
     "name": "stdout",
     "output_type": "stream",
     "text": [
      "<class 'dict'>\n"
     ]
    }
   ],
   "source": [
    "#dictionary\n",
    "\n",
    "#list []\n",
    "#tuple ()\n",
    "#dictionary {}\n",
    "\n",
    "some_dict = {\"Chaky\":1,\"Apple\":2,\"Orange\":3,\n",
    "            \"Chaky\": 2}\n",
    "print(type(some_dict))"
   ]
  },
  {
   "cell_type": "code",
   "execution_count": 234,
   "metadata": {},
   "outputs": [
    {
     "data": {
      "text/plain": [
       "2"
      ]
     },
     "execution_count": 234,
     "metadata": {},
     "output_type": "execute_result"
    }
   ],
   "source": [
    "#value always obtain by key\n",
    "some_dict[\"Chaky\"]"
   ]
  },
  {
   "cell_type": "code",
   "execution_count": 236,
   "metadata": {},
   "outputs": [],
   "source": [
    "some_dict[\"Durian\"] = 10"
   ]
  },
  {
   "cell_type": "code",
   "execution_count": 237,
   "metadata": {},
   "outputs": [
    {
     "data": {
      "text/plain": [
       "{'Chaky': 2, 'Apple': 2, 'Orange': 3, 'Durian': 10}"
      ]
     },
     "execution_count": 237,
     "metadata": {},
     "output_type": "execute_result"
    }
   ],
   "source": [
    "some_dict"
   ]
  },
  {
   "cell_type": "code",
   "execution_count": 238,
   "metadata": {},
   "outputs": [
    {
     "ename": "KeyError",
     "evalue": "0",
     "output_type": "error",
     "traceback": [
      "\u001b[0;31m---------------------------------------------------------------------------\u001b[0m",
      "\u001b[0;31mKeyError\u001b[0m                                  Traceback (most recent call last)",
      "\u001b[0;32m<ipython-input-238-5ccab7b2519d>\u001b[0m in \u001b[0;36m<module>\u001b[0;34m\u001b[0m\n\u001b[1;32m      1\u001b[0m \u001b[0;31m#dictionary has no sense of order\u001b[0m\u001b[0;34m\u001b[0m\u001b[0;34m\u001b[0m\u001b[0;34m\u001b[0m\u001b[0m\n\u001b[0;32m----> 2\u001b[0;31m \u001b[0msome_dict\u001b[0m\u001b[0;34m[\u001b[0m\u001b[0;36m0\u001b[0m\u001b[0;34m]\u001b[0m\u001b[0;34m\u001b[0m\u001b[0;34m\u001b[0m\u001b[0m\n\u001b[0m",
      "\u001b[0;31mKeyError\u001b[0m: 0"
     ]
    }
   ],
   "source": [
    "#dictionary has no sense of order\n",
    "some_dict[0]"
   ]
  },
  {
   "cell_type": "code",
   "execution_count": 240,
   "metadata": {},
   "outputs": [
    {
     "name": "stdout",
     "output_type": "stream",
     "text": [
      "Chaky\n",
      "2\n",
      "Apple\n",
      "2\n",
      "Orange\n",
      "3\n",
      "Durian\n",
      "10\n"
     ]
    }
   ],
   "source": [
    "#return only the key\n",
    "for key in some_dict:\n",
    "    print(key)\n",
    "    print(some_dict[key])"
   ]
  },
  {
   "cell_type": "code",
   "execution_count": 241,
   "metadata": {},
   "outputs": [
    {
     "name": "stdout",
     "output_type": "stream",
     "text": [
      "Chaky 2\n",
      "Apple 2\n",
      "Orange 3\n",
      "Durian 10\n"
     ]
    }
   ],
   "source": [
    "for key, value in some_dict.items():\n",
    "    print(key, value)"
   ]
  },
  {
   "cell_type": "code",
   "execution_count": 243,
   "metadata": {},
   "outputs": [
    {
     "name": "stdout",
     "output_type": "stream",
     "text": [
      "0 Chaky 2\n",
      "1 Apple 2\n",
      "2 Orange 3\n",
      "3 Durian 10\n"
     ]
    }
   ],
   "source": [
    "for ix, (key, value) in enumerate(some_dict.items()):\n",
    "    print(ix, key, value)"
   ]
  },
  {
   "cell_type": "code",
   "execution_count": 247,
   "metadata": {},
   "outputs": [
    {
     "name": "stdout",
     "output_type": "stream",
     "text": [
      "Name: John Chaky\n",
      "lname: Doe Chong\n",
      "name\n",
      "name\n",
      "lname\n",
      "lname\n"
     ]
    }
   ],
   "source": [
    "dict_one = {'name': 'John', 'lname': 'Doe'}\n",
    "dict_two = {'name': 'Chaky', 'lname': 'Chong'}\n",
    "\n",
    "print(\"Name: John Chaky\")\n",
    "print(\"lname: Doe Chong\")\n",
    "\n",
    "for (k1), (k2) in zip(dict_one, dict_two):\n",
    "    print(k1)\n",
    "    print(k2)"
   ]
  },
  {
   "cell_type": "code",
   "execution_count": 251,
   "metadata": {},
   "outputs": [
    {
     "name": "stdout",
     "output_type": "stream",
     "text": [
      "Help on function hello in module __main__:\n",
      "\n",
      "hello(x)\n",
      "    this will simply print x\n",
      "\n"
     ]
    }
   ],
   "source": [
    "##function\n",
    "\n",
    "#function is about grouping things that you often do\n",
    "\n",
    "a = 3\n",
    "\n",
    "b = 3 **3\n",
    "c = 4 **3\n",
    "d = 10 **3\n",
    "\n",
    "#function gives you\n",
    "#DRY: Don't Repeat Yourself\n",
    "#reusability\n",
    "\n",
    "\n",
    "def square(x):\n",
    "    return x**2\n",
    "\n",
    "b = square(3)\n",
    "c = square(3)\n",
    "d = square(3)\n",
    "\n",
    "def cube(a):\n",
    "    #local variable\n",
    "    #so only cube know this a\n",
    "    return a**3\n",
    "\n",
    "def hello(x):\n",
    "    \"\"\"\n",
    "    this will simply print x\n",
    "    \"\"\"\n",
    "    print(x)\n",
    "    \n",
    "    \n",
    "help(hello)\n",
    "    \n",
    "    "
   ]
  },
  {
   "cell_type": "code",
   "execution_count": 261,
   "metadata": {},
   "outputs": [
    {
     "name": "stdout",
     "output_type": "stream",
     "text": [
      "20\n",
      "1\n",
      "2\n",
      "3\n",
      "4\n",
      "5\n",
      "Chaky hello\n",
      "John hi\n"
     ]
    }
   ],
   "source": [
    "#### my function\n",
    "\n",
    "#y = 2 means default value\n",
    "def something(x, *chaky, y=2, **peoplenames):\n",
    "    print(x+y)\n",
    "    for arg in chaky:\n",
    "        print(arg)\n",
    "    for k, v in peoplenames.items():\n",
    "        print(k, v)\n",
    "    \n",
    "something(10,1, 2, 3, 4, 5, y=10, Chaky=\"hello\", John=\"hi\")\n",
    "\n"
   ]
  },
  {
   "cell_type": "code",
   "execution_count": 262,
   "metadata": {},
   "outputs": [
    {
     "name": "stdout",
     "output_type": "stream",
     "text": [
      "[0, 1, 4, 9]\n"
     ]
    }
   ],
   "source": [
    "def func(x):\n",
    "    return x**2\n",
    "\n",
    "func1 = lambda x: x **2\n",
    "\n",
    "a = list(map(lambda x: x**2, range(4)))\n",
    "\n",
    "print(a)"
   ]
  },
  {
   "cell_type": "code",
   "execution_count": 267,
   "metadata": {},
   "outputs": [],
   "source": [
    "#Classes\n",
    "\n",
    "#Classes is a way to represent as an entity\n",
    "#As an entity, things becomes more maintainable\n",
    "#Entity\n",
    "    #function\n",
    "    #attributes\n",
    "#Human\n",
    "    #eat\n",
    "    #walk\n",
    "    #sleep\n",
    "    #height\n",
    "    #weight\n",
    "    #color\n",
    "\n",
    "class Human:\n",
    "    #when we create a human, we do this\n",
    "    def __init__(self, h, w):\n",
    "        self.h = h\n",
    "        self.w = w\n",
    "    def walk(self):\n",
    "        print(\"this human actually walks\")\n",
    "    def sleep(self):\n",
    "        print(\"this human wants to sleep\")\n",
    "    def increaseh(self, how_much):\n",
    "        self.h += how_much\n",
    "        #self.h = self.h + how_much\n",
    "    #representation of this class in a string format\n",
    "    def __str__(self):\n",
    "        return(f\"This human height is {self.h}\")"
   ]
  },
  {
   "cell_type": "code",
   "execution_count": 272,
   "metadata": {},
   "outputs": [
    {
     "data": {
      "text/plain": [
       "181"
      ]
     },
     "execution_count": 272,
     "metadata": {},
     "output_type": "execute_result"
    }
   ],
   "source": [
    "#we call Human -> Class\n",
    "#we call chaky -> instance\n",
    "\n",
    "chaky = Human(171, 60)\n",
    "\n",
    "chaky.h\n",
    "chaky.w\n",
    "\n",
    "chaky.increaseh(10)\n",
    "\n",
    "chaky.h"
   ]
  },
  {
   "cell_type": "code",
   "execution_count": 275,
   "metadata": {},
   "outputs": [
    {
     "name": "stdout",
     "output_type": "stream",
     "text": [
      "division by zero\n"
     ]
    }
   ],
   "source": [
    "### Exception\n",
    "\n",
    "try:\n",
    "    print(1/0)\n",
    "except Exception as e:\n",
    "    print(e)"
   ]
  },
  {
   "cell_type": "code",
   "execution_count": 281,
   "metadata": {},
   "outputs": [
    {
     "name": "stdout",
     "output_type": "stream",
     "text": [
      "resources/test.txt\n",
      "0\n",
      "12\n",
      "0\n"
     ]
    },
    {
     "ename": "UnsupportedOperation",
     "evalue": "not readable",
     "output_type": "error",
     "traceback": [
      "\u001b[0;31m---------------------------------------------------------------------------\u001b[0m",
      "\u001b[0;31mUnsupportedOperation\u001b[0m                      Traceback (most recent call last)",
      "\u001b[0;32m<ipython-input-281-d552246c87a1>\u001b[0m in \u001b[0;36m<module>\u001b[0;34m\u001b[0m\n\u001b[1;32m     18\u001b[0m \u001b[0mf\u001b[0m\u001b[0;34m.\u001b[0m\u001b[0mseek\u001b[0m\u001b[0;34m(\u001b[0m\u001b[0;36m0\u001b[0m\u001b[0;34m)\u001b[0m\u001b[0;34m\u001b[0m\u001b[0;34m\u001b[0m\u001b[0m\n\u001b[1;32m     19\u001b[0m \u001b[0mprint\u001b[0m\u001b[0;34m(\u001b[0m\u001b[0mf\u001b[0m\u001b[0;34m.\u001b[0m\u001b[0mtell\u001b[0m\u001b[0;34m(\u001b[0m\u001b[0;34m)\u001b[0m\u001b[0;34m)\u001b[0m\u001b[0;34m\u001b[0m\u001b[0;34m\u001b[0m\u001b[0m\n\u001b[0;32m---> 20\u001b[0;31m \u001b[0mcontents\u001b[0m \u001b[0;34m=\u001b[0m \u001b[0mf\u001b[0m\u001b[0;34m.\u001b[0m\u001b[0mread\u001b[0m\u001b[0;34m(\u001b[0m\u001b[0;34m)\u001b[0m\u001b[0;34m\u001b[0m\u001b[0;34m\u001b[0m\u001b[0m\n\u001b[0m\u001b[1;32m     21\u001b[0m \u001b[0mprint\u001b[0m\u001b[0;34m(\u001b[0m\u001b[0mcontents\u001b[0m\u001b[0;34m)\u001b[0m\u001b[0;34m\u001b[0m\u001b[0;34m\u001b[0m\u001b[0m\n\u001b[1;32m     22\u001b[0m \u001b[0mf\u001b[0m\u001b[0;34m.\u001b[0m\u001b[0mclose\u001b[0m\u001b[0;34m(\u001b[0m\u001b[0;34m)\u001b[0m \u001b[0;31m#save\u001b[0m\u001b[0;34m\u001b[0m\u001b[0;34m\u001b[0m\u001b[0m\n",
      "\u001b[0;31mUnsupportedOperation\u001b[0m: not readable"
     ]
    }
   ],
   "source": [
    "#reading and writing files\n",
    "\n",
    "import os\n",
    "\n",
    "dir_ = \"resources\"\n",
    "filename = os.path.join(dir_, \"test.txt\")\n",
    "\n",
    "print(filename)\n",
    "\n",
    "#let's write file\n",
    "#mode = w+, a+, r+\n",
    "#w+ and w\n",
    "#w cannot read\n",
    "#a+ append, a -> cannot read\n",
    "#r+ write and read, r -> cannot write\n",
    "\n",
    "f = open(filename, \"w+\")\n",
    "print(f.tell())\n",
    "f.write(\"hello\\nworld\\n\")\n",
    "print(f.tell())\n",
    "f.seek(0)\n",
    "print(f.tell())\n",
    "contents = f.read()\n",
    "print(contents)\n",
    "f.close() #save"
   ]
  },
  {
   "cell_type": "code",
   "execution_count": 284,
   "metadata": {},
   "outputs": [
    {
     "name": "stdout",
     "output_type": "stream",
     "text": [
      "resources/letter_images/E_black.png\n",
      "resources/letter_images/D_black.png\n",
      "resources/letter_images/L_black.png\n",
      "resources/letter_images/Z_black.png\n",
      "resources/letter_images/R_black.png\n",
      "resources/letter_images/B_black.png\n",
      "resources/letter_images/M_black.png\n",
      "resources/letter_images/Y_black.png\n",
      "resources/letter_images/T_black.png\n",
      "resources/letter_images/C_black.png\n",
      "resources/letter_images/G_black.png\n",
      "resources/letter_images/F_black.png\n",
      "resources/letter_images/O_black.png\n",
      "resources/letter_images/S_black.png\n",
      "resources/letter_images/X_black.png\n",
      "resources/letter_images/W_black.png\n",
      "resources/letter_images/U_black.png\n",
      "resources/letter_images/V_black.png\n",
      "resources/letter_images/N_black.png\n",
      "resources/letter_images/Q_black.png\n",
      "resources/letter_images/A_black.png\n",
      "resources/letter_images/P_black.png\n",
      "resources/letter_images/some_folder/K_black.png\n",
      "resources/letter_images/some_folder/I_black.png\n",
      "resources/letter_images/some_folder/H_black.png\n",
      "resources/letter_images/some_folder/J_black.png\n"
     ]
    }
   ],
   "source": [
    "#glob \n",
    "\n",
    "#i want to get all the images with *_black.png?\n",
    "\n",
    "import glob\n",
    "#glob allows you to retrieve stuffs based on \n",
    "#regular expression\n",
    "\n",
    "for name in glob.glob('resources/letter_images/**/?_black.png', recursive=True):\n",
    "    print(name)\n",
    "\n"
   ]
  },
  {
   "cell_type": "code",
   "execution_count": null,
   "metadata": {},
   "outputs": [],
   "source": []
  }
 ],
 "metadata": {
  "kernelspec": {
   "display_name": "Python 3",
   "language": "python",
   "name": "python3"
  },
  "language_info": {
   "codemirror_mode": {
    "name": "ipython",
    "version": 3
   },
   "file_extension": ".py",
   "mimetype": "text/x-python",
   "name": "python",
   "nbconvert_exporter": "python",
   "pygments_lexer": "ipython3",
   "version": "3.8.3"
  }
 },
 "nbformat": 4,
 "nbformat_minor": 4
}
