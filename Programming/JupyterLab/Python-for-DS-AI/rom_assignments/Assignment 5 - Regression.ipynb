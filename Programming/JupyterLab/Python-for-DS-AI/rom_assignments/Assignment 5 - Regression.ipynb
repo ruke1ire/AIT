{
 "cells": [
  {
   "cell_type": "markdown",
   "metadata": {},
   "source": [
    "# Assigmnet 5"
   ]
  },
  {
   "cell_type": "markdown",
   "metadata": {},
   "source": [
    "1. Load boston setting X as boston.data and y as boston.target\n",
    "\n",
    "Attempt the grid search using polyregression + (linear, ridge, lasso, elastic net), and \n",
    "\n",
    "Does feature mechanisms on ridge/lasso/elastic helps here?\n",
    "\n",
    "what is the optimal polynomial degree?  What does it mean?\n",
    "\n",
    "why do you think the result is like this?\n",
    "\n",
    "what is the value of lambdas, and what does it means?"
   ]
  },
  {
   "cell_type": "code",
   "execution_count": 1,
   "metadata": {
    "tags": []
   },
   "outputs": [],
   "source": [
    "# Load boston dataset from sklearn here\n",
    "from sklearn.datasets import load_boston\n",
    "\n",
    "boston = load_boston()\n",
    "# boston.feature_names\n",
    "#print(boston.DESCR)"
   ]
  },
  {
   "cell_type": "code",
   "execution_count": 2,
   "metadata": {
    "tags": []
   },
   "outputs": [],
   "source": [
    "from sklearn.preprocessing import PolynomialFeatures\n",
    "from sklearn.pipeline import make_pipeline\n",
    "from sklearn.linear_model import LinearRegression\n",
    "from sklearn.linear_model import Ridge\n",
    "from sklearn.linear_model import Lasso\n",
    "from sklearn.linear_model import ElasticNet\n",
    "from sklearn.model_selection import GridSearchCV\n",
    "from sklearn.model_selection import ShuffleSplit\n",
    "from sklearn.model_selection import train_test_split\n",
    "from sklearn.exceptions import ConvergenceWarning\n",
    "\n",
    "import pandas as pd\n",
    "import numpy as np\n",
    "import matplotlib.pyplot as plt\n",
    "\n",
    "X = boston.data\n",
    "y = boston.target\n",
    "\n",
    "X_train,X_test,y_train,y_test = train_test_split(X,y,test_size=0.3,random_state=5)\n",
    "\n",
    "linear_regression_parameters= {'polynomialfeatures__degree':np.arange(1,4)}\n",
    "linear_regression_model = make_pipeline(PolynomialFeatures(),LinearRegression(normalize=True))\n",
    "\n",
    "ridge_regression_parameters = {'polynomialfeatures__degree':np.arange(1,4),'ridge__alpha':np.logspace(-1, -4, 4)}\n",
    "ridge_regression_model = make_pipeline(PolynomialFeatures(),Ridge(normalize=True))\n",
    "\n",
    "lasso_regression_parameters = {'polynomialfeatures__degree':np.arange(1,4),'lasso__alpha':np.logspace(-1, -4, 4)}\n",
    "lasso_regression_model = make_pipeline(PolynomialFeatures(),Lasso(normalize=True))\n",
    "\n",
    "elastic_net_parameters = {'polynomialfeatures__degree': np.arange(1, 4),'elasticnet__alpha': np.logspace(-1, -4, 4),\"elasticnet__l1_ratio\": np.linspace(0, 1, 3)}\n",
    "elastic_net_model = make_pipeline(PolynomialFeatures(),ElasticNet(normalize=True))"
   ]
  },
  {
   "cell_type": "code",
   "execution_count": 3,
   "metadata": {},
   "outputs": [],
   "source": [
    "models = [linear_regression_model,ridge_regression_model,lasso_regression_model,elastic_net_model]\n",
    "parameters = [linear_regression_parameters,ridge_regression_parameters,lasso_regression_parameters,elastic_net_parameters]"
   ]
  },
  {
   "cell_type": "code",
   "execution_count": 4,
   "metadata": {},
   "outputs": [
    {
     "name": "stdout",
     "output_type": "stream",
     "text": [
      "Best Parmeters {'polynomialfeatures__degree': 1}\n",
      "Score 0.6771696999851686\n",
      "[ 0.00000000e+00 -1.54486040e-01  4.13948217e-02 -2.53765225e-02\n",
      "  7.86055259e-01 -1.29365836e+01  4.03952301e+00 -1.05354914e-02\n",
      " -1.33498644e+00  3.18272501e-01 -1.26427463e-02 -9.77287564e-01\n",
      "  1.26714702e-02 -4.62052176e-01]\n",
      "\n",
      "------------------------------------------------------------------------------------------------------------------------\n",
      "\n",
      "Best Parmeters {'polynomialfeatures__degree': 2, 'ridge__alpha': 0.01}\n",
      "Score 0.8694314395772099\n",
      "[ 0.00000000e+00  4.36390405e-02 -4.50277893e-02  1.75380742e-01\n",
      "  2.33334995e+00  9.32924891e+00  3.43636216e+00  4.32929122e-02\n",
      " -1.09740035e+00  2.31174956e-01  5.47041104e-03  5.62525393e-02\n",
      "  5.15888848e-03  5.92132954e-02  2.11872822e-03  1.68482750e-01\n",
      "  2.81501029e-03  1.79968283e+00 -1.57514001e-01 -3.07187290e-02\n",
      "  2.43864163e-04 -2.40310550e-02 -1.23083156e-03  1.32390695e-05\n",
      "  1.09082209e-03 -2.26591228e-04 -3.93667136e-04  4.77299445e-04\n",
      " -3.35544814e-03 -2.97937335e-02 -4.38847682e-02  5.62729535e-03\n",
      "  2.70980887e-04 -3.92752484e-03 -5.90703979e-03  2.09222415e-04\n",
      "  2.07967224e-03 -7.80711036e-05 -5.42104900e-03  3.70057223e-03\n",
      "  3.10518195e-02  1.00194406e-01 -3.02243839e-02  1.17549400e-03\n",
      " -6.24627183e-02  4.42354866e-03  2.60834589e-04 -5.84520790e-03\n",
      "  2.01344458e-04 -8.75379184e-03  2.33334995e+00 -9.34171673e+00\n",
      " -2.17931828e+00  5.22065780e-02  2.08341500e+00 -1.89597641e-01\n",
      " -5.08037975e-03  9.48932260e-02  1.63248763e-02 -1.92802186e-01\n",
      " -2.73897419e+00 -1.61412260e+00 -4.14549644e-02 -7.86498677e-01\n",
      " -4.46905382e-02 -3.25541938e-03 -2.81032073e-01 -2.36496106e-03\n",
      "  1.08498732e-01  5.69650582e-01 -3.34268887e-03  3.13536372e-02\n",
      " -4.15714452e-02 -3.52162123e-03 -1.64928472e-01  3.24042175e-03\n",
      " -9.38314755e-02  7.73792216e-05  8.41249624e-04  1.88479163e-03\n",
      "  2.01467787e-05 -3.05321330e-04 -1.39832634e-04 -2.09260256e-03\n",
      "  8.39876771e-02  4.71927844e-02 -1.72010589e-03  1.50193206e-03\n",
      " -1.54256468e-03  5.95700670e-02 -2.92234218e-03  7.41309179e-05\n",
      "  9.20240506e-03  2.32651994e-04 -1.42723102e-02  3.11924972e-06\n",
      "  3.39948953e-04 -1.33909543e-06 -2.31053646e-04  7.19855919e-03\n",
      "  2.75462322e-04 -4.15445772e-04 -1.29731160e-05 -3.54723890e-04\n",
      "  1.59666113e-02]\n",
      "\n",
      "------------------------------------------------------------------------------------------------------------------------\n",
      "\n",
      "Best Parmeters {'lasso__alpha': 0.001, 'polynomialfeatures__degree': 2}\n",
      "Score 0.8600261633162654\n",
      "[ 0.00000000e+00 -0.00000000e+00 -0.00000000e+00  1.64112708e-01\n",
      "  0.00000000e+00  0.00000000e+00  0.00000000e+00  4.25017387e-02\n",
      " -2.27075856e+00  1.94759468e-01  7.24927801e-07  0.00000000e+00\n",
      "  0.00000000e+00  0.00000000e+00  1.02644142e-03  4.03141021e-02\n",
      " -0.00000000e+00  1.40145450e+00 -2.77279879e-01 -5.19741635e-03\n",
      " -0.00000000e+00 -0.00000000e+00 -0.00000000e+00 -0.00000000e+00\n",
      " -0.00000000e+00 -0.00000000e+00 -0.00000000e+00  8.39127281e-05\n",
      " -4.74951977e-03 -1.15535937e-02 -0.00000000e+00  0.00000000e+00\n",
      " -0.00000000e+00 -0.00000000e+00 -0.00000000e+00  1.47594522e-04\n",
      "  0.00000000e+00 -0.00000000e+00 -5.00456304e-03  1.37688509e-04\n",
      " -0.00000000e+00  0.00000000e+00  0.00000000e+00  1.46120380e-03\n",
      " -5.62151194e-02  0.00000000e+00  2.44959928e-04 -2.65114243e-03\n",
      "  0.00000000e+00 -9.15723351e-03  0.00000000e+00 -2.94808174e+00\n",
      " -3.66108414e+00  7.07544281e-02  2.79033684e+00 -1.17132540e-01\n",
      " -0.00000000e+00  0.00000000e+00  3.73832251e-02 -3.08752870e-01\n",
      " -0.00000000e+00 -1.77454831e-01 -1.79745259e-03  0.00000000e+00\n",
      " -0.00000000e+00 -0.00000000e+00 -6.18132655e-01 -0.00000000e+00\n",
      "  0.00000000e+00  8.13244416e-01 -0.00000000e+00  0.00000000e+00\n",
      " -4.31984121e-02 -6.81813652e-03 -1.37747466e-01  3.89696697e-03\n",
      " -1.04092479e-01 -0.00000000e+00  1.18794440e-03  8.11428186e-04\n",
      "  0.00000000e+00 -0.00000000e+00 -2.31865339e-04 -1.68017835e-03\n",
      "  9.13656195e-02  0.00000000e+00 -0.00000000e+00  0.00000000e+00\n",
      " -0.00000000e+00  5.51004064e-02 -0.00000000e+00 -0.00000000e+00\n",
      "  2.58836786e-02  1.67481862e-04 -2.13794478e-02  9.28786323e-07\n",
      "  1.33398296e-03  3.84454606e-08 -0.00000000e+00  0.00000000e+00\n",
      "  0.00000000e+00  0.00000000e+00 -0.00000000e+00 -6.86719649e-05\n",
      "  1.75037690e-02]\n",
      "\n",
      "------------------------------------------------------------------------------------------------------------------------\n",
      "\n",
      "Best Parmeters {'elasticnet__alpha': 0.0001, 'elasticnet__l1_ratio': 0.5, 'polynomialfeatures__degree': 2}\n",
      "Score 0.8526241640571647\n",
      "[ 0.00000000e+00 -2.99120854e-02 -7.77057221e-03  9.35055339e-03\n",
      "  1.43407676e+00 -2.35248009e+00  2.88421354e+00  1.16771681e-02\n",
      " -6.78521616e-01  1.55480477e-01  3.91126408e-03  2.67317913e-02\n",
      "  9.25387358e-04  3.72906443e-02  1.53076173e-03  1.94267422e-01\n",
      "  1.09243446e-03  1.57853259e+00 -1.18196414e-01 -2.70900607e-02\n",
      "  3.03246850e-04 -1.37300256e-02  0.00000000e+00  2.67926240e-05\n",
      "  1.29504673e-03 -1.34235842e-04 -1.60728694e-04  4.62776960e-04\n",
      " -4.43461225e-03 -1.93677647e-02 -2.64105122e-02  4.17201347e-03\n",
      "  1.87661717e-04 -3.70361955e-03 -4.80023340e-03  1.35830945e-04\n",
      "  1.01080998e-03 -7.03357387e-05 -4.93936422e-03  2.52177693e-03\n",
      " -1.08562007e-02  2.71644450e-02 -3.04925328e-02  1.10613831e-03\n",
      " -6.59820917e-02  6.96094872e-03  3.29316738e-04  6.84257752e-04\n",
      "  2.97035268e-04 -3.80450219e-03  1.56649060e+00 -7.82811309e+00\n",
      " -1.40764296e+00  3.79313484e-02  1.64944788e+00 -1.79864066e-01\n",
      " -3.95751491e-03  7.74178187e-02  1.08650060e-02 -1.14905857e-01\n",
      " -1.31095006e+00 -1.34795021e+00 -4.24263528e-03 -1.67709966e+00\n",
      "  9.11746945e-02  1.84407039e-03 -4.34892157e-02 -3.26563542e-04\n",
      "  4.70354017e-02  5.01975128e-01 -1.70219714e-03  9.05254774e-03\n",
      " -2.70950154e-02 -2.66105918e-03 -1.32894412e-01  2.65984836e-03\n",
      " -8.81341097e-02  1.03487165e-04  5.68524558e-04  1.30584624e-03\n",
      "  9.14513802e-06 -6.36922335e-04 -8.81061362e-05 -1.80928518e-03\n",
      "  5.25233870e-02  4.85626936e-02 -1.26862858e-03  5.28244265e-03\n",
      " -8.31705443e-04  5.48659480e-02 -2.37437759e-03  5.49494303e-07\n",
      "  4.44904842e-03  1.92802887e-04 -1.17633458e-02 -2.14023617e-07\n",
      "  7.32716858e-05 -4.64689814e-07 -2.76850927e-04  1.33900588e-03\n",
      "  1.86020237e-04 -2.57814644e-03 -1.40039771e-05 -3.10642380e-04\n",
      "  1.42121325e-02]\n",
      "\n",
      "------------------------------------------------------------------------------------------------------------------------\n",
      "\n"
     ]
    }
   ],
   "source": [
    "cv = ShuffleSplit(n_splits=10, test_size=0.3, random_state=0)\n",
    "\n",
    "import warnings\n",
    "warnings.filterwarnings(\"ignore\", category=ConvergenceWarning,\n",
    "                        module=\"sklearn\")\n",
    "\n",
    "for i, model in enumerate(models):\n",
    "    model_search = GridSearchCV(model,parameters[i],cv=cv)\n",
    "    model_search.fit(X_train,y_train)\n",
    "    # results = pd.DataFrame(model_search.cv_results_)\n",
    "    # print(results.iloc[:,[4,5,-3]])\n",
    "    best_estimator = model_search.best_estimator_\n",
    "    print(\"Best Parmeters\",model_search.best_params_)\n",
    "    print(\"Score\",model_search.score(X_test,y_test))\n",
    "    print(best_estimator[1].coef_)\n",
    "    print()\n",
    "    print(\"------------------------------------------------------------------------------------------------------------------------\")\n",
    "    print()"
   ]
  },
  {
   "cell_type": "markdown",
   "metadata": {},
   "source": [
    "Using ridge/lasso/elastic definitely made the test scores higher. Therefore yes, those feature mechanisms do help. The optimal polynomial degree differs with a different kfold as well as other meta parameters but the 2nd order polynomial seems to be the optimal for most of them. This means that a second order polynomial is enough for the generalization of this dataset. Ridge regression had an alpha of 0.01, lasso had 0.001, and elastic net had 0.001. I"
   ]
  },
  {
   "cell_type": "markdown",
   "metadata": {},
   "source": [
    "# #2 "
   ]
  },
  {
   "cell_type": "code",
   "execution_count": 5,
   "metadata": {},
   "outputs": [],
   "source": [
    "import numpy as np\n",
    "import pandas as pd\n",
    "import matplotlib.pyplot as plt\n",
    "from sklearn import linear_model"
   ]
  },
  {
   "cell_type": "code",
   "execution_count": 6,
   "metadata": {},
   "outputs": [],
   "source": [
    "from sklearn.datasets import make_regression\n",
    "from sklearn.model_selection import train_test_split\n",
    "from sklearn.preprocessing import StandardScaler\n",
    "\n",
    "#only 10 out of 100 features are informative, add some noise to add to the difficulty of the problem\n",
    "X, y, coef = make_regression(n_samples = 1000, n_features = 100, coef=True,\n",
    "                         random_state=42, bias=6, noise=50, n_informative=10)\n",
    "\n",
    "#scaling does not really help with simple linear regression\n",
    "#since the coefficients can be multiply to certain order but\n",
    "#with same result.  However, regularized models will be\n",
    "#affected.  The idea is that the constraint is applied to the\n",
    "#sum of a function of coefficients.  If we inflate an attribute,\n",
    "#the coefficient will be deflated, which will affect\n",
    "#the penalization.  Thus it is best to scale for all regression\n",
    "#problems since it does not hurt\n",
    "scaler = StandardScaler()\n",
    "X = scaler.fit_transform(X)\n",
    "\n",
    "X_train, X_test, y_train, y_test = train_test_split(X, y, test_size=0.3)\n",
    "\n",
    "#perform Ridge regression\n",
    "#plot training and validation errors as function of lambda\n",
    "#also plot coefficients and coefficients error as function of lambda\n",
    "#coefficients can be obtained simply using model.coef_\n",
    "#coeffcient error can be computed using mean_squared_error(model.coef_, w)\n",
    "#interpret what is happening"
   ]
  },
  {
   "cell_type": "code",
   "execution_count": 11,
   "metadata": {},
   "outputs": [],
   "source": [
    "# Your code here\n"
   ]
  },
  {
   "cell_type": "markdown",
   "metadata": {},
   "source": [
    "3.\n",
    "\n",
    "implement Linear regression from scratch using \n",
    "\n",
    "- the closed form OLS\n",
    "\n",
    "- the gradient descent\n",
    "\n",
    "- (optional challenge) the closed form OLS using pseudo inverse\n",
    "\n",
    "- LinearRegression() by sklearn. - please research which algorithm that sklearn use?\n",
    "\n",
    "measure which one is faster, try to vary the n_features\n",
    "\n",
    "so what do you think, closed_form or gradient descent?\n",
    "\n",
    "use the same X y from #1"
   ]
  },
  {
   "cell_type": "code",
   "execution_count": 8,
   "metadata": {
    "tags": []
   },
   "outputs": [],
   "source": [
    "# Your code here"
   ]
  },
  {
   "cell_type": "markdown",
   "metadata": {},
   "source": [
    "4.\n",
    "\n",
    "implement Ridge regression from scratch using \n",
    "\n",
    " - the closed form OLS\n",
    "\n",
    " - stochastic gradient descent\n",
    "\n",
    " - SGDRegressor() of sklearn using penalty as l2\n",
    "\n",
    " - Ridge() by sklearn\n",
    "\n",
    "loop through several lambda and print the MSE\n",
    "\n",
    "compare the time as well\n",
    "\n",
    "use the same X y from #1"
   ]
  },
  {
   "cell_type": "code",
   "execution_count": 9,
   "metadata": {},
   "outputs": [],
   "source": [
    "# Your code here"
   ]
  }
 ],
 "metadata": {
  "kernelspec": {
   "display_name": "Python 3",
   "language": "python",
   "name": "python3"
  },
  "language_info": {
   "codemirror_mode": {
    "name": "ipython",
    "version": 3
   },
   "file_extension": ".py",
   "mimetype": "text/x-python",
   "name": "python",
   "nbconvert_exporter": "python",
   "pygments_lexer": "ipython3",
   "version": "3.6.9"
  }
 },
 "nbformat": 4,
 "nbformat_minor": 4
}
