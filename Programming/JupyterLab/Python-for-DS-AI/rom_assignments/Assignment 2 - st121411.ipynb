{
 "cells": [
  {
   "cell_type": "markdown",
   "metadata": {},
   "source": [
    "# Assignment 2"
   ]
  },
  {
   "cell_type": "code",
   "execution_count": 2,
   "metadata": {},
   "outputs": [],
   "source": [
    "import numpy as np\n",
    "from numpy import genfromtxt\n",
    "import matplotlib.pyplot as plt"
   ]
  },
  {
   "cell_type": "markdown",
   "metadata": {},
   "source": [
    "1. <code>np.array([True, 1, 2]) + np.array([3, 4, False]) == which one?\n",
    "    a. np.array([True, 1, 2, 3, 4, False])\n",
    "    b. np.array([4, 3, 0]) + np.array([0, 2, 2])\n",
    "    c. np.array([1, 1, 2]) + np.array([3, 4, -1])\n",
    "    d. np.array([0, 1, 2, 3, 4, 5])</code>"
   ]
  },
  {
   "cell_type": "code",
   "execution_count": 3,
   "metadata": {},
   "outputs": [
    {
     "name": "stdout",
     "output_type": "stream",
     "text": [
      "original: [4 5 2]\n",
      "The correct list is: b\n",
      "[4 5 2]\n"
     ]
    }
   ],
   "source": [
    "a = np.array([True, 1, 2, 3, 4, False])\n",
    "b = np.array([4, 3, 0]) + np.array([0, 2, 2])\n",
    "c = np.array([1, 1, 2]) + np.array([3, 4, -1])\n",
    "d = np.array([0, 1, 2, 3, 4, 5])\n",
    "\n",
    "#create a list of arrays and also a list with its corresponding answers\n",
    "all_lists = [a,b,c,d]\n",
    "abcd = ['a','b','c','d']\n",
    "\n",
    "#we're trying to get this array\n",
    "original = np.array([True, 1, 2]) + np.array([3, 4, False])\n",
    "print(\"original:\",original)\n",
    "\n",
    "#loop through the arrays and see whether they are equal to the original array\n",
    "for i in range(len(all_lists)):\n",
    "    if(np.array_equal(original,all_lists[i])):\n",
    "        print(\"The correct list is:\",abcd[i])\n",
    "        print(all_lists[i])"
   ]
  },
  {
   "cell_type": "markdown",
   "metadata": {},
   "source": [
    "2. Create a 2d array with 1 on the border and 0 inside"
   ]
  },
  {
   "cell_type": "code",
   "execution_count": 4,
   "metadata": {
    "tags": []
   },
   "outputs": [
    {
     "name": "stdout",
     "output_type": "stream",
     "text": [
      "[[1. 1. 1. 1. 1. 1. 1. 1. 1. 1.]\n",
      " [1. 0. 0. 0. 0. 0. 0. 0. 0. 1.]\n",
      " [1. 0. 0. 0. 0. 0. 0. 0. 0. 1.]\n",
      " [1. 0. 0. 0. 0. 0. 0. 0. 0. 1.]\n",
      " [1. 0. 0. 0. 0. 0. 0. 0. 0. 1.]\n",
      " [1. 0. 0. 0. 0. 0. 0. 0. 0. 1.]\n",
      " [1. 0. 0. 0. 0. 0. 0. 0. 0. 1.]\n",
      " [1. 0. 0. 0. 0. 0. 0. 0. 0. 1.]\n",
      " [1. 0. 0. 0. 0. 0. 0. 0. 0. 1.]\n",
      " [1. 1. 1. 1. 1. 1. 1. 1. 1. 1.]]\n"
     ]
    }
   ],
   "source": [
    "size = 10\n",
    "#create an array (sizexsize)\n",
    "border = np.ones((size,size))\n",
    "#insert 0 onto the correct positions\n",
    "border[1:-1,1:-1] = 0\n",
    "print(border)"
   ]
  },
  {
   "cell_type": "markdown",
   "metadata": {},
   "source": [
    "3. somehow, your $y$ comes in 2D, as we know, in scikit learn, it needs a 1D $y$, in the shape of <code>(samples, )</code>.  Convert this $y$ into 1D\n",
    "<code>y = np.array([[3, 2, 3, 4, 5]])</code>"
   ]
  },
  {
   "cell_type": "code",
   "execution_count": 5,
   "metadata": {
    "tags": []
   },
   "outputs": [
    {
     "name": "stdout",
     "output_type": "stream",
     "text": [
      "(1, 5)\n",
      "(5,)\n"
     ]
    }
   ],
   "source": [
    "y = np.array([[3,2,3,4,5]])\n",
    "print(y.shape)\n",
    "#use reshape to reshape the array\n",
    "y = y.reshape(-1)\n",
    "print(y.shape)"
   ]
  },
  {
   "cell_type": "markdown",
   "metadata": {},
   "source": [
    "4. Given the following array\n",
    "<code>celsius_fahrenheit = np.array([10, 50, 15, 59, 5, 42])</code>.  Convert them to a 2d array with first col as celsius and second col as fahrenheit"
   ]
  },
  {
   "cell_type": "code",
   "execution_count": 6,
   "metadata": {
    "tags": []
   },
   "outputs": [
    {
     "name": "stdout",
     "output_type": "stream",
     "text": [
      "[[10 50]\n",
      " [15 59]\n",
      " [ 5 42]]\n"
     ]
    }
   ],
   "source": [
    "celsius_fahrenheit = np.array([10, 50, 15, 59, 5, 42])\n",
    "#use reshape to reshape the array\n",
    "celsius_fahrenheit = celsius_fahrenheit.reshape(-1,2)\n",
    "print(celsius_fahrenheit)"
   ]
  },
  {
   "cell_type": "markdown",
   "metadata": {},
   "source": [
    "5. Given the 3D temperature field and 1-D pressure coordinates below, calculate: $$T\\exp(P/1000)$$ You will need to use broadcasting to make the arrays compatible.\n",
    "\n",
    "<code>pressure = np.array([1000, 850, 500, 300])\n",
    "temps = np.linspace(20, 30, 24).reshape(4, 3, 2)\n",
    "print(temps.shape)</code>"
   ]
  },
  {
   "cell_type": "code",
   "execution_count": 63,
   "metadata": {
    "tags": []
   },
   "outputs": [
    {
     "name": "stdout",
     "output_type": "stream",
     "text": [
      "temps shape: (4, 3, 2)\n",
      "pressure shape: (4, 1, 1)\n",
      "[[[54.36563657 55.54749823]\n",
      "  [56.7293599  57.91122156]\n",
      "  [59.09308323 60.27494489]]\n",
      "\n",
      " [[52.89636361 53.91360137]\n",
      "  [54.93083913 55.94807689]\n",
      "  [56.96531466 57.98255242]]\n",
      "\n",
      " [[41.57644944 42.29328477]\n",
      "  [43.01012011 43.72695544]\n",
      "  [44.44379078 45.16062611]]\n",
      "\n",
      " [[37.56128856 38.14818369]\n",
      "  [38.73507883 39.32197396]\n",
      "  [39.90886909 40.49576423]]]\n"
     ]
    }
   ],
   "source": [
    "pressure = np.array([1000,850,500,300])\n",
    "temps = np.linspace(20,30,24).reshape(4,3,2)\n",
    "#make the pressure the right shape\n",
    "pressure = pressure.reshape(-1,1,1)\n",
    "print(\"temps shape:\",temps.shape)\n",
    "print(\"pressure shape:\",pressure.shape)\n",
    "#put the equation in\n",
    "print(temps*np.exp(pressure/1000))"
   ]
  },
  {
   "cell_type": "markdown",
   "metadata": {},
   "source": [
    "6. Given following arrays: \n",
    "\n",
    "<code>array3d = np.array([[[ 0,  1,  2],\n",
    "                     [ 3,  4,  5],\n",
    "                     [ 6,  7,  8]],\n",
    "                    [[ 9, 10, 11],\n",
    "                     [12, 13, 14],\n",
    "                     [15, 16, 17]],\n",
    "                    [[18, 19, 20],\n",
    "                     [21, 22, 23],\n",
    "                     [24, 25, 26]]])\n",
    "</code>\n",
    "                      \n",
    "Index into the 3d array to produce the followings 4 arrays\n",
    "\n",
    "<code>array([[ 2,  5,  8],\n",
    "       [11, 14, 17],\n",
    "       [20, 23, 26]])\n",
    "array([[ 3,  4,  5],\n",
    "       [12, 13, 14]])\n",
    "array([2, 5])\n",
    "array([[11, 10,  9],\n",
    "       [14, 13, 12],\n",
    "       [17, 16, 15]])\n",
    "</code>"
   ]
  },
  {
   "cell_type": "code",
   "execution_count": 10,
   "metadata": {
    "tags": []
   },
   "outputs": [
    {
     "name": "stdout",
     "output_type": "stream",
     "text": [
      "[[ 2  5  8]\n",
      " [11 14 17]\n",
      " [20 23 26]]\n",
      "[[ 3  4  5]\n",
      " [12 13 14]]\n",
      "[2 5]\n",
      "[[11 10  9]\n",
      " [14 13 12]\n",
      " [17 16 15]]\n"
     ]
    }
   ],
   "source": [
    "array3d = np.array([[[ 0,  1,  2],\n",
    "                     [ 3,  4,  5],\n",
    "                     [ 6,  7,  8]],\n",
    "                    [[ 9, 10, 11],\n",
    "                     [12, 13, 14],\n",
    "                     [15, 16, 17]],\n",
    "                    [[18, 19, 20],\n",
    "                     [21, 22, 23],\n",
    "                     [24, 25, 26]]])\n",
    "\n",
    "l = []\n",
    "l.append(array3d[:,:,-1])\n",
    "l.append(array3d[0:2,1,:])\n",
    "l.append(array3d[0,0:2,-1])\n",
    "l.append(array3d[1,:,::-1])\n",
    "for i in l:\n",
    "    print(i)"
   ]
  },
  {
   "cell_type": "markdown",
   "metadata": {},
   "source": [
    "7. Given the following arrays:\n",
    "\n",
    "<code>#unit is power measured in volts (value is mock)\n",
    "eeg1 = np.array([[1, 19, 3], [3, 2, 10], [30, 2, 8]])\n",
    "marker1 = np.array(1)  #cat\n",
    "eeg2 = np.array([[3, 6, 9], [8, 2, 3], [4, 5, 9]])\n",
    "marker2 = np.array(2) #dog\n",
    "eeg3 = np.array([[1, 2, 10], [15, 2, 3], [6, 2, 1]])\n",
    "marker3 = np.array(1)  #cat\n",
    "all_eeg = []\n",
    "all_eeg.append([eeg1, marker1])\n",
    "all_eeg.append([eeg2, marker2])\n",
    "all_eeg.append([eeg3, marker3])\n",
    "all_eeg_numpy = np.array(all_eeg)\n",
    "print(\"All eeg numpy: \", all_eeg_numpy)\n",
    "print(\"All eeg numpy shape: \", all_eeg_numpy.shape)\n",
    "</code>\n",
    "\n",
    "Compare whether marker of 1 (i.e., cat) has an average power higher than 2 across all channels (i.e., dog). Use all_eeg_numpy, assuming that eeg and marker are not given.\n",
    "\n",
    "Hint: First you want to get eeg belonging to only 1 and 2.  Then perform np.mean across all eeg signals sharing same markers, then np mean across all channels, i.e., column wise."
   ]
  },
  {
   "cell_type": "code",
   "execution_count": 66,
   "metadata": {
    "tags": []
   },
   "outputs": [
    {
     "name": "stdout",
     "output_type": "stream",
     "text": [
      "All eeg numpy:  [[array([[ 1, 19,  3],\n",
      "       [ 3,  2, 10],\n",
      "       [30,  2,  8]])\n",
      "  array(1)]\n",
      " [array([[3, 6, 9],\n",
      "       [8, 2, 3],\n",
      "       [4, 5, 9]]) array(2)]\n",
      " [array([[ 1,  2, 10],\n",
      "       [15,  2,  3],\n",
      "       [ 6,  2,  1]])\n",
      "  array(1)]]\n",
      "All eeg numpy shape:  (3, 2)\n",
      "[ True False  True]\n",
      "[False  True False]\n",
      "EEG marker 1:  [array([[ 1, 19,  3],\n",
      "       [ 3,  2, 10],\n",
      "       [30,  2,  8]])\n",
      " array([[ 1,  2, 10],\n",
      "       [15,  2,  3],\n",
      "       [ 6,  2,  1]])]\n",
      "EEG marker 2:  [array([[3, 6, 9],\n",
      "       [8, 2, 3],\n",
      "       [4, 5, 9]])]\n",
      "EEG Marker 1 is greater\n",
      "EEG marker 1 mean:  6.444444444444445\n",
      "EEG marker 2 mean:  5.444444444444445\n"
     ]
    }
   ],
   "source": [
    "eeg1 = np.array([[1, 19, 3], [3, 2, 10], [30, 2, 8]])\n",
    "marker1 = np.array(1)  #cat\n",
    "eeg2 = np.array([[3, 6, 9], [8, 2, 3], [4, 5, 9]])\n",
    "marker2 = np.array(2) #dog\n",
    "eeg3 = np.array([[1, 2, 10], [15, 2, 3], [6, 2, 1]])\n",
    "marker3 = np.array(1)  #cat\n",
    "all_eeg = []\n",
    "all_eeg.append([eeg1, marker1])\n",
    "all_eeg.append([eeg2, marker2])\n",
    "all_eeg.append([eeg3, marker3])\n",
    "\n",
    "all_eeg_numpy = np.array(all_eeg)\n",
    "print(\"All eeg numpy: \", all_eeg_numpy)\n",
    "print(\"All eeg numpy shape: \", all_eeg_numpy.shape)\n",
    "\n",
    "#store the masks for marker == 1 and marker == 2\n",
    "cond1 = all_eeg_numpy[:, 1] == 1\n",
    "cond2 = all_eeg_numpy[:, 1] == 2\n",
    "print(cond1)\n",
    "print(cond2)\n",
    "\n",
    "eeg_marker_1 = all_eeg_numpy[cond1, 0]\n",
    "eeg_marker_2 = all_eeg_numpy[cond2, 0]\n",
    "\n",
    "print(\"EEG marker 1: \", eeg_marker_1)\n",
    "print(\"EEG marker 2: \", eeg_marker_2)\n",
    "\n",
    "if(np.mean(np.mean(eeg_marker_1)) > np.mean(np.mean(eeg_marker_2))):\n",
    "    print(\"EEG Marker 1 is greater\")\n",
    "else:\n",
    "    print(\"EEG Marker 2 is greater\")\n",
    "    \n",
    "print(\"EEG marker 1 mean: \", np.mean(np.mean(eeg_marker_1)))\n",
    "print(\"EEG marker 2 mean: \", np.mean(np.mean(eeg_marker_2)))"
   ]
  },
  {
   "cell_type": "markdown",
   "metadata": {},
   "source": [
    "8. let $x$ be 111 points from 1 to 100, and y be $f(x)$ of $sin$, $cos$, $exp$ and $log$.  Construct $x$ and $y$.  Then use the following function to plot $x$, and $y$\n",
    "\n",
    "<code>import matplotlib as plt\n",
    "plt.plot(x,y )\n",
    "plt.title(\"Any title\",fontsize=16)</code>"
   ]
  },
  {
   "cell_type": "code",
   "execution_count": 67,
   "metadata": {},
   "outputs": [
    {
     "data": {
      "image/png": "[encoded data removed]",
      "text/plain": [
       "<Figure size 432x288 with 4 Axes>"
      ]
     },
     "metadata": {
      "needs_background": "light"
     },
     "output_type": "display_data"
    }
   ],
   "source": [
    "import matplotlib.pyplot as plt\n",
    "import numpy as np\n",
    "\n",
    "#create the x array\n",
    "x = np.linspace(1,100,111)\n",
    "y_sin = np.sin(x)\n",
    "y_cos = np.cos(x)\n",
    "y_exp = np.exp(x)\n",
    "y_log = np.log(x)\n",
    "\n",
    "#plot the various functions in theirr respective subplots\n",
    "fig,axs = plt.subplots(4)\n",
    "axs[0].plot(x,y_sin)\n",
    "axs[1].plot(x,y_cos)\n",
    "axs[2].plot(x,y_exp)\n",
    "axs[3].plot(x,y_log)\n",
    "\n",
    "plt.show()"
   ]
  },
  {
   "cell_type": "markdown",
   "metadata": {},
   "source": [
    "9. Let's compute distance between all pairs of X, Y, total of 10 points:\n",
    "\n",
    "<code>coordinates = np.random.rand(10, 2)\n",
    "X, Y = coordinates[:, 0], coordinates[:, 1]\n",
    "import matplotlib.pyplot as plt\n",
    "plt.scatter(X, Y, s=100)</code>\n",
    "\n",
    "Then, find the closest neighbor for the fourth points (index 3)"
   ]
  },
  {
   "cell_type": "code",
   "execution_count": 15,
   "metadata": {
    "tags": []
   },
   "outputs": [
    {
     "name": "stdout",
     "output_type": "stream",
     "text": [
      "[[3 0]\n",
      " [0 1]\n",
      " [6 9]\n",
      " [8 2]\n",
      " [5 8]\n",
      " [4 9]\n",
      " [5 2]\n",
      " [2 0]\n",
      " [3 2]\n",
      " [2 2]]\n"
     ]
    },
    {
     "data": {
      "image/png": "[encoded data removed]",
      "text/plain": [
       "<Figure size 432x288 with 1 Axes>"
      ]
     },
     "metadata": {
      "needs_background": "light"
     },
     "output_type": "display_data"
    },
    {
     "name": "stdout",
     "output_type": "stream",
     "text": [
      "[[0 7 8 9 6 1 3 4 5 2]\n",
      " [1 7 9 0 8 6 3 4 5 2]\n",
      " [2 4 5 6 3 8 9 0 7 1]\n",
      " [3 6 8 0 9 7 4 2 1 5]\n",
      " [4 2 5 6 8 3 9 0 7 1]\n",
      " [5 4 2 6 8 9 3 1 0 7]\n",
      " [6 8 0 3 9 7 1 4 2 5]\n",
      " [7 0 9 1 8 6 3 4 5 2]\n",
      " [8 9 0 6 7 1 3 4 5 2]\n",
      " [9 8 7 0 1 6 3 4 5 2]]\n",
      "index: 6\n",
      "point closest [5 2]\n"
     ]
    }
   ],
   "source": [
    "coordinates = np.random.randint(10, size = (10, 2))\n",
    "print(coordinates)\n",
    "X, Y = coordinates[:, 0], coordinates[:, 1]\n",
    "\n",
    "plt.scatter(X, Y, s=100)\n",
    "plt.show()\n",
    "\n",
    "#create a matrix of all the distances\n",
    "distances = np.array([[np.sqrt((X[i]-X[j])**2 + (Y[i]-Y[j])**2) for j in range(len(X))] for i in range(len(X))])\n",
    "\n",
    "#create another matrix which shows the index of the smallest to largest distance\n",
    "order_index = np.argsort(distances,axis = 1)\n",
    "print(order_index)\n",
    "#print out the second smallest distance for index 3 because the first smallest is just itself\n",
    "print(\"index:\", order_index[3,1])\n",
    "print(\"point closest\",coordinates[order_index[3,1]])"
   ]
  },
  {
   "cell_type": "markdown",
   "metadata": {},
   "source": [
    "10. given following vector\n",
    "<code>u = np.array([2, 5])</code>\n",
    "find the norm\n",
    "\n",
    "## Norm\n",
    "The norm of a vector $\\textbf{u}$, noted $\\left \\Vert \\textbf{u} \\right \\|$, is a measure of the length (a.k.a. the magnitude) of $\\textbf{u}$. There are multiple possible norms, but the most common one (and the only one we will discuss here) is the Euclidian norm, which is defined as:\n",
    "\n",
    "$\\left \\Vert \\textbf{u} \\right \\| = \\sqrt{\\sum_{i}{\\textbf{u}_i}^2}$\n",
    "\n",
    "We could implement this easily in pure python, recalling that $\\sqrt x = x^{\\frac{1}{2}}$"
   ]
  },
  {
   "cell_type": "code",
   "execution_count": 16,
   "metadata": {
    "tags": []
   },
   "outputs": [
    {
     "name": "stdout",
     "output_type": "stream",
     "text": [
      "5.385164807134504\n"
     ]
    }
   ],
   "source": [
    "u = np.array([2,5])\n",
    "#list comprehension creates ar array with the squared elements, it is then summed at square rooted\n",
    "norm = sum([i**2 for i in u])**0.5\n",
    "print(norm)"
   ]
  },
  {
   "cell_type": "markdown",
   "metadata": {},
   "source": [
    "11. Given the following data, find the pairwise distance of X which is basically euclidean distance of each point to every point\n",
    "\n",
    "<code>\n",
    "X = np.arange(6).reshape((3, 2))\n",
    "print(\"Input data: \", X)\n",
    "</code>"
   ]
  },
  {
   "cell_type": "code",
   "execution_count": 69,
   "metadata": {
    "tags": []
   },
   "outputs": [
    {
     "name": "stdout",
     "output_type": "stream",
     "text": [
      "Input data:  [[0 1]\n",
      " [2 3]\n",
      " [4 5]]\n",
      "[[0.         2.82842712 5.65685425]\n",
      " [2.82842712 0.         2.82842712]\n",
      " [5.65685425 2.82842712 0.        ]]\n"
     ]
    }
   ],
   "source": [
    "X = np.arange(6).reshape((3, 2))\n",
    "print(\"Input data: \", X)\n",
    "\n",
    "#create arrays\n",
    "x = X[:,0].reshape(-1,1)\n",
    "y = X[:,1].reshape(-1,1)\n",
    "\n",
    "#find the distance by broadcasting the squared differences, then taking the square root of the whole matrix\n",
    "print(np.sqrt((x-x.T)**2+(y-y.T)**2))"
   ]
  },
  {
   "cell_type": "markdown",
   "metadata": {},
   "source": [
    "12. <code>baseball = genfromtxt('resources/baseball.csv', delimiter=',',\n",
    "                      encoding=\"utf-8\", dtype=None)\n",
    "print(\"Fields: \", baseball[0])\n",
    "print(\"First name: \", baseball[1][0])\n",
    "print(\"First name: \", baseball[1][0], \" has a weight of\", \n",
    "      baseball[1][4]) </code>\n",
    "\n",
    "- find out all unique team\n",
    "- find out all unique position\n",
    "- average height by team and position (sorted descending)"
   ]
  },
  {
   "cell_type": "code",
   "execution_count": 70,
   "metadata": {
    "tags": []
   },
   "outputs": [
    {
     "name": "stdout",
     "output_type": "stream",
     "text": [
      "Fields:  ['\"Name\"' '\"Team\"' '\"Position\"' '\"Height\"' '\"Weight\"' '\"Age\"'\n",
      " '\"PosCategory\"']\n",
      "First name:  \"Adam_Donachie\"\n",
      "First name:  \"Adam_Donachie\"  has a weight of 180\n",
      "\n",
      "Teams: ['\"ANA\"' '\"ARZ\"' '\"ATL\"' '\"BAL\"' '\"BOS\"' '\"CHC\"' '\"CIN\"' '\"CLE\"' '\"COL\"'\n",
      " '\"CWS\"' '\"DET\"' '\"FLA\"' '\"HOU\"' '\"KC\"' '\"LA\"' '\"MIN\"' '\"MLW\"' '\"NYM\"'\n",
      " '\"NYY\"' '\"OAK\"' '\"PHI\"' '\"PIT\"' '\"SD\"' '\"SEA\"' '\"SF\"' '\"STL\"' '\"TB\"'\n",
      " '\"TEX\"' '\"TOR\"' '\"WAS\"']\n",
      "\n",
      "Positions: ['\"Catcher\"' '\"First_Baseman\"' '\"Outfielder\"' '\"Relief_Pitcher\"'\n",
      " '\"Second_Baseman\"' '\"Shortstop\"' '\"Starting_Pitcher\"' '\"Third_Baseman\"']\n",
      "\n",
      "Average Height Sorted by Teams: [[74.58064516129032, '\"CWS\"'], [74.3225806451613, '\"NYY\"'], [74.17142857142858, '\"BOS\"'], [74.13888888888889, '\"CHC\"'], [74.13888888888889, '\"WAS\"'], [74.05882352941177, '\"CLE\"'], [74.0, '\"TEX\"'], [73.9375, '\"FLA\"'], [73.91176470588235, '\"COL\"'], [73.83783783783784, '\"ATL\"'], [73.78125, '\"TOR\"'], [73.72222222222223, '\"DET\"'], [73.71875, '\"TB\"'], [73.71428571428571, '\"CIN\"'], [73.67857142857143, '\"ARZ\"'], [73.625, '\"STL\"'], [73.6, '\"MLW\"'], [73.6, '\"PIT\"'], [73.58823529411765, '\"SEA\"'], [73.57142857142857, '\"PHI\"'], [73.55882352941177, '\"SF\"'], [73.52941176470588, '\"BAL\"'], [73.5, '\"SD\"'], [73.47058823529412, '\"KC\"'], [73.36363636363636, '\"LA\"'], [73.36111111111111, '\"OAK\"'], [73.34285714285714, '\"ANA\"'], [73.06451612903226, '\"MIN\"'], [72.97058823529412, '\"HOU\"'], [72.94736842105263, '\"NYM\"']]\n",
      "\n",
      "Average Height Sorted by Position: [[74.73181818181818, '\"Starting_Pitcher\"'], [74.37460317460318, '\"Relief_Pitcher\"'], [74.0, '\"First_Baseman\"'], [73.04444444444445, '\"Third_Baseman\"'], [73.01030927835052, '\"Outfielder\"'], [72.72368421052632, '\"Catcher\"'], [71.90384615384616, '\"Shortstop\"'], [71.36206896551724, '\"Second_Baseman\"']]\n",
      "\n",
      "NOTE: I think the answer given by professor is wrong because print('Sorted height in desc order:',' np.sort(height_info_numpy, axis=0)[::-1]) sorts both the height and position instead of just sorting the height\n"
     ]
    }
   ],
   "source": [
    "from operator import itemgetter\n",
    "baseball = genfromtxt('../resources/baseball.csv', delimiter=',', encoding=\"utf-8\", dtype=None)\n",
    "print(\"Fields: \", baseball[0])\n",
    "print(\"First name: \", baseball[1][0])\n",
    "print(\"First name: \", baseball[1][0], \" has a weight of\", baseball[1][4])\n",
    "print()\n",
    "\n",
    "#get all the unique teams by np.unique()\n",
    "teams = np.unique(baseball[1:,1], return_index=True)\n",
    "print(\"Teams:\",teams[0])\n",
    "print()\n",
    "\n",
    "#get all the unique positions by np.unique()\n",
    "positions = np.unique(baseball[1:,2], return_index=True)\n",
    "print(\"Positions:\",positions[0])\n",
    "print()\n",
    "\n",
    "#create a loop to find the mean of each of the teams and append to average_height_team\n",
    "average_height_team = []\n",
    "for team in teams[0]:\n",
    "    in_team = (baseball[1:,1] == team).astype(int)\n",
    "    in_team_height = in_team*baseball[1:,3].astype(float)\n",
    "    average_height_team.append([sum(in_team_height)/np.sum(in_team),team])\n",
    "\n",
    "#sort the array using itemgetter(0) to sort by the first element.\n",
    "sorted_average_height_team = sorted(average_height_team,key=itemgetter(0),reverse = True)\n",
    "print(\"Average Height Sorted by Teams:\",sorted_average_height_team)\n",
    "print()\n",
    "\n",
    "#Do the same thing as the teams\n",
    "average_height_position = []\n",
    "for position in positions[0]:\n",
    "    in_position = (baseball[1:,2] == position).astype(int)\n",
    "    in_position_height = in_position*baseball[1:,3].astype(float)\n",
    "    average_height_position.append([sum(in_position_height)/np.sum(in_position),position])\n",
    "\n",
    "sorted_average_height_position = sorted(average_height_position,key=itemgetter(0),reverse = True)\n",
    "print(\"Average Height Sorted by Position:\",sorted_average_height_position)\n",
    "\n",
    "print()\n",
    "\n",
    "print(\"NOTE: I think the answer given by professor is wrong because print('Sorted height in desc order:',' np.sort(height_info_numpy, axis=0)[::-1]) sorts both the height and position instead of just sorting the height\")"
   ]
  },
  {
   "cell_type": "markdown",
   "metadata": {},
   "source": [
    "13. <code> fifa = genfromtxt('resources/fifa.csv', delimiter=',',\n",
    "                      encoding=\"utf-8\", dtype=None)\n",
    "print(\"Fields: \", fifa[0]) </code>\n",
    "\n",
    "we are scouts who want strikers/forward (A) with left foot, with height\n",
    "more than 190, with shooting over 75.  Basically, he should be able\n",
    "to both shoot and head!"
   ]
  },
  {
   "cell_type": "code",
   "execution_count": 71,
   "metadata": {
    "tags": []
   },
   "outputs": [
    {
     "name": "stdout",
     "output_type": "stream",
     "text": [
      "Fields:  ['id' ' name' ' rating' ' position' ' height' ' foot' ' rare' ' pace'\n",
      " ' shooting' ' passing' ' dribbling' ' defending' ' heading' ' diving'\n",
      " ' handling' ' kicking' ' reflexes' ' speed' ' positioning']\n",
      "[['138384' 'Marc Janko' '75' 'A' '196' 'Left' '1' '38' '76' '47' '58'\n",
      "  '56' '65' '' '' '' '' '' '']\n",
      " ['178509' 'Olivier Giroud' '76' 'A' '192' 'Left' '1' '63' '77' '64' '67'\n",
      "  '60' '85' '' '' '' '' '' '']\n",
      " ['179752' 'Óscar Cardozo' '81' 'A' '192' 'Left' '1' '42' '85' '71' '73'\n",
      "  '63' '77' '' '' '' '' '' '']]\n",
      "The question says 'more than 190', therefore I used > 190, the answer given used >= 190, so thats why I only have 3 player scouted instead of 4 like in the answer\n"
     ]
    }
   ],
   "source": [
    "fifa = genfromtxt('../resources/fifa.csv', delimiter=',', encoding=\"utf-8\", dtype=None)\n",
    "print(\"Fields: \", fifa[0])\n",
    "#'position'3 = A 'foot'5 = left && 'height'4 > 190 && 'shooting'8 > 75\n",
    "\n",
    "#I found out that there were a few data which was empty(which can cause errors when masking them)\n",
    "#So instead of masking all of the data,\n",
    "#each condition is masked on the data which has already been eliminated by the previously masked condition.\n",
    "\n",
    "fifa_headerless = np.array(np.char.lstrip(fifa[1:,:]))\n",
    "position = fifa_headerless[:,3]=='A'\n",
    "condition_met = fifa_headerless[position]\n",
    "\n",
    "foot = condition_met[:,5]=='Left'\n",
    "condition_met = condition_met[foot]\n",
    "\n",
    "height = condition_met[:,4].astype(int) > 190\n",
    "condition_met = condition_met[height]\n",
    "\n",
    "shooting = condition_met[:,8].astype(int) > 75\n",
    "condition_met = condition_met[shooting]\n",
    "\n",
    "print(condition_met)\n",
    "print(\"The question says 'more than 190', therefore I used > 190, the answer given used >= 190, so thats why I only have 3 player scouted instead of 4 like in the answer\")"
   ]
  },
  {
   "cell_type": "markdown",
   "metadata": {},
   "source": [
    "14.Create a function that compute moving average using a sliding\n",
    "window over a list.  You may want to perform a bit of research what is moving average\n",
    "\n",
    "For example, <code>moving_average([1,2,5,10], n=2)</code> should produce\n",
    "        \n",
    "        [1.5 3.5 7.5]"
   ]
  },
  {
   "cell_type": "code",
   "execution_count": 72,
   "metadata": {
    "tags": []
   },
   "outputs": [
    {
     "name": "stdout",
     "output_type": "stream",
     "text": [
      "[1.5, 3.5, 7.5]\n"
     ]
    }
   ],
   "source": [
    "data = [1,2,5,10]\n",
    "def moving_average(arr,n=2):\n",
    "    #there are two loops, the inner loop is used to create a sub array with the elements to be averaged for n\n",
    "    #The outer loop just sweeps through the whole array\n",
    "    print([np.mean(np.array([arr[i+j] for j in range(n)])) for i in range(len(arr)-n+1)])\n",
    "\n",
    "moving_average(data,2)"
   ]
  },
  {
   "cell_type": "markdown",
   "metadata": {},
   "source": [
    "15. <code>#Read a digits image and split it up in different training examples\n",
    "import cv2\n",
    "import matplotlib.pyplot as plt\n",
    "img = cv2.imread('resources/digits.png', 0)\n",
    "plt.imshow(img)\n",
    "print(img.shape)</code>\n",
    "\n",
    "- first, our img is a numpy array, attempt to break into 100 letters \n",
    "\n",
    "- commonly, we break our dataset to training and testing set.  If our dataset is small, then probably testing should be around 30% then the rest is training set.  When our dataset is really big, 5% for testing set suffice.  Here our dataset is quite small, so attempt to break into 30% testing set, and 70% training set. Result should be X_train, X_test, y_train, y_test.  Code from scratch!"
   ]
  },
  {
   "cell_type": "code",
   "execution_count": 79,
   "metadata": {
    "tags": []
   },
   "outputs": [
    {
     "data": {
      "image/png": "[encoded data removed]",
      "text/plain": [
       "<Figure size 432x288 with 1 Axes>"
      ]
     },
     "metadata": {
      "needs_background": "light"
     },
     "output_type": "display_data"
    },
    {
     "name": "stdout",
     "output_type": "stream",
     "text": [
      "X_train shape: (70, 8, 8)\n",
      "y_train shape: (70,)\n",
      "X_test shape: (30, 8, 8)\n",
      "y_test shape: (30,)\n",
      "\n",
      "Here's how one image looks like\n"
     ]
    },
    {
     "data": {
      "image/png": "[encoded data removed]",
      "text/plain": [
       "<Figure size 432x288 with 1 Axes>"
      ]
     },
     "metadata": {
      "needs_background": "light"
     },
     "output_type": "display_data"
    }
   ],
   "source": [
    "import cv2\n",
    "import matplotlib.pyplot as plt\n",
    "\n",
    "#0 means gray scale\n",
    "img = cv2.imread('../resources/digits.png', 0)\n",
    "plt.imshow(img)\n",
    "plt.show()\n",
    "\n",
    "#create an array for y\n",
    "y_img = np.array([[i for n in range(10)] for i in range(10)])\n",
    "\n",
    "X = []\n",
    "y = []\n",
    "#8 pixels for each letter since  80 pixels /10 letters = 8\n",
    "#append each picture and its corresponding label(y) onto X and y\n",
    "for i in range(0, img.shape[0], 8):\n",
    "    for j in range(0, img.shape[1], 8):\n",
    "        X.append(img[i:i+8, j:j+8])\n",
    "        y.append(y_img[int(i/8),int(j/8)])\n",
    "        \n",
    "#convert arrays to numpy arrays\n",
    "X = np.array(X)\n",
    "y = np.array(y)\n",
    "\n",
    "#create all posible indexes\n",
    "ix = np.arange(X.shape[0])\n",
    "#shuffle the index\n",
    "np.random.shuffle(ix)\n",
    "percentage = 0.7\n",
    "#take only 70% for training data\n",
    "ix_train = ix[0:int(ix.size*percentage)]\n",
    "#take only 30% for testing data\n",
    "ix_test = ix[int(ix.size*percentage):]\n",
    "X_train = X[ix_train]\n",
    "y_train = y[ix_train]\n",
    "X_test = X[ix_test]\n",
    "y_test = y[ix_test]\n",
    "print(\"X_train shape:\",X_train.shape)\n",
    "print(\"y_train shape:\",y_train.shape)\n",
    "print(\"X_test shape:\",X_test.shape)\n",
    "print(\"y_test shape:\",y_test.shape)\n",
    "\n",
    "print()\n",
    "print(\"Here's how one image looks like\")\n",
    "plt.imshow(X[0])\n",
    "plt.show()"
   ]
  },
  {
   "cell_type": "markdown",
   "metadata": {},
   "source": [
    "16. Create a set of 100 points that follow the function   \n",
    "\n",
    "$$f(x) = 0.5x + 1$$\n",
    "\n",
    "- first, add gaussian white noise to the result using np.random.normal\n",
    "- second, use polyfit to fit the results in a line and plot them using\n",
    "  <code>\n",
    "import matplotlib.pyplot as plt\n",
    "plt.plot(X, y, 'b.')  #blue dots\n",
    "plt.plot(X, coeff[1] + coeff[0]*X, 'r')  #overlay the line</code>\n",
    "- third, perform linear regression with ordinary least squares using the closed-form expression matrix formula $$\\mathbf{w} = (\\mathbf{X}^{\\rm T}\\mathbf{X})^{-1} \\mathbf{X}^{\\rm T}\\mathbf{y}$$  See whether we can get back the coefficients 1 and 0.5.  FYI: To invert a matrix, use <code>np.linalg.inv</code>"
   ]
  },
  {
   "cell_type": "code",
   "execution_count": 80,
   "metadata": {
    "tags": []
   },
   "outputs": [
    {
     "name": "stdout",
     "output_type": "stream",
     "text": [
      "(1000,)\n",
      "(1000,)\n",
      "theta from polyfit: [0.50735189 0.92889196]\n",
      "theta from normal equation: [0.50735189 0.92889196]\n"
     ]
    },
    {
     "data": {
      "image/png": "[encoded data removed]",
      "text/plain": [
       "<Figure size 432x288 with 1 Axes>"
      ]
     },
     "metadata": {
      "needs_background": "light"
     },
     "output_type": "display_data"
    }
   ],
   "source": [
    "#create an x series\n",
    "x = np.linspace(0,10,1000)\n",
    "print(x.shape)\n",
    "#create the answer with normally distributed noise\n",
    "y = 0.5*x + 1 + np.random.normal(0,1,size=x.shape)\n",
    "print(y.shape)\n",
    "#use polyfit to find the answer\n",
    "theta = np.polyfit(x,y,1)\n",
    "print(\"theta from polyfit:\",theta)\n",
    "\n",
    "plt.plot(x,y,'b.')\n",
    "plt.plot(x,theta[1] + theta[0]*x, 'r')\n",
    "\n",
    "#create a design matrix by insert 1 to be used for the normal equation\n",
    "X = np.insert(x.reshape(-1,1),1,1,axis=1)\n",
    "\n",
    "#use the normal equation to find the parameters\n",
    "w = np.linalg.inv(X.T@X)@X.T@y\n",
    "print(\"theta from normal equation:\",w)\n",
    "plt.show()"
   ]
  },
  {
   "cell_type": "markdown",
   "metadata": {},
   "source": [
    "17. <code>iris = genfromtxt('resources/iris.csv', delimiter=',',\n",
    "                      encoding=\"utf-8\", dtype=None)\n",
    "iris_without_headers = np.array(iris[1:])\n",
    "species = iris_without_headers[:, 5]\n",
    "sepal_length = iris_without_headers[:, 1].astype(float)\n",
    "petal_length = iris_without_headers[:, 3].astype(float)\n",
    "print(\"Fields: \", iris[0]) </code>\n",
    "\n",
    "- calculate how many samples of data we have\n",
    "- get all unique species\n",
    "- compute the mean and std of sepal length of each species\n",
    "- retrieve data with sepal length less than 5, and petal length greater than 1.5\n",
    "- Check if any missing values in the whole data\n",
    "- find correlation between sepal and petal length\n",
    "- let's perform logistic regression.  For fun, implement from scratch!(Do not use scikit learn!).  Define X as sepal length and Y as 0, 1"
   ]
  },
  {
   "cell_type": "code",
   "execution_count": 84,
   "metadata": {
    "tags": []
   },
   "outputs": [
    {
     "name": "stdout",
     "output_type": "stream",
     "text": [
      "Fields:  ['Id' 'SepalLengthCm' 'SepalWidthCm' 'PetalLengthCm' 'PetalWidthCm'\n",
      " 'Species']\n",
      "Number of samples: 100\n",
      "Unique Species: ['Iris-setosa' 'Iris-virginica']\n",
      "Species: Iris-setosa Mean: 5.006 Std: 0.3489469873777391\n",
      "Species: Iris-virginica Mean: 6.587999999999998 Std: 0.6294886813914926\n",
      "Data meeting conditions: [['12' '4.8' '3.4' '1.6' '0.2' 'Iris-setosa']\n",
      " ['25' '4.8' '3.4' '1.9' '0.2' 'Iris-setosa']\n",
      " ['30' '4.7' '3.2' '1.6' '0.2' 'Iris-setosa']\n",
      " ['31' '4.8' '3.1' '1.6' '0.2' 'Iris-setosa']\n",
      " ['107' '4.9' '2.5' '4.5' '1.7' 'Iris-virginica']]\n",
      "[]\n",
      "Correlation Matrix: [[1.         0.90479581]\n",
      " [0.90479581 1.        ]]\n",
      "[-2.12889688  5.45877571]\n",
      "loss: 0.3147901138532218\n",
      "Accuracy:  0.96\n"
     ]
    }
   ],
   "source": [
    "iris = genfromtxt('../resources/iris.csv', delimiter=',',\n",
    "                      encoding=\"utf-8\", dtype=None)\n",
    "\n",
    "iris_without_headers = np.array(iris[1:])\n",
    "species = iris_without_headers[:, 5]\n",
    "sepal_length = iris_without_headers[:, 1].astype(float)\n",
    "petal_length = iris_without_headers[:, 3].astype(float)\n",
    "\n",
    "print(\"Fields: \", iris[0])\n",
    "\n",
    "print(\"Number of samples:\",iris_without_headers.shape[0])\n",
    "print(\"Unique Species:\",np.unique(species))\n",
    "\n",
    "#for each species find the mean and std by masking the species\n",
    "for specie in np.unique(iris_without_headers[:,-1]):\n",
    "    ix_species = iris_without_headers[:,-1] == specie\n",
    "    mean = np.mean(sepal_length[ix_species])\n",
    "    std = np.std(sepal_length[ix_species])\n",
    "    print(f\"Species: {specie} Mean: {mean} Std: {std}\")\n",
    "\n",
    "#create two conditions then and them, could be done in one line instead\n",
    "condition1 = sepal_length < 5\n",
    "condition2 = petal_length > 1.5\n",
    "andCondition = condition1 & condition2\n",
    "\n",
    "print(\"Data meeting conditions:\",iris_without_headers[andCondition])\n",
    "\n",
    "#find if there are any empty cells by masking\n",
    "lol = iris_without_headers == ''\n",
    "print(iris_without_headers[lol])\n",
    "\n",
    "#use np.coorrcoef to find the correlation in a matrix form\n",
    "print(\"Correlation Matrix:\",np.corrcoef(sepal_length,petal_length))\n",
    "\n",
    "#normalize the data for  gradient descent\n",
    "normalized_sepal_length = (sepal_length - np.min(sepal_length))/(np.max(sepal_length) - np.min(sepal_length))\n",
    "X = normalized_sepal_length[:, np.newaxis]\n",
    "\n",
    "#insert 1 onto X in order to create a design matrix\n",
    "intercept = np.ones((X.shape[0], 1)) \n",
    "X = np.concatenate((intercept, X), axis=1)\n",
    "\n",
    "#remove single dimensions as well as get the species\n",
    "y = np.squeeze(iris_without_headers[:, 5])\n",
    "#using masking, set Iris setosa to 0 and Iris virginica to 1 \n",
    "y[y=='Iris-setosa'] = 0\n",
    "y[y=='Iris-virginica'] = 1\n",
    "y = y.astype(int)\n",
    "\n",
    "def sigmoid(X, weight):\n",
    "    hx = np.dot(X, weight)\n",
    "    return 1 / (1 + np.exp(-hx))\n",
    "\n",
    "def loss(fx, y):\n",
    "    return (-y * np.log(fx) - (1 - y) * np.log (1-fx)).mean()\n",
    "\n",
    "def predict(X, weight):\n",
    "    return sigmoid(X, weight) >= 0.5\n",
    "\n",
    "#set initial weights\n",
    "weight = np.zeros(X.shape[1])\n",
    "#set the learning rate\n",
    "lr = 0.1  \n",
    "\n",
    "#loop through 1000 times\n",
    "for i in range(1000):\n",
    "    fx = sigmoid(X, weight)\n",
    "    #find the gradient\n",
    "    gradient = np.dot(X.T, (fx-y)) / y.shape[0]\n",
    "    #update the weight by multiplying the learning rate with the gradient and deducting the current weight with it.\n",
    "    weight -= lr * gradient\n",
    "\n",
    "print(weight)\n",
    "print(f\"loss: {loss(fx, y)}\")\n",
    "\n",
    "prediction = predict(X, weight)\n",
    "print(\"Accuracy: \", (prediction == y).mean())"
   ]
  },
  {
   "cell_type": "markdown",
   "metadata": {},
   "source": [
    "18. Implement a simple perceptron using Numpy on the given file and output the trained weights, attempt to measure the accuracy of this trained weights.  Use a simple stochastic gradient descent method in which the model make prediction at each training instance where error is calculated.  Then the model is updated in order to reduce the error for the next prediction.  This procedure can be used fo find the set of weights in a model that result in the smallest error.  The formula is as follows:\n",
    "\n",
    "<code>w = w + learning_rate * (expected - predicted) * x #for x\n",
    "w = w + learning_rate * (expected - predicted) #for bias</code>\n",
    "\n",
    "Here is the initial code:\n",
    "\n",
    "<code>data = np.genfromtxt('resources/perceptron.csv', delimiter=',', skip_header=1)\n",
    "X = data[:, :-1]\n",
    "y = data[:, -1]\n",
    "cond0 = y==0\n",
    "cond1 = y==1\n",
    "plt.plot(X[:,0][cond0], X[:,1][cond0], 'o', mec='r', mfc='none')\n",
    "plt.plot(X[:,0][cond1], X[:,1][cond1], 'o', mec='g', mfc='none')</code>\n"
   ]
  },
  {
   "cell_type": "code",
   "execution_count": 85,
   "metadata": {
    "tags": []
   },
   "outputs": [
    {
     "name": "stdout",
     "output_type": "stream",
     "text": [
      "Accuracy:  0.9\n",
      "Accuracy:  [ True  True  True  True  True  True  True False  True  True  True  True\n",
      "  True  True  True  True False  True  True  True]\n"
     ]
    },
    {
     "data": {
      "image/png": "[encoded data removed]",
      "text/plain": [
       "<Figure size 432x288 with 1 Axes>"
      ]
     },
     "metadata": {
      "needs_background": "light"
     },
     "output_type": "display_data"
    }
   ],
   "source": [
    "#note that we did not yet learn about perceptrons, thus understanding the question was quit difficult, so i copied the given code made a training data and test data split\n",
    "data = np.genfromtxt('../resources/perceptron.csv', delimiter=',', skip_header=1)\n",
    "\n",
    "X = data[:, :-1]\n",
    "y = data[:, -1]\n",
    "\n",
    "#create training set and test set\n",
    "percentage_training = 0.7\n",
    "ix = np.arange(y.size)\n",
    "np.random.shuffle(ix)\n",
    "ix_train = ix[:int(ix.size*percentage_training)]\n",
    "ix_test = ix[int(ix.size*percentage_training):]\n",
    "X_train = X[ix_train]\n",
    "y_train = y[ix_train]\n",
    "X_test = X[ix_test]\n",
    "y_test = y[ix_test]\n",
    "\n",
    "#we can do this, because X and y has same length\n",
    "cond0 = y==0\n",
    "cond1 = y==1\n",
    "\n",
    "#mec: marker edge color; mfc: marker face color\n",
    "plt.plot(X[:,0][cond0], X[:,1][cond0], 'o', mec='r', mfc='none')\n",
    "plt.plot(X[:,0][cond1], X[:,1][cond1], 'o', mec='g', mfc='none')\n",
    "\n",
    "def predict(row, w):\n",
    "    #will be run for each training instance\n",
    "    #negative - classify as 0 class\n",
    "    if np.dot(w[1:], row) + w[0] < 0:\n",
    "        return 0\n",
    "    else:\n",
    "        return 1\n",
    "\n",
    "def get_preds(X, w):\n",
    "    preds = np.squeeze(np.dot(X, w[1:, np.newaxis]) + w[0])\n",
    "    return preds > 0 \n",
    "\n",
    "def fit(X, y):\n",
    "    num_feature = X.shape[1]\n",
    "    w = np.zeros(num_feature+1)  #bias, w1, w2\n",
    "    l_rate = 0.1\n",
    "    iteration = 1000\n",
    "    for i in range(iteration):\n",
    "        #loop through each X pairs\n",
    "        for j in range(X.shape[0]):\n",
    "            #predict using the w\n",
    "            ypred = predict(X[j], w)\n",
    "            yactual = y[j]\n",
    "            error = yactual - ypred\n",
    "            #Weights are updated based on the error the model made.\n",
    "            w[0] += l_rate * error  #updating bias\n",
    "            w[1:] += l_rate * error * X[j]  #updating w1, w2\n",
    "    return w\n",
    "                \n",
    "#use the training data to fit\n",
    "w = fit(X_train, y_train)\n",
    "#find the predictions with the weights found from the training data\n",
    "pred = get_preds(X, w)\n",
    "print(\"Accuracy: \", (pred == y).mean())\n",
    "print(\"Accuracy: \", pred == y)"
   ]
  }
 ],
 "metadata": {
  "kernelspec": {
   "display_name": "Python 3",
   "language": "python",
   "name": "python3"
  },
  "language_info": {
   "codemirror_mode": {
    "name": "ipython",
    "version": 3
   },
   "file_extension": ".py",
   "mimetype": "text/x-python",
   "name": "python",
   "nbconvert_exporter": "python",
   "pygments_lexer": "ipython3",
   "version": "3.8.3"
  }
 },
 "nbformat": 4,
 "nbformat_minor": 4
}
