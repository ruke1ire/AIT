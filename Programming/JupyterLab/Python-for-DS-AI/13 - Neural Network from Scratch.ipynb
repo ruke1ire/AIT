{
 "cells": [
  {
   "cell_type": "markdown",
   "metadata": {},
   "source": [
    "# Programming for Data Science and Artificial Intelligence\n",
    "\n",
    "## 13 Neural Network from Scratch"
   ]
  },
  {
   "cell_type": "markdown",
   "metadata": {},
   "source": [
    "### Readings\n",
    "\n",
    "- [WEIDMAN] Ch1,2\n",
    "- [CHARU] Ch1\n",
    "\n",
    "### Foundations\n",
    "\n",
    "Let's first consider the following neural network"
   ]
  },
  {
   "cell_type": "markdown",
   "metadata": {},
   "source": [
    "![](figures/neuralnet1.png)"
   ]
  },
  {
   "cell_type": "code",
   "execution_count": 1,
   "metadata": {},
   "outputs": [
    {
     "name": "stdout",
     "output_type": "stream",
     "text": [
      "X:\n",
      "[[ 0.49671415 -0.1382643   0.64768854]\n",
      " [ 1.52302986 -0.23415337 -0.23413696]\n",
      " [ 1.57921282  0.76743473 -0.46947439]]\n",
      "W: \n",
      "[[ 0.54256004 -0.46341769]\n",
      " [-0.46572975  0.24196227]\n",
      " [-1.91328024 -1.72491783]]\n"
     ]
    }
   ],
   "source": [
    "import numpy as np\n",
    "\n",
    "np.random.seed(42)\n",
    "\n",
    "#suppose we have datasets of three features, with three samples\n",
    "X = np.random.randn(3, 3)\n",
    "\n",
    "#let say our y has two output\n",
    "W = np.random.randn(3, 2)\n",
    "\n",
    "print(\"X:\")\n",
    "print(X)\n",
    "\n",
    "print(\"W: \")\n",
    "print(W)"
   ]
  },
  {
   "cell_type": "markdown",
   "metadata": {},
   "source": [
    "### 1. The dot product\n",
    "\n",
    "Dot product is simply an efficient way of multiplying each x with their corresponding weights.  The end result of dot product will be the predicted y\n",
    "\n",
    "$$ \\nu(X, W) = X * W = \\begin{bmatrix}\n",
    "x_{11} * w_{11} + x_{12} * w_{21} + x_{13} * w_{31} &\n",
    "x_{11} * w_{12} + x_{12} * w_{22} + x_{13} * w_{32}\n",
    "\\\\\n",
    "x_{21} * w_{11} + x_{22} * w_{21} + x_{23} * w_{31} &\n",
    "x_{21} * w_{12} + x_{22} * w_{22} + x_{23} * w_{32}\n",
    "\\\\\n",
    "x_{31} * w_{11} + x_{32} * w_{21} + x_{33} * w_{31} &\n",
    "x_{31} * w_{12} + x_{32} * w_{22} + x_{33} * w_{32}\n",
    "\\end{bmatrix} = \n",
    "\\begin{bmatrix}\n",
    "XW_{11} &\n",
    "XW_{12}\n",
    "\\\\\n",
    "XW_{21} &\n",
    "XW_{22}\n",
    "\\\\\n",
    "XW_{31} &\n",
    "XW_{32}\n",
    "\\end{bmatrix}\n",
    "$$"
   ]
  },
  {
   "cell_type": "code",
   "execution_count": 2,
   "metadata": {},
   "outputs": [
    {
     "name": "stdout",
     "output_type": "stream",
     "text": [
      "X @ W\n",
      "[[-0.90531863 -1.38085038]\n",
      " [ 1.38335695 -0.35858825]\n",
      " [ 1.39763665  0.26365983]]\n"
     ]
    }
   ],
   "source": [
    "print(\"X @ W\")\n",
    "\n",
    "assert X.shape[1] == W.shape[0]\n",
    "\n",
    "N = X @ W\n",
    "print(N)  #N is in shape X.shape[0], W.shape[1]"
   ]
  },
  {
   "cell_type": "markdown",
   "metadata": {},
   "source": [
    "### 2. The activation function\n",
    "\n",
    "Sometimes, the predicted y may not be in the form we need.  Activation function is a neaty way of mapping some values to a particular range we want.\n",
    "\n",
    "Important characteristics of the activation function (commonly called sigma in general) is that it should be differentiable.  Why?  Because differentiable function will allow us to use descent algorithms to find the optimal w."
   ]
  },
  {
   "cell_type": "code",
   "execution_count": 3,
   "metadata": {},
   "outputs": [
    {
     "data": {
      "text/plain": [
       "Text(0, 0.5, 'output')"
      ]
     },
     "execution_count": 3,
     "metadata": {},
     "output_type": "execute_result"
    },
    {
     "data": {
      "image/png": "[encoded data removed]",
      "text/plain": [
       "<Figure size 864x432 with 2 Axes>"
      ]
     },
     "metadata": {
      "needs_background": "light"
     },
     "output_type": "display_data"
    }
   ],
   "source": [
    "from numpy import ndarray\n",
    "import matplotlib.pyplot as plt\n",
    "\n",
    "def sigmoid(x: ndarray) -> ndarray:\n",
    "    return 1 / (1 + np.exp(-x))\n",
    "\n",
    "def leaky_relu(x: ndarray) -> ndarray:\n",
    "    return np.maximum(0.2 * x, x)\n",
    "\n",
    "fig, ax = plt.subplots(1, 2, sharey=True, figsize=(12, 6))  # 1 Row, 2 Cols\n",
    "\n",
    "input_range = np.arange(-2, 2, 0.01)\n",
    "ax[0].plot(input_range, sigmoid(input_range))\n",
    "ax[0].plot(input_range, sigmoid(input_range))\n",
    "ax[0].set_title('Sigmoid function')\n",
    "ax[0].set_xlabel('input')\n",
    "ax[0].set_ylabel('output')\n",
    "\n",
    "ax[1].plot(input_range, leaky_relu(input_range))\n",
    "ax[1].plot(input_range, leaky_relu(input_range))\n",
    "ax[1].set_title('\"Leaky ReLU\" function')\n",
    "ax[1].set_xlabel('input')\n",
    "ax[1].set_ylabel('output')\n"
   ]
  },
  {
   "cell_type": "markdown",
   "metadata": {},
   "source": [
    "$$ \n",
    "\\sigma(X * W) = \\begin{bmatrix}\n",
    "\\sigma(x_{11} * w_{11} + x_{12} * w_{21} + x_{13} * w_{31}) &\n",
    "\\sigma(x_{11} * w_{12} + x_{12} * w_{22} + x_{13} * w_{32})\n",
    "\\\\\n",
    "\\sigma(x_{21} * w_{11} + x_{22} * w_{21} + x_{23} * w_{31}) &\n",
    "\\sigma(x_{21} * w_{12} + x_{22} * w_{22} + x_{23} * w_{32})\n",
    "\\\\\n",
    "\\sigma(x_{31} * w_{11} + x_{32} * w_{21} + x_{33} * w_{31}) &\n",
    "\\sigma(x_{31} * w_{12} + x_{32} * w_{22} + x_{33} * w_{32})\n",
    "\\end{bmatrix} = \n",
    "\\begin{bmatrix}\n",
    "\\sigma(XW_{11}) & \\sigma(XW_{12})\\\\\n",
    "\\sigma(XW_{21}) & \\sigma(XW_{22})\\\\\n",
    "\\sigma(XW_{31}) & \\sigma(XW_{32})\n",
    "\\end{bmatrix}\n",
    "$$"
   ]
  },
  {
   "cell_type": "code",
   "execution_count": 4,
   "metadata": {},
   "outputs": [
    {
     "name": "stdout",
     "output_type": "stream",
     "text": [
      "S: \n",
      "[[0.28795874 0.20087246]\n",
      " [0.7995296  0.41130135]\n",
      " [0.80180859 0.56553575]]\n"
     ]
    }
   ],
   "source": [
    "sigma = sigmoid\n",
    "\n",
    "S = sigma(N)\n",
    "print(\"S: \")\n",
    "print(S)"
   ]
  },
  {
   "cell_type": "markdown",
   "metadata": {},
   "source": [
    "### 3. The Lambda function\n",
    "\n",
    "Why do we need to sum all elements?\n",
    "\n",
    "First, we know that we need to use descent algorithms to find the optimum value.  Let's say we want to find the gradient of S with respect to X and W.  What does gradient of one matrix with respect to another matrix mean?   Yes, it's actually difficult to think in that way.\n",
    "\n",
    "Instead, for \"gradient\" to be well-defined, we need to sum (or perform any aggregations) into a single number so that \"how much will changing each element of X affect the output\".\n",
    "\n",
    "Thus, we need a third lambda function that simply takes everything and sums up.  (Note again that there are other possible aggregation methods)\n",
    "\n",
    "$$ L = \\Lambda(\\sigma(X * W)) = \\Lambda(\\begin{bmatrix}\n",
    "\\sigma(XW_{11}) & \\sigma(XW_{12})\\\\\n",
    "\\sigma(XW_{21}) & \\sigma(XW_{22})\\\\\n",
    "\\sigma(XW_{31}) & \\sigma(XW_{32})\n",
    "\\end{bmatrix}) =  \\sigma(XW_{11}) + \\sigma(XW_{12}) + \\sigma(XW_{21}) + \\sigma(XW_{22}) + \\sigma(XW_{31}) + \\sigma(XW_{32})\n",
    "$$"
   ]
  },
  {
   "cell_type": "code",
   "execution_count": 5,
   "metadata": {},
   "outputs": [
    {
     "name": "stdout",
     "output_type": "stream",
     "text": [
      "3.067006496510426\n"
     ]
    }
   ],
   "source": [
    "L = np.sum(S)\n",
    "\n",
    "print(L)"
   ]
  },
  {
   "cell_type": "markdown",
   "metadata": {},
   "source": [
    "### 4. Chain rule / Backpropagation\n",
    "\n",
    "The question now is if we want to perform gradient descent, we must find derivatives.   Finding derivatives are easy, but how do we find derivatives of L with respect to X and W, when L is a result of series of transformations?\n",
    "\n",
    "We can simply use the chain rule in Math.\n",
    "\n",
    "\n",
    "First, let's define what is derivative, which can be expressed in a limit form as \n",
    "\n",
    "$$ \\frac{df}{dx}(a) = \n",
    "\\lim_{\\Delta \\to 0} \\frac{{f \\left( {a + \\Delta } \\right) - f\\left( a - \\Delta \\right)}}{2 * \\Delta } $$"
   ]
  },
  {
   "cell_type": "code",
   "execution_count": 6,
   "metadata": {},
   "outputs": [],
   "source": [
    "from typing import Callable\n",
    "\n",
    "#takes in ndarray and produces an ndarray\n",
    "def deriv(func: Callable[[ndarray], ndarray],\n",
    "          input_: ndarray,\n",
    "          diff: float = 0.001) -> ndarray:\n",
    "    '''\n",
    "    Evaluates the derivative of a function \"func\" at every element in the \"input_\" array.\n",
    "    '''\n",
    "    return (func(input_ + diff) - func(input_ - diff)) / (2 * diff)"
   ]
  },
  {
   "cell_type": "markdown",
   "metadata": {},
   "source": [
    "Second, let's learn about the chain rule, which is a mathematical theorem that lets us compute the derivatives of composite funtions.    Mathematically, the theorem states that for a given value x, \n",
    "\n",
    "$$ \\frac{df_2}{dx}(x) = \\frac{df_2}{du}(f_1(x)) * \\frac{df_1}{dx}(x) $$\n",
    "\n",
    "A pictorial explaination is given as follows:\n",
    "\n",
    "Given the following composite function:\n",
    "\n",
    "![](figures/chainrule1.png)\n",
    "\n",
    "To find the gradient of y in respect to X, is simply the product of the gradients\n",
    "\n",
    "![](figures/chainrule2.png)"
   ]
  },
  {
   "cell_type": "code",
   "execution_count": 7,
   "metadata": {},
   "outputs": [],
   "source": [
    "from typing import List\n",
    "\n",
    "# A Function takes in an ndarray as an argument and produces an ndarray\n",
    "Array_Function = Callable[[ndarray], ndarray]\n",
    "\n",
    "# A Chain is a list of functions\n",
    "Chain = List[Array_Function]"
   ]
  },
  {
   "cell_type": "code",
   "execution_count": 8,
   "metadata": {},
   "outputs": [],
   "source": [
    "def chain_length_2(chain: Chain,\n",
    "                   x: ndarray) -> ndarray:\n",
    "    '''\n",
    "    Evaluates two functions in a row, in a \"Chain\".\n",
    "    '''\n",
    "    assert len(chain) == 2, \"Length of input 'chain' should be 2\"\n",
    "\n",
    "    f1 = chain[0]\n",
    "    f2 = chain[1]\n",
    "\n",
    "    return f2(f1(x))"
   ]
  },
  {
   "cell_type": "code",
   "execution_count": 9,
   "metadata": {},
   "outputs": [],
   "source": [
    "def chain_deriv_2(chain: Chain,\n",
    "                  input_range: ndarray) -> ndarray:\n",
    "    '''\n",
    "    Uses the chain rule to compute the derivative of two nested functions:\n",
    "    (f2(f1(x))' = f2'(f1(x)) * f1'(x)\n",
    "    '''\n",
    "\n",
    "    assert len(chain) == 2, \"This function requires 'Chain' objects of length 2\"\n",
    "\n",
    "    assert input_range.ndim == 1, \"Function requires a 1 dimensional ndarray as input_range\"\n",
    "\n",
    "    f1 = chain[0]\n",
    "    f2 = chain[1]\n",
    "\n",
    "    # df1/dx\n",
    "    f1_of_x = f1(input_range)\n",
    "\n",
    "    # df1/du\n",
    "    df1dx = deriv(f1, input_range)\n",
    "\n",
    "    # df2/du(f1(x))\n",
    "    df2du = deriv(f2, f1(input_range))\n",
    "\n",
    "    # Multiplying these quantities together at each point\n",
    "    return df1dx * df2du"
   ]
  },
  {
   "cell_type": "code",
   "execution_count": 10,
   "metadata": {},
   "outputs": [],
   "source": [
    "def plot_chain(ax,\n",
    "               chain: Chain, \n",
    "               input_range: ndarray) -> None:\n",
    "   \n",
    "    assert input_range.ndim == 1, \"Function requires a 1 dimensional ndarray as input_range\"\n",
    "\n",
    "    output_range = chain_length_2(chain, input_range)\n",
    "    ax.plot(input_range, output_range)\n",
    "    \n",
    "def plot_chain_deriv(ax,\n",
    "                     chain: Chain,\n",
    "                     input_range: ndarray) -> ndarray:\n",
    "    output_range = chain_deriv_2(chain, input_range)\n",
    "    ax.plot(input_range, output_range)"
   ]
  },
  {
   "cell_type": "code",
   "execution_count": 11,
   "metadata": {},
   "outputs": [
    {
     "data": {
      "image/png": "[encoded data removed]",
      "text/plain": [
       "<Figure size 1152x576 with 2 Axes>"
      ]
     },
     "metadata": {
      "needs_background": "light"
     },
     "output_type": "display_data"
    }
   ],
   "source": [
    "fig, ax = plt.subplots(1, 2, sharey=True, figsize=(16, 8))  # 2 Rows, 1 Col\n",
    "\n",
    "chain_1 = [leaky_relu, sigmoid]\n",
    "chain_2 = [sigmoid, leaky_relu]\n",
    "\n",
    "PLOT_RANGE = np.arange(-3, 3, 0.01)\n",
    "plot_chain(ax[0], chain_1, PLOT_RANGE)\n",
    "plot_chain_deriv(ax[0], chain_1, PLOT_RANGE)\n",
    "\n",
    "ax[0].legend([\"$f(x)$\", \"$\\\\frac{df}{dx}$\"])\n",
    "ax[0].set_title(\"Function and derivative for\\n$f(x) = sigmoid(leakyrelu(x))$\")\n",
    "\n",
    "plot_chain(ax[1], chain_2, PLOT_RANGE)\n",
    "plot_chain_deriv(ax[1], chain_2, PLOT_RANGE)\n",
    "ax[1].legend([\"$f(x)$\", \"$\\\\frac{df}{dx}$\"])\n",
    "ax[1].set_title(\"Function and derivative for\\n$f(x) = leakyrelu(sigmoid(x))$\");"
   ]
  },
  {
   "cell_type": "markdown",
   "metadata": {},
   "source": [
    "Now let's go back to our example.  Find the derivatives of L in respect to X and W can be written as follows:\n",
    "\n",
    "$$ \\frac{\\partial \\Lambda}{\\partial u}(X) = \n",
    "\\frac{\\partial \\nu}{\\partial X}(X, W) *\n",
    "\\frac{\\partial \\sigma}{\\partial u}(N) *\n",
    "\\frac{\\partial \\Lambda}{\\partial u}(S) $$\n",
    "\n",
    "Last term is the easiest.  We want to know how much L will increase if each element of S increases.  Since L is the sum of all the element of S, this derivative is simply:\n",
    "\n",
    "$$ \\frac{\\partial \\Lambda}{\\partial u}(S) = \\begin{bmatrix}\n",
    "1 & 1\\\\\n",
    "1 & 1\\\\\n",
    "1 & 1\n",
    "\\end{bmatrix} $$\n",
    "\n",
    "Second term is also easy.  It is simply:\n",
    "\n",
    "$$ \\frac{\\partial \\sigma}{\\partial u}(N) = \\begin{bmatrix}\n",
    "\\frac{\\partial \\sigma}{\\partial u}(XW_{11}) &\n",
    "\\frac{\\partial \\sigma}{\\partial u}(XW_{12}) \\\\\n",
    "\\frac{\\partial \\sigma}{\\partial u}(XW_{21}) &\n",
    "\\frac{\\partial \\sigma}{\\partial u}(XW_{22}) \\\\\n",
    "\\frac{\\partial \\sigma}{\\partial u}(XW_{31}) &\n",
    "\\frac{\\partial \\sigma}{\\partial u}(XW_{32})\n",
    "\\end{bmatrix} $$\n",
    "\n",
    "Now, we can already find the product of second and last term which is:\n",
    "\n",
    "$$ \\frac{\\partial \\Lambda}{\\partial u}(N) = \n",
    "\\frac{\\partial \\Lambda}{\\partial u}(S) *\n",
    "\\frac{\\partial \\sigma}{\\partial u}(N) =  \\begin{bmatrix}\n",
    "\\frac{\\partial \\sigma}{\\partial u}(XW_{11}) &\n",
    "\\frac{\\partial \\sigma}{\\partial u}(XW_{12}) \\\\\n",
    "\\frac{\\partial \\sigma}{\\partial u}(XW_{21}) &\n",
    "\\frac{\\partial \\sigma}{\\partial u}(XW_{22}) \\\\\n",
    "\\frac{\\partial \\sigma}{\\partial u}(XW_{31}) &\n",
    "\\frac{\\partial \\sigma}{\\partial u}(XW_{32})\n",
    "\\end{bmatrix} $$\n",
    "\n",
    "How about $$ \\frac{\\partial \\nu}{\\partial X}(X, W) $$ and $$ \\frac{\\partial \\nu}{\\partial W}(X, W) $$\n",
    "\n",
    "This is asking how much increasing each element of X will increase each element of N.  Same for W on N.  Since N is simply a function of dot product of X and W, the gradient is magically simple as follows:\n",
    "\n",
    "$$ \\frac{\\partial \\nu}{\\partial X}(X, W) = W^T $$\n",
    "\n",
    "$$ \\frac{\\partial \\nu}{\\partial W}(X, W) = X^T $$\n",
    "\n",
    "Thus, \n",
    "\n",
    "$$ \\frac{\\partial \\Lambda}{\\partial u}(X) = \n",
    "\\frac{\\partial \\Lambda}{\\partial u}(S) * \n",
    "\\frac{\\partial \\sigma}{\\partial u}(N) *\n",
    "W^T\n",
    "$$\n",
    "\n",
    "$$ \n",
    "\\frac{\\partial \\Lambda}{\\partial u}(W) = X^T *\n",
    "\\frac{\\partial \\Lambda}{\\partial u}(S) * \n",
    "\\frac{\\partial \\sigma}{\\partial u}(N) $$\n",
    "\n",
    "The math looks confusing, but the code is actually pretty simple"
   ]
  },
  {
   "cell_type": "code",
   "execution_count": 12,
   "metadata": {},
   "outputs": [],
   "source": [
    "def forward(X: ndarray,W: ndarray) -> float:\n",
    "    assert X.shape[1] == W.shape[0]\n",
    "\n",
    "    N = np.dot(X, W)\n",
    "    S = sigma(N)\n",
    "    L = np.sum(S)\n",
    "\n",
    "    return L"
   ]
  },
  {
   "cell_type": "code",
   "execution_count": 13,
   "metadata": {},
   "outputs": [],
   "source": [
    "def forward_backward(X: ndarray,W: ndarray) -> float:\n",
    "    assert X.shape[1] == W.shape[0]\n",
    "\n",
    "    N = np.dot(X, W)\n",
    "    S = sigma(N)\n",
    "    L = np.sum(S)\n",
    "    \n",
    "    # dLdS - just 1s\n",
    "    dLdS = np.ones_like(S)\n",
    "\n",
    "    # dSdN\n",
    "    dSdN = deriv(sigma, N)\n",
    "    \n",
    "    # dLdN\n",
    "    dLdN = dLdS * dSdN\n",
    "\n",
    "    # dNdX\n",
    "    dNdX = W.T\n",
    "    #dNdW = X.T\n",
    "\n",
    "    # dLdX\n",
    "    dLdX = np.dot(dSdN, dNdX)\n",
    "    #dldW = np.dot(dNdW, dSdN)\n",
    "\n",
    "    return dLdX"
   ]
  },
  {
   "cell_type": "code",
   "execution_count": 14,
   "metadata": {},
   "outputs": [
    {
     "name": "stdout",
     "output_type": "stream",
     "text": [
      "X:\n",
      "[[ 0.49671415 -0.1382643   0.64768854]\n",
      " [ 1.52302986 -0.23415337 -0.23413696]\n",
      " [ 1.57921282  0.76743473 -0.46947439]]\n",
      "L:\n",
      "3.067\n",
      "dLdX:\n",
      "[[ 0.03685663 -0.05665209 -0.6691846 ]\n",
      " [-0.02524588 -0.01606117 -0.72432314]\n",
      " [-0.027645   -0.0145585  -0.72786339]]\n"
     ]
    }
   ],
   "source": [
    "print(\"X:\")\n",
    "print(X)\n",
    "\n",
    "print(\"L:\")\n",
    "print(round(forward(X, W), 4))\n",
    "print(\"dLdX:\")\n",
    "print(forward_backward(X, W))"
   ]
  },
  {
   "cell_type": "code",
   "execution_count": 15,
   "metadata": {},
   "outputs": [
    {
     "data": {
      "text/plain": [
       "0.0369"
      ]
     },
     "execution_count": 15,
     "metadata": {},
     "output_type": "execute_result"
    }
   ],
   "source": [
    "X1 = X.copy()\n",
    "\n",
    "#if we increase X by 0.001\n",
    "X1[0, 0] += 0.001\n",
    "\n",
    "#then L should increase by 0.001 x 0.0369.   If we divide by 0.001, we should see the 0.0369\n",
    "round((forward(X1, W) - forward(X, W))/0.001, 4)"
   ]
  },
  {
   "cell_type": "markdown",
   "metadata": {},
   "source": [
    "### Linear Regression as Neural Network\n",
    "\n",
    "In the last section, we have learned roughly the basic components of neural network.  Let's put them further and implement linear regression as neural network.  Linear regression is a good example since it is something we already understand and would be perfect example to see how neural network in the most basic form, is actually linear regression!\n",
    "\n",
    "Given the following neural network for linear regression:\n",
    "\n",
    "![](figures/linearneuralnet.png)\n",
    "\n",
    "Code can be simply written as follows:"
   ]
  },
  {
   "cell_type": "code",
   "execution_count": 16,
   "metadata": {},
   "outputs": [],
   "source": [
    "from typing import Callable, Dict, Tuple, List\n",
    "\n",
    "def forward(X: ndarray, y: ndarray,\n",
    "            weights: Dict[str, ndarray]\n",
    "           )-> Tuple[float, Dict[str, ndarray]]:\n",
    "    '''\n",
    "    Forward pass for the step-by-step linear regression.\n",
    "    '''\n",
    "    # assert batch sizes of X and y are equal\n",
    "    assert X.shape[0] == y.shape[0]\n",
    "\n",
    "    # assert that matrix multiplication can work\n",
    "    assert X.shape[1] == weights['W'].shape[0]\n",
    "\n",
    "    # assert that B is simply a 1x1 ndarray\n",
    "    assert weights['B'].shape[0] == weights['B'].shape[1] == 1\n",
    "\n",
    "    # compute the operations on the forward pass\n",
    "    N = X @ weights['W']\n",
    "\n",
    "    P = N + weights['B']\n",
    "\n",
    "    loss = np.mean(np.power(y - P, 2))\n",
    "\n",
    "    # save the information computed on the forward pass\n",
    "    forward_info: Dict[str, ndarray] = {}\n",
    "    forward_info['X'] = X\n",
    "    forward_info['N'] = N\n",
    "    forward_info['P'] = P\n",
    "    forward_info['y'] = y\n",
    "\n",
    "    return forward_info, loss"
   ]
  },
  {
   "cell_type": "markdown",
   "metadata": {},
   "source": [
    "#### Calculating gradients\n",
    "\n",
    "The next step is to train the model using gradient descent.  To calculate the gradient, we simply apply chain rule and multiply their products together.  The main derivatives we need is $ \\frac{\\partial \\Lambda}{\\partial W}$ and $ \\frac{\\partial \\Lambda}{\\partial B}$  where \n",
    "\n",
    "$$ \\frac{\\partial \\Lambda}{\\partial W} = \n",
    "    \\frac{\\partial \\Lambda}{\\partial P}(P, Y) *\n",
    "    \\frac{\\partial \\alpha}{\\partial N}(N, B) *\n",
    "    \\frac{\\partial \\nu}{\\partial W}(X, W)\n",
    "$$\n",
    "\n",
    "and \n",
    "\n",
    "$$ \\frac{\\partial \\Lambda}{\\partial B} = \n",
    "    \\frac{\\partial \\Lambda}{\\partial P}(P, Y) *\n",
    "    \\frac{\\partial \\alpha}{\\partial B}(N, B)\n",
    "$$\n",
    "\n",
    "![](figures/linearneuralnet2.png)\n",
    "\n",
    "Since $$ \\Lambda(P, Y) = (Y - P)^2 $$, thus\n",
    "\n",
    "$$ \\frac{\\partial \\Lambda}{\\partial P}(P, Y) = \n",
    "-1 * (2 * (Y - P)^2\n",
    "$$\n",
    "\n",
    "Next, for $$ \\frac{\\partial \\alpha}{\\partial N}(N, B) $$\n",
    "\n",
    "Since $\\alpha$ is simply addition, increasing any element of N by one unit will increase N + B by one unit, thus $$ \\frac{\\partial \\alpha}{\\partial N}(N, B) $$ is simply a list of ones with shape of N like:\n",
    "\n",
    "<code>dPdN = np.ones_like(N) </code>\n",
    "\n",
    "Similarly, $$ \\frac{\\partial \\alpha}{\\partial B}(N, B) $$ is simply a list of ones with shape of B like:\n",
    "\n",
    "<code>dPdB = np.ones_like(B) </code>\n",
    "\n",
    "Last, we have $$ \\frac{\\partial \\nu}{\\partial W}(X, W) $$  This is easy as we know already that \n",
    "\n",
    "$$ \\frac{\\partial \\nu}{\\partial W}(X, W) = X^T $$ \n",
    "\n",
    "Thus\n",
    "\n",
    "$$ \\frac{\\partial \\nu}{\\partial W}(X, W) $$\n",
    "\n",
    "Now, without further do....let's code right now!"
   ]
  },
  {
   "cell_type": "code",
   "execution_count": 17,
   "metadata": {},
   "outputs": [],
   "source": [
    "def loss_gradients(forward_info: Dict[str, ndarray],\n",
    "                   weights: Dict[str, ndarray]) -> Dict[str, ndarray]:\n",
    "\n",
    "    dLdP = -2 * (forward_info['y'] - forward_info['P'])\n",
    "\n",
    "    dPdN = np.ones_like(forward_info['N'])\n",
    "\n",
    "    dPdB = np.ones_like(weights['B'])\n",
    "\n",
    "    dLdN = dLdP * dPdN\n",
    "\n",
    "    dNdW = forward_info['X'].T\n",
    "    \n",
    "    # need to use matrix multiplication here,\n",
    "    # with dNdW on the left    \n",
    "    dLdW = dNdW @ dLdN\n",
    "\n",
    "    # need to sum along dimension since b is added to every row   \n",
    "    dLdB = (dLdP * dPdB).sum(axis=0)\n",
    "\n",
    "    loss_gradients: Dict[str, ndarray] = {}\n",
    "    loss_gradients['W'] = dLdW\n",
    "    loss_gradients['B'] = dLdB\n",
    "\n",
    "    return loss_gradients"
   ]
  },
  {
   "cell_type": "markdown",
   "metadata": {},
   "source": [
    "#### Putting everything together into a train method\n",
    "\n",
    "To combine the loss_gradients and forward into a single train method, as well as some shuffling, we can do as follows:"
   ]
  },
  {
   "cell_type": "code",
   "execution_count": 18,
   "metadata": {},
   "outputs": [],
   "source": [
    "def init_weights(n_in: int) -> Dict[str, ndarray]:\n",
    "    '''\n",
    "    Initialize weights on first forward pass of model.\n",
    "    '''\n",
    "    \n",
    "    weights: Dict[str, ndarray] = {}\n",
    "    W = np.random.randn(n_in, 1)\n",
    "    B = np.random.randn(1, 1)\n",
    "    \n",
    "    weights['W'] = W\n",
    "    weights['B'] = B\n",
    "\n",
    "    return weights"
   ]
  },
  {
   "cell_type": "code",
   "execution_count": 19,
   "metadata": {},
   "outputs": [],
   "source": [
    "def train(X: ndarray, \n",
    "          y: ndarray, \n",
    "          n_iter: int = 1000,\n",
    "          learning_rate: float = 0.01,\n",
    "          batch_size: int = 100,\n",
    "          return_losses: bool = False, \n",
    "          return_weights: bool = False) -> None:\n",
    "    \n",
    "    np.random.seed(42)\n",
    "    start = 0\n",
    "\n",
    "    #initialize randomom weights\n",
    "    weights = init_weights(X.shape[1])\n",
    "\n",
    "    # Permute data\n",
    "    perm = np.random.permutation(X.shape[0])\n",
    "    X, y = X[perm], y[perm]\n",
    "    \n",
    "    if return_losses:\n",
    "        losses = []\n",
    "\n",
    "    for i in range(n_iter):\n",
    "\n",
    "        # in case all data is used\n",
    "        if start >= X.shape[0]:\n",
    "            perm = np.random.permutation(X.shape[0])\n",
    "            X, y = X[perm], y[perm]\n",
    "            start = 0\n",
    "        \n",
    "        #reduce batch size if exceeds\n",
    "        if start+batch_size > X.shape[0]:\n",
    "            batch_size = X.shape[0] - start\n",
    "    \n",
    "        X_batch, y_batch = X[start:start+batch_size], y[start:start+batch_size]\n",
    "        start += batch_size\n",
    "    \n",
    "        # Train net using generated batch\n",
    "        forward_info, loss = forward(X_batch, y_batch, weights)\n",
    "\n",
    "        if return_losses:\n",
    "            losses.append(loss)\n",
    "\n",
    "        loss_grads = loss_gradients(forward_info, weights)\n",
    "        \n",
    "        #loss_grads and weights have same keys\n",
    "        for key in weights.keys():\n",
    "            weights[key] -= learning_rate * loss_grads[key]\n",
    "\n",
    "    if return_weights:\n",
    "        return losses, weights\n",
    "    \n",
    "    return None"
   ]
  },
  {
   "cell_type": "markdown",
   "metadata": {},
   "source": [
    "#### Let's test our model"
   ]
  },
  {
   "cell_type": "code",
   "execution_count": 20,
   "metadata": {},
   "outputs": [],
   "source": [
    "from sklearn.datasets import load_boston\n",
    "from sklearn.preprocessing import StandardScaler\n",
    "from sklearn.model_selection import train_test_split\n",
    "from sklearn.metrics import mean_squared_error, r2_score\n",
    "\n",
    "boston = load_boston()\n",
    "X = boston.data\n",
    "y = boston.target\n",
    "features = boston.feature_names\n",
    "s = StandardScaler()\n",
    "X = s.fit_transform(X)\n",
    "\n",
    "X_train, X_test, y_train, y_test = train_test_split(X, y, test_size=0.3, random_state=42)\n",
    "\n",
    "#since our train function assumes y to be shape of (n, 1)\n",
    "y_train, y_test = y_train.reshape(-1, 1), y_test.reshape(-1, 1)"
   ]
  },
  {
   "cell_type": "code",
   "execution_count": 21,
   "metadata": {},
   "outputs": [],
   "source": [
    "train_info = train(X_train, y_train,\n",
    "                   n_iter = 10000,\n",
    "                   learning_rate = 0.001,\n",
    "                   batch_size=23, \n",
    "                   return_losses=True, \n",
    "                   return_weights=True)\n",
    "losses = train_info[0]\n",
    "weights = train_info[1]"
   ]
  },
  {
   "cell_type": "code",
   "execution_count": 22,
   "metadata": {},
   "outputs": [],
   "source": [
    "def predict(X: ndarray,\n",
    "            weights: Dict[str, ndarray]):\n",
    "    \n",
    "    N = X @ weights['W']\n",
    "\n",
    "    return N + weights['B']"
   ]
  },
  {
   "cell_type": "code",
   "execution_count": 23,
   "metadata": {},
   "outputs": [
    {
     "name": "stdout",
     "output_type": "stream",
     "text": [
      "MSE:  21.962219458334552\n",
      "$R^2$:  0.7052569177141323\n"
     ]
    }
   ],
   "source": [
    "y_pred = predict(X_test, weights)\n",
    "print(\"MSE: \", mean_squared_error(y_test, y_pred))\n",
    "print(\"$R^2$: \", r2_score(y_test, y_pred))"
   ]
  },
  {
   "cell_type": "markdown",
   "metadata": {},
   "source": [
    "Let's plot the actual vs. predicted values"
   ]
  },
  {
   "cell_type": "code",
   "execution_count": 24,
   "metadata": {},
   "outputs": [
    {
     "data": {
      "text/plain": [
       "<matplotlib.collections.PathCollection at 0x1227e11d0>"
      ]
     },
     "execution_count": 24,
     "metadata": {},
     "output_type": "execute_result"
    },
    {
     "data": {
      "image/png": "[encoded data removed]",
      "text/plain": [
       "<Figure size 432x288 with 1 Axes>"
      ]
     },
     "metadata": {
      "needs_background": "light"
     },
     "output_type": "display_data"
    }
   ],
   "source": [
    "plt.xlabel(\"Predicted value\")\n",
    "plt.ylabel(\"Actual value\")\n",
    "plt.title(\"Predicted vs. Actual values\")\n",
    "plt.xlim([0, 51])\n",
    "plt.ylim([0, 51])\n",
    "plt.scatter(y_pred, y_test)"
   ]
  },
  {
   "cell_type": "markdown",
   "metadata": {},
   "source": [
    "#### Importance of each feature\n",
    "\n",
    "As we already know, we can check the size of coefficients to know which one is important"
   ]
  },
  {
   "cell_type": "code",
   "execution_count": 25,
   "metadata": {},
   "outputs": [
    {
     "data": {
      "text/plain": [
       "array([[-1.21213267],\n",
       "       [ 0.81433624],\n",
       "       [ 0.30894756],\n",
       "       [ 0.84788429],\n",
       "       [-1.78763297],\n",
       "       [ 2.87254465],\n",
       "       [-0.2811529 ],\n",
       "       [-2.9113813 ],\n",
       "       [ 2.12380982],\n",
       "       [-1.34482524],\n",
       "       [-1.90944831],\n",
       "       [ 1.14951932],\n",
       "       [-4.008822  ]])"
      ]
     },
     "execution_count": 25,
     "metadata": {},
     "output_type": "execute_result"
    }
   ],
   "source": [
    "weights['W']\n",
    "\n",
    "#so which one is the most important feature?"
   ]
  },
  {
   "cell_type": "markdown",
   "metadata": {},
   "source": [
    "#### Compare with sklearn\n",
    "\n",
    "To make sure our code from scratch is correct, let's compare with sklearn"
   ]
  },
  {
   "cell_type": "code",
   "execution_count": 26,
   "metadata": {},
   "outputs": [
    {
     "name": "stdout",
     "output_type": "stream",
     "text": [
      "MSE:  21.517444231177276\n",
      "$R^2$:  0.7112260057484923\n"
     ]
    }
   ],
   "source": [
    "from sklearn.linear_model import LinearRegression\n",
    "lr = LinearRegression()\n",
    "lr.fit(X_train, y_train)\n",
    "y_pred = lr.predict(X_test)\n",
    "print(\"MSE: \", mean_squared_error(y_test, y_pred))\n",
    "print(\"$R^2$: \", r2_score(y_test, y_pred))"
   ]
  },
  {
   "cell_type": "markdown",
   "metadata": {},
   "source": [
    "### Improved model: Neural Network\n",
    "\n",
    "As we see from above, the score is not really nice.  One possibility is due to the linear assumption of linear regression.  We may be able to improve the accuracy if we can deploy a non-linear model.  Here we shall modify linear regression to non-linear form in the neural network.  Here we shall further clearly see that adding non-linearity is basically adding more activation functions!   In fact, you will be surprised that neural network, at its most basic form, is actually a linear regression!"
   ]
  },
  {
   "cell_type": "markdown",
   "metadata": {},
   "source": [
    "#### Step 1: Adding many linear regressions\n",
    "\n",
    "In one linear regression. if our X had dimensions <code>[batch_size, num_features]</code>, then we multiplied it by a weight matrix W with dimensions <code>[num_features, 1]</code> to get an output of dimension <code>[batch_size, 1]</code>; this output is, for each observation in the batch, simply a weighted sum of the original features. \n",
    "\n",
    "To do multiple linear regressions, we’ll simply multiply our input by a weight matrix with dimensions <code>[num_features, num_outputs]</code>, resulting in an output of dimensions <code>[batch_size, num_outputs]</code>; now, for each observation, we have multiple (num_outputs) different weighted sums of the original features."
   ]
  },
  {
   "cell_type": "markdown",
   "metadata": {},
   "source": [
    "#### Step 2: A non-linear function\n",
    "\n",
    "Next, we’ll feed each of these weighted sums through a nonlinear function; the first function we’ll try is the sigmoid function\n",
    "\n",
    "Why is using this nonlinear function a good idea? Why not the square function f(x) = $x^2$, for example? There are a couple of reasons. First, we want the function we use here to be monotonic so that it “preserves” information about the numbers that were fed in. Let’s say that, given the date that was fed in, two of our linear regressions produced values of –3 and 3, respectively. Feeding these through the square function would then produce a value of 9 for each, so that any function that receives these numbers as inputs after they were fed through the square function would “lose” the information that one of them was originally –3 and the other was 3.\n",
    "\n",
    "The second reason, of course, is that the function is nonlinear; this nonlinearity will enable our neural network to model the inherently nonlinear relationship between the features and the target.\n",
    "\n",
    "Finally, the sigmoid function has the nice property that its derivative can be expressed in terms of the function itself:\n",
    "\n",
    "$$ \\frac{\\partial \\sigma}{\\partial u}(x) = \\sigma(x) * (1 - \\sigma(x)) $$\n",
    "\n",
    "#### Step 3: Add another linear regression\n",
    "\n",
    "Finally, we’ll take the resulting 13 elements—each of which is a combination of the original features, fed through the sigmoid function so that they all have values between 0 and 1—and feed them into a regular linear regression, using them the same way we used our original features previously.\n",
    "\n",
    "Then, we’ll try training the entire resulting function in the same way we trained the standard linear regression earlier in this chapter: we’ll feed data through the model, use the chain rule to figure out how much increasing the weights would increase (or decrease) the loss, and then update the weights in the direction that decreases the loss at each iteration. Over time (we hope) we’ll end up with a more accurate model than before, one that has “learned” the inherent nonlinearity of the relationship between our features and our target.”\n",
    "\n",
    "\n",
    "Finally, consider the following network:\n",
    "\n",
    "![](figures/neuralnet2.png)\n",
    "\n",
    "Let's code them accordingly:\n",
    "\n",
    "Starting with the sigmoid function:"
   ]
  },
  {
   "cell_type": "code",
   "execution_count": 27,
   "metadata": {},
   "outputs": [],
   "source": [
    "def sigmoid(x: ndarray) -> ndarray:\n",
    "    return 1 / (1 + np.exp(-1.0 * x))"
   ]
  },
  {
   "cell_type": "markdown",
   "metadata": {},
   "source": [
    "#### Let's start coding"
   ]
  },
  {
   "cell_type": "code",
   "execution_count": 28,
   "metadata": {},
   "outputs": [],
   "source": [
    "#since our weights will depend on the size of nonlinearity,\n",
    "#we can num_outputs as hidden_size\n",
    "def init_weights(input_size: int, \n",
    "                 hidden_size: int) -> Dict[str, ndarray]:\n",
    "    weights: Dict[str, ndarray] = {}\n",
    "    weights['W1'] = np.random.randn(input_size, hidden_size)\n",
    "    weights['B1'] = np.random.randn(1, hidden_size)\n",
    "    weights['W2'] = np.random.randn(hidden_size, 1)\n",
    "    weights['B2'] = np.random.randn(1, 1)\n",
    "    return weights"
   ]
  },
  {
   "cell_type": "code",
   "execution_count": 29,
   "metadata": {},
   "outputs": [],
   "source": [
    "#similar as before\n",
    "def forward(X: ndarray,\n",
    "                 y: ndarray,\n",
    "                 weights: Dict[str, ndarray]\n",
    "                 ) -> Tuple[Dict[str, ndarray], float]:\n",
    "\n",
    "    M1 = X @ weights['W1']\n",
    "\n",
    "    N1 = M1 + weights['B1']\n",
    "\n",
    "    O1 = sigmoid(N1)\n",
    "    \n",
    "    M2 = O1 @ weights['W2']\n",
    "\n",
    "    P = M2 + weights['B2']    \n",
    "\n",
    "    loss = np.mean(np.power(y - P, 2))\n",
    "\n",
    "    forward_info: Dict[str, ndarray] = {}\n",
    "    forward_info['X'] = X\n",
    "    forward_info['M1'] = M1\n",
    "    forward_info['N1'] = N1\n",
    "    forward_info['O1'] = O1\n",
    "    forward_info['M2'] = M2\n",
    "    forward_info['P'] = P\n",
    "    forward_info['y'] = y\n",
    "\n",
    "    return forward_info, loss"
   ]
  },
  {
   "cell_type": "markdown",
   "metadata": {},
   "source": [
    "For the gradients, the figure looks like this:\n",
    "    \n",
    "![](figures/gradient2.png)"
   ]
  },
  {
   "cell_type": "code",
   "execution_count": 30,
   "metadata": {},
   "outputs": [],
   "source": [
    "def loss_gradients(forward_info: Dict[str, ndarray], \n",
    "                   weights: Dict[str, ndarray]) -> Dict[str, ndarray]:\n",
    " \n",
    "    #remove constant does not change the direction\n",
    "    dLdP = -(forward_info['y'] - forward_info['P'])\n",
    "    \n",
    "    dPdM2 = np.ones_like(forward_info['M2'])\n",
    "    \n",
    "    dPdB2 = np.ones_like(weights['B2'])\n",
    "\n",
    "    dLdM2 = dLdP * dPdM2\n",
    "  \n",
    "    dLdB2 = (dLdP * dPdB2).sum(axis=0)\n",
    "    \n",
    "    dM2dW2 = forward_info['O1'].T\n",
    "    \n",
    "    dM2dO1 = weights['W2'].T\n",
    "    \n",
    "    dLdW2 = dM2dW2 @ dLdP\n",
    "\n",
    "    dLdO1 = dLdM2 @ dM2dO1\n",
    "    \n",
    "    dO1dN1 = sigmoid(forward_info['N1']) * (1- sigmoid(forward_info['N1']))\n",
    "    \n",
    "    dLdN1 = dLdO1 * dO1dN1\n",
    "    \n",
    "    dN1dB1 = np.ones_like(weights['B1'])\n",
    "    \n",
    "    dN1dM1 = np.ones_like(forward_info['M1'])\n",
    "    \n",
    "    dLdB1 = (dLdN1 * dN1dB1).sum(axis=0)\n",
    "    \n",
    "    dLdM1 = dLdN1 * dN1dM1\n",
    "    \n",
    "    dM1dW1 = forward_info['X'].T \n",
    "\n",
    "    dLdW1 = dM1dW1 @ dLdM1\n",
    "\n",
    "    loss_gradients: Dict[str, ndarray] = {}\n",
    "    loss_gradients['W2'] = dLdW2\n",
    "    loss_gradients['B2'] = dLdB2.sum(axis=0)\n",
    "    loss_gradients['W1'] = dLdW1\n",
    "    loss_gradients['B1'] = dLdB1.sum(axis=0)\n",
    "    \n",
    "    return loss_gradients"
   ]
  },
  {
   "cell_type": "markdown",
   "metadata": {},
   "source": [
    "Our train method looks very unchanged...except adding the hidden size parameter"
   ]
  },
  {
   "cell_type": "code",
   "execution_count": 31,
   "metadata": {},
   "outputs": [],
   "source": [
    "def train(X: ndarray, \n",
    "          y: ndarray, \n",
    "          n_iter: int = 1000,\n",
    "          learning_rate: float = 0.01,\n",
    "          batch_size: int = 100,\n",
    "          return_losses: bool = False, \n",
    "          return_weights: bool = False,\n",
    "          hidden_size = 13) -> None:\n",
    "    \n",
    "    np.random.seed(42)\n",
    "    start = 0\n",
    "\n",
    "    #initialize randomom weights\n",
    "    weights = init_weights(X_train.shape[1], hidden_size = hidden_size)\n",
    "\n",
    "    # Permute data\n",
    "    perm = np.random.permutation(X.shape[0])\n",
    "    X, y = X[perm], y[perm]\n",
    "    \n",
    "    if return_losses:\n",
    "        losses = []\n",
    "\n",
    "    for i in range(n_iter):\n",
    "\n",
    "        # in case all data is used\n",
    "        if start >= X.shape[0]:\n",
    "            perm = np.random.permutation(X.shape[0])\n",
    "            X, y = X[perm], y[perm]\n",
    "            start = 0\n",
    "        \n",
    "        #reduce batch size if exceeds\n",
    "        if start+batch_size > X.shape[0]:\n",
    "            batch_size = X.shape[0] - start\n",
    "    \n",
    "        X_batch, y_batch = X[start:start+batch_size], y[start:start+batch_size]\n",
    "        start += batch_size\n",
    "    \n",
    "        # Train net using generated batch\n",
    "        forward_info, loss = forward(X_batch, y_batch, weights)\n",
    "\n",
    "        if return_losses:\n",
    "            losses.append(loss)\n",
    "\n",
    "        loss_grads = loss_gradients(forward_info, weights)\n",
    "        \n",
    "        #loss_grads and weights have same keys\n",
    "        for key in weights.keys():\n",
    "            weights[key] -= learning_rate * loss_grads[key]\n",
    "\n",
    "    if return_weights:\n",
    "        return losses, weights\n",
    "    \n",
    "    return None"
   ]
  },
  {
   "cell_type": "markdown",
   "metadata": {},
   "source": [
    "Since our network change, we also need to revise our predict method slightly:"
   ]
  },
  {
   "cell_type": "code",
   "execution_count": 32,
   "metadata": {},
   "outputs": [],
   "source": [
    "def predict(X: ndarray, \n",
    "            weights: Dict[str, ndarray]) -> ndarray:\n",
    "\n",
    "    M1 = np.dot(X, weights['W1'])\n",
    "\n",
    "    N1 = M1 + weights['B1']\n",
    "\n",
    "    O1 = sigmoid(N1)\n",
    "\n",
    "    M2 = np.dot(O1, weights['W2'])\n",
    "\n",
    "    P = M2 + weights['B2']    \n",
    "\n",
    "    return P"
   ]
  },
  {
   "cell_type": "markdown",
   "metadata": {},
   "source": [
    "Let's train model"
   ]
  },
  {
   "cell_type": "code",
   "execution_count": 33,
   "metadata": {},
   "outputs": [],
   "source": [
    "train_info = train(X_train, y_train,\n",
    "                   n_iter = 10000,\n",
    "                   learning_rate = 0.001,\n",
    "                   batch_size=23, \n",
    "                   return_losses=True, \n",
    "                   return_weights=True)\n",
    "losses = train_info[0]\n",
    "weights = train_info[1]"
   ]
  },
  {
   "cell_type": "markdown",
   "metadata": {},
   "source": [
    "Here is the prediction accuracy:"
   ]
  },
  {
   "cell_type": "code",
   "execution_count": 34,
   "metadata": {},
   "outputs": [
    {
     "name": "stdout",
     "output_type": "stream",
     "text": [
      "MSE:  10.839123211769357\n",
      "$R^2$:  0.8545339831990069\n"
     ]
    }
   ],
   "source": [
    "y_pred = predict(X_test, weights)\n",
    "print(\"MSE: \", mean_squared_error(y_test, y_pred))\n",
    "print(\"$R^2$: \", r2_score(y_test, y_pred))"
   ]
  },
  {
   "cell_type": "markdown",
   "metadata": {},
   "source": [
    "### Conclusion\n",
    "\n",
    "We can learn several things here:\n",
    "1. Non-linearity in the sigmoid function helps improve the performance\n",
    "2. The math behind neural network, in fact, is much simpler than some traditional models!  It relies only the chain rule to derive the gradients of L in respect to W and B\n",
    "3. Neural network, on its simplest form, is simply a linear regression.  In simple word, neural work can be seen as simply linear combinations of X.  But if we introduce sigmoid or other functions, it become non-linear\n",
    "4. Key thing I want to focus is not on the programing side.  In fact, coding from scratch is mainly for the purpose of understanding neural network from ground up.  It is my intention that once you understand them, you can build on of your own in your research in the future.  Who knows some genius could be hiding here!"
   ]
  },
  {
   "cell_type": "code",
   "execution_count": null,
   "metadata": {},
   "outputs": [],
   "source": []
  }
 ],
 "metadata": {
  "kernelspec": {
   "display_name": "Python 3",
   "language": "python",
   "name": "python3"
  },
  "language_info": {
   "codemirror_mode": {
    "name": "ipython",
    "version": 3
   },
   "file_extension": ".py",
   "mimetype": "text/x-python",
   "name": "python",
   "nbconvert_exporter": "python",
   "pygments_lexer": "ipython3",
   "version": "3.7.7"
  }
 },
 "nbformat": 4,
 "nbformat_minor": 1
}
