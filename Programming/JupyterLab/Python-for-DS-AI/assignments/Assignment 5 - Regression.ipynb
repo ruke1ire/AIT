{
 "metadata": {
  "language_info": {
   "codemirror_mode": {
    "name": "ipython",
    "version": 3
   },
   "file_extension": ".py",
   "mimetype": "text/x-python",
   "name": "python",
   "nbconvert_exporter": "python",
   "pygments_lexer": "ipython3",
   "version": "3.8.2-final"
  },
  "orig_nbformat": 2,
  "kernelspec": {
   "name": "pythondsai",
   "display_name": "pythonDSAI"
  }
 },
 "nbformat": 4,
 "nbformat_minor": 2,
 "cells": [
  {
   "cell_type": "markdown",
   "metadata": {},
   "source": [
    "# Assigmnet 5"
   ]
  },
  {
   "cell_type": "markdown",
   "metadata": {},
   "source": [
    "1. Load boston setting X as boston.data and y as boston.target\n",
    "\n",
    "Attempt the grid search using polyregression + (linear, ridge, lasso, elastic net), and \n",
    "\n",
    "Does feature mechanisms on ridge/lasso/elastic helps here?\n",
    "\n",
    "what is the optimal polynomial degree?  What does it mean?\n",
    "\n",
    "why do you think the result is like this?\n",
    "\n",
    "what is the value of lambdas, and what does it means?"
   ]
  },
  {
   "cell_type": "code",
   "execution_count": 1,
   "metadata": {
    "tags": []
   },
   "outputs": [
    {
     "output_type": "stream",
     "name": "stdout",
     "text": ".. _boston_dataset:\n\nBoston house prices dataset\n---------------------------\n\n**Data Set Characteristics:**  \n\n    :Number of Instances: 506 \n\n    :Number of Attributes: 13 numeric/categorical predictive. Median Value (attribute 14) is usually the target.\n\n    :Attribute Information (in order):\n        - CRIM     per capita crime rate by town\n        - ZN       proportion of residential land zoned for lots over 25,000 sq.ft.\n        - INDUS    proportion of non-retail business acres per town\n        - CHAS     Charles River dummy variable (= 1 if tract bounds river; 0 otherwise)\n        - NOX      nitric oxides concentration (parts per 10 million)\n        - RM       average number of rooms per dwelling\n        - AGE      proportion of owner-occupied units built prior to 1940\n        - DIS      weighted distances to five Boston employment centres\n        - RAD      index of accessibility to radial highways\n        - TAX      full-value property-tax rate per $10,000\n        - PTRATIO  pupil-teacher ratio by town\n        - B        1000(Bk - 0.63)^2 where Bk is the proportion of blacks by town\n        - LSTAT    % lower status of the population\n        - MEDV     Median value of owner-occupied homes in $1000's\n\n    :Missing Attribute Values: None\n\n    :Creator: Harrison, D. and Rubinfeld, D.L.\n\nThis is a copy of UCI ML housing dataset.\nhttps://archive.ics.uci.edu/ml/machine-learning-databases/housing/\n\n\nThis dataset was taken from the StatLib library which is maintained at Carnegie Mellon University.\n\nThe Boston house-price data of Harrison, D. and Rubinfeld, D.L. 'Hedonic\nprices and the demand for clean air', J. Environ. Economics & Management,\nvol.5, 81-102, 1978.   Used in Belsley, Kuh & Welsch, 'Regression diagnostics\n...', Wiley, 1980.   N.B. Various transformations are used in the table on\npages 244-261 of the latter.\n\nThe Boston house-price data has been used in many machine learning papers that address regression\nproblems.   \n     \n.. topic:: References\n\n   - Belsley, Kuh & Welsch, 'Regression diagnostics: Identifying Influential Data and Sources of Collinearity', Wiley, 1980. 244-261.\n   - Quinlan,R. (1993). Combining Instance-Based and Model-Based Learning. In Proceedings on the Tenth International Conference of Machine Learning, 236-243, University of Massachusetts, Amherst. Morgan Kaufmann.\n\n"
    }
   ],
   "source": [
    "# Load boston dataset from sklearn here\n",
    "from sklearn.datasets import load_boston\n",
    "\n",
    "boston = load_boston()\n",
    "# boston.feature_names\n",
    "print(boston.DESCR)"
   ]
  },
  {
   "cell_type": "code",
   "execution_count": 2,
   "metadata": {
    "tags": []
   },
   "outputs": [],
   "source": [
    "# YOURE CODE HERE"
   ]
  },
  {
   "cell_type": "markdown",
   "metadata": {},
   "source": [
    "# #2 "
   ]
  },
  {
   "cell_type": "code",
   "execution_count": 3,
   "metadata": {},
   "outputs": [],
   "source": [
    "import numpy as np\n",
    "import pandas as pd\n",
    "import matplotlib.pyplot as plt\n",
    "from sklearn import linear_model"
   ]
  },
  {
   "cell_type": "code",
   "execution_count": 4,
   "metadata": {},
   "outputs": [],
   "source": [
    "from sklearn.datasets import make_regression\n",
    "from sklearn.model_selection import train_test_split\n",
    "from sklearn.preprocessing import StandardScaler\n",
    "\n",
    "#only 10 out of 100 features are informative, add some noise to add to the difficulty of the problem\n",
    "X, y, coef = make_regression(n_samples = 1000, n_features = 100, coef=True,\n",
    "                         random_state=42, bias=6, noise=50, n_informative=10)\n",
    "\n",
    "#scaling does not really help with simple linear regression\n",
    "#since the coefficients can be multiply to certain order but\n",
    "#with same result.  However, regularized models will be\n",
    "#affected.  The idea is that the constraint is applied to the\n",
    "#sum of a function of coefficients.  If we inflate an attribute,\n",
    "#the coefficient will be deflated, which will affect\n",
    "#the penalization.  Thus it is best to scale for all regression\n",
    "#problems since it does not hurt\n",
    "scaler = StandardScaler()\n",
    "X = scaler.fit_transform(X)\n",
    "\n",
    "X_train, X_test, y_train, y_test = train_test_split(X, y, test_size=0.3)\n",
    "\n",
    "#perform Ridge regression\n",
    "#plot training and validation errors as function of lambda\n",
    "#also plot coefficients and coefficients error as function of lambda\n",
    "#coefficients can be obtained simply using model.coef_\n",
    "#coeffcient error can be computed using mean_squared_error(model.coef_, w)\n",
    "#interpret what is happening"
   ]
  },
  {
   "cell_type": "code",
   "execution_count": 5,
   "metadata": {},
   "outputs": [],
   "source": [
    "# Your code here"
   ]
  },
  {
   "cell_type": "markdown",
   "metadata": {},
   "source": [
    "3.\n",
    "\n",
    "implement Linear regression from scratch using \n",
    "\n",
    "- the closed form OLS\n",
    "\n",
    "- the gradient descent\n",
    "\n",
    "- (optional challenge) the closed form OLS using pseudo inverse\n",
    "\n",
    "- LinearRegression() by sklearn. - please research which algorithm that sklearn use?\n",
    "\n",
    "measure which one is faster, try to vary the n_features\n",
    "\n",
    "so what do you think, closed_form or gradient descent?\n",
    "\n",
    "use the same X y from #1"
   ]
  },
  {
   "cell_type": "code",
   "execution_count": 6,
   "metadata": {
    "tags": []
   },
   "outputs": [],
   "source": [
    "# Your code here"
   ]
  },
  {
   "cell_type": "markdown",
   "metadata": {},
   "source": [
    "4.\n",
    "\n",
    "implement Ridge regression from scratch using \n",
    "\n",
    " - the closed form OLS\n",
    "\n",
    " - stochastic gradient descent\n",
    "\n",
    " - SGDRegressor() of sklearn using penalty as l2\n",
    "\n",
    " - Ridge() by sklearn\n",
    "\n",
    "loop through several lambda and print the MSE\n",
    "\n",
    "compare the time as well\n",
    "\n",
    "use the same X y from #1"
   ]
  },
  {
   "cell_type": "code",
   "execution_count": 7,
   "metadata": {},
   "outputs": [],
   "source": [
    "# Your code here"
   ]
  }
 ]
}