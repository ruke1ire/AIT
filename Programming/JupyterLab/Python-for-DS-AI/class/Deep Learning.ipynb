{
 "cells": [
  {
   "cell_type": "code",
   "execution_count": 1,
   "metadata": {},
   "outputs": [],
   "source": [
    "import numpy as np\n",
    "from numpy import ndarray\n",
    "import matplotlib.pyplot as plt"
   ]
  },
  {
   "cell_type": "code",
   "execution_count": 2,
   "metadata": {},
   "outputs": [],
   "source": [
    "def square(x: ndarray) -> ndarray:\n",
    "    return np.power(x, 2)\n",
    "\n",
    "def leaky_relu(x: ndarray) -> ndarray:\n",
    "    return np.maximum(0.2 * x, x)\n",
    "\n",
    "def sigmoid(x: ndarray) -> ndarray:\n",
    "    return 1 / (1 + np.exp(-x))"
   ]
  },
  {
   "cell_type": "code",
   "execution_count": 3,
   "metadata": {},
   "outputs": [
    {
     "data": {
      "text/plain": [
       "Text(0, 0.5, 'output')"
      ]
     },
     "execution_count": 3,
     "metadata": {},
     "output_type": "execute_result"
    },
    {
     "data": {
      "image/png": "[encoded data removed]",
      "text/plain": [
       "<Figure size 864x432 with 2 Axes>"
      ]
     },
     "metadata": {
      "needs_background": "light"
     },
     "output_type": "display_data"
    }
   ],
   "source": [
    "fig, ax = plt.subplots(1, 2, sharey=True, figsize=(12, 6))\n",
    "input_range = np.arange(-2, 2, 0.01)\n",
    "\n",
    "ax[0].plot(input_range, square(input_range))\n",
    "ax[0].set_title('Square function')\n",
    "ax[0].set_xlabel('input')\n",
    "ax[0].set_ylabel('output')\n",
    "\n",
    "ax[1].plot(input_range, leaky_relu(input_range))\n",
    "ax[1].set_title('\"ReLU\" function')\n",
    "ax[1].set_xlabel('input')\n",
    "ax[1].set_ylabel('output')"
   ]
  },
  {
   "cell_type": "code",
   "execution_count": 4,
   "metadata": {},
   "outputs": [
    {
     "data": {
      "text/plain": [
       "19.999999999988916"
      ]
     },
     "execution_count": 4,
     "metadata": {},
     "output_type": "execute_result"
    }
   ],
   "source": [
    "from typing import Callable\n",
    "\n",
    "#deriv(function, input, diff)\n",
    "def deriv(func: Callable[[ndarray], ndarray], input_: ndarray, diff: float = 0.001) -> ndarray:\n",
    "    return (func(input_ + diff) - func(input_ - diff))/(2*diff)\n",
    "\n",
    "deriv(square,10)"
   ]
  },
  {
   "cell_type": "code",
   "execution_count": 5,
   "metadata": {},
   "outputs": [],
   "source": [
    "from typing import List\n",
    "\n",
    "#A function that takes an array, and spits out an array\n",
    "Array_Function = Callable[[ndarray],ndarray]\n",
    "\n",
    "#A list of Array functions\n",
    "Chain = List[Array_Function]"
   ]
  },
  {
   "cell_type": "code",
   "execution_count": 6,
   "metadata": {},
   "outputs": [],
   "source": [
    "def chain_length_2(chain: Chain, x: ndarray) -> ndarray:\n",
    "    assert len(chain) == 2\n",
    "    \n",
    "    f1 = chain[0]\n",
    "    f2 = chain[1]\n",
    "    \n",
    "    return f2(f1(x))"
   ]
  },
  {
   "cell_type": "code",
   "execution_count": 7,
   "metadata": {},
   "outputs": [
    {
     "data": {
      "text/plain": [
       "array([0.73105858, 0.5       , 0.73105858])"
      ]
     },
     "execution_count": 7,
     "metadata": {},
     "output_type": "execute_result"
    }
   ],
   "source": [
    "chain_1 = [square, sigmoid]\n",
    "chain_length_2(chain_1,np.array([-1,0,1]))"
   ]
  },
  {
   "cell_type": "code",
   "execution_count": 8,
   "metadata": {},
   "outputs": [],
   "source": [
    "def chain_deriv_2(chain: Chain, x: ndarray) -> ndarray:\n",
    "    assert len(chain) == 2\n",
    "    \n",
    "    f1 = chain[0]\n",
    "    f2 = chain[1]\n",
    "    \n",
    "    #f1(x) = u\n",
    "    u = f1(x) \n",
    "    \n",
    "    #df1/dx = du/dx\n",
    "    dudx = deriv(f1,x)\n",
    "    \n",
    "    #df2/du\n",
    "    df2du = deriv(f2, u)\n",
    "    \n",
    "    #df2/dx = df2/du*du/dx\n",
    "    return df2du*dudx"
   ]
  },
  {
   "cell_type": "code",
   "execution_count": 9,
   "metadata": {},
   "outputs": [
    {
     "name": "stdout",
     "output_type": "stream",
     "text": [
      "f2(f1(2)) \t= 0.9820137900379085\n",
      "df2/dx \t\t= 0.0706508353807067\n"
     ]
    }
   ],
   "source": [
    "chain = [square, sigmoid]\n",
    "\n",
    "#value at x = 2\n",
    "print(\"f2(f1(2)) \\t=\",chain_length_2(chain,2))\n",
    "\n",
    "#derivate at x = 2\n",
    "print(\"df2/dx \\t\\t=\",chain_deriv_2(chain,2))\n"
   ]
  },
  {
   "cell_type": "code",
   "execution_count": 10,
   "metadata": {},
   "outputs": [
    {
     "name": "stdout",
     "output_type": "stream",
     "text": [
      "df2/dx \t\t= 0.07065082585744342\n"
     ]
    }
   ],
   "source": [
    "#chacking the derivative\n",
    "diff = 0.0001\n",
    "\n",
    "print(\"df2/dx \\t\\t=\",(chain_length_2(chain,2+diff)-chain_length_2(chain,2-diff))/(2*diff))"
   ]
  },
  {
   "cell_type": "code",
   "execution_count": 11,
   "metadata": {},
   "outputs": [
    {
     "name": "stdout",
     "output_type": "stream",
     "text": [
      "f2(f1(2)) \t= [0.73105858 0.5        0.73105858]\n",
      "df2/dx \t\t= [-0.39322385  0.          0.39322385]\n"
     ]
    }
   ],
   "source": [
    "chain = [square, sigmoid]\n",
    "\n",
    "#value at x = 2\n",
    "print(\"f2(f1(2)) \\t=\",chain_length_2(chain,np.array([-1,0,1])))\n",
    "\n",
    "#derivate at x = 2\n",
    "print(\"df2/dx \\t\\t=\",chain_deriv_2(chain,np.array([-1,0,1])))"
   ]
  },
  {
   "cell_type": "code",
   "execution_count": 12,
   "metadata": {},
   "outputs": [],
   "source": [
    "#forward pass of f2(f1(X)) where f1 is X@W and f2 is a sigmoid function\n",
    "def matrix_forward(X: ndarray, W: ndarray, sigma: Array_Function) -> ndarray:\n",
    "    assert X.shape[1] == W.shape[0]\n",
    "    \n",
    "    # matrix multiplication\n",
    "    N = X@W\n",
    "    \n",
    "    # feeding the output of the matrix multiplication through sigma\n",
    "    S = sigma(N)\n",
    "    \n",
    "    return S"
   ]
  },
  {
   "cell_type": "code",
   "execution_count": 13,
   "metadata": {},
   "outputs": [],
   "source": [
    "def matrix_backward(X: ndarray, W: ndarray, sigma: Array_Function) -> ndarray:\n",
    "    assert X.shape[1] == W.shape[0]\n",
    "    \n",
    "    # matrix multiplication\n",
    "    N = X@W\n",
    "    \n",
    "    # feeding the output of the matrix multiplication through sigma\n",
    "    S = sigma(N)\n",
    "    \n",
    "    #find dS/dX = dS/dN*dN/dX\n",
    "    \n",
    "    #dN/dX\n",
    "    dNdX = W.T\n",
    "    \n",
    "    #dS/dN\n",
    "    dSdN = deriv(sigma,N)\n",
    "    \n",
    "    return dSdN*dNdX"
   ]
  },
  {
   "cell_type": "code",
   "execution_count": 14,
   "metadata": {},
   "outputs": [
    {
     "name": "stdout",
     "output_type": "stream",
     "text": [
      "X:  [[ 0.47231121  0.61514271 -1.72622715]]\n",
      "Forward:  [[0.89779986]]\n",
      "Backward:  [[ 0.08516695 -0.05574581 -0.11206627]]\n"
     ]
    }
   ],
   "source": [
    "np.random.seed(190203)\n",
    "X = np.random.randn(1,3)\n",
    "W = np.random.randn(3,1)\n",
    "print(\"X: \", X)\n",
    "forward_pass = matrix_forward(X, W, sigmoid)\n",
    "print(\"Forward: \", forward_pass)\n",
    "backward_pass = matrix_backward(X, W, sigmoid)\n",
    "print(\"Backward: \", backward_pass)"
   ]
  },
  {
   "cell_type": "code",
   "execution_count": 15,
   "metadata": {},
   "outputs": [],
   "source": [
    "def matrix_forward(X: ndarray, W: ndarray, sigma: Array_Function) -> float:\n",
    "    assert X.shape[1] == W.shape[0]\n",
    "    \n",
    "    N = np.dot(X,W)\n",
    "    \n",
    "    S = sigma(N)\n",
    "    \n",
    "    L = np.sum(S)\n",
    "    \n",
    "    return L"
   ]
  },
  {
   "cell_type": "code",
   "execution_count": 16,
   "metadata": {},
   "outputs": [],
   "source": [
    "def matrix_backward(X: ndarray, W: ndarray, sigma: Array_Function) -> ndarray:\n",
    "    N = np.dot(X,W)\n",
    "    \n",
    "    S = sigma(N)\n",
    "    \n",
    "    L = np.sum(S)\n",
    "    \n",
    "    #dL/dS = ones\n",
    "    dLdS = np.ones_like(S)\n",
    "    \n",
    "    #dS/dN\n",
    "    dSdN = deriv(sigma, N)\n",
    "    \n",
    "    #dN/dX\n",
    "    dNdX = W.T\n",
    "    \n",
    "    #dL/dX\n",
    "    dLdX = (dLdS*dSdN)@dNdX\n",
    "    \n",
    "    return dLdX"
   ]
  },
  {
   "cell_type": "code",
   "execution_count": 17,
   "metadata": {},
   "outputs": [],
   "source": [
    "np.random.seed(190204)\n",
    "X = np.random.randn(3, 3)\n",
    "W = np.random.randn(3, 2)"
   ]
  },
  {
   "cell_type": "code",
   "execution_count": 18,
   "metadata": {},
   "outputs": [
    {
     "name": "stdout",
     "output_type": "stream",
     "text": [
      "X:\n",
      "[[-1.57752816 -0.6664228   0.63910406]\n",
      " [-0.56152218  0.73729959 -1.42307821]\n",
      " [-1.44348429 -0.39128029  0.1539322 ]]\n",
      "W:\n",
      "[[ 0.75510818  0.25562492]\n",
      " [-0.56109271 -0.97504841]\n",
      " [ 0.98098478 -0.95870776]]\n"
     ]
    }
   ],
   "source": [
    "print(\"X:\")\n",
    "print(X)\n",
    "print(\"W:\")\n",
    "print(W)"
   ]
  },
  {
   "cell_type": "code",
   "execution_count": 19,
   "metadata": {},
   "outputs": [
    {
     "name": "stdout",
     "output_type": "stream",
     "text": [
      "2.3754951014116954\n"
     ]
    }
   ],
   "source": [
    "print(matrix_forward(X,W,sigmoid))"
   ]
  },
  {
   "cell_type": "code",
   "execution_count": 20,
   "metadata": {},
   "outputs": [
    {
     "name": "stdout",
     "output_type": "stream",
     "text": [
      "[[ 0.2488887  -0.37478057  0.01121962]\n",
      " [ 0.12604152 -0.27807404 -0.13945837]\n",
      " [ 0.22992798 -0.36623443 -0.02252592]]\n"
     ]
    }
   ],
   "source": [
    "print(matrix_backward(X,W,sigmoid))"
   ]
  },
  {
   "cell_type": "code",
   "execution_count": 30,
   "metadata": {},
   "outputs": [],
   "source": [
    "from typing import Callable, Dict, Tuple, List\n",
    "\n",
    "def forward(X: ndarray, y: ndarray, weights: Dict[str,ndarray]):\n",
    "    N = X@weights['W']\n",
    "    \n",
    "    P = N + weights['B']\n",
    "    \n",
    "    loss = np.mean(np.power(y-P,2))\n",
    "    \n",
    "    forward_info = {}\n",
    "    forward_info['X'] = X\n",
    "    forward_info['N'] = N\n",
    "    forward_info['P'] = P\n",
    "    forward_info['y'] = y\n",
    "        \n",
    "    return forward_info, loss"
   ]
  },
  {
   "cell_type": "code",
   "execution_count": 82,
   "metadata": {},
   "outputs": [],
   "source": [
    "def gradient(forward_info, weights):\n",
    "    \n",
    "    #dL/dM\n",
    "    dLdM = np.ones_like(forward_info['P'])\n",
    "    \n",
    "    #dM/dP\n",
    "    dMdP = 2*(forward_info['P'] - forward_info['y'])\n",
    "    \n",
    "    #dP/dN\n",
    "    dPdN = np.ones_like(forward_info['N'])\n",
    "    \n",
    "    #dN/dW\n",
    "    dNdW = forward_info['X'].T\n",
    "    \n",
    "    #dP/dZ\n",
    "    dPdZ = np.ones_like(forward_info['N'])\n",
    "    \n",
    "    #dZ/dB\n",
    "    dZdB = np.ones_like(forward_info[\"N\"]).T\n",
    "    \n",
    "    #dL/dW\n",
    "    dLdW = dNdW@(dLdM*dMdP*dPdN)\n",
    "    \n",
    "    #print(dZdB.shape,dLdM.shape,dMdP.shape,dPdZ.shape)\n",
    "    \n",
    "    #dL/dB\n",
    "    dLdB = dZdB@(dLdM*dMdP*dPdZ)\n",
    "    \n",
    "    gradients = {}\n",
    "    gradients['W'] = dLdW\n",
    "    gradients['B'] = dLdB\n",
    "    \n",
    "    return gradients    "
   ]
  },
  {
   "cell_type": "code",
   "execution_count": 83,
   "metadata": {},
   "outputs": [],
   "source": [
    "def init_weights(n):\n",
    "    weights = {}\n",
    "    W = np.random.randn(n,1)\n",
    "    B = np.random.randn(1,1)\n",
    "    \n",
    "    weights['W'] = W\n",
    "    weights['B'] = B\n",
    "    \n",
    "    return weights"
   ]
  },
  {
   "cell_type": "code",
   "execution_count": 84,
   "metadata": {},
   "outputs": [],
   "source": [
    "def train(X,y,n_iter=1000,learning_rate=0.01,batch_size=100,return_losses=False,return_weights=False):\n",
    "    \n",
    "    np.random.seed(42)\n",
    "    start = 0\n",
    "    \n",
    "    weights = init_weights(X.shape[1])\n",
    "    \n",
    "    perm = np.random.permutation(X.shape[0])\n",
    "    X, y = X[perm], y[perm]\n",
    "    \n",
    "    if return_losses:\n",
    "        losses = []\n",
    "        \n",
    "    for i in range(n_iter):\n",
    "        if start >= X.shape[0]:\n",
    "            perm = np.random.permutation(X.shape[0])\n",
    "            X,y, = X[perm], y[perm]\n",
    "            start = 0\n",
    "        \n",
    "        if start+batch_size > X.shape[0]:\n",
    "            batch_size = X.shape[0] - start\n",
    "            \n",
    "        X_batch, y_batch = X[start:start+batch_size], y[start:start+batch_size]\n",
    "        start += batch_size\n",
    "        \n",
    "        forward_info, loss = forward(X_batch, y_batch, weights)\n",
    "        \n",
    "        if return_losses:\n",
    "            losses.append(loss)\n",
    "            \n",
    "        loss_grads = gradient(forward_info,weights)\n",
    "        #print(loss)\n",
    "        \n",
    "        for key in weights.keys():\n",
    "            weights[key] -= learning_rate * loss_grads[key]\n",
    "            \n",
    "    if return_weights:\n",
    "        return losses, weights"
   ]
  },
  {
   "cell_type": "code",
   "execution_count": 85,
   "metadata": {},
   "outputs": [],
   "source": [
    "from sklearn.datasets import load_boston\n",
    "from sklearn.preprocessing import StandardScaler\n",
    "from sklearn.model_selection import train_test_split\n",
    "from sklearn.metrics import mean_squared_error, r2_score\n",
    "\n",
    "boston = load_boston()\n",
    "X = boston.data\n",
    "y = boston.target\n",
    "features = boston.feature_names\n",
    "s = StandardScaler()\n",
    "X = s.fit_transform(X)\n",
    "X_train, X_test, y_train, y_test = train_test_split(X, y, test_size=0.3,random_state=42)\n",
    "\n",
    "#since our train function assumes y to be shape of (n, 1)\n",
    "y_train, y_test = y_train.reshape(-1, 1), y_test.reshape(-1, 1)"
   ]
  },
  {
   "cell_type": "code",
   "execution_count": 91,
   "metadata": {},
   "outputs": [],
   "source": [
    "train_info = train(X_train, y_train,n_iter = 10000,\n",
    "                   learning_rate = 0.001,batch_size=23,\n",
    "                   return_losses=True,return_weights=True)\n",
    "\n",
    "losses = train_info[0]\n",
    "weights = train_info[1]"
   ]
  },
  {
   "cell_type": "code",
   "execution_count": 92,
   "metadata": {},
   "outputs": [],
   "source": [
    "def predict(X,weights):\n",
    "    N = X@weights['W']\n",
    "    return N + weights['B']"
   ]
  },
  {
   "cell_type": "code",
   "execution_count": 93,
   "metadata": {},
   "outputs": [
    {
     "name": "stdout",
     "output_type": "stream",
     "text": [
      "MSE:  21.96221945833455\n",
      "$R^2$:  0.7052569177141323\n"
     ]
    }
   ],
   "source": [
    "y_pred = predict(X_test,weights)\n",
    "print(\"MSE: \", mean_squared_error(y_test, y_pred))\n",
    "print(\"$R^2$: \", r2_score(y_test, y_pred))"
   ]
  },
  {
   "cell_type": "code",
   "execution_count": 94,
   "metadata": {},
   "outputs": [
    {
     "data": {
      "text/plain": [
       "<matplotlib.collections.PathCollection at 0x7f9bbb561898>"
      ]
     },
     "execution_count": 94,
     "metadata": {},
     "output_type": "execute_result"
    },
    {
     "data": {
      "image/png": "[encoded data removed]",
      "text/plain": [
       "<Figure size 432x288 with 1 Axes>"
      ]
     },
     "metadata": {
      "needs_background": "light"
     },
     "output_type": "display_data"
    }
   ],
   "source": [
    "plt.scatter(y_pred,y_test)"
   ]
  },
  {
   "cell_type": "code",
   "execution_count": null,
   "metadata": {},
   "outputs": [],
   "source": []
  }
 ],
 "metadata": {
  "kernelspec": {
   "display_name": "Python 3",
   "language": "python",
   "name": "python3"
  },
  "language_info": {
   "codemirror_mode": {
    "name": "ipython",
    "version": 3
   },
   "file_extension": ".py",
   "mimetype": "text/x-python",
   "name": "python",
   "nbconvert_exporter": "python",
   "pygments_lexer": "ipython3",
   "version": "3.6.9"
  }
 },
 "nbformat": 4,
 "nbformat_minor": 4
}
