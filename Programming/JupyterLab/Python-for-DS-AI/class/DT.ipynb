{
 "cells": [
  {
   "cell_type": "code",
   "execution_count": 2,
   "metadata": {},
   "outputs": [],
   "source": [
    "import numpy as np\n",
    "import matplotlib.pyplot as plt"
   ]
  },
  {
   "cell_type": "code",
   "execution_count": 69,
   "metadata": {},
   "outputs": [],
   "source": [
    "X = np.array([[10,3],[10,20],[10,4],[11,23]])\n",
    "\n",
    "y =  np.array([0,1,0,1])"
   ]
  },
  {
   "cell_type": "code",
   "execution_count": 29,
   "metadata": {},
   "outputs": [
    {
     "data": {
      "text/plain": [
       "88"
      ]
     },
     "execution_count": 29,
     "metadata": {},
     "output_type": "execute_result"
    }
   ],
   "source": []
  },
  {
   "cell_type": "code",
   "execution_count": 75,
   "metadata": {},
   "outputs": [],
   "source": [
    "def find_split(X,y,n_classes):\n",
    "    m,n = X.shape\n",
    "    if m <= 1:\n",
    "        return None, None\n",
    "    best_feature_ix,best_threshold = None, None\n",
    "    sample_per_class_parent = [np.sum(y==c) for c in range(n_classes)]\n",
    "    parent_gini = 1.0 - sum([(mc/m)**2 for mc in sample_per_class_parent])\n",
    "    best_gini = parent_gini\n",
    "    \n",
    "    #find the splits\n",
    "    for feature in range(n):\n",
    "        arg_sorted = np.argsort(X[:,feature])\n",
    "        X_sorted = X[arg_sorted]\n",
    "        y_sorted = y[arg_sorted]\n",
    "        \n",
    "        sample_per_class_left = [0]*n_classes\n",
    "        sample_per_class_right = sample_per_class_parent.copy()\n",
    "        \n",
    "        for i in range(1,m):\n",
    "            cl = y_sorted[i-1]\n",
    "            \n",
    "            sample_per_class_left[cl] += 1\n",
    "            sample_per_class_right[cl] -= 1\n",
    "            \n",
    "            gini_left = 1.0 - sum([(mc/np.sum(sample_per_class_left))**2 for mc in sample_per_class_left])\n",
    "            gini_right = 1.0 - sum([(mc/np.sum(sample_per_class_right))**2 for mc in sample_per_class_right])\n",
    "            \n",
    "            combined_gini = gini_left*np.sum(sample_per_class_left)/m + gini_right*np.sum(sample_per_class_right)/m\n",
    "\n",
    "            threshold = (X_sorted[i,feature] + X_sorted[i-1,feature])/2\n",
    "            print(threshold,combined_gini)\n",
    "            if(combined_gini < best_gini):\n",
    "                best_gini = combined_gini\n",
    "                best_threshold = threshold\n",
    "                best_feature = feature\n",
    "                \n",
    "    return best_feature,best_threshold\n",
    "        \n",
    "    "
   ]
  },
  {
   "cell_type": "code",
   "execution_count": 76,
   "metadata": {},
   "outputs": [
    {
     "name": "stdout",
     "output_type": "stream",
     "text": [
      "10.0 0.3333333333333333\n",
      "10.0 0.5\n",
      "10.5 0.3333333333333333\n",
      "3.5 0.3333333333333333\n",
      "12.0 0.0\n",
      "21.5 0.3333333333333333\n"
     ]
    }
   ],
   "source": [
    "feature_ix, threshold = find_split(X,y,len(set(y)))\n",
    "#find_split(X,y,len(set(y)))"
   ]
  },
  {
   "cell_type": "code",
   "execution_count": 78,
   "metadata": {},
   "outputs": [
    {
     "data": {
      "text/plain": [
       "1"
      ]
     },
     "execution_count": 78,
     "metadata": {},
     "output_type": "execute_result"
    }
   ],
   "source": [
    "feature_ix"
   ]
  },
  {
   "cell_type": "code",
   "execution_count": 79,
   "metadata": {},
   "outputs": [],
   "source": [
    "class Node:\n",
    "    def __init__(self,gini,num_samples,num_samples_per_class,predicted_class):\n",
    "        self.gini = gini\n",
    "        self.num_samples = num_samples\n",
    "        self.num_samples_per_class = num_samples_per_class\n",
    "        self.predicted_class = predicted_class\n",
    "        self.feature_index = 0\n",
    "        self.threshold = 0\n",
    "        self.left = None\n",
    "        self.right = None"
   ]
  },
  {
   "cell_type": "code",
   "execution_count": null,
   "metadata": {},
   "outputs": [],
   "source": [
    "def fit(Xtrain,ytrain,n_classes,depth=0):\n",
    "    m,n = Xtrain.shape\n",
    "    num_samples_per_class = [np.sum(ytrain == i) for i in range[n_classes]]\n",
    "    predicted_class = np.argmax(num_samples_per_class)\n",
    "    \n",
    "    node = Node(\n",
    "        gini = 1\n",
    "    )"
   ]
  },
  {
   "cell_type": "code",
   "execution_count": null,
   "metadata": {},
   "outputs": [],
   "source": []
  }
 ],
 "metadata": {
  "kernelspec": {
   "display_name": "Python 3",
   "language": "python",
   "name": "python3"
  },
  "language_info": {
   "codemirror_mode": {
    "name": "ipython",
    "version": 3
   },
   "file_extension": ".py",
   "mimetype": "text/x-python",
   "name": "python",
   "nbconvert_exporter": "python",
   "pygments_lexer": "ipython3",
   "version": "3.6.9"
  }
 },
 "nbformat": 4,
 "nbformat_minor": 4
}
