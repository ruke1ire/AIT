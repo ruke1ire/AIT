{
 "cells": [
  {
   "cell_type": "code",
   "execution_count": 7,
   "metadata": {},
   "outputs": [],
   "source": [
    "import numpy as np\n",
    "from sklearn.metrics import accuracy_score"
   ]
  },
  {
   "cell_type": "code",
   "execution_count": 9,
   "metadata": {},
   "outputs": [],
   "source": [
    "from sklearn.datasets import load_iris\n",
    "from sklearn.model_selection import train_test_split\n",
    "from sklearn.metrics import classification_report\n",
    "\n",
    "iris = load_iris()\n",
    "X = iris.data\n",
    "y = iris.target\n",
    "\n",
    "X_train, X_test, y_train, y_test = train_test_split(X, y, \n",
    "                test_size=0.3, shuffle=True, random_state=42)"
   ]
  },
  {
   "cell_type": "code",
   "execution_count": 31,
   "metadata": {},
   "outputs": [
    {
     "name": "stdout",
     "output_type": "stream",
     "text": [
      "              precision    recall  f1-score   support\n",
      "\n",
      "           0       1.00      1.00      1.00        19\n",
      "           1       1.00      1.00      1.00        13\n",
      "           2       1.00      1.00      1.00        13\n",
      "\n",
      "    accuracy                           1.00        45\n",
      "   macro avg       1.00      1.00      1.00        45\n",
      "weighted avg       1.00      1.00      1.00        45\n",
      "\n"
     ]
    }
   ],
   "source": [
    "from sklearn.metrics import accuracy_score\n",
    "\n",
    "class RandomForest:\n",
    "    def __init__(self,B,bootstrap_ratio,max_depth,min_sample_split):\n",
    "        self.B = B\n",
    "        self.bootstrap_ratio = bootstrap_ratio\n",
    "        tree_params = {'max_depth':max_depth,'criterion':'gini','min_samples_split':min_sample_split}\n",
    "        self.models = [DecisionTreeClassifier(**tree_params) for _ in range(B)]\n",
    "        self.models_idn = []\n",
    "        self.accuracy = []\n",
    "        self.average_accuracy = None\n",
    "\n",
    "    def fit(self,X_train,y_train):\n",
    "        sample_size = int(self.bootstrap_ratio*len(X_train))\n",
    "        m, n = X_train.shape\n",
    "        nn = int(np.sqrt(n))\n",
    "        xsamples = np.zeros((self.B, sample_size, nn))\n",
    "        ysamples = np.zeros((self.B, sample_size))\n",
    "        oob = []\n",
    "        #subsamples for each model\n",
    "        for i in range(self.B):\n",
    "            idx_range = np.arange(sample_size).astype(float)\n",
    "            n_range = np.arange(n)\n",
    "            idn = np.random.choice(n_range,size=nn)\n",
    "            self.models_idn.append(idn)\n",
    "            for j in range(sample_size):\n",
    "                idx = random.randrange(m)\n",
    "                xsamples[i, j, :] = X_train[idx,idn]\n",
    "                ysamples[i, j] = y_train[idx]\n",
    "                idx_range[idx] = -1\n",
    "            oob.append(idx_range[idx_range != -1])\n",
    "            \n",
    "        for i, model in enumerate(self.models):\n",
    "            _X = xsamples[i, :]\n",
    "            _y = ysamples[i, :]\n",
    "            model.fit(_X, _y)\n",
    "        return self.models\n",
    "    \n",
    "    def predict(self,X_test):\n",
    "        prediction = np.zeros((X_test.shape[0],len(self.models)))\n",
    "        for i, model in enumerate(self.models):\n",
    "            idn = self.models_idn[i]\n",
    "            X_test_model = X_test[:,idn]\n",
    "            yhat = model.predict(X_test_model)\n",
    "            prediction[:,i] = yhat\n",
    "        return stats.mode(prediction.T)[0][0]\n",
    "#         return self.predictions\n",
    "\n",
    "\n",
    "\n",
    "B = 100\n",
    "bootstrap_ratio = 1\n",
    "max_depth = 4\n",
    "min_sample_split = 5\n",
    "\n",
    "rf = RandomForest(B,bootstrap_ratio,max_depth,min_sample_split)\n",
    "\n",
    "rf.fit(X_train,y_train)\n",
    "\n",
    "y_hat = rf.predict(X_test)\n",
    "\n",
    "#print(np.sum(y_hat == y_test)/y_test.size)\n",
    "print(classification_report(y_test, y_hat))"
   ]
  }
 ],
 "metadata": {
  "kernelspec": {
   "display_name": "Python 3",
   "language": "python",
   "name": "python3"
  },
  "language_info": {
   "codemirror_mode": {
    "name": "ipython",
    "version": 3
   },
   "file_extension": ".py",
   "mimetype": "text/x-python",
   "name": "python",
   "nbconvert_exporter": "python",
   "pygments_lexer": "ipython3",
   "version": "3.6.9"
  }
 },
 "nbformat": 4,
 "nbformat_minor": 4
}
